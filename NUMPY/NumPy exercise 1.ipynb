{
 "cells": [
  {
   "cell_type": "markdown",
   "id": "c1d26543",
   "metadata": {},
   "source": [
    "### Exercise 1"
   ]
  },
  {
   "cell_type": "markdown",
   "id": "9b30243d",
   "metadata": {},
   "source": [
    "### 1"
   ]
  },
  {
   "cell_type": "code",
   "execution_count": 2,
   "id": "27dac888",
   "metadata": {},
   "outputs": [
    {
     "data": {
      "text/plain": [
       "array([[1, 2, 3],\n",
       "       [4, 5, 6],\n",
       "       [7, 8, 9]])"
      ]
     },
     "execution_count": 2,
     "metadata": {},
     "output_type": "execute_result"
    }
   ],
   "source": [
    "import numpy as np\n",
    "a=np.array([1,2,3,4,5,6,7,8,9])\n",
    "a_reshape=a.reshape(3,3)\n",
    "a_reshape"
   ]
  },
  {
   "cell_type": "markdown",
   "id": "8d83a5a0",
   "metadata": {},
   "source": [
    "### 2"
   ]
  },
  {
   "cell_type": "code",
   "execution_count": 4,
   "id": "b7cb8015",
   "metadata": {},
   "outputs": [
    {
     "data": {
      "text/plain": [
       "array([[ 5,  6,  7],\n",
       "       [ 8,  9, 10],\n",
       "       [11, 12, 13]])"
      ]
     },
     "execution_count": 4,
     "metadata": {},
     "output_type": "execute_result"
    }
   ],
   "source": [
    "b=np.array([5,6,7,8,9,10,11,12,13])\n",
    "b_reshape=b.reshape(3,3)\n",
    "b_reshape"
   ]
  },
  {
   "cell_type": "markdown",
   "id": "1fbd652d",
   "metadata": {},
   "source": [
    "### 3"
   ]
  },
  {
   "cell_type": "code",
   "execution_count": 5,
   "id": "b137fbbc",
   "metadata": {},
   "outputs": [
    {
     "data": {
      "text/plain": [
       "array([[ 54,  60,  66],\n",
       "       [126, 141, 156],\n",
       "       [198, 222, 246]])"
      ]
     },
     "execution_count": 5,
     "metadata": {},
     "output_type": "execute_result"
    }
   ],
   "source": [
    "result=a_reshape @ b_reshape\n",
    "result"
   ]
  },
  {
   "cell_type": "markdown",
   "id": "f1ff913d",
   "metadata": {},
   "source": [
    "### 4"
   ]
  },
  {
   "cell_type": "code",
   "execution_count": 6,
   "id": "1fb0edba",
   "metadata": {},
   "outputs": [
    {
     "data": {
      "text/plain": [
       "54"
      ]
     },
     "execution_count": 6,
     "metadata": {},
     "output_type": "execute_result"
    }
   ],
   "source": [
    "dot_product=np.dot(a_reshape[0,:],b_reshape[:,0])\n",
    "dot_product"
   ]
  },
  {
   "cell_type": "markdown",
   "id": "96851882",
   "metadata": {},
   "source": [
    "### 5"
   ]
  },
  {
   "cell_type": "code",
   "execution_count": 10,
   "id": "cdcb8912",
   "metadata": {},
   "outputs": [
    {
     "data": {
      "text/plain": [
       "45"
      ]
     },
     "execution_count": 10,
     "metadata": {},
     "output_type": "execute_result"
    }
   ],
   "source": [
    "sum_a=np.sum(a_reshape)\n",
    "sum_a"
   ]
  },
  {
   "cell_type": "code",
   "execution_count": 13,
   "id": "a728f31d",
   "metadata": {},
   "outputs": [
    {
     "data": {
      "text/plain": [
       "45"
      ]
     },
     "execution_count": 13,
     "metadata": {},
     "output_type": "execute_result"
    }
   ],
   "source": [
    "a_reshape.sum()"
   ]
  },
  {
   "cell_type": "markdown",
   "id": "0ebc0416",
   "metadata": {},
   "source": [
    "### 6"
   ]
  },
  {
   "cell_type": "code",
   "execution_count": 12,
   "id": "cf69fd74",
   "metadata": {},
   "outputs": [
    {
     "data": {
      "text/plain": [
       "259459200"
      ]
     },
     "execution_count": 12,
     "metadata": {},
     "output_type": "execute_result"
    }
   ],
   "source": [
    "prdct_b=np.prod(b_reshape)\n",
    "prdct_b"
   ]
  },
  {
   "cell_type": "code",
   "execution_count": 14,
   "id": "3c9cffa7",
   "metadata": {},
   "outputs": [
    {
     "data": {
      "text/plain": [
       "259459200"
      ]
     },
     "execution_count": 14,
     "metadata": {},
     "output_type": "execute_result"
    }
   ],
   "source": [
    "b_reshape.prod()"
   ]
  },
  {
   "cell_type": "markdown",
   "id": "b33d7777",
   "metadata": {},
   "source": [
    "### 7"
   ]
  },
  {
   "cell_type": "code",
   "execution_count": 8,
   "id": "8f633bc1",
   "metadata": {},
   "outputs": [
    {
     "data": {
      "text/plain": [
       "array([1, 2, 3, 4, 5])"
      ]
     },
     "execution_count": 8,
     "metadata": {},
     "output_type": "execute_result"
    }
   ],
   "source": [
    "c=np.array([1,2,3,4,5])\n",
    "c"
   ]
  },
  {
   "cell_type": "code",
   "execution_count": 9,
   "id": "377e0c4c",
   "metadata": {},
   "outputs": [
    {
     "data": {
      "text/plain": [
       "array([1, 2, 0, 3, 4, 5])"
      ]
     },
     "execution_count": 9,
     "metadata": {},
     "output_type": "execute_result"
    }
   ],
   "source": [
    "I=np.insert(c,2,0)\n",
    "I"
   ]
  },
  {
   "cell_type": "markdown",
   "id": "0150f53c",
   "metadata": {},
   "source": [
    "### 8"
   ]
  },
  {
   "cell_type": "code",
   "execution_count": 10,
   "id": "40492830",
   "metadata": {},
   "outputs": [
    {
     "data": {
      "text/plain": [
       "array([1, 2, 3, 4, 5])"
      ]
     },
     "execution_count": 10,
     "metadata": {},
     "output_type": "execute_result"
    }
   ],
   "source": [
    "d=np.array([1,2,3,4,5])\n",
    "d"
   ]
  },
  {
   "cell_type": "code",
   "execution_count": 11,
   "id": "8cd64fb4",
   "metadata": {},
   "outputs": [
    {
     "data": {
      "text/plain": [
       "array([1, 2, 3, 5])"
      ]
     },
     "execution_count": 11,
     "metadata": {},
     "output_type": "execute_result"
    }
   ],
   "source": [
    "D=np.delete(d,3)\n",
    "D"
   ]
  },
  {
   "cell_type": "markdown",
   "id": "dab658de",
   "metadata": {},
   "source": [
    "### 9"
   ]
  },
  {
   "cell_type": "code",
   "execution_count": 12,
   "id": "f31e68ad",
   "metadata": {},
   "outputs": [
    {
     "data": {
      "text/plain": [
       "array([[ 1,  2,  3,  4],\n",
       "       [ 5,  6,  7,  8],\n",
       "       [ 9, 10, 11, 12]])"
      ]
     },
     "execution_count": 12,
     "metadata": {},
     "output_type": "execute_result"
    }
   ],
   "source": [
    "e=np.array([[1,2,3,4],\n",
    "           [5,6,7,8],\n",
    "           [9,10,11,12]])\n",
    "e"
   ]
  },
  {
   "cell_type": "code",
   "execution_count": 13,
   "id": "4deb4e19",
   "metadata": {},
   "outputs": [
    {
     "name": "stdout",
     "output_type": "stream",
     "text": [
      "[ 6  7  8  9 10 11 12]\n"
     ]
    }
   ],
   "source": [
    "select=e[e > 5]\n",
    "print(select)"
   ]
  },
  {
   "cell_type": "markdown",
   "id": "587045ab",
   "metadata": {},
   "source": [
    "### 10"
   ]
  },
  {
   "cell_type": "code",
   "execution_count": 17,
   "id": "7b05cbea",
   "metadata": {},
   "outputs": [
    {
     "data": {
      "text/plain": [
       "array([[ 1,  2,  3,  4,  5],\n",
       "       [ 6,  7,  8,  9, 10],\n",
       "       [11, 12, 13, 14, 15],\n",
       "       [16, 17, 18, 19, 20]])"
      ]
     },
     "execution_count": 17,
     "metadata": {},
     "output_type": "execute_result"
    }
   ],
   "source": [
    "f=np.array([[1,2,3,4,5],\n",
    "           [6,7,8,9,10],\n",
    "           [11,12,13,14,15],\n",
    "          [16,17,18,19,20]])\n",
    "f"
   ]
  },
  {
   "cell_type": "code",
   "execution_count": 20,
   "id": "8ecdc7e4",
   "metadata": {},
   "outputs": [
    {
     "name": "stdout",
     "output_type": "stream",
     "text": [
      "[ 1  8 15]\n"
     ]
    }
   ],
   "source": [
    "select_p=f[[0,1,2],[0,2,4]]\n",
    "print(select_p)"
   ]
  },
  {
   "cell_type": "markdown",
   "id": "7bf63e06",
   "metadata": {},
   "source": [
    "### 11"
   ]
  },
  {
   "cell_type": "code",
   "execution_count": 1,
   "id": "12ec1540",
   "metadata": {},
   "outputs": [
    {
     "data": {
      "text/plain": [
       "array([[0.5, 0. , 0. , 0. , 0. ],\n",
       "       [0. , 0.5, 0. , 0. , 0. ],\n",
       "       [0. , 0. , 0.5, 0. , 0. ],\n",
       "       [0. , 0. , 0. , 0.5, 0. ],\n",
       "       [0. , 0. , 0. , 0. , 0.5]])"
      ]
     },
     "execution_count": 1,
     "metadata": {},
     "output_type": "execute_result"
    }
   ],
   "source": [
    "import numpy as np\n",
    "a=np.eye(5) * 0.5                 #np.eye() create a 2D identity matrix all diagonal elements are 1 and a;; other elements are 0\n",
    "a                             "
   ]
  },
  {
   "cell_type": "markdown",
   "id": "9981e322",
   "metadata": {},
   "source": [
    "### 12"
   ]
  },
  {
   "cell_type": "code",
   "execution_count": 21,
   "id": "005c2332",
   "metadata": {},
   "outputs": [
    {
     "data": {
      "text/plain": [
       "array([[[ 4,  3,  5],\n",
       "        [ 5,  5,  5],\n",
       "        [ 1,  2,  8]],\n",
       "\n",
       "       [[ 5,  2, 10],\n",
       "        [ 6,  5,  2],\n",
       "        [ 0,  7,  6]],\n",
       "\n",
       "       [[ 4, 10,  9],\n",
       "        [ 2,  0, 10],\n",
       "        [ 6,  2,  7]]])"
      ]
     },
     "execution_count": 21,
     "metadata": {},
     "output_type": "execute_result"
    }
   ],
   "source": [
    "b=np.random.randint(0,11,size=(3,3,3))\n",
    "b"
   ]
  },
  {
   "cell_type": "markdown",
   "id": "30a5d28f",
   "metadata": {},
   "source": [
    "### 13"
   ]
  },
  {
   "cell_type": "code",
   "execution_count": 22,
   "id": "98c297b8",
   "metadata": {},
   "outputs": [
    {
     "name": "stdout",
     "output_type": "stream",
     "text": [
      "[[4.         5.         3.66666667]\n",
      " [5.66666667 4.33333333 4.33333333]\n",
      " [7.66666667 4.         5.        ]]\n"
     ]
    }
   ],
   "source": [
    "row_mean=np.mean(b,axis=2)\n",
    "print(row_mean)"
   ]
  },
  {
   "cell_type": "markdown",
   "id": "a75a7e30",
   "metadata": {},
   "source": [
    "### 14"
   ]
  },
  {
   "cell_type": "code",
   "execution_count": 6,
   "id": "a445be3e",
   "metadata": {},
   "outputs": [
    {
     "name": "stdout",
     "output_type": "stream",
     "text": [
      "[0.2 0.2 0.2 0.2 0.2]\n"
     ]
    }
   ],
   "source": [
    "a=np.eye(5) * 0.5\n",
    "std_column=np.std(a,axis=0)\n",
    "print(std_column)"
   ]
  },
  {
   "cell_type": "markdown",
   "id": "791cfafc",
   "metadata": {},
   "source": [
    "### 15"
   ]
  },
  {
   "cell_type": "code",
   "execution_count": 7,
   "id": "a5d882fc",
   "metadata": {},
   "outputs": [
    {
     "name": "stdout",
     "output_type": "stream",
     "text": [
      "[[0.25 0.   0.   0.   0.  ]\n",
      " [0.   0.25 0.   0.   0.  ]\n",
      " [0.   0.   0.25 0.   0.  ]\n",
      " [0.   0.   0.   0.25 0.  ]\n",
      " [0.   0.   0.   0.   0.25]]\n"
     ]
    }
   ],
   "source": [
    "a=np.eye(5) * 0.5\n",
    "multplctn=np.dot(a,a.T)\n",
    "print(multplctn)"
   ]
  },
  {
   "cell_type": "markdown",
   "id": "4ae73772",
   "metadata": {},
   "source": [
    "### 16"
   ]
  },
  {
   "cell_type": "code",
   "execution_count": 13,
   "id": "4dcf656f",
   "metadata": {},
   "outputs": [
    {
     "name": "stdout",
     "output_type": "stream",
     "text": [
      "Array is: \n",
      "[[1. 0. 0. 0. 0. 0.]\n",
      " [0. 1. 0. 0. 0. 0.]\n",
      " [0. 0. 1. 0. 0. 0.]\n",
      " [0. 0. 0. 1. 0. 0.]\n",
      " [0. 0. 0. 0. 1. 0.]\n",
      " [0. 0. 0. 0. 0. 1.]]\n",
      "Array after shifting values to right by one position: \n",
      "[[0. 1. 0. 0. 0. 0.]\n",
      " [0. 0. 1. 0. 0. 0.]\n",
      " [0. 0. 0. 1. 0. 0.]\n",
      " [0. 0. 0. 0. 1. 0.]\n",
      " [0. 0. 0. 0. 0. 1.]\n",
      " [1. 0. 0. 0. 0. 0.]]\n"
     ]
    }
   ],
   "source": [
    "c=np.eye(6)\n",
    "print(\"Array is: \")\n",
    "print(c)\n",
    "c_shift=np.roll(c,1,axis=1)\n",
    "print(\"Array after shifting values to right by one position: \")\n",
    "print(c_shift)"
   ]
  },
  {
   "cell_type": "markdown",
   "id": "5000d49a",
   "metadata": {},
   "source": [
    "### 17"
   ]
  },
  {
   "cell_type": "code",
   "execution_count": 17,
   "id": "c2849653",
   "metadata": {},
   "outputs": [
    {
     "name": "stdout",
     "output_type": "stream",
     "text": [
      "Array is: \n",
      "[[0.25103405 0.96824045 0.36075336 0.30112695]\n",
      " [0.59542248 0.06902412 0.18819881 0.66917651]\n",
      " [0.13097373 0.73591108 0.73298072 0.13904292]\n",
      " [0.20552069 0.76204509 0.51390591 0.39098744]]\n",
      "Array after normalization each row sums to 1:  \n",
      "[[0.13344678 0.51470535 0.19177229 0.16007558]\n",
      " [0.39125635 0.04535624 0.12366677 0.43972064]\n",
      " [0.07531951 0.42320289 0.42151772 0.07995988]\n",
      " [0.10975977 0.40697555 0.27445507 0.2088096 ]]\n"
     ]
    }
   ],
   "source": [
    "d=np.random.rand(4,4)\n",
    "print(\"Array is: \")\n",
    "print(d)\n",
    "d_normalized=d/ d.sum(axis=1,keepdims=True)\n",
    "print(\"Array after normalization each row sums to 1:  \")\n",
    "print(d_normalized)"
   ]
  },
  {
   "cell_type": "markdown",
   "id": "c8bae706",
   "metadata": {},
   "source": [
    "### 18"
   ]
  },
  {
   "cell_type": "code",
   "execution_count": 16,
   "id": "2b20ac3f",
   "metadata": {},
   "outputs": [
    {
     "name": "stdout",
     "output_type": "stream",
     "text": [
      "Array is: \n",
      "[[1 2 3]\n",
      " [4 5 6]\n",
      " [7 8 9]]\n",
      "After flipping vertically: \n",
      "[[7 8 9]\n",
      " [4 5 6]\n",
      " [1 2 3]]\n"
     ]
    }
   ],
   "source": [
    "e=np.array([[1,2,3],[4,5,6],[7,8,9]])\n",
    "print(\"Array is: \")\n",
    "print(e)\n",
    "e_flip=np.flipud(e)\n",
    "print(\"After flipping vertically: \")\n",
    "print(e_flip)\n",
    "\n"
   ]
  },
  {
   "cell_type": "markdown",
   "id": "5d0f1f7d",
   "metadata": {},
   "source": [
    "### 19"
   ]
  },
  {
   "cell_type": "code",
   "execution_count": 25,
   "id": "5268d7d2",
   "metadata": {},
   "outputs": [
    {
     "data": {
      "text/plain": [
       "array([[9, 7, 6, 6],\n",
       "       [2, 2, 5, 3],\n",
       "       [9, 2, 2, 3],\n",
       "       [8, 6, 9, 0]])"
      ]
     },
     "execution_count": 25,
     "metadata": {},
     "output_type": "execute_result"
    }
   ],
   "source": [
    "f=np.random.randint(0,11,size=(4,4))\n",
    "f"
   ]
  },
  {
   "cell_type": "code",
   "execution_count": 28,
   "id": "b2b9df35",
   "metadata": {},
   "outputs": [
    {
     "name": "stdout",
     "output_type": "stream",
     "text": [
      "[[6 6 7 9]\n",
      " [2 2 3 5]\n",
      " [2 2 3 9]\n",
      " [0 6 8 9]]\n"
     ]
    }
   ],
   "source": [
    "sort_row=np.sort(f,axis=1)\n",
    "print(sort_row)"
   ]
  },
  {
   "cell_type": "markdown",
   "id": "0983124e",
   "metadata": {},
   "source": [
    "### 20"
   ]
  },
  {
   "cell_type": "code",
   "execution_count": 8,
   "id": "3a0eebe7",
   "metadata": {},
   "outputs": [
    {
     "name": "stdout",
     "output_type": "stream",
     "text": [
      "Original Matrix:\n",
      "[[0. 1. 1. 1. 1.]\n",
      " [1. 0. 1. 1. 1.]\n",
      " [1. 1. 0. 1. 1.]\n",
      " [1. 1. 1. 0. 1.]\n",
      " [1. 1. 1. 1. 0.]]\n",
      "Inverse Matrix:\n",
      "[[-0.75  0.25  0.25  0.25  0.25]\n",
      " [ 0.25 -0.75  0.25  0.25  0.25]\n",
      " [ 0.25  0.25 -0.75  0.25  0.25]\n",
      " [ 0.25  0.25  0.25 -0.75  0.25]\n",
      " [ 0.25  0.25  0.25  0.25 -0.75]]\n"
     ]
    }
   ],
   "source": [
    "import numpy as np\n",
    "g = np.ones((5, 5)) - np.eye(5)\n",
    "g_inv = np.linalg.inv(g)\n",
    "print(\"Original Matrix:\")\n",
    "print(g)\n",
    "print(\"Inverse Matrix:\")\n",
    "print(g_inv)\n"
   ]
  }
 ],
 "metadata": {
  "kernelspec": {
   "display_name": "Python 3 (ipykernel)",
   "language": "python",
   "name": "python3"
  },
  "language_info": {
   "codemirror_mode": {
    "name": "ipython",
    "version": 3
   },
   "file_extension": ".py",
   "mimetype": "text/x-python",
   "name": "python",
   "nbconvert_exporter": "python",
   "pygments_lexer": "ipython3",
   "version": "3.11.4"
  }
 },
 "nbformat": 4,
 "nbformat_minor": 5
}
