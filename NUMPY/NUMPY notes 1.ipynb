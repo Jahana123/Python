{
 "cells": [
  {
   "cell_type": "markdown",
   "id": "3e23d0de",
   "metadata": {},
   "source": [
    "### NumPy\n",
    "#### (Numerical Python)\n",
    "### fast computation with n-dimensional arrays\n",
    "### Based around one data structure\n",
    "### ndarray - n-dimensional array\n",
    "\n",
    "#### Usage is np.command(xxx)"
   ]
  },
  {
   "cell_type": "code",
   "execution_count": 1,
   "id": "5b988516",
   "metadata": {},
   "outputs": [
    {
     "name": "stdout",
     "output_type": "stream",
     "text": [
      "Requirement already satisfied: numpy in c:\\users\\dell\\anaconda3\\lib\\site-packages (1.24.3)\n"
     ]
    }
   ],
   "source": [
    "!pip3 install numpy"
   ]
  },
  {
   "cell_type": "markdown",
   "id": "3a3943a5",
   "metadata": {},
   "source": [
    "### How to import Numpy"
   ]
  },
  {
   "cell_type": "code",
   "execution_count": 2,
   "id": "d7a47cfe",
   "metadata": {},
   "outputs": [],
   "source": [
    "import numpy"
   ]
  },
  {
   "cell_type": "code",
   "execution_count": 2,
   "id": "fcb35f9a",
   "metadata": {},
   "outputs": [],
   "source": [
    "import numpy as np"
   ]
  },
  {
   "cell_type": "markdown",
   "id": "8ac14d8b",
   "metadata": {},
   "source": [
    "#### An array is usually a fixed size container of items of the same tyoe and size."
   ]
  },
  {
   "cell_type": "markdown",
   "id": "6640ca55",
   "metadata": {},
   "source": [
    "### Difference b/w python list and a NumPy array\n",
    "#### Numpy fast and efficient way of creating arrays\n",
    "#### list contain different data types in a single list\n",
    "#### all elements in a numpy array are homogeneous"
   ]
  },
  {
   "cell_type": "markdown",
   "id": "0954c070",
   "metadata": {},
   "source": [
    "### Nested list"
   ]
  },
  {
   "cell_type": "code",
   "execution_count": 4,
   "id": "8dfb31c1",
   "metadata": {},
   "outputs": [
    {
     "name": "stdout",
     "output_type": "stream",
     "text": [
      "<class 'list'>\n",
      "[1, 2, 3, 4, 5]\n"
     ]
    }
   ],
   "source": [
    "\n",
    "list1=[1,2,3,4,5]\n",
    "print(type(list1))\n",
    "print(list1)"
   ]
  },
  {
   "cell_type": "code",
   "execution_count": 5,
   "id": "c2768025",
   "metadata": {},
   "outputs": [
    {
     "name": "stdout",
     "output_type": "stream",
     "text": [
      "<class 'numpy.ndarray'>\n",
      "[1 2 3 4 5]\n"
     ]
    }
   ],
   "source": [
    "a=np.array(list1)\n",
    "print(type(a))\n",
    "print(a)"
   ]
  },
  {
   "cell_type": "code",
   "execution_count": 6,
   "id": "ea4f00ac",
   "metadata": {},
   "outputs": [
    {
     "name": "stdout",
     "output_type": "stream",
     "text": [
      "<class 'numpy.ndarray'>\n",
      "<class 'numpy.ndarray'>\n"
     ]
    }
   ],
   "source": [
    "a=np.array([1,2,3,4])\n",
    "print(type(a))\n",
    "tup=(4,5,6)\n",
    "a=np.array(tup)\n",
    "print(type(a))"
   ]
  },
  {
   "cell_type": "code",
   "execution_count": 7,
   "id": "1f78ff4e",
   "metadata": {},
   "outputs": [
    {
     "name": "stdout",
     "output_type": "stream",
     "text": [
      "[[1 2 3]\n",
      " [4 5 6]\n",
      " [7 8 9]]\n",
      "5\n",
      "<class 'numpy.ndarray'>\n"
     ]
    }
   ],
   "source": [
    "### two dimensional array creation\n",
    "a=np.array([[1,2,3],[4,5,6],[7,8,9]])\n",
    "print(a)\n",
    "print(a[1][1])\n",
    "print(type(a))"
   ]
  },
  {
   "cell_type": "markdown",
   "id": "46f2d47a",
   "metadata": {},
   "source": [
    "### N-dimensional array\n",
    "  #### An N-dimensional array is simply an array with any no.of dimensions.    "
   ]
  },
  {
   "cell_type": "markdown",
   "id": "cb943321",
   "metadata": {},
   "source": [
    "#### 1-D\n",
    "#### 2-D and so on\n",
    "#### Numpy ndarray is used to represent both matrices and vectors.\n",
    "\n",
    "#### vector is an array with a single dimension (no diiference b/w row and column)\n",
    "\n",
    "#### Matrix refers to an array of 2 dimensions.\n",
    "\n",
    "#### 3-D or higher dimensional arrays ,the term tensor is. commonly used\n"
   ]
  },
  {
   "cell_type": "markdown",
   "id": "b3c40b72",
   "metadata": {},
   "source": [
    "### Attributes of an array\n",
    "\n",
    "#### the no.of dimensions and items in an array is defined by its shape.\n",
    "#### in numpy dimensionns are called axes."
   ]
  },
  {
   "cell_type": "markdown",
   "id": "e7e581c8",
   "metadata": {},
   "source": [
    "### Basic arrays"
   ]
  },
  {
   "cell_type": "markdown",
   "id": "5d769c43",
   "metadata": {},
   "source": [
    "#### np.array()\n",
    "#### np.zeros()\n",
    "#### np.ones()\n",
    "#### np.empty()\n",
    "#### np.arange()\n",
    "#### np.linspace()\n",
    "#### dtype"
   ]
  },
  {
   "cell_type": "code",
   "execution_count": 8,
   "id": "6c792e8d",
   "metadata": {},
   "outputs": [
    {
     "data": {
      "text/plain": [
       "array([0., 0., 0., 0., 0.])"
      ]
     },
     "execution_count": 8,
     "metadata": {},
     "output_type": "execute_result"
    }
   ],
   "source": [
    "\n",
    "np.zeros(5)"
   ]
  },
  {
   "cell_type": "code",
   "execution_count": 9,
   "id": "9c19c4f9",
   "metadata": {},
   "outputs": [
    {
     "data": {
      "text/plain": [
       "array([[0., 0., 0.],\n",
       "       [0., 0., 0.],\n",
       "       [0., 0., 0.],\n",
       "       [0., 0., 0.]])"
      ]
     },
     "execution_count": 9,
     "metadata": {},
     "output_type": "execute_result"
    }
   ],
   "source": [
    "np.zeros((4,3))"
   ]
  },
  {
   "cell_type": "code",
   "execution_count": 10,
   "id": "ed44ac6f",
   "metadata": {},
   "outputs": [
    {
     "data": {
      "text/plain": [
       "array([1., 1., 1., 1., 1., 1., 1.])"
      ]
     },
     "execution_count": 10,
     "metadata": {},
     "output_type": "execute_result"
    }
   ],
   "source": [
    "np.ones(7)"
   ]
  },
  {
   "cell_type": "code",
   "execution_count": 11,
   "id": "de192916",
   "metadata": {},
   "outputs": [
    {
     "data": {
      "text/plain": [
       "array([[1., 1., 1., 1.],\n",
       "       [1., 1., 1., 1.],\n",
       "       [1., 1., 1., 1.],\n",
       "       [1., 1., 1., 1.],\n",
       "       [1., 1., 1., 1.],\n",
       "       [1., 1., 1., 1.]])"
      ]
     },
     "execution_count": 11,
     "metadata": {},
     "output_type": "execute_result"
    }
   ],
   "source": [
    "np.ones((6,4))"
   ]
  },
  {
   "cell_type": "code",
   "execution_count": 12,
   "id": "47c53c4d",
   "metadata": {},
   "outputs": [
    {
     "data": {
      "text/plain": [
       "array([0, 1, 2, 3, 4])"
      ]
     },
     "execution_count": 12,
     "metadata": {},
     "output_type": "execute_result"
    }
   ],
   "source": [
    "### create an array with a range of elements\n",
    "np.arange(5)"
   ]
  },
  {
   "cell_type": "code",
   "execution_count": 13,
   "id": "ba962c48",
   "metadata": {},
   "outputs": [
    {
     "data": {
      "text/plain": [
       "array([1, 3, 5, 7, 9])"
      ]
     },
     "execution_count": 13,
     "metadata": {},
     "output_type": "execute_result"
    }
   ],
   "source": [
    "np.arange(1,10,2)"
   ]
  },
  {
   "cell_type": "code",
   "execution_count": 14,
   "id": "3f6859a3",
   "metadata": {},
   "outputs": [
    {
     "data": {
      "text/plain": [
       "array([ 0.,  5., 10.])"
      ]
     },
     "execution_count": 14,
     "metadata": {},
     "output_type": "execute_result"
    }
   ],
   "source": [
    "np.linspace(0, 10, num=3)"
   ]
  },
  {
   "cell_type": "markdown",
   "id": "aecdfee1",
   "metadata": {},
   "source": [
    "### Adding removing sorting elements."
   ]
  },
  {
   "cell_type": "markdown",
   "id": "228868d1",
   "metadata": {},
   "source": [
    "#### np.sort()"
   ]
  },
  {
   "cell_type": "code",
   "execution_count": 16,
   "id": "8c26e235",
   "metadata": {},
   "outputs": [
    {
     "data": {
      "text/plain": [
       "array([ 1,  3,  5,  7,  8,  9, 10])"
      ]
     },
     "execution_count": 16,
     "metadata": {},
     "output_type": "execute_result"
    }
   ],
   "source": [
    "\n",
    "arr=np.array([5,3,7,1,8,9,10])\n",
    "np.sort(arr)"
   ]
  },
  {
   "cell_type": "markdown",
   "id": "8a1894fd",
   "metadata": {},
   "source": [
    "#### argsort : indirect sort along a specified axis\n",
    "#### lexsort : indirect stable sort on multiple keys\n",
    "#### searchsorted : find elements in a sorted array\n",
    "#### partition : partial sort"
   ]
  },
  {
   "cell_type": "markdown",
   "id": "5ecfc708",
   "metadata": {},
   "source": [
    "#### np.argsort()"
   ]
  },
  {
   "cell_type": "markdown",
   "id": "86ca28a3",
   "metadata": {},
   "source": [
    "#### numpy.argsort(a, axis=-1, kind=None, order=None)\n"
   ]
  },
  {
   "cell_type": "code",
   "execution_count": 21,
   "id": "58b1d316",
   "metadata": {},
   "outputs": [
    {
     "name": "stdout",
     "output_type": "stream",
     "text": [
      "[1 2 0]\n"
     ]
    }
   ],
   "source": [
    "a=np.array([3, 1, 2])\n",
    "sorted_indices=np.argsort(a)                       #1d\n",
    "print(sorted_indices)"
   ]
  },
  {
   "cell_type": "code",
   "execution_count": 22,
   "id": "b393d2f7",
   "metadata": {},
   "outputs": [
    {
     "data": {
      "text/plain": [
       "array([1, 2, 0], dtype=int64)"
      ]
     },
     "execution_count": 22,
     "metadata": {},
     "output_type": "execute_result"
    }
   ],
   "source": [
    "a=np.array([3,1,2])\n",
    "np.argsort(a)"
   ]
  },
  {
   "cell_type": "code",
   "execution_count": 4,
   "id": "eef2cc96",
   "metadata": {},
   "outputs": [
    {
     "data": {
      "text/plain": [
       "array([[0, 3],\n",
       "       [2, 2]])"
      ]
     },
     "execution_count": 4,
     "metadata": {},
     "output_type": "execute_result"
    }
   ],
   "source": [
    "x = np.array([[0, 3], [2, 2]])\n",
    "x                                                #2d"
   ]
  },
  {
   "cell_type": "code",
   "execution_count": 5,
   "id": "aed2830a",
   "metadata": {},
   "outputs": [
    {
     "data": {
      "text/plain": [
       "array([[0, 2],\n",
       "       [2, 3]])"
      ]
     },
     "execution_count": 5,
     "metadata": {},
     "output_type": "execute_result"
    }
   ],
   "source": [
    "ind = np.argsort(x, axis=0)  # sorts along first axis (down)\n",
    "np.take_along_axis(x, ind, axis=0)  # same as np.sort(x, axis=0)\n"
   ]
  },
  {
   "cell_type": "code",
   "execution_count": 8,
   "id": "62a3cc7c",
   "metadata": {},
   "outputs": [
    {
     "data": {
      "text/plain": [
       "array([[0, 3],\n",
       "       [2, 2]])"
      ]
     },
     "execution_count": 8,
     "metadata": {},
     "output_type": "execute_result"
    }
   ],
   "source": [
    "ind = np.argsort(x, axis=1)  # sorts along last axis (across)\n",
    "np.take_along_axis(x, ind, axis=1)  # same as np.sort(x, axis=1)\n"
   ]
  },
  {
   "cell_type": "code",
   "execution_count": 13,
   "id": "e8ac3fc6",
   "metadata": {},
   "outputs": [
    {
     "name": "stdout",
     "output_type": "stream",
     "text": [
      "Using indices: [1 2 3 4]\n",
      "Using np.sort: [1 2 3 4]\n"
     ]
    }
   ],
   "source": [
    "x = np.array([[3, 1], [4, 2]])\n",
    "ind = np.unravel_index(np.argsort(x, axis=None), x.shape)\n",
    "\n",
    "sorted_x = x[ind]\n",
    "sorted_x_using_sort = np.sort(x, axis=None)\n",
    "\n",
    "print(\"Using indices:\", sorted_x)\n",
    "print(\"Using np.sort:\", sorted_x_using_sort)"
   ]
  },
  {
   "cell_type": "markdown",
   "id": "81d834df",
   "metadata": {},
   "source": [
    "#### np.lexsort()\n",
    "#### numpy.lexsort(keys, axis=-1)"
   ]
  },
  {
   "cell_type": "code",
   "execution_count": 24,
   "id": "96999447",
   "metadata": {},
   "outputs": [
    {
     "name": "stdout",
     "output_type": "stream",
     "text": [
      "[1 2 0]\n"
     ]
    }
   ],
   "source": [
    "## sort first by surname then by name\n",
    "surnames =    ('Hertz',    'Galilei', 'Hertz')\n",
    "first_names = ('Heinrich', 'Galileo', 'Gustav')      \n",
    "ind = np.lexsort((first_names, surnames))\n",
    "print(ind)"
   ]
  },
  {
   "cell_type": "code",
   "execution_count": 25,
   "id": "222d92ce",
   "metadata": {},
   "outputs": [
    {
     "data": {
      "text/plain": [
       "['Galilei, Galileo', 'Hertz, Gustav', 'Hertz, Heinrich']"
      ]
     },
     "execution_count": 25,
     "metadata": {},
     "output_type": "execute_result"
    }
   ],
   "source": [
    "[surnames[i] + \", \" + first_names[i] for i in ind]"
   ]
  },
  {
   "cell_type": "code",
   "execution_count": null,
   "id": "aab1c9e2",
   "metadata": {},
   "outputs": [],
   "source": [
    "# Sort two columns of numbers:"
   ]
  },
  {
   "cell_type": "code",
   "execution_count": 26,
   "id": "7fd7d4a3",
   "metadata": {},
   "outputs": [
    {
     "data": {
      "text/plain": [
       "array([2, 0, 4, 6, 5, 3, 1], dtype=int64)"
      ]
     },
     "execution_count": 26,
     "metadata": {},
     "output_type": "execute_result"
    }
   ],
   "source": [
    "a = [1,5,1,4,3,4,4] # First column\n",
    "b = [9,4,0,4,0,2,1] # Second column\n",
    "ind = np.lexsort((b,a)) # Sort by a, then by b\n",
    "ind"
   ]
  },
  {
   "cell_type": "code",
   "execution_count": 27,
   "id": "b56f42d3",
   "metadata": {},
   "outputs": [
    {
     "data": {
      "text/plain": [
       "[(1, 0), (1, 9), (3, 0), (4, 1), (4, 2), (4, 4), (5, 4)]"
      ]
     },
     "execution_count": 27,
     "metadata": {},
     "output_type": "execute_result"
    }
   ],
   "source": [
    "[(a[i],b[i]) for i in ind]"
   ]
  },
  {
   "cell_type": "markdown",
   "id": "a954f49b",
   "metadata": {},
   "source": [
    "#### np.searchsorted()\n",
    "#### numpy.searchsorted(a, v, side='left', sorter=None)"
   ]
  },
  {
   "cell_type": "code",
   "execution_count": 28,
   "id": "ba151ffa",
   "metadata": {},
   "outputs": [
    {
     "data": {
      "text/plain": [
       "2"
      ]
     },
     "execution_count": 28,
     "metadata": {},
     "output_type": "execute_result"
    }
   ],
   "source": [
    "np.searchsorted([1,2,3,4,5], 3)"
   ]
  },
  {
   "cell_type": "code",
   "execution_count": 31,
   "id": "44011183",
   "metadata": {},
   "outputs": [
    {
     "data": {
      "text/plain": [
       "3"
      ]
     },
     "execution_count": 31,
     "metadata": {},
     "output_type": "execute_result"
    }
   ],
   "source": [
    "np.searchsorted([1,2,3,4,5], 3, side='right')"
   ]
  },
  {
   "cell_type": "code",
   "execution_count": 32,
   "id": "5f861d05",
   "metadata": {},
   "outputs": [
    {
     "data": {
      "text/plain": [
       "array([0, 5, 1, 2], dtype=int64)"
      ]
     },
     "execution_count": 32,
     "metadata": {},
     "output_type": "execute_result"
    }
   ],
   "source": [
    "np.searchsorted([1,2,3,4,5], [-10, 10, 2, 3])"
   ]
  },
  {
   "cell_type": "markdown",
   "id": "72731ae6",
   "metadata": {},
   "source": [
    "#### np.partition()\n",
    "#### numpy.partition(a, kth, axis=-1, kind='introselect', order=None)"
   ]
  },
  {
   "cell_type": "code",
   "execution_count": 33,
   "id": "0100c887",
   "metadata": {},
   "outputs": [
    {
     "data": {
      "text/plain": [
       "array([0, 1, 2, 1, 2, 5, 2, 3, 3, 6, 7, 7, 7, 7])"
      ]
     },
     "execution_count": 33,
     "metadata": {},
     "output_type": "execute_result"
    }
   ],
   "source": [
    "a = np.array([7, 1, 7, 7, 1, 5, 7, 2, 3, 2, 6, 2, 3, 0])\n",
    "p = np.partition(a, 4)\n",
    "p"
   ]
  },
  {
   "cell_type": "code",
   "execution_count": 36,
   "id": "64a6d04a",
   "metadata": {},
   "outputs": [
    {
     "data": {
      "text/plain": [
       "array([0, 1, 2, 1, 2, 3, 3, 2, 5, 6, 7, 7, 7, 7])"
      ]
     },
     "execution_count": 36,
     "metadata": {},
     "output_type": "execute_result"
    }
   ],
   "source": [
    "p2 = np.partition(a, (4, 8))\n",
    "p2"
   ]
  },
  {
   "cell_type": "code",
   "execution_count": 39,
   "id": "825dd68a",
   "metadata": {},
   "outputs": [
    {
     "data": {
      "text/plain": [
       "array([[1, 3, 4],\n",
       "       [1, 5, 9],\n",
       "       [2, 5, 6]])"
      ]
     },
     "execution_count": 39,
     "metadata": {},
     "output_type": "execute_result"
    }
   ],
   "source": [
    "a=np.array([[3,1,4],[1,9,5],[2,5,6]])\n",
    "p=np.partition(a,1,axis=1)\n",
    "p\n"
   ]
  },
  {
   "cell_type": "code",
   "execution_count": 40,
   "id": "16f0ee16",
   "metadata": {},
   "outputs": [
    {
     "name": "stdout",
     "output_type": "stream",
     "text": [
      "origina array [10  8  6  4  2  0  9  7  5  3  1]\n",
      "partitioned array [ 0  1  4  3  2  5  6  7  8  9 10]\n"
     ]
    }
   ],
   "source": [
    "a=np.array([10,8,6,4,2,0,9,7,5,3,1])\n",
    "p=np.partition(a,5)\n",
    "print(\"origina array\",a)\n",
    "print(\"partitioned array\",p)"
   ]
  },
  {
   "cell_type": "markdown",
   "id": "4e637699",
   "metadata": {},
   "source": [
    "### np.concatenate()"
   ]
  },
  {
   "cell_type": "code",
   "execution_count": 17,
   "id": "3b378ddb",
   "metadata": {},
   "outputs": [
    {
     "data": {
      "text/plain": [
       "array([1, 2, 3, 4, 5, 6, 7, 8])"
      ]
     },
     "execution_count": 17,
     "metadata": {},
     "output_type": "execute_result"
    }
   ],
   "source": [
    "\n",
    "import numpy as np\n",
    "a=np.array([1,2,3,4])\n",
    "b=np.array([5,6,7,8])\n",
    "np.concatenate((a,b))"
   ]
  },
  {
   "cell_type": "code",
   "execution_count": 30,
   "id": "12929480",
   "metadata": {},
   "outputs": [
    {
     "name": "stdout",
     "output_type": "stream",
     "text": [
      "[[1 2]\n",
      " [3 4]]\n",
      "-------\n",
      "[[5 6]]\n",
      "--------\n",
      "[[5]\n",
      " [6]]\n",
      "--------\n",
      "[[1 2]\n",
      " [3 4]\n",
      " [5 6]]\n",
      "--------\n",
      "[[1 2 5]\n",
      " [3 4 6]]\n"
     ]
    }
   ],
   "source": [
    "x=np.array([[1,2],[3,4]])\n",
    "y=np.array([[5,6]])\n",
    "print(x)\n",
    "print(\"-------\")\n",
    "print(y)\n",
    "print(\"--------\")\n",
    "print(y.T)          #transpose\n",
    "print(\"--------\")\n",
    "print(np.concatenate((x,y),axis=0))\n",
    "print(\"--------\")\n",
    "print(np.concatenate((x,y.T),axis=1))"
   ]
  },
  {
   "cell_type": "markdown",
   "id": "20122783",
   "metadata": {},
   "source": [
    "#### ndarray.ndim : tell you the no.of axes or dimensions of the array.\n",
    "#### ndarray.size : total no.of elements of the array.\n",
    "#### ndarray.shape : display a tuple of integers that indicate the no.of elements stored along each dimension of the array.for eg: you have a 2-D array with 2 rows and 3 columns, the shpe of the array is (2,3)"
   ]
  },
  {
   "cell_type": "code",
   "execution_count": 19,
   "id": "f344b103",
   "metadata": {},
   "outputs": [
    {
     "name": "stdout",
     "output_type": "stream",
     "text": [
      "[[[0 1 2 4 3]\n",
      "  [4 5 6 7 4]]\n",
      "\n",
      " [[0 1 2 3 4]\n",
      "  [4 5 6 7 5]]\n",
      "\n",
      " [[0 1 2 3 6]\n",
      "  [4 5 6 7 9]]]\n"
     ]
    }
   ],
   "source": [
    "### 3d\n",
    "array_example=np.array([[[0,1,2,4,3],\n",
    "                        [4,5,6,7,4]],\n",
    "                       [[0,1,2,3,4],\n",
    "                       [4,5,6,7,5]],\n",
    "                       [[0,1,2,3,6],\n",
    "                       [4,5,6,7,9]],\n",
    "                       ])\n",
    "print(array_example)"
   ]
  },
  {
   "cell_type": "code",
   "execution_count": 20,
   "id": "c434bc5a",
   "metadata": {},
   "outputs": [
    {
     "data": {
      "text/plain": [
       "3"
      ]
     },
     "execution_count": 20,
     "metadata": {},
     "output_type": "execute_result"
    }
   ],
   "source": [
    "array_example.ndim"
   ]
  },
  {
   "cell_type": "code",
   "execution_count": 21,
   "id": "2f56d0b2",
   "metadata": {},
   "outputs": [
    {
     "data": {
      "text/plain": [
       "30"
      ]
     },
     "execution_count": 21,
     "metadata": {},
     "output_type": "execute_result"
    }
   ],
   "source": [
    "array_example.size"
   ]
  },
  {
   "cell_type": "code",
   "execution_count": 22,
   "id": "093dfbfb",
   "metadata": {},
   "outputs": [
    {
     "data": {
      "text/plain": [
       "(3, 2, 5)"
      ]
     },
     "execution_count": 22,
     "metadata": {},
     "output_type": "execute_result"
    }
   ],
   "source": [
    "array_example.shape"
   ]
  },
  {
   "cell_type": "markdown",
   "id": "d38aaab7",
   "metadata": {},
   "source": [
    "#### Reshape"
   ]
  },
  {
   "cell_type": "code",
   "execution_count": 3,
   "id": "889592ce",
   "metadata": {},
   "outputs": [
    {
     "name": "stdout",
     "output_type": "stream",
     "text": [
      "[0 1 2 3 4 5]\n"
     ]
    }
   ],
   "source": [
    "a=np.arange(6)\n",
    "print(a)"
   ]
  },
  {
   "cell_type": "code",
   "execution_count": 4,
   "id": "f07fbad1",
   "metadata": {},
   "outputs": [
    {
     "name": "stdout",
     "output_type": "stream",
     "text": [
      "[[0 1 2]\n",
      " [3 4 5]]\n"
     ]
    }
   ],
   "source": [
    "b=a.reshape(2,3)\n",
    "print(b)"
   ]
  },
  {
   "cell_type": "code",
   "execution_count": 5,
   "id": "2e08453a",
   "metadata": {},
   "outputs": [
    {
     "name": "stdout",
     "output_type": "stream",
     "text": [
      "[[0 1]\n",
      " [2 3]\n",
      " [4 5]]\n"
     ]
    }
   ],
   "source": [
    "a=np.arange(6)\n",
    "b=a.reshape((3,2))\n",
    "print(b)"
   ]
  },
  {
   "cell_type": "markdown",
   "id": "cdc2b00a",
   "metadata": {},
   "source": [
    "#### Resize"
   ]
  },
  {
   "cell_type": "code",
   "execution_count": 6,
   "id": "c5ac084a",
   "metadata": {},
   "outputs": [
    {
     "name": "stdout",
     "output_type": "stream",
     "text": [
      "[[1 2 3]\n",
      " [4 5 6]]\n"
     ]
    }
   ],
   "source": [
    "arr=np.array([1,2,3,4,5,6])\n",
    "arr.resize((2,3))\n",
    "print(arr)"
   ]
  },
  {
   "cell_type": "code",
   "execution_count": 7,
   "id": "b2cfbd87",
   "metadata": {},
   "outputs": [
    {
     "name": "stdout",
     "output_type": "stream",
     "text": [
      "[[1 2 3 4]\n",
      " [5 6 0 0]\n",
      " [0 0 0 0]]\n"
     ]
    }
   ],
   "source": [
    "arr=np.array([1,2,3,4,5,6])\n",
    "arr.resize((3,4))\n",
    "print(arr)"
   ]
  },
  {
   "cell_type": "markdown",
   "id": "c731bc82",
   "metadata": {},
   "source": [
    "#### np.newaxis will increase the dimension of array by one dimension when used once.ie; 1d array will be 2d array"
   ]
  },
  {
   "cell_type": "code",
   "execution_count": 8,
   "id": "baf08917",
   "metadata": {},
   "outputs": [
    {
     "name": "stdout",
     "output_type": "stream",
     "text": [
      "[1 2 3 4 5 6]\n",
      "(6,)\n",
      "1\n"
     ]
    }
   ],
   "source": [
    "a=np.array([1,2,3,4,5,6])\n",
    "print(a)\n",
    "print(a.shape)\n",
    "print(a.ndim)"
   ]
  },
  {
   "cell_type": "code",
   "execution_count": 9,
   "id": "e8938487",
   "metadata": {},
   "outputs": [
    {
     "name": "stdout",
     "output_type": "stream",
     "text": [
      "[[1 2 3 4 5 6]]\n",
      "(1, 6)\n",
      "2\n"
     ]
    }
   ],
   "source": [
    "a2=a[np.newaxis, :]\n",
    "print(a2)\n",
    "print(a2.shape)\n",
    "print(a2.ndim)"
   ]
  },
  {
   "cell_type": "code",
   "execution_count": 11,
   "id": "b42f7644",
   "metadata": {},
   "outputs": [
    {
     "name": "stdout",
     "output_type": "stream",
     "text": [
      "[[[1 2 3 4 5 6]]]\n",
      "(1, 1, 6)\n",
      "3\n"
     ]
    }
   ],
   "source": [
    "a3=a2[np.newaxis, :]\n",
    "print(a3)\n",
    "print(a3.shape)\n",
    "print(a3.ndim)"
   ]
  },
  {
   "cell_type": "code",
   "execution_count": 12,
   "id": "89fe83d0",
   "metadata": {},
   "outputs": [
    {
     "name": "stdout",
     "output_type": "stream",
     "text": [
      "[[1]\n",
      " [2]\n",
      " [3]\n",
      " [4]\n",
      " [5]\n",
      " [6]]\n"
     ]
    }
   ],
   "source": [
    "col_vector=a[: ,np.newaxis]\n",
    "col_vector.shape\n",
    "print(col_vector)"
   ]
  },
  {
   "cell_type": "markdown",
   "id": "1688a864",
   "metadata": {},
   "source": [
    "#### indexing and slicing"
   ]
  },
  {
   "cell_type": "code",
   "execution_count": 2,
   "id": "dd10ae05",
   "metadata": {},
   "outputs": [
    {
     "data": {
      "text/plain": [
       "array([1, 2, 3, 4, 5])"
      ]
     },
     "execution_count": 2,
     "metadata": {},
     "output_type": "execute_result"
    }
   ],
   "source": [
    "import numpy as np\n",
    "data = np.array([0, 1, 2, 3, 4, 5, 6, 7, 8, 9])\n",
    "data[1:6]"
   ]
  },
  {
   "cell_type": "code",
   "execution_count": 3,
   "id": "66f21d74",
   "metadata": {},
   "outputs": [
    {
     "data": {
      "text/plain": [
       "array([1, 2, 3, 4, 5, 6, 7, 8, 9])"
      ]
     },
     "execution_count": 3,
     "metadata": {},
     "output_type": "execute_result"
    }
   ],
   "source": [
    "data[1:]"
   ]
  },
  {
   "cell_type": "code",
   "execution_count": 4,
   "id": "b2402165",
   "metadata": {},
   "outputs": [
    {
     "data": {
      "text/plain": [
       "array([8, 9])"
      ]
     },
     "execution_count": 4,
     "metadata": {},
     "output_type": "execute_result"
    }
   ],
   "source": [
    "data[-2:]"
   ]
  },
  {
   "cell_type": "code",
   "execution_count": 5,
   "id": "8f970071",
   "metadata": {},
   "outputs": [
    {
     "data": {
      "text/plain": [
       "array([0, 1, 2])"
      ]
     },
     "execution_count": 5,
     "metadata": {},
     "output_type": "execute_result"
    }
   ],
   "source": [
    "data[:3]"
   ]
  },
  {
   "cell_type": "code",
   "execution_count": 13,
   "id": "cc2571bf",
   "metadata": {},
   "outputs": [
    {
     "name": "stdout",
     "output_type": "stream",
     "text": [
      "(6, 1)\n",
      "2\n"
     ]
    }
   ],
   "source": [
    "b=np.expand_dims(a,axis=1)\n",
    "print(b.shape)\n",
    "print(b.ndim)"
   ]
  },
  {
   "cell_type": "code",
   "execution_count": 16,
   "id": "64cbb104",
   "metadata": {},
   "outputs": [
    {
     "name": "stdout",
     "output_type": "stream",
     "text": [
      "[[ 1  2  3  4]\n",
      " [ 5  6  7  8]\n",
      " [ 9 10 11 12]]\n"
     ]
    }
   ],
   "source": [
    "a=np.array([[1,2,3,4],[5,6,7,8],[9,10,11,12]])\n",
    "print(a)"
   ]
  },
  {
   "cell_type": "code",
   "execution_count": 17,
   "id": "6eac71ce",
   "metadata": {},
   "outputs": [
    {
     "name": "stdout",
     "output_type": "stream",
     "text": [
      "[1 2 3 4]\n"
     ]
    }
   ],
   "source": [
    "print(a[a<5])"
   ]
  },
  {
   "cell_type": "code",
   "execution_count": 19,
   "id": "86d23c79",
   "metadata": {},
   "outputs": [
    {
     "name": "stdout",
     "output_type": "stream",
     "text": [
      "[ 5  6  7  8  9 10 11 12]\n"
     ]
    }
   ],
   "source": [
    "five_up=(a>=5)\n",
    "print(a[five_up])"
   ]
  },
  {
   "cell_type": "code",
   "execution_count": 20,
   "id": "7a0076b7",
   "metadata": {},
   "outputs": [
    {
     "name": "stdout",
     "output_type": "stream",
     "text": [
      "[ 2  4  6  8 10 12]\n"
     ]
    }
   ],
   "source": [
    "divisible_by_2=a[a%2==0]\n",
    "print(divisible_by_2)"
   ]
  },
  {
   "cell_type": "markdown",
   "id": "e77d4147",
   "metadata": {},
   "source": [
    "#### basic operations"
   ]
  },
  {
   "cell_type": "code",
   "execution_count": 7,
   "id": "0bd1d893",
   "metadata": {},
   "outputs": [
    {
     "data": {
      "text/plain": [
       "array([2, 3])"
      ]
     },
     "execution_count": 7,
     "metadata": {},
     "output_type": "execute_result"
    }
   ],
   "source": [
    "\n",
    "data=np.array([1,2])\n",
    "ones=np.ones(2,dtype=int)\n",
    "data + ones"
   ]
  },
  {
   "cell_type": "code",
   "execution_count": 9,
   "id": "9fe04ced",
   "metadata": {},
   "outputs": [
    {
     "name": "stdout",
     "output_type": "stream",
     "text": [
      "[0 1]\n",
      "[1 4]\n",
      "[1. 1.]\n"
     ]
    }
   ],
   "source": [
    "print(data-ones)\n",
    "print(data*data)\n",
    "print(data/data)"
   ]
  },
  {
   "cell_type": "code",
   "execution_count": 10,
   "id": "f7ab47db",
   "metadata": {},
   "outputs": [
    {
     "data": {
      "text/plain": [
       "10"
      ]
     },
     "execution_count": 10,
     "metadata": {},
     "output_type": "execute_result"
    }
   ],
   "source": [
    "a=np.array([1,2,3,4])\n",
    "a.sum()"
   ]
  },
  {
   "cell_type": "code",
   "execution_count": 12,
   "id": "ed180fe3",
   "metadata": {},
   "outputs": [
    {
     "name": "stdout",
     "output_type": "stream",
     "text": [
      "4\n",
      "1\n",
      "10\n"
     ]
    }
   ],
   "source": [
    "print(a.max())\n",
    "print(a.min())\n",
    "print(a.sum())"
   ]
  },
  {
   "cell_type": "code",
   "execution_count": 14,
   "id": "41d75067",
   "metadata": {},
   "outputs": [
    {
     "name": "stdout",
     "output_type": "stream",
     "text": [
      "[5 6]\n",
      "[2 5 6]\n"
     ]
    }
   ],
   "source": [
    "data=np.array([[1,2],[5,3],[4,6]])\n",
    "data\n",
    "print(data.max(axis=0))\n",
    "print(data.max(axis=1))"
   ]
  },
  {
   "cell_type": "markdown",
   "id": "3daca23a",
   "metadata": {},
   "source": [
    "#### stacking"
   ]
  },
  {
   "cell_type": "code",
   "execution_count": 21,
   "id": "d8281f58",
   "metadata": {},
   "outputs": [
    {
     "data": {
      "text/plain": [
       "array([[1, 1],\n",
       "       [2, 2],\n",
       "       [3, 3],\n",
       "       [4, 4]])"
      ]
     },
     "execution_count": 21,
     "metadata": {},
     "output_type": "execute_result"
    }
   ],
   "source": [
    "a1=np.array([[1,1],\n",
    "            [2,2]])\n",
    "a2=np.array([[3,3],\n",
    "            [4,4]])             #vertical stacking\n",
    "np.vstack((a1,a2))"
   ]
  },
  {
   "cell_type": "code",
   "execution_count": 22,
   "id": "93f71868",
   "metadata": {},
   "outputs": [
    {
     "data": {
      "text/plain": [
       "array([[1, 1, 3, 3],\n",
       "       [2, 2, 4, 4]])"
      ]
     },
     "execution_count": 22,
     "metadata": {},
     "output_type": "execute_result"
    }
   ],
   "source": [
    "np.hstack((a1,a2))          #horizontal stacking"
   ]
  },
  {
   "cell_type": "markdown",
   "id": "171996fa",
   "metadata": {},
   "source": [
    "#### split"
   ]
  },
  {
   "cell_type": "code",
   "execution_count": 23,
   "id": "6fc096f1",
   "metadata": {},
   "outputs": [
    {
     "data": {
      "text/plain": [
       "array([[ 1,  2,  3,  4,  5,  6,  7,  8,  9, 10, 11, 12],\n",
       "       [13, 14, 15, 16, 17, 18, 19, 20, 21, 22, 23, 24]])"
      ]
     },
     "execution_count": 23,
     "metadata": {},
     "output_type": "execute_result"
    }
   ],
   "source": [
    "import numpy as np\n",
    "x=np.arange(1,25).reshape(2,12)\n",
    "x"
   ]
  },
  {
   "cell_type": "code",
   "execution_count": 25,
   "id": "0899ccb1",
   "metadata": {},
   "outputs": [
    {
     "name": "stdout",
     "output_type": "stream",
     "text": [
      "[array([[ 1,  2,  3],\n",
      "       [13, 14, 15]]), array([[ 4,  5,  6],\n",
      "       [16, 17, 18]]), array([[ 7,  8,  9],\n",
      "       [19, 20, 21]]), array([[10, 11, 12],\n",
      "       [22, 23, 24]])]\n"
     ]
    }
   ],
   "source": [
    "print(np.hsplit(x,4))"
   ]
  },
  {
   "cell_type": "code",
   "execution_count": 26,
   "id": "2a4ad25f",
   "metadata": {},
   "outputs": [
    {
     "data": {
      "text/plain": [
       "[array([[ 1,  2,  3],\n",
       "        [13, 14, 15]]),\n",
       " array([[ 4,  5],\n",
       "        [16, 17]]),\n",
       " array([[ 6,  7,  8,  9, 10, 11, 12],\n",
       "        [18, 19, 20, 21, 22, 23, 24]])]"
      ]
     },
     "execution_count": 26,
     "metadata": {},
     "output_type": "execute_result"
    }
   ],
   "source": [
    "np.hsplit(x,(3,5))    #split aftr 3rd and 5th column"
   ]
  },
  {
   "cell_type": "markdown",
   "id": "af735185",
   "metadata": {},
   "source": [
    "#### creating matrices"
   ]
  },
  {
   "cell_type": "code",
   "execution_count": 27,
   "id": "a64a0b48",
   "metadata": {},
   "outputs": [
    {
     "data": {
      "text/plain": [
       "array([[1, 2],\n",
       "       [3, 4],\n",
       "       [5, 6]])"
      ]
     },
     "execution_count": 27,
     "metadata": {},
     "output_type": "execute_result"
    }
   ],
   "source": [
    "data=np.array([[1,2],[3,4],[5,6]])\n",
    "data"
   ]
  },
  {
   "cell_type": "code",
   "execution_count": 29,
   "id": "06c68cee",
   "metadata": {},
   "outputs": [
    {
     "name": "stdout",
     "output_type": "stream",
     "text": [
      "2\n",
      "[[3 4]\n",
      " [5 6]]\n",
      "[1 3]\n"
     ]
    }
   ],
   "source": [
    "print(data[0,1])\n",
    "print(data[1:3])\n",
    "print(data[0:2,0])"
   ]
  },
  {
   "cell_type": "code",
   "execution_count": 30,
   "id": "ec7daea6",
   "metadata": {},
   "outputs": [
    {
     "name": "stdout",
     "output_type": "stream",
     "text": [
      "[5 6]\n",
      "[2 4 6]\n"
     ]
    }
   ],
   "source": [
    "data=np.array([[1,2],[3,4],[5,6]])\n",
    "data\n",
    "print(data.max(axis=0))\n",
    "print(data.max(axis=1))"
   ]
  },
  {
   "cell_type": "markdown",
   "id": "59ccaf5a",
   "metadata": {},
   "source": [
    "#### unique elements"
   ]
  },
  {
   "cell_type": "code",
   "execution_count": 31,
   "id": "09644baa",
   "metadata": {},
   "outputs": [
    {
     "name": "stdout",
     "output_type": "stream",
     "text": [
      "[11 12 13 14 15 16 17 18 19 20]\n"
     ]
    }
   ],
   "source": [
    "a=np.array([11,11,12,13,14,15,16,17,12,13,11,14,18,19,20])\n",
    "unique_values=np.unique(a)\n",
    "print(unique_values)"
   ]
  },
  {
   "cell_type": "code",
   "execution_count": 32,
   "id": "a213372f",
   "metadata": {},
   "outputs": [
    {
     "name": "stdout",
     "output_type": "stream",
     "text": [
      "[ 0  2  3  4  5  6  7 12 13 14]\n"
     ]
    }
   ],
   "source": [
    "unique_values,indices_list=np.unique(a,return_index=True)\n",
    "print(indices_list)"
   ]
  },
  {
   "cell_type": "code",
   "execution_count": 33,
   "id": "801e9766",
   "metadata": {},
   "outputs": [
    {
     "name": "stdout",
     "output_type": "stream",
     "text": [
      "[ 1  2  3  4  5  6  7  8  9 10 11 12]\n"
     ]
    }
   ],
   "source": [
    "a_2d=np.array([[1,2,3,4],[5,6,7,8],[9,10,11,12],[1,2,3,4]])\n",
    "unique_values=np.unique(a_2d)\n",
    "print(unique_values)"
   ]
  },
  {
   "cell_type": "code",
   "execution_count": 34,
   "id": "db39e923",
   "metadata": {},
   "outputs": [
    {
     "name": "stdout",
     "output_type": "stream",
     "text": [
      "[[ 1  2  3  4]\n",
      " [ 5  6  7  8]\n",
      " [ 9 10 11 12]]\n"
     ]
    }
   ],
   "source": [
    "unique_rows=np.unique(a_2d,axis=0)\n",
    "print(unique_rows)"
   ]
  },
  {
   "cell_type": "code",
   "execution_count": 35,
   "id": "eab0cf50",
   "metadata": {},
   "outputs": [
    {
     "name": "stdout",
     "output_type": "stream",
     "text": [
      "[[ 1  2  3  4]\n",
      " [ 5  6  7  8]\n",
      " [ 9 10 11 12]\n",
      " [ 1  2  3  4]]\n"
     ]
    }
   ],
   "source": [
    "unique_column=np.unique(a_2d,axis=1)\n",
    "print(unique_column)"
   ]
  },
  {
   "cell_type": "markdown",
   "id": "324ef878",
   "metadata": {},
   "source": [
    "#### Transpose & reshape"
   ]
  },
  {
   "cell_type": "code",
   "execution_count": 36,
   "id": "7edc106e",
   "metadata": {},
   "outputs": [
    {
     "data": {
      "text/plain": [
       "array([[0, 1, 2],\n",
       "       [3, 4, 5]])"
      ]
     },
     "execution_count": 36,
     "metadata": {},
     "output_type": "execute_result"
    }
   ],
   "source": [
    "arr=np.arange(6).reshape((2,3))\n",
    "arr"
   ]
  },
  {
   "cell_type": "code",
   "execution_count": 37,
   "id": "5156ff8f",
   "metadata": {},
   "outputs": [
    {
     "data": {
      "text/plain": [
       "array([[0, 3],\n",
       "       [1, 4],\n",
       "       [2, 5]])"
      ]
     },
     "execution_count": 37,
     "metadata": {},
     "output_type": "execute_result"
    }
   ],
   "source": [
    "arr.transpose()"
   ]
  },
  {
   "cell_type": "code",
   "execution_count": 38,
   "id": "c27571a1",
   "metadata": {},
   "outputs": [
    {
     "data": {
      "text/plain": [
       "array([[0, 3],\n",
       "       [1, 4],\n",
       "       [2, 5]])"
      ]
     },
     "execution_count": 38,
     "metadata": {},
     "output_type": "execute_result"
    }
   ],
   "source": [
    "arr.T"
   ]
  },
  {
   "cell_type": "markdown",
   "id": "fcbf0f49",
   "metadata": {},
   "source": [
    "#### reverse"
   ]
  },
  {
   "cell_type": "code",
   "execution_count": 39,
   "id": "d8815208",
   "metadata": {},
   "outputs": [
    {
     "name": "stdout",
     "output_type": "stream",
     "text": [
      "Reversed array:  [8 7 6 5 4 3 2 1]\n"
     ]
    }
   ],
   "source": [
    "arr=np.array([1,2,3,4,5,6,7,8])\n",
    "reversed_arr=np.flip(arr)\n",
    "print(\"Reversed array: \",reversed_arr)"
   ]
  },
  {
   "cell_type": "code",
   "execution_count": 42,
   "id": "91e22669",
   "metadata": {},
   "outputs": [
    {
     "name": "stdout",
     "output_type": "stream",
     "text": [
      "[[12 11 10  9]\n",
      " [ 8  7  6  5]\n",
      " [ 4  3  2  1]]\n"
     ]
    }
   ],
   "source": [
    "arr_2d=np.array([[1,2,3,4],[5,6,7,8],[9,10,11,12]])\n",
    "reversed_arr=np.flip(arr_2d)\n",
    "print(reversed_arr)"
   ]
  },
  {
   "cell_type": "code",
   "execution_count": 45,
   "id": "1c3be5c9",
   "metadata": {},
   "outputs": [
    {
     "name": "stdout",
     "output_type": "stream",
     "text": [
      "[[ 9 10 11 12]\n",
      " [ 5  6  7  8]\n",
      " [ 1  2  3  4]]\n"
     ]
    }
   ],
   "source": [
    "reversed_arr_rows=np.flip(arr_2d,axis=0)\n",
    "print(reversed_arr_rows)"
   ]
  },
  {
   "cell_type": "code",
   "execution_count": 44,
   "id": "5b088333",
   "metadata": {},
   "outputs": [
    {
     "name": "stdout",
     "output_type": "stream",
     "text": [
      "[[ 4  3  2  1]\n",
      " [ 8  7  6  5]\n",
      " [12 11 10  9]]\n"
     ]
    }
   ],
   "source": [
    "reversed_arr_columns=np.flip(arr_2d,axis=1)\n",
    "print(reversed_arr_columns)"
   ]
  },
  {
   "cell_type": "code",
   "execution_count": null,
   "id": "50f7c5ca",
   "metadata": {},
   "outputs": [],
   "source": []
  },
  {
   "cell_type": "code",
   "execution_count": null,
   "id": "25e256d7",
   "metadata": {},
   "outputs": [],
   "source": []
  },
  {
   "cell_type": "code",
   "execution_count": null,
   "id": "76add831",
   "metadata": {},
   "outputs": [],
   "source": []
  },
  {
   "cell_type": "code",
   "execution_count": null,
   "id": "6c5adda0",
   "metadata": {},
   "outputs": [],
   "source": []
  },
  {
   "cell_type": "code",
   "execution_count": null,
   "id": "53b748e9",
   "metadata": {},
   "outputs": [],
   "source": []
  },
  {
   "cell_type": "code",
   "execution_count": null,
   "id": "67039a3d",
   "metadata": {},
   "outputs": [],
   "source": []
  },
  {
   "cell_type": "code",
   "execution_count": null,
   "id": "edb1b3da",
   "metadata": {},
   "outputs": [],
   "source": []
  }
 ],
 "metadata": {
  "kernelspec": {
   "display_name": "Python 3 (ipykernel)",
   "language": "python",
   "name": "python3"
  },
  "language_info": {
   "codemirror_mode": {
    "name": "ipython",
    "version": 3
   },
   "file_extension": ".py",
   "mimetype": "text/x-python",
   "name": "python",
   "nbconvert_exporter": "python",
   "pygments_lexer": "ipython3",
   "version": "3.11.4"
  }
 },
 "nbformat": 4,
 "nbformat_minor": 5
}
