{
 "cells": [
  {
   "cell_type": "code",
   "execution_count": 2,
   "id": "03c63137",
   "metadata": {},
   "outputs": [
    {
     "name": "stdout",
     "output_type": "stream",
     "text": [
      "[[0 1 2]\n",
      " [3 4 5]\n",
      " [6 7 8]]\n"
     ]
    }
   ],
   "source": [
    "import numpy as np\n",
    "a=np.arange(0,9)\n",
    "a.resize((3,3))\n",
    "print(a)"
   ]
  },
  {
   "cell_type": "code",
   "execution_count": 19,
   "id": "74b80dca",
   "metadata": {},
   "outputs": [
    {
     "data": {
      "text/plain": [
       "array([[1, 2, 3],\n",
       "       [7, 8, 9]])"
      ]
     },
     "execution_count": 19,
     "metadata": {},
     "output_type": "execute_result"
    }
   ],
   "source": [
    "arr=np.array([[1,2,3],[4,5,6],[7,8,9]])\n",
    "arr\n",
    "d=np.delete(arr,[3,4,5])\n",
    "d.resize((2,3))\n",
    "d"
   ]
  },
  {
   "cell_type": "code",
   "execution_count": 3,
   "id": "4f042b1f",
   "metadata": {},
   "outputs": [
    {
     "data": {
      "text/plain": [
       "array([4, 5, 6])"
      ]
     },
     "execution_count": 3,
     "metadata": {},
     "output_type": "execute_result"
    }
   ],
   "source": [
    "arr=np.array([[1,2,3],[4,5,6],[7,8,9]])\n",
    "arr\n",
    "d=arr[1,:]\n",
    "d"
   ]
  },
  {
   "cell_type": "code",
   "execution_count": 8,
   "id": "f000e1f5",
   "metadata": {},
   "outputs": [
    {
     "data": {
      "text/plain": [
       "32"
      ]
     },
     "execution_count": 8,
     "metadata": {},
     "output_type": "execute_result"
    }
   ],
   "source": [
    "arr1=np.array([1,2,3])\n",
    "arr2=np.array([4,5,6])\n",
    "arr=arr1 @ arr2\n",
    "arr"
   ]
  },
  {
   "cell_type": "code",
   "execution_count": 9,
   "id": "30ef75cc",
   "metadata": {},
   "outputs": [
    {
     "name": "stdout",
     "output_type": "stream",
     "text": [
      "[[0.42747687 0.67066089 0.54501222 0.8686212  0.13007211]\n",
      " [0.90384011 0.24144759 0.01636185 0.48999937 0.79470424]\n",
      " [0.28690894 0.82211413 0.21698613 0.42245947 0.33700626]\n",
      " [0.1881439  0.43726917 0.25644755 0.72205321 0.04828195]\n",
      " [0.004933   0.09380671 0.66833497 0.95915694 0.69913246]]\n",
      "Mean is:  0.4500492497140599\n",
      "Std is:  0.2940857190600299\n"
     ]
    }
   ],
   "source": [
    "a=np.random.rand(5,5)\n",
    "print(a)\n",
    "Mean=np.mean(a)\n",
    "print('Mean is: ',Mean)\n",
    "SD=np.std(a)\n",
    "print('Std is: ',SD)"
   ]
  },
  {
   "cell_type": "code",
   "execution_count": null,
   "id": "91763138",
   "metadata": {},
   "outputs": [],
   "source": []
  }
 ],
 "metadata": {
  "kernelspec": {
   "display_name": "Python 3 (ipykernel)",
   "language": "python",
   "name": "python3"
  },
  "language_info": {
   "codemirror_mode": {
    "name": "ipython",
    "version": 3
   },
   "file_extension": ".py",
   "mimetype": "text/x-python",
   "name": "python",
   "nbconvert_exporter": "python",
   "pygments_lexer": "ipython3",
   "version": "3.11.4"
  }
 },
 "nbformat": 4,
 "nbformat_minor": 5
}
