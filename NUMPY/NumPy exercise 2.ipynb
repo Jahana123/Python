{
 "cells": [
  {
   "cell_type": "markdown",
   "id": "bba2cacb",
   "metadata": {},
   "source": [
    "### Exercise 2"
   ]
  },
  {
   "cell_type": "markdown",
   "id": "1417d25c",
   "metadata": {},
   "source": [
    "### 1"
   ]
  },
  {
   "cell_type": "code",
   "execution_count": 1,
   "id": "8a76e8b2",
   "metadata": {},
   "outputs": [
    {
     "name": "stdout",
     "output_type": "stream",
     "text": [
      "Mean:  16.6\n",
      "Median:  17.0\n",
      "Standard deviation:  2.870540018881465\n"
     ]
    }
   ],
   "source": [
    "import numpy as np\n",
    "arr=np.array([12,15,17,19,20])\n",
    "mean_arr=np.mean(arr)\n",
    "median_arr=np.median(arr)\n",
    "standard_deviation_arr=np.std(arr)\n",
    "print(\"Mean: \",mean_arr)\n",
    "print(\"Median: \",median_arr)\n",
    "print(\"Standard deviation: \",standard_deviation_arr)"
   ]
  },
  {
   "cell_type": "markdown",
   "id": "2b0c995e",
   "metadata": {},
   "source": [
    "### 2        "
   ]
  },
  {
   "cell_type": "code",
   "execution_count": 2,
   "id": "df7d6fdc",
   "metadata": {},
   "outputs": [
    {
     "name": "stdout",
     "output_type": "stream",
     "text": [
      "Determinant is:  -2.0000000000000004\n"
     ]
    }
   ],
   "source": [
    "mat=np.array([[1,2],[3,4]])\n",
    "determinant=np.linalg.det(mat)\n",
    "print(\"Determinant is: \",determinant)"
   ]
  },
  {
   "cell_type": "markdown",
   "id": "2e3bb2dd",
   "metadata": {},
   "source": [
    "### 3"
   ]
  },
  {
   "cell_type": "code",
   "execution_count": 2,
   "id": "2fcd7151",
   "metadata": {},
   "outputs": [
    {
     "name": "stdout",
     "output_type": "stream",
     "text": [
      "[91  6 19 91 45 79 93  1 67  2]\n"
     ]
    }
   ],
   "source": [
    "random_intgrs=np.random.randint(0,101,size=10)\n",
    "print(random_intgrs)"
   ]
  },
  {
   "cell_type": "markdown",
   "id": "ff943b3f",
   "metadata": {},
   "source": [
    "### 4"
   ]
  },
  {
   "cell_type": "code",
   "execution_count": 4,
   "id": "99a63e3e",
   "metadata": {},
   "outputs": [
    {
     "name": "stdout",
     "output_type": "stream",
     "text": [
      "[[19 22]\n",
      " [43 50]]\n"
     ]
    }
   ],
   "source": [
    "A=np.array([[1,2],[3,4]])\n",
    "B=np.array([[5,6],[7,8]])\n",
    "mltplctn=np.dot(A,B)\n",
    "print(mltplctn)"
   ]
  },
  {
   "cell_type": "code",
   "execution_count": 5,
   "id": "d1f006b0",
   "metadata": {},
   "outputs": [
    {
     "name": "stdout",
     "output_type": "stream",
     "text": [
      "[[19 22]\n",
      " [43 50]]\n"
     ]
    }
   ],
   "source": [
    "A=np.array([[1,2],[3,4]])\n",
    "B=np.array([[5,6],[7,8]])\n",
    "mltplctn=A @ B\n",
    "print(mltplctn)"
   ]
  },
  {
   "cell_type": "markdown",
   "id": "ffb58411",
   "metadata": {},
   "source": [
    "### 5"
   ]
  },
  {
   "cell_type": "code",
   "execution_count": 6,
   "id": "4a9619de",
   "metadata": {},
   "outputs": [
    {
     "name": "stdout",
     "output_type": "stream",
     "text": [
      "prime numbers b/w 1 & 50 is:  [ 2  3  5  7 11 13 17 19 23 29 31 37 41 43 47]\n"
     ]
    }
   ],
   "source": [
    "def is_prime(number):\n",
    "    if number<2:\n",
    "        return False  \n",
    "    i=2\n",
    "    f=0\n",
    "    while i<=number/2:\n",
    "        if number % i == 0:\n",
    "            f=1\n",
    "            break\n",
    "        i+=1\n",
    "    if f==0:\n",
    "        return True\n",
    "    else:\n",
    "        return False\n",
    "primes=np.array([number for number in range(1,51) if is_prime(number)])  \n",
    "print(\"prime numbers b/w 1 & 50 is: \",primes)\n",
    "       "
   ]
  },
  {
   "cell_type": "markdown",
   "id": "e73a6507",
   "metadata": {},
   "source": [
    "### 6"
   ]
  },
  {
   "cell_type": "markdown",
   "id": "7b28083b",
   "metadata": {},
   "source": [
    "#### x normalized=x-mean(x) /std(x)"
   ]
  },
  {
   "cell_type": "code",
   "execution_count": 8,
   "id": "881d5895",
   "metadata": {},
   "outputs": [
    {
     "name": "stdout",
     "output_type": "stream",
     "text": [
      "[-1.41421356 -0.70710678  0.          0.70710678  1.41421356]\n"
     ]
    }
   ],
   "source": [
    "org_arr=np.array([10,20,30,40,50])\n",
    "mean_arr=np.mean(org_arr)\n",
    "std_arr=np.std(org_arr)\n",
    "normalized_arr=(org_arr - mean_arr)/std_arr\n",
    "print(normalized_arr)"
   ]
  },
  {
   "cell_type": "markdown",
   "id": "195bd4ac",
   "metadata": {},
   "source": [
    "### 7"
   ]
  },
  {
   "cell_type": "code",
   "execution_count": 7,
   "id": "376872e3",
   "metadata": {},
   "outputs": [
    {
     "name": "stdout",
     "output_type": "stream",
     "text": [
      "[ 5 11 17 23]\n"
     ]
    }
   ],
   "source": [
    "arr=np.array([2,5,8,11,14,17,20,23])\n",
    "odd_num=arr[arr %2!=0]\n",
    "print(odd_num)"
   ]
  },
  {
   "cell_type": "markdown",
   "id": "3fbab66c",
   "metadata": {},
   "source": [
    "### 8"
   ]
  },
  {
   "cell_type": "code",
   "execution_count": 11,
   "id": "379e7367",
   "metadata": {},
   "outputs": [
    {
     "name": "stdout",
     "output_type": "stream",
     "text": [
      "[1.         1.41421356 1.73205081 2.         2.23606798 2.44948974\n",
      " 2.64575131 2.82842712 3.         3.16227766]\n"
     ]
    }
   ],
   "source": [
    "arr=np.arange(1,11)\n",
    "sqrt_values=np.sqrt(arr)\n",
    "print(sqrt_values)"
   ]
  },
  {
   "cell_type": "markdown",
   "id": "83bb115f",
   "metadata": {},
   "source": [
    "### 9"
   ]
  },
  {
   "cell_type": "code",
   "execution_count": 2,
   "id": "2e9ce8e0",
   "metadata": {},
   "outputs": [
    {
     "name": "stdout",
     "output_type": "stream",
     "text": [
      "[[0 1 2]\n",
      " [3 4 5]\n",
      " [6 7 8]]\n",
      "/n [0 4 8]\n"
     ]
    }
   ],
   "source": [
    "matrix=np.arange(9).reshape(3,3)\n",
    "diagonal_elements=np.diag(matrix)\n",
    "print(matrix)\n",
    "print(\"/n\",diagonal_elements)"
   ]
  },
  {
   "cell_type": "markdown",
   "id": "17c0c2e0",
   "metadata": {},
   "source": [
    "### 10"
   ]
  },
  {
   "cell_type": "code",
   "execution_count": 13,
   "id": "b5ea99c8",
   "metadata": {},
   "outputs": [
    {
     "name": "stdout",
     "output_type": "stream",
     "text": [
      "400\n"
     ]
    }
   ],
   "source": [
    "a=np.array([2,3,4,5])\n",
    "b=np.array([10,20,30,40])\n",
    "dot_prdct=np.dot(a,b)\n",
    "print(dot_prdct)"
   ]
  }
 ],
 "metadata": {
  "kernelspec": {
   "display_name": "Python 3 (ipykernel)",
   "language": "python",
   "name": "python3"
  },
  "language_info": {
   "codemirror_mode": {
    "name": "ipython",
    "version": 3
   },
   "file_extension": ".py",
   "mimetype": "text/x-python",
   "name": "python",
   "nbconvert_exporter": "python",
   "pygments_lexer": "ipython3",
   "version": "3.11.4"
  }
 },
 "nbformat": 4,
 "nbformat_minor": 5
}
