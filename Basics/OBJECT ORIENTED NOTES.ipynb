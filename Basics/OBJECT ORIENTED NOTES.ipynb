{
 "cells": [
  {
   "cell_type": "markdown",
   "id": "bf80fc41",
   "metadata": {},
   "source": [
    "## object oriented programming\n",
    "#### OOP uses something called \"objects\" to represent things in the computer program.An object is like a special toy create and customize by giving its own features.called \"attributes\" and things it  can do methods called \"methods\".these objects are based on \"classes\"."
   ]
  },
  {
   "cell_type": "code",
   "execution_count": 3,
   "id": "fbd7dc69",
   "metadata": {},
   "outputs": [
    {
     "name": "stdout",
     "output_type": "stream",
     "text": [
      "The red car is medium in size and has a speed of 60 mph.\n",
      "The blue car is small in size and has a speed of 40 mph.\n",
      "The green car is large in size and has a speed of 80 mph.\n",
      "The red car is driving at 60 mph.\n",
      "The blue car has stopped.\n",
      "The green car is honking.\n"
     ]
    }
   ],
   "source": [
    "#define a car class\n",
    "class Car:\n",
    "    def __init__(self,color,size,speed):\n",
    "        self.color=color\n",
    "        self.size=size\n",
    "        self.speed=speed\n",
    "    def drive(self):\n",
    "        print(f\"The {self.color} car is driving at {self.speed} mph.\")\n",
    "    def stop(self):\n",
    "        print(f\"The {self.color} car has stopped.\")\n",
    "    def honk(self):\n",
    "        print(f\"The {self.color} car is honking.\")\n",
    "red_car=Car(\"red\",\"medium\",60)\n",
    "blue_car=Car(\"blue\",\"small\",40)\n",
    "green_car=Car(\"green\",\"large\",80)\n",
    "print(f\"The {red_car.color} car is {red_car.size} in size and has a speed of {red_car.speed} mph.\")\n",
    "print(f\"The {blue_car.color} car is {blue_car.size} in size and has a speed of {blue_car.speed} mph.\")\n",
    "print(f\"The {green_car.color} car is {green_car.size} in size and has a speed of {green_car.speed} mph.\")\n",
    "red_car.drive()\n",
    "blue_car.stop()\n",
    "green_car.honk()"
   ]
  },
  {
   "cell_type": "markdown",
   "id": "4d1d452f",
   "metadata": {},
   "source": [
    "### class definition\n",
    "#### A class is defined using class keyword followed by class name.tha class name should be in camelcase convention starting with uppercase letter"
   ]
  },
  {
   "cell_type": "code",
   "execution_count": null,
   "id": "447a59e0",
   "metadata": {},
   "outputs": [],
   "source": [
    "class Myclass:\n",
    "    #class body"
   ]
  },
  {
   "cell_type": "code",
   "execution_count": 18,
   "id": "f2703ba0",
   "metadata": {},
   "outputs": [
    {
     "name": "stdout",
     "output_type": "stream",
     "text": [
      "<class '__main__.Myclass'>\n"
     ]
    }
   ],
   "source": [
    "#crtng a class\n",
    "class Myclass:\n",
    "    x=5\n",
    "print(Myclass)"
   ]
  },
  {
   "cell_type": "markdown",
   "id": "d3fc90b2",
   "metadata": {},
   "source": [
    "### objects(instance) and instantiation\n",
    "#### once a class is defined you can create objects or instances of that class by calling the class name followed by paranthesis..this process is called instantiation"
   ]
  },
  {
   "cell_type": "code",
   "execution_count": null,
   "id": "e9efb01e",
   "metadata": {},
   "outputs": [],
   "source": [
    "obj=Myclass()"
   ]
  },
  {
   "cell_type": "code",
   "execution_count": 19,
   "id": "82d1572d",
   "metadata": {},
   "outputs": [
    {
     "name": "stdout",
     "output_type": "stream",
     "text": [
      "7\n"
     ]
    }
   ],
   "source": [
    "class Myclass:\n",
    "    x=7\n",
    "obj=Myclass()\n",
    "print(obj.x)"
   ]
  },
  {
   "cell_type": "code",
   "execution_count": 16,
   "id": "d345e24e",
   "metadata": {},
   "outputs": [
    {
     "name": "stdout",
     "output_type": "stream",
     "text": [
      "Mittens\n",
      "black\n",
      "meow!!\n"
     ]
    }
   ],
   "source": [
    "class Cat:\n",
    "    #attr\n",
    "    name=\"Mittens\"\n",
    "    color=\"black\" \n",
    "    #mthds\n",
    "    def meow(self):\n",
    "        print(\"meow!!\")\n",
    "#instance of class\n",
    "mycat=Cat()\n",
    "#access attr of the instnce\n",
    "print(mycat.name)\n",
    "print(mycat.color)\n",
    "#call mthd\n",
    "mycat.meow()"
   ]
  },
  {
   "cell_type": "markdown",
   "id": "6f7bf799",
   "metadata": {},
   "source": [
    "### class attributes\n",
    "#### variables that are shared by all indtances of a class.defined within the class body but outside any method.in class attributes can defined in two parts.\n",
    "#### INSTANCE VARIBLES: attributes attached to an instance of a class.we define instance variables in constructor(the __init__() method of a class).\n",
    "#### CLASS VARIABLES: variable that is declared inside of class,but outside of any instance method or __init()__method.\n",
    "#### class attributes are accessed using the class name followed by dot notation"
   ]
  },
  {
   "cell_type": "code",
   "execution_count": 1,
   "id": "3624ffd1",
   "metadata": {},
   "outputs": [
    {
     "name": "stdout",
     "output_type": "stream",
     "text": [
      "20\n"
     ]
    }
   ],
   "source": [
    "#class variable\n",
    "class Myclass:\n",
    "    y=20\n",
    "obj=Myclass()\n",
    "print(obj.y)"
   ]
  },
  {
   "cell_type": "markdown",
   "id": "7772e0cd",
   "metadata": {},
   "source": [
    "### Instance attributes\n",
    "#### variables that are unique to each instance of a class.they are defined within a class method using the self keyword.accessed using the self keyword followed by dot notation."
   ]
  },
  {
   "cell_type": "code",
   "execution_count": 20,
   "id": "70ef4e6c",
   "metadata": {},
   "outputs": [
    {
     "name": "stdout",
     "output_type": "stream",
     "text": [
      "20\n"
     ]
    }
   ],
   "source": [
    "\n",
    "class Myclass:\n",
    "    def __init__(self):\n",
    "        self.y=20            #instnce attr\n",
    "obj=Myclass()\n",
    "print(obj.y)                    #prnt 20\n"
   ]
  },
  {
   "cell_type": "markdown",
   "id": "7ba10d15",
   "metadata": {},
   "source": [
    "### class methods"
   ]
  },
  {
   "cell_type": "code",
   "execution_count": 21,
   "id": "6a55e832",
   "metadata": {},
   "outputs": [
    {
     "name": "stdout",
     "output_type": "stream",
     "text": [
      "Hello 10 20\n"
     ]
    }
   ],
   "source": [
    "\n",
    "class Myclass:\n",
    "    x=10\n",
    "    y=20\n",
    "    def print_x(self):\n",
    "        print(\"Hello\",self.x,self.y)\n",
    "    def add(self):\n",
    "        z=self.x+self.y\n",
    "        print(self.x,\"+\",self.y,\"=\",z)\n",
    "obj=Myclass()\n",
    "obj.print_x()"
   ]
  },
  {
   "cell_type": "code",
   "execution_count": 4,
   "id": "24efdf31",
   "metadata": {},
   "outputs": [
    {
     "name": "stdout",
     "output_type": "stream",
     "text": [
      "10 + 20 = 30\n"
     ]
    }
   ],
   "source": [
    "obj.add()"
   ]
  },
  {
   "cell_type": "code",
   "execution_count": 5,
   "id": "166e0637",
   "metadata": {},
   "outputs": [
    {
     "name": "stdout",
     "output_type": "stream",
     "text": [
      "Hello Jahana 20\n"
     ]
    }
   ],
   "source": [
    "obj.x=\"Jahana\"\n",
    "obj.print_x()"
   ]
  },
  {
   "cell_type": "code",
   "execution_count": 6,
   "id": "9cfdfb06",
   "metadata": {},
   "outputs": [
    {
     "name": "stdout",
     "output_type": "stream",
     "text": [
      "3 + 4 = 7\n",
      "Hello 3 4\n"
     ]
    }
   ],
   "source": [
    "obj.x=3\n",
    "obj.y=4\n",
    "obj.add()\n",
    "obj.print_x()"
   ]
  },
  {
   "cell_type": "code",
   "execution_count": 4,
   "id": "4fe57edc",
   "metadata": {},
   "outputs": [
    {
     "name": "stdout",
     "output_type": "stream",
     "text": [
      "Area of room = 1309.0\n"
     ]
    }
   ],
   "source": [
    "# create a class\n",
    "class Room:\n",
    "    length=0.0\n",
    "    breadth=0.0\n",
    "    def calculate_area(self):\n",
    "        print(\"Area of room =\",self.length*self.breadth)            #mthd to calculate area\n",
    "study_room=Room()                                                     #create obj of room class\n",
    "study_room.length=42.5                                               # assign values to all attr\n",
    "study_room.breadth=30.8\n",
    "study_room.calculate_area()                                            #access mthd inside class\n",
    "\n",
    "\n",
    "\n",
    "\n"
   ]
  },
  {
   "cell_type": "code",
   "execution_count": 3,
   "id": "65a5e76b",
   "metadata": {},
   "outputs": [
    {
     "name": "stdout",
     "output_type": "stream",
     "text": [
      "deposited ₹1000 - current balance = ₹3000\n",
      "withdrew ₹1500 - current balance = ₹1500 \n",
      "Account number : 123456xyz - current balance = ₹1500 \n"
     ]
    }
   ],
   "source": [
    "class BankAccount:\n",
    "    def __init__(self,account_number,balance=0):\n",
    "        self.account_number=account_number\n",
    "        self.current_balance=balance\n",
    "    def deposit(self,amount):\n",
    "        self.current_balance+=amount\n",
    "        return f\"deposited ₹{amount} - current balance = ₹{self.current_balance}\"\n",
    "    def withdrawal(self,amount):\n",
    "        if self.current_balance<amount:\n",
    "            print(\"insufficient balance\")\n",
    "        else:\n",
    "            self.current_balance-=amount\n",
    "        return f\"withdrew ₹{amount} - current balance = ₹{self.current_balance} \"\n",
    "    def print_balance(self):\n",
    "        return f\"Account number : {self.account_number} - current balance = ₹{self.current_balance} \"\n",
    "account=BankAccount(\"123456xyz\", 2000)\n",
    "print(account.deposit(1000))\n",
    "print(account.withdrawal(1500))\n",
    "print(account.print_balance())"
   ]
  },
  {
   "cell_type": "markdown",
   "id": "f20b8283",
   "metadata": {},
   "source": [
    "### Python constructors"
   ]
  },
  {
   "cell_type": "markdown",
   "id": "3432cda1",
   "metadata": {},
   "source": [
    "#### A constructor is a special type of method(fn) which is used to initialize the instance members of the class.\"init()\" is always executed when the class is being initiated"
   ]
  },
  {
   "cell_type": "code",
   "execution_count": 1,
   "id": "05ae90d3",
   "metadata": {},
   "outputs": [
    {
     "name": "stdout",
     "output_type": "stream",
     "text": [
      "\n"
     ]
    }
   ],
   "source": [
    "class Bike:\n",
    "    #constructor fn\n",
    "    def __init__(self,name=\"\"):\n",
    "        self.name=name\n",
    "        print(self.name)\n",
    "bike1=Bike()\n",
    "    "
   ]
  },
  {
   "cell_type": "code",
   "execution_count": 2,
   "id": "3ba4312b",
   "metadata": {},
   "outputs": [
    {
     "name": "stdout",
     "output_type": "stream",
     "text": [
      "Mountain bike\n"
     ]
    }
   ],
   "source": [
    "bike1=Bike(\"Mountain bike\")"
   ]
  },
  {
   "cell_type": "markdown",
   "id": "c0945043",
   "metadata": {},
   "source": [
    "### The str() function\n",
    "\n",
    "#### Controls what should be returned when the class object is represented as a string:"
   ]
  },
  {
   "cell_type": "code",
   "execution_count": 5,
   "id": "7396322e",
   "metadata": {},
   "outputs": [
    {
     "name": "stdout",
     "output_type": "stream",
     "text": [
      "<__main__.Person object at 0x0000024062349390>\n",
      "Jahana\n",
      "22\n"
     ]
    }
   ],
   "source": [
    "#string representation of an object without the__str__() fn:\n",
    "class Person:\n",
    "    def __init__(self,name,age):\n",
    "        self.name=name\n",
    "        self.age=age\n",
    "p1=Person(\"Jahana\",22)\n",
    "print(p1)\n",
    "print(p1.name)\n",
    "print(p1.age)"
   ]
  },
  {
   "cell_type": "code",
   "execution_count": 6,
   "id": "3ea5c57f",
   "metadata": {},
   "outputs": [
    {
     "name": "stdout",
     "output_type": "stream",
     "text": [
      "Jahana - 22.2\n"
     ]
    }
   ],
   "source": [
    "# the string represntn of an object with __str__() fn:\n",
    "class Person:\n",
    "    def __init__(self,name,age):\n",
    "        self.name=name\n",
    "        self.age=age\n",
    "    def __str__(self):\n",
    "        return f\"{self.name} - {self.age}\"\n",
    "p1=Person(\"Jahana\",22.2)\n",
    "print(p1)"
   ]
  },
  {
   "cell_type": "markdown",
   "id": "02f168b0",
   "metadata": {},
   "source": [
    "### Python inheritance"
   ]
  },
  {
   "cell_type": "markdown",
   "id": "70662ef6",
   "metadata": {},
   "source": [
    "#### Inheritance allow us to define a class that inherits all the methods and prprts from another class\n",
    "\n",
    "#### Parent class(super class) is the class being inherited from, also called base class.\n",
    "\n",
    "#### Child class(sub class) is the class that inherits from another class,also called derived class\n",
    "\n",
    "#### define a super class\n",
    "#### class super_class:\n",
    "\n",
    "#### Inheritance\n",
    "#### class sub_class(super_class):"
   ]
  },
  {
   "cell_type": "code",
   "execution_count": 7,
   "id": "15b881ec",
   "metadata": {},
   "outputs": [
    {
     "name": "stdout",
     "output_type": "stream",
     "text": [
      "I can eat\n",
      "My name is  Rohu\n"
     ]
    }
   ],
   "source": [
    "class Animal:                           #attrbt and mthd of parent class\n",
    "    name=\"\"\n",
    "    def eat(self):\n",
    "        print(\"I can eat\")\n",
    "class Dog(Animal):                      #inherit from animal\n",
    "    def display(self):                 #new mthd in subclass\n",
    "        print(\"My name is \",self.name)\n",
    "labrador=Dog()\n",
    "labrador.name=\"Rohu\"\n",
    "labrador.eat()\n",
    "labrador.display()"
   ]
  },
  {
   "cell_type": "code",
   "execution_count": 1,
   "id": "610e68e9",
   "metadata": {},
   "outputs": [
    {
     "name": "stdout",
     "output_type": "stream",
     "text": [
      "Enter side 1 : 2\n",
      "Enter side 2 : 4\n",
      "Enter side 3 : 5\n",
      "Side 1 is 2.0\n",
      "Side 2 is 4.0\n",
      "Side 3 is 5.0\n",
      "The area of the triangle is 3.80\n",
      "Enter side 1 : 2\n",
      "Enter side 2 : 4\n",
      "Enter side 3 : 6\n",
      "Enter side 4 : 8\n",
      "Side 1 is 2.0\n",
      "Side 2 is 4.0\n",
      "Side 3 is 6.0\n",
      "Side 4 is 8.0\n",
      "The area of the Rectangle is 8.00\n"
     ]
    }
   ],
   "source": [
    "class  Polygon:\n",
    "    def __init__(self,no_of_sides):\n",
    "        self.n=no_of_sides\n",
    "        self.sides=[0 for i in range(no_of_sides)]\n",
    "    def inputSides(self):\n",
    "        self.sides=[float(input(\"Enter side \"+str(i+1)+\" : \")) for i in range(self.n)]\n",
    "    def dispSides(self):\n",
    "        for i in range(self.n):\n",
    "            print(\"Side\",i+1,\"is\",self.sides[i])\n",
    "class Triangle(Polygon):\n",
    "    def __init__(self):\n",
    "        Polygon.__init__(self,3)\n",
    "    def findArea(self):\n",
    "        a, b, c =self.sides\n",
    "        s=(a + b + c) /2\n",
    "        area=(s*(s-a)*(s-b)*(s-c)) **0.5\n",
    "        print(\"The area of the triangle is %0.2f\" %area)\n",
    "class Rectangle(Polygon):\n",
    "    def __init__(self):\n",
    "         Polygon.__init__(self,4)\n",
    "    def findArea(self):\n",
    "        a, b, c ,d =self.sides\n",
    "        area=a*b\n",
    "        print(\"The area of the Rectangle is %0.2f\" %area)\n",
    "t=Triangle()\n",
    "t.inputSides()\n",
    "t.dispSides()\n",
    "t.findArea()\n",
    "r=Rectangle()\n",
    "r.inputSides()\n",
    "r.dispSides()\n",
    "r.findArea()\n",
    "\n"
   ]
  },
  {
   "cell_type": "markdown",
   "id": "c251c3a9",
   "metadata": {},
   "source": [
    "### Polymorphism"
   ]
  },
  {
   "cell_type": "markdown",
   "id": "8119afdf",
   "metadata": {},
   "source": [
    "#### The word polymorphism means many forms and in programming it refers to methods or fns or operators with the same name that is many objects or classes.\n",
    "\n",
    "#### It allows objects of different classes to be treated as objects of a common superclass.\n",
    "#### There are two types of polymorphism in python\n",
    "####           - Compile_time polymorphism(method overloading)\n",
    "####           - Runtime polymorphism(method overriding )"
   ]
  },
  {
   "cell_type": "markdown",
   "id": "f7a96599",
   "metadata": {},
   "source": [
    "### compile_time polymorphism(method overloading)\n",
    "#### allows a class to have mltple methods with the same name but different parameters.python does not support overloading"
   ]
  },
  {
   "cell_type": "code",
   "execution_count": 1,
   "id": "0a3b3741",
   "metadata": {},
   "outputs": [
    {
     "name": "stdout",
     "output_type": "stream",
     "text": [
      "<__main__.MathOperations object at 0x000001A1B0A16AD0>\n"
     ]
    }
   ],
   "source": [
    "class MathOperations:\n",
    "    def add(self,a,b=None,c=None):\n",
    "        if c is None:\n",
    "            if b is None:\n",
    "                return a\n",
    "            return a+b\n",
    "        return a+b+c\n",
    "calculator=MathOperations()\n",
    "print(calculator)\n",
    "    "
   ]
  },
  {
   "cell_type": "markdown",
   "id": "dedc9f67",
   "metadata": {},
   "source": [
    "### method overriding"
   ]
  },
  {
   "cell_type": "markdown",
   "id": "6e80bec6",
   "metadata": {},
   "source": [
    "#### Method overriding allows you to redefine a method in a subclass or the derived class previously defined in its parent or the superclass"
   ]
  },
  {
   "cell_type": "code",
   "execution_count": 2,
   "id": "4d8a9d94",
   "metadata": {},
   "outputs": [
    {
     "name": "stdout",
     "output_type": "stream",
     "text": [
      "I like to eat bones\n"
     ]
    }
   ],
   "source": [
    "\n",
    "class Animal:                          \n",
    "    name=\"\"\n",
    "    def eat(self):\n",
    "        print(\"I can eat\")\n",
    "class Dog(Animal):                      \n",
    "    def eat(self):                  #override eat() method        \n",
    "        print(\"I like to eat bones\")\n",
    "labrador=Dog()\n",
    "labrador.eat()\n"
   ]
  },
  {
   "cell_type": "code",
   "execution_count": 3,
   "id": "5b3ec350",
   "metadata": {},
   "outputs": [
    {
     "name": "stdout",
     "output_type": "stream",
     "text": [
      "I can eat\n",
      "I like to eat bones\n"
     ]
    }
   ],
   "source": [
    "class Animal:                          \n",
    "    name=\"\"\n",
    "    def eat(self):\n",
    "        print(\"I can eat\")\n",
    "class Dog(Animal):                      \n",
    "    def eat(self): \n",
    "        super().eat()                          #call eat() mthd of superclass using super()    \n",
    "        print(\"I like to eat bones\")\n",
    "labrador=Dog()\n",
    "labrador.eat()"
   ]
  },
  {
   "cell_type": "markdown",
   "id": "10bc9c66",
   "metadata": {},
   "source": [
    "### Multiple Inheritance"
   ]
  },
  {
   "cell_type": "markdown",
   "id": "8423ec76",
   "metadata": {},
   "source": [
    "#### A class can be derived from more than one superclass in python.this is called multiple inheritance."
   ]
  },
  {
   "cell_type": "code",
   "execution_count": 4,
   "id": "d03ccb56",
   "metadata": {},
   "outputs": [
    {
     "name": "stdout",
     "output_type": "stream",
     "text": [
      "Mammals can give direct birth.\n",
      "Winged animals can flap.\n"
     ]
    }
   ],
   "source": [
    "class Mammal:\n",
    "    def mammal_info(self):\n",
    "        print(\"Mammals can give direct birth.\")\n",
    "class WingedAnimal:\n",
    "    def winged_animal_info(self):\n",
    "        print(\"Winged animals can flap.\")\n",
    "class Bat(Mammal,WingedAnimal):\n",
    "    pass\n",
    "b1=Bat()        #create an obj of bat class\n",
    "b1.mammal_info()\n",
    "b1.winged_animal_info()"
   ]
  },
  {
   "cell_type": "markdown",
   "id": "c746da2e",
   "metadata": {},
   "source": [
    "### Multilevel Inheritance"
   ]
  },
  {
   "cell_type": "markdown",
   "id": "3d5f7e5d",
   "metadata": {},
   "source": [
    "#### A type of inheritance that involves inheriting a class that has already inherited some other class"
   ]
  },
  {
   "cell_type": "code",
   "execution_count": 2,
   "id": "5caadb2b",
   "metadata": {},
   "outputs": [
    {
     "name": "stdout",
     "output_type": "stream",
     "text": [
      "Fido says:woof!\n",
      "whiskers says:Meow!\n",
      "baldy says:screech!\n"
     ]
    }
   ],
   "source": [
    "class Animal:\n",
    "    def __init__(self,name):\n",
    "        self.name=name\n",
    "    def speak(self):\n",
    "        pass\n",
    "class Mammal(Animal):\n",
    "    def give_birth(self):\n",
    "        pass\n",
    "class Dog(Mammal):\n",
    "    def speak(self):\n",
    "        return \"woof!\"\n",
    "class Cat(Mammal):\n",
    "    def speak(self):\n",
    "        return \"Meow!\"\n",
    "class Bird(Animal):\n",
    "    def fly(self):\n",
    "        pass\n",
    "class Eagle(Bird):\n",
    "    def speak(self):\n",
    "        return \"screech!\"\n",
    "dog=Dog(\"Fido\")\n",
    "cat=Cat(\"whiskers\")\n",
    "eagle=Eagle(\"baldy\")\n",
    "print(f\"{dog.name} says:{dog.speak()}\")\n",
    "print(f\"{cat.name} says:{cat.speak()}\")\n",
    "print(f\"{eagle.name} says:{eagle.speak()}\")\n",
    "        "
   ]
  },
  {
   "cell_type": "markdown",
   "id": "9d0f7e13",
   "metadata": {},
   "source": [
    "### Data Encapsulation\n",
    "\n",
    "####  It describes the idea of wrapping data and the methods that work on data within one unit. This puts restrictions on accessing variables and methods directly and can prevent the accidental modification of data. To prevent accidental change, an object’s variable can only be changed by an object’s method. Those types of variables are known as private variables."
   ]
  },
  {
   "cell_type": "code",
   "execution_count": 2,
   "id": "1447b82e",
   "metadata": {},
   "outputs": [
    {
     "name": "stdout",
     "output_type": "stream",
     "text": [
      "Calling protected member of base class:  2\n",
      "Calling modified protected member outside class:  3\n",
      "Accessing protected member of obj1:  3\n",
      "Accessing protected member of obj2:  2\n"
     ]
    }
   ],
   "source": [
    "class Base: \n",
    "    def __init__(self): \n",
    "  \n",
    "        # Protected member \n",
    "        self._a = 2\n",
    "  \n",
    "# Creating a derived class \n",
    "class Derived(Base): \n",
    "    def __init__(self): \n",
    "  \n",
    "        # Calling constructor of \n",
    "        # Base class \n",
    "        Base.__init__(self) \n",
    "        print(\"Calling protected member of base class: \",  \n",
    "              self._a) \n",
    "  \n",
    "        # Modify the protected variable: \n",
    "        self._a = 3\n",
    "        print(\"Calling modified protected member outside class: \", \n",
    "              self._a) \n",
    "  \n",
    "  \n",
    "obj1 = Derived() \n",
    "  \n",
    "obj2 = Base() \n",
    "  \n",
    "# Calling protected member \n",
    "# Can be accessed but should not be done due to convention \n",
    "print(\"Accessing protected member of obj1: \", obj1._a) \n",
    "  \n",
    "# Accessing the protected variable outside \n",
    "print(\"Accessing protected member of obj2: \", obj2._a) "
   ]
  },
  {
   "cell_type": "markdown",
   "id": "7204e649",
   "metadata": {},
   "source": [
    "### Data abstraction"
   ]
  },
  {
   "cell_type": "markdown",
   "id": "cb732e01",
   "metadata": {},
   "source": [
    "####  it is a key concept in OOP that focuses on hiding the complex implementation details of a class and exposing only the essential features and functionalities.Abstraction allow you to create a simplified model of a real world object by defining a clear interface and hiding the underlying complexities.\n",
    "\n",
    "#### by default python not providing abstract classes.python comes with a module that provides the base for defining ABSTRACT BASE CLASSES(ABC) and that module name is ABC.Amethod becomes abstract when decorated with the key word @abstractmethod"
   ]
  },
  {
   "cell_type": "code",
   "execution_count": 4,
   "id": "f68729fa",
   "metadata": {},
   "outputs": [
    {
     "name": "stdout",
     "output_type": "stream",
     "text": [
      "Area:78.5\n",
      "Area:24\n"
     ]
    }
   ],
   "source": [
    "from abc import ABC,abstractmethod\n",
    "class Shape(ABC):\n",
    "    @abstractmethod\n",
    "    def area(self):\n",
    "        pass\n",
    "class Circle(Shape):\n",
    "    def __init__(self,radius):\n",
    "        self.radius=radius\n",
    "    def area(self):\n",
    "        return 3.14*self.radius*self.radius\n",
    "class Rectangle(Shape):\n",
    "    def __init__(self,width,height):\n",
    "        self.width=width\n",
    "        self.height=height\n",
    "    def area(self):\n",
    "        return self.width*self.height\n",
    "Circle=Circle(5)\n",
    "Rectangle=Rectangle(4,6)\n",
    "Shapes=[Circle,Rectangle]\n",
    "for Shape in Shapes:\n",
    "    print(f\"Area:{Shape.area()}\")"
   ]
  },
  {
   "cell_type": "code",
   "execution_count": null,
   "id": "49817a0e",
   "metadata": {},
   "outputs": [],
   "source": []
  },
  {
   "cell_type": "code",
   "execution_count": null,
   "id": "274fd907",
   "metadata": {},
   "outputs": [],
   "source": []
  },
  {
   "cell_type": "code",
   "execution_count": null,
   "id": "d2a0c0be",
   "metadata": {},
   "outputs": [],
   "source": []
  },
  {
   "cell_type": "code",
   "execution_count": null,
   "id": "6037d698",
   "metadata": {},
   "outputs": [],
   "source": []
  },
  {
   "cell_type": "code",
   "execution_count": null,
   "id": "c9b61563",
   "metadata": {},
   "outputs": [],
   "source": []
  },
  {
   "cell_type": "code",
   "execution_count": null,
   "id": "56d76d41",
   "metadata": {},
   "outputs": [],
   "source": []
  },
  {
   "cell_type": "code",
   "execution_count": null,
   "id": "c1a21181",
   "metadata": {},
   "outputs": [],
   "source": []
  },
  {
   "cell_type": "code",
   "execution_count": null,
   "id": "37b678fc",
   "metadata": {},
   "outputs": [],
   "source": []
  }
 ],
 "metadata": {
  "kernelspec": {
   "display_name": "Python 3 (ipykernel)",
   "language": "python",
   "name": "python3"
  },
  "language_info": {
   "codemirror_mode": {
    "name": "ipython",
    "version": 3
   },
   "file_extension": ".py",
   "mimetype": "text/x-python",
   "name": "python",
   "nbconvert_exporter": "python",
   "pygments_lexer": "ipython3",
   "version": "3.11.4"
  }
 },
 "nbformat": 4,
 "nbformat_minor": 5
}
