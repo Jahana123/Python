{
 "cells": [
  {
   "cell_type": "markdown",
   "id": "f52281e5",
   "metadata": {},
   "source": [
    "# Python set"
   ]
  },
  {
   "cell_type": "markdown",
   "id": "15ce0c5d",
   "metadata": {},
   "source": [
    "### 1"
   ]
  },
  {
   "cell_type": "code",
   "execution_count": 1,
   "id": "e604b356",
   "metadata": {},
   "outputs": [
    {
     "name": "stdout",
     "output_type": "stream",
     "text": [
      "False\n"
     ]
    }
   ],
   "source": [
    "set1={2,4,6}\n",
    "set2={1,2,3}\n",
    "z=set1.isdisjoint(set2)              #returns true if no items in set1 is present in set2\n",
    "print(z)"
   ]
  },
  {
   "cell_type": "code",
   "execution_count": 1,
   "id": "89dc2f11",
   "metadata": {},
   "outputs": [
    {
     "name": "stdout",
     "output_type": "stream",
     "text": [
      "Two sets have no elements in common\n"
     ]
    }
   ],
   "source": [
    "s1={1,2,3}\n",
    "s2={5,4,6}\n",
    "if s1.isdisjoint(s2):\n",
    "    print(\"Two sets have no elements in common\")\n",
    "else:\n",
    "    print(\"Two sets have common elements\")"
   ]
  },
  {
   "cell_type": "markdown",
   "id": "91d167c9",
   "metadata": {},
   "source": [
    "### 2"
   ]
  },
  {
   "cell_type": "code",
   "execution_count": 1,
   "id": "24b0afcd",
   "metadata": {},
   "outputs": [
    {
     "name": "stdout",
     "output_type": "stream",
     "text": [
      "The difference between a & b is:  {8, 2, 10, 4}\n",
      "The difference between b & a is:  {9, 3, 12, 15}\n"
     ]
    }
   ],
   "source": [
    "a={2,4,6,8,10}\n",
    "b={3,6,9,12,15}\n",
    "c=a.difference(b)            #a-b ;prsnt in a\n",
    "print(\"The difference between a & b is: \" ,c)\n",
    "d=b.difference(a)            #b-a ;prsnt in b\n",
    "print(\"The difference between b & a is: \", d)"
   ]
  },
  {
   "cell_type": "markdown",
   "id": "86df6dd2",
   "metadata": {},
   "source": [
    "### 3"
   ]
  },
  {
   "cell_type": "code",
   "execution_count": 2,
   "id": "6f59ece6",
   "metadata": {},
   "outputs": [
    {
     "name": "stdout",
     "output_type": "stream",
     "text": [
      "Symmetric difference is:  {4, 5, 8, 10, 12, 15, 16, 25}\n"
     ]
    }
   ],
   "source": [
    "x={4,8,12,16,20}\n",
    "y={5,10,15,20,25}\n",
    "z=x.symmetric_difference(y)\n",
    "print(\"Symmetric difference is: \", z)"
   ]
  },
  {
   "cell_type": "markdown",
   "id": "8b3598cc",
   "metadata": {},
   "source": [
    "### 4"
   ]
  },
  {
   "cell_type": "code",
   "execution_count": 21,
   "id": "5e2cd4f2",
   "metadata": {},
   "outputs": [
    {
     "name": "stdout",
     "output_type": "stream",
     "text": [
      "{1, 2, 3, 4, 5, 6, 7}\n"
     ]
    }
   ],
   "source": [
    "list1=[1,2,3,2,4,5,1,2,6,7,3]\n",
    "print(set(list(list1)))"
   ]
  },
  {
   "cell_type": "markdown",
   "id": "b6b23aa9",
   "metadata": {},
   "source": [
    "### 5"
   ]
  },
  {
   "cell_type": "code",
   "execution_count": 4,
   "id": "b7e9d072",
   "metadata": {},
   "outputs": [
    {
     "name": "stdout",
     "output_type": "stream",
     "text": [
      "After excluding common ones, the set is :  {7, 8, 9, 10, 11, 12, 13, 15}\n"
     ]
    }
   ],
   "source": [
    "s1={1,2,3,4,5,6,11,12,13}\n",
    "s2={2,4,1,3,5,6,7,8,9,10,15}\n",
    "x=s1.symmetric_difference(s2)\n",
    "print(\"After excluding common ones, the set is : \",  x)"
   ]
  },
  {
   "cell_type": "markdown",
   "id": "d5612e7c",
   "metadata": {},
   "source": [
    "### 6"
   ]
  },
  {
   "cell_type": "code",
   "execution_count": 2,
   "id": "7a0e7c2a",
   "metadata": {},
   "outputs": [
    {
     "name": "stdout",
     "output_type": "stream",
     "text": [
      "a is a subset of b.\n"
     ]
    }
   ],
   "source": [
    "a={\"apple\",\"mango\"}\n",
    "b={\"orange\",\"apple\",\"banana\",\"mango\"}         #all items in a is present in b\n",
    "if a.issubset(b):\n",
    "    print(\"a is a subset of b.\")\n",
    "else:\n",
    "        print(\"a is not a subset of b.\")"
   ]
  },
  {
   "cell_type": "markdown",
   "id": "89485862",
   "metadata": {},
   "source": [
    "### 7"
   ]
  },
  {
   "cell_type": "code",
   "execution_count": 20,
   "id": "ad8dcef4",
   "metadata": {},
   "outputs": [
    {
     "name": "stdout",
     "output_type": "stream",
     "text": [
      "Maximum value is:  89\n",
      "Minimum value is:  3\n"
     ]
    }
   ],
   "source": [
    "set1={10,15,64,3,89,15,9,34,23,18}\n",
    "print(\"Maximum value is: \",max(set1))\n",
    "print(\"Minimum value is: \",min(set1))"
   ]
  },
  {
   "cell_type": "markdown",
   "id": "4d000f31",
   "metadata": {},
   "source": [
    "### 8"
   ]
  },
  {
   "cell_type": "code",
   "execution_count": 13,
   "id": "5df34e26",
   "metadata": {},
   "outputs": [
    {
     "name": "stdout",
     "output_type": "stream",
     "text": [
      "set()\n"
     ]
    }
   ],
   "source": [
    "set1={\"apple\",\"orange\",\"mango\"}\n",
    "set1.clear()\n",
    "print(set1)"
   ]
  },
  {
   "cell_type": "markdown",
   "id": "a4804bd0",
   "metadata": {},
   "source": [
    "### 9"
   ]
  },
  {
   "cell_type": "code",
   "execution_count": 5,
   "id": "4224f274",
   "metadata": {},
   "outputs": [
    {
     "name": "stdout",
     "output_type": "stream",
     "text": [
      "Updated set is:  {1, 2, 3, 4, 5, 6, 7, 8, 9, 10}\n"
     ]
    }
   ],
   "source": [
    "a={1,2,3,4,5}\n",
    "b={1,1,3,5,4}\n",
    "c={6,7,8,9,10}\n",
    "d=a.union(b)\n",
    "updated_set=d.union(c)\n",
    "print(\"Updated set is: \" ,updated_set)\n"
   ]
  },
  {
   "cell_type": "markdown",
   "id": "28be1dd8",
   "metadata": {},
   "source": [
    "### 10"
   ]
  },
  {
   "cell_type": "code",
   "execution_count": 6,
   "id": "dce74e90",
   "metadata": {},
   "outputs": [
    {
     "name": "stdout",
     "output_type": "stream",
     "text": [
      "Sum of all elements in a is:  291\n"
     ]
    }
   ],
   "source": [
    "a={21,32,43,54,65,76}\n",
    "print(\"Sum of all elements in a is: \" , sum(a))"
   ]
  },
  {
   "cell_type": "code",
   "execution_count": null,
   "id": "a5b5243b",
   "metadata": {},
   "outputs": [],
   "source": []
  }
 ],
 "metadata": {
  "kernelspec": {
   "display_name": "Python 3 (ipykernel)",
   "language": "python",
   "name": "python3"
  },
  "language_info": {
   "codemirror_mode": {
    "name": "ipython",
    "version": 3
   },
   "file_extension": ".py",
   "mimetype": "text/x-python",
   "name": "python",
   "nbconvert_exporter": "python",
   "pygments_lexer": "ipython3",
   "version": "3.11.4"
  }
 },
 "nbformat": 4,
 "nbformat_minor": 5
}
