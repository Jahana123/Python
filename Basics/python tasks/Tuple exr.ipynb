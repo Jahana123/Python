{
 "cells": [
  {
   "cell_type": "markdown",
   "id": "2e918cf6",
   "metadata": {},
   "source": [
    "# Python tuple"
   ]
  },
  {
   "cell_type": "markdown",
   "id": "b47cc050",
   "metadata": {},
   "source": [
    "### 1"
   ]
  },
  {
   "cell_type": "code",
   "execution_count": 7,
   "id": "cc69745a",
   "metadata": {},
   "outputs": [
    {
     "name": "stdout",
     "output_type": "stream",
     "text": [
      "maximum value is : 56\n",
      "minimum value is : 4\n"
     ]
    }
   ],
   "source": [
    "mytuple=(32,23,9,4,15,56)\n",
    "print(\"maximum value is :\",max(mytuple))\n",
    "print(\"minimum value is :\",min(mytuple))"
   ]
  },
  {
   "cell_type": "markdown",
   "id": "63b6a101",
   "metadata": {},
   "source": [
    "### 2"
   ]
  },
  {
   "cell_type": "code",
   "execution_count": 10,
   "id": "e2b13df1",
   "metadata": {},
   "outputs": [
    {
     "name": "stdout",
     "output_type": "stream",
     "text": [
      "The tuple after concatenation is:  (('hi', 'dear'), ('red', 'rose'), ('big', 'tree'))\n"
     ]
    }
   ],
   "source": [
    "tuple1=(\"hi\",\"red\",\"big\")\n",
    "tuple2=(\"dear\",\"rose\",\"tree\")\n",
    "concat=zip(tuple1,tuple2)\n",
    "print(\"The tuple after concatenation is: \",tuple(concat))"
   ]
  },
  {
   "cell_type": "markdown",
   "id": "77933b0f",
   "metadata": {},
   "source": [
    "### 3"
   ]
  },
  {
   "cell_type": "code",
   "execution_count": 17,
   "id": "63e4f8f9",
   "metadata": {},
   "outputs": [
    {
     "name": "stdout",
     "output_type": "stream",
     "text": [
      "the number of occurrences of is : 5\n"
     ]
    }
   ],
   "source": [
    "numbers=(1,2,3,4,4,5,4,4,4)\n",
    "y=list(numbers)\n",
    "count=y.count(4) \n",
    "numbers=tuple(y)\n",
    "print(\"the number of occurrences of is :\",count)  "
   ]
  },
  {
   "cell_type": "markdown",
   "id": "af2309b2",
   "metadata": {},
   "source": [
    "### 4"
   ]
  },
  {
   "cell_type": "code",
   "execution_count": 1,
   "id": "2baac76c",
   "metadata": {},
   "outputs": [
    {
     "name": "stdout",
     "output_type": "stream",
     "text": [
      " dictionary is:  {'Rahul': 12, 'Anu': 10, 'Sara': 15}\n"
     ]
    }
   ],
   "source": [
    "tup=[(\"Rahul\",12),(\"Anu\",10),(\"Sara\",15)]\n",
    "dictionary=dict(tup)\n",
    "print(\" dictionary is: \",dictionary)\n"
   ]
  },
  {
   "cell_type": "markdown",
   "id": "f0098128",
   "metadata": {},
   "source": [
    "### 5"
   ]
  },
  {
   "cell_type": "code",
   "execution_count": 4,
   "id": "96d4e525",
   "metadata": {},
   "outputs": [
    {
     "name": "stdout",
     "output_type": "stream",
     "text": [
      "Enter the slice size: 2\n",
      "[(1, 2)]\n",
      "[(1, 2), (3, 4)]\n",
      "[(1, 2), (3, 4), (5, 6)]\n"
     ]
    }
   ],
   "source": [
    "tup=(1,2,3,4,5,6)\n",
    "x=int(input(\"Enter the slice size: \"))\n",
    "sub_tuples=[]\n",
    "for i in range(0,len(tup),x):\n",
    "    sub_tup=tup[i:i+x]\n",
    "    sub_tuples.append(sub_tup)\n",
    "    print(sub_tuples)"
   ]
  },
  {
   "cell_type": "markdown",
   "id": "e3471662",
   "metadata": {},
   "source": [
    "### 6"
   ]
  },
  {
   "cell_type": "code",
   "execution_count": 2,
   "id": "bd904920",
   "metadata": {},
   "outputs": [
    {
     "name": "stdout",
     "output_type": "stream",
     "text": [
      "nested tuple is:  ((1, 2), (4, 8), (3, 9))\n",
      "accessed element is:  9\n"
     ]
    }
   ],
   "source": [
    "tuple1=(1,2),\n",
    "tuple2=(4,8),\n",
    "tuple3=(3,9),\n",
    "x=tuple1+tuple2+tuple3\n",
    "print(\"nested tuple is: \",x)\n",
    "x=x[2][1]\n",
    "print(\"accessed element is: \",x)"
   ]
  },
  {
   "cell_type": "markdown",
   "id": "61b71655",
   "metadata": {},
   "source": [
    "### 7"
   ]
  },
  {
   "cell_type": "code",
   "execution_count": 13,
   "id": "065d763a",
   "metadata": {},
   "outputs": [
    {
     "name": "stdout",
     "output_type": "stream",
     "text": [
      "('mango', 'apple', 'cherry')\n"
     ]
    }
   ],
   "source": [
    "x=(\"mango\",\"apple\",\"banana\",\"cherry\")\n",
    "y=list(x)\n",
    "y.remove(\"banana\")\n",
    "x=tuple(y)\n",
    "print(x)"
   ]
  },
  {
   "cell_type": "markdown",
   "id": "b7251774",
   "metadata": {},
   "source": [
    "### 8 "
   ]
  },
  {
   "cell_type": "code",
   "execution_count": 3,
   "id": "a7ac993c",
   "metadata": {},
   "outputs": [
    {
     "name": "stdout",
     "output_type": "stream",
     "text": [
      "The merged tuple is:  (1, 2, 3, 2, 4, 'a', 'b', 'c', 'a', 'd')\n",
      "After removing duplicate elements:  (1, 2, 3, 4, 'c', 'd', 'a', 'b')\n"
     ]
    }
   ],
   "source": [
    "a=(1,2,3,2,4)\n",
    "b=(\"a\",\"b\",\"c\",\"a\",\"d\")\n",
    "c=a+b\n",
    "print(\"The merged tuple is: \",c)\n",
    "d=tuple(set(c))\n",
    "print(\"After removing duplicate elements: \",d)"
   ]
  },
  {
   "cell_type": "markdown",
   "id": "2b2493e9",
   "metadata": {},
   "source": [
    " ### 9"
   ]
  },
  {
   "cell_type": "code",
   "execution_count": 4,
   "id": "9718279d",
   "metadata": {},
   "outputs": [
    {
     "name": "stdout",
     "output_type": "stream",
     "text": [
      "melon\n",
      "orange\n",
      "['apple', 'beetroot', 'carrot']\n",
      "banana\n"
     ]
    }
   ],
   "source": [
    "my_tuple=(\"melon\",\"orange\",\"apple\",\"beetroot\",\"carrot\",\"banana\")\n",
    "first,second,*third,fourth=my_tuple\n",
    "print(first)\n",
    "print(second)\n",
    "print(third)\n",
    "print(fourth)"
   ]
  },
  {
   "cell_type": "markdown",
   "id": "91daa5da",
   "metadata": {},
   "source": [
    "### 10"
   ]
  },
  {
   "cell_type": "code",
   "execution_count": 7,
   "id": "d826c0d5",
   "metadata": {},
   "outputs": [
    {
     "name": "stdout",
     "output_type": "stream",
     "text": [
      "enter the element to find: 2\n",
      "the index of 2 is 0\n"
     ]
    }
   ],
   "source": [
    "tuple1=(2,4,6,8,6,4,2,8)\n",
    "x=int(input(\"enter the element to find: \"))\n",
    "y=tuple1.index(x)\n",
    "print(\"the index of\",x,\"is\",y)"
   ]
  },
  {
   "cell_type": "code",
   "execution_count": null,
   "id": "ce3d5f0d",
   "metadata": {},
   "outputs": [],
   "source": []
  }
 ],
 "metadata": {
  "kernelspec": {
   "display_name": "Python 3 (ipykernel)",
   "language": "python",
   "name": "python3"
  },
  "language_info": {
   "codemirror_mode": {
    "name": "ipython",
    "version": 3
   },
   "file_extension": ".py",
   "mimetype": "text/x-python",
   "name": "python",
   "nbconvert_exporter": "python",
   "pygments_lexer": "ipython3",
   "version": "3.11.4"
  }
 },
 "nbformat": 4,
 "nbformat_minor": 5
}
