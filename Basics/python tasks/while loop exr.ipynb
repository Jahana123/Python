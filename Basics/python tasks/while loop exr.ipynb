{
 "cells": [
  {
   "cell_type": "markdown",
   "id": "ab99691e",
   "metadata": {},
   "source": [
    "# While loop"
   ]
  },
  {
   "cell_type": "markdown",
   "id": "5890a3cf",
   "metadata": {},
   "source": [
    "### 1"
   ]
  },
  {
   "cell_type": "code",
   "execution_count": 3,
   "id": "2266d7fd",
   "metadata": {},
   "outputs": [
    {
     "name": "stdout",
     "output_type": "stream",
     "text": [
      "7\n",
      "14\n",
      "21\n",
      "28\n",
      "35\n",
      "42\n",
      "49\n",
      "finished\n"
     ]
    }
   ],
   "source": [
    "i=1\n",
    "n=7\n",
    "while i<=n:\n",
    "    print(7*i)\n",
    "    i+=1\n",
    "print(\"finished\")"
   ]
  },
  {
   "cell_type": "markdown",
   "id": "7ddff17b",
   "metadata": {},
   "source": [
    "### 2"
   ]
  },
  {
   "cell_type": "code",
   "execution_count": 2,
   "id": "7b83dd30",
   "metadata": {},
   "outputs": [
    {
     "name": "stdout",
     "output_type": "stream",
     "text": [
      "The sum of numbers is:  30\n"
     ]
    }
   ],
   "source": [
    "list1=[2,4,6,8,10]\n",
    "total=0\n",
    "i=0\n",
    "while i<len(list1):\n",
    "    total+=list1[i]\n",
    "    i+=1\n",
    "print(\"The sum of numbers is: \",total)"
   ]
  },
  {
   "cell_type": "markdown",
   "id": "d94e1490",
   "metadata": {},
   "source": [
    "### 3"
   ]
  },
  {
   "cell_type": "code",
   "execution_count": 6,
   "id": "c635c381",
   "metadata": {},
   "outputs": [
    {
     "name": "stdout",
     "output_type": "stream",
     "text": [
      "positive numbers are:  [1, 2, 3, 6, 8]\n",
      "negative numbers are:  [-1, -2, -4, -5, -7]\n"
     ]
    }
   ],
   "source": [
    "list1=[1,2,-1,-2,3,6,8,-4,-5,-7]\n",
    "pos=[]\n",
    "neg=[]\n",
    "i=0\n",
    "while i<len(list1):\n",
    "    if list1[i]>=0:\n",
    "        pos.append(list1[i])\n",
    "    else:\n",
    "        neg.append(list1[i])\n",
    "    i+=1\n",
    "print(\"positive numbers are: \",pos)\n",
    "print(\"negative numbers are: \",neg)"
   ]
  },
  {
   "cell_type": "markdown",
   "id": "79b6156a",
   "metadata": {},
   "source": [
    "### 4"
   ]
  },
  {
   "cell_type": "code",
   "execution_count": 8,
   "id": "9443eca5",
   "metadata": {},
   "outputs": [
    {
     "name": "stdout",
     "output_type": "stream",
     "text": [
      "the list is:  [2, 4, 6, 8, 10]\n",
      "the square of each number is:  [4, 16, 36, 64, 100]\n"
     ]
    }
   ],
   "source": [
    "list1=[2,4,6,8,10]\n",
    "print(\"the list is: \",list1)\n",
    "i=0\n",
    "list2=[]\n",
    "while i<len(list1):\n",
    "    x=list1[i]*list1[i]\n",
    "    list2.append(x)\n",
    "    i+=1\n",
    "print(\"the square of each number is: \",list2)"
   ]
  },
  {
   "cell_type": "markdown",
   "id": "013ea0ab",
   "metadata": {},
   "source": [
    "### 5"
   ]
  },
  {
   "cell_type": "code",
   "execution_count": 8,
   "id": "78266ec0",
   "metadata": {},
   "outputs": [
    {
     "name": "stdout",
     "output_type": "stream",
     "text": [
      "Enter a word: jahana\n",
      "the reversed word is:   anahaj\n"
     ]
    }
   ],
   "source": [
    "x=input(\"Enter a word: \")\n",
    "rev=\" \"\n",
    "i=len(x)-1\n",
    "while i>=0:\n",
    "    rev+=x[i]\n",
    "    i-=1\n",
    "print(\"the reversed word is: \",rev)"
   ]
  },
  {
   "cell_type": "markdown",
   "id": "89433444",
   "metadata": {},
   "source": [
    "### 6"
   ]
  },
  {
   "cell_type": "code",
   "execution_count": 9,
   "id": "ced7cd0e",
   "metadata": {},
   "outputs": [
    {
     "name": "stdout",
     "output_type": "stream",
     "text": [
      "even numbers:  [2, 4, 6, 8, 10]\n",
      "odd numbers:  [1, 3, 5, 7, 9]\n"
     ]
    }
   ],
   "source": [
    "list1=[1,2,3,4,5,6,7,8,9,10]\n",
    "even=[]\n",
    "odd=[]\n",
    "i=0\n",
    "while i<len(list1):\n",
    "    if list1[i]%2==0:\n",
    "        even.append(list1[i])\n",
    "    else:\n",
    "        odd.append(list1[i])\n",
    "    i+=1\n",
    "print(\"even numbers: \",even)\n",
    "print(\"odd numbers: \",odd)"
   ]
  },
  {
   "cell_type": "markdown",
   "id": "e90b379d",
   "metadata": {},
   "source": [
    "### 7"
   ]
  },
  {
   "cell_type": "code",
   "execution_count": 6,
   "id": "f6399620",
   "metadata": {},
   "outputs": [
    {
     "name": "stdout",
     "output_type": "stream",
     "text": [
      "guess a number: 2\n",
      "your guess is too low!\n",
      "guess a number: 4\n",
      "your guess is too low!\n",
      "guess a number: 8\n",
      "your guess is too high!\n",
      "guess a number: 6\n",
      "congratulations!...you guessed it right\n"
     ]
    }
   ],
   "source": [
    "import random\n",
    "number=random.randrange(1,10)\n",
    "guess=0\n",
    "while guess!=number:\n",
    "    guess=int(input(\"guess a number: \"))\n",
    "    if guess<number:\n",
    "        print(\"your guess is too low!\")\n",
    "    elif guess>number:\n",
    "        print(\"your guess is too high!\")\n",
    "    else:\n",
    "        print(\"congratulations!...you guessed it right\")"
   ]
  },
  {
   "cell_type": "markdown",
   "id": "6f200965",
   "metadata": {},
   "source": [
    "### 8"
   ]
  },
  {
   "cell_type": "code",
   "execution_count": 8,
   "id": "3a0b956d",
   "metadata": {},
   "outputs": [
    {
     "name": "stdout",
     "output_type": "stream",
     "text": [
      "enter a word: madam\n",
      "It is a palindrome\n"
     ]
    }
   ],
   "source": [
    "x=input(\"enter a word: \")\n",
    "i=0\n",
    "j=len(x)-1\n",
    "while i<j:\n",
    "    if x[i]!=x[j]:\n",
    "        print(\"It is not a palindrome\")\n",
    "        break\n",
    "    i+=1\n",
    "    j-=1\n",
    "else:\n",
    "        print(\"It is a palindrome\")\n",
    "    "
   ]
  },
  {
   "cell_type": "markdown",
   "id": "e12f18d0",
   "metadata": {},
   "source": [
    "### 9"
   ]
  },
  {
   "cell_type": "code",
   "execution_count": 10,
   "id": "147db21f",
   "metadata": {},
   "outputs": [
    {
     "name": "stdout",
     "output_type": "stream",
     "text": [
      "Enter a number:8\n",
      "8  x  1  =  8\n",
      "8  x  2  =  16\n",
      "8  x  3  =  24\n",
      "8  x  4  =  32\n",
      "8  x  5  =  40\n",
      "8  x  6  =  48\n",
      "8  x  7  =  56\n",
      "8  x  8  =  64\n",
      "8  x  9  =  72\n",
      "8  x  10  =  80\n"
     ]
    }
   ],
   "source": [
    "n=int(input(\"Enter a number:\"))\n",
    "i=1\n",
    "while i<=10:\n",
    "    print(n,\" x \",i,\" = \",n*i)\n",
    "    i+=1"
   ]
  },
  {
   "cell_type": "markdown",
   "id": "2813aab4",
   "metadata": {},
   "source": [
    "### 10"
   ]
  },
  {
   "cell_type": "code",
   "execution_count": 11,
   "id": "0b40732b",
   "metadata": {},
   "outputs": [
    {
     "name": "stdout",
     "output_type": "stream",
     "text": [
      "Enter a number: 5\n",
      "It is a prime number\n"
     ]
    }
   ],
   "source": [
    "number=int(input(\"Enter a number: \"))\n",
    "i=2\n",
    "f=0\n",
    "while i<=number/2:\n",
    "    if number % i == 0:\n",
    "        f=1\n",
    "        break\n",
    "    i+=1\n",
    "if f==0:\n",
    "    print(\"It is a prime number\")\n",
    "else:\n",
    "    print(\"It is not a prime number\")"
   ]
  },
  {
   "cell_type": "markdown",
   "id": "356a3d14",
   "metadata": {},
   "source": [
    "### 11"
   ]
  },
  {
   "cell_type": "code",
   "execution_count": 13,
   "id": "b3951638",
   "metadata": {},
   "outputs": [
    {
     "name": "stdout",
     "output_type": "stream",
     "text": [
      "enter the base: 5\n",
      "Enter the exponent: 4\n",
      "5 raised to the power of 4 is : 625\n"
     ]
    }
   ],
   "source": [
    "base=int(input(\"enter the base: \"))\n",
    "exponent=int(input(\"Enter the exponent: \"))\n",
    "result=1\n",
    "i=1\n",
    "while i<=exponent:\n",
    "    result*=base\n",
    "    i+=1\n",
    "print(f\"{base} raised to the power of {exponent} is : {result}\")"
   ]
  },
  {
   "cell_type": "markdown",
   "id": "2a3227ca",
   "metadata": {},
   "source": [
    "### 12"
   ]
  },
  {
   "cell_type": "code",
   "execution_count": 14,
   "id": "64b4911f",
   "metadata": {},
   "outputs": [
    {
     "name": "stdout",
     "output_type": "stream",
     "text": [
      "Enter a number: 1634\n",
      "It is an armstrong number\n"
     ]
    }
   ],
   "source": [
    "num=int(input(\"Enter a number: \"))\n",
    "order=len(str(num))\n",
    "sum=0\n",
    "temp=num\n",
    "while temp>0:\n",
    "    digit=temp%10\n",
    "    sum=sum+digit**order\n",
    "    temp//=10\n",
    "if num==sum:\n",
    "    print(\"It is an armstrong number\")\n",
    "else:\n",
    "    print(\"It is not an armstrong number\")\n",
    "        "
   ]
  },
  {
   "cell_type": "markdown",
   "id": "9c235826",
   "metadata": {},
   "source": [
    "### 13"
   ]
  },
  {
   "cell_type": "code",
   "execution_count": 16,
   "id": "0a86e292",
   "metadata": {},
   "outputs": [
    {
     "name": "stdout",
     "output_type": "stream",
     "text": [
      "Enter a number: 36\n",
      "Enter a number: 60\n",
      "The GCD of two numbers is:  12\n"
     ]
    }
   ],
   "source": [
    "a=int(input(\"Enter a number: \"))\n",
    "b=int(input(\"Enter a number: \"))\n",
    "while b!=0:\n",
    "    temp=b\n",
    "    b=a%b\n",
    "    a=temp\n",
    "print(\"The GCD of two numbers is: \",a)\n",
    "    \n",
    "    "
   ]
  },
  {
   "cell_type": "code",
   "execution_count": 8,
   "id": "587d1da7",
   "metadata": {},
   "outputs": [
    {
     "name": "stdout",
     "output_type": "stream",
     "text": [
      "Enter a number: 56\n",
      "Enter a number: 98\n",
      "The GCD of two numbers is:  14\n"
     ]
    }
   ],
   "source": [
    "a=int(input(\"Enter a number: \"))\n",
    "b=int(input(\"Enter a number: \"))\n",
    "while a!=b:\n",
    "    if a>b:\n",
    "        a=a-b\n",
    "    else:\n",
    "        b=b-a\n",
    "print(\"The GCD of two numbers is: \",a)       "
   ]
  },
  {
   "cell_type": "markdown",
   "id": "4ba9b92f",
   "metadata": {},
   "source": [
    "### 14"
   ]
  },
  {
   "cell_type": "code",
   "execution_count": 1,
   "id": "86b8497c",
   "metadata": {},
   "outputs": [
    {
     "name": "stdout",
     "output_type": "stream",
     "text": [
      "Largest element in this list is:  679\n"
     ]
    }
   ],
   "source": [
    "list1=[124,223,436,679,656,234,567]\n",
    "i=0\n",
    "larg=list1[i]\n",
    "while i<len(list1):\n",
    "    if list1[i]>larg:\n",
    "        larg=list1[i]\n",
    "    i+=1\n",
    "print(\"Largest element in this list is: \",larg)"
   ]
  },
  {
   "cell_type": "markdown",
   "id": "7565298c",
   "metadata": {},
   "source": [
    "### 15"
   ]
  },
  {
   "cell_type": "code",
   "execution_count": 1,
   "id": "39df6d30",
   "metadata": {},
   "outputs": [
    {
     "name": "stdout",
     "output_type": "stream",
     "text": [
      "*\n",
      "**\n",
      "***\n",
      "****\n",
      "*****\n"
     ]
    }
   ],
   "source": [
    "row=1\n",
    "while row<=5:\n",
    "    col=1\n",
    "    while col<=row:\n",
    "        print(\"*\",end='')\n",
    "        col+=1\n",
    "    print()\n",
    "    row+=1"
   ]
  },
  {
   "cell_type": "code",
   "execution_count": 1,
   "id": "ef0b1eb9",
   "metadata": {},
   "outputs": [
    {
     "name": "stdout",
     "output_type": "stream",
     "text": [
      "*****\n",
      "****\n",
      "***\n",
      "**\n",
      "*\n"
     ]
    }
   ],
   "source": [
    "row = 5\n",
    "while row >= 1:\n",
    "    col = 1\n",
    "    while col <= row:\n",
    "        print(\"*\", end='')\n",
    "        col += 1\n",
    "    print()\n",
    "    row -= 1\n"
   ]
  },
  {
   "cell_type": "markdown",
   "id": "c3f632e4",
   "metadata": {},
   "source": [
    "### 16"
   ]
  },
  {
   "cell_type": "code",
   "execution_count": 16,
   "id": "58bb9dc6",
   "metadata": {},
   "outputs": [
    {
     "name": "stdout",
     "output_type": "stream",
     "text": [
      "Enter number: 2001\n",
      "The number of digits in this number are:  4\n"
     ]
    }
   ],
   "source": [
    "n=int(input(\"Enter number: \"))\n",
    "count=0\n",
    "while n>0:\n",
    "    n=n//10\n",
    "    count+=1\n",
    "print(\"The number of digits in this number are: \",count)"
   ]
  },
  {
   "cell_type": "code",
   "execution_count": null,
   "id": "85aceda9",
   "metadata": {},
   "outputs": [],
   "source": []
  }
 ],
 "metadata": {
  "kernelspec": {
   "display_name": "Python 3 (ipykernel)",
   "language": "python",
   "name": "python3"
  },
  "language_info": {
   "codemirror_mode": {
    "name": "ipython",
    "version": 3
   },
   "file_extension": ".py",
   "mimetype": "text/x-python",
   "name": "python",
   "nbconvert_exporter": "python",
   "pygments_lexer": "ipython3",
   "version": "3.11.4"
  }
 },
 "nbformat": 4,
 "nbformat_minor": 5
}
