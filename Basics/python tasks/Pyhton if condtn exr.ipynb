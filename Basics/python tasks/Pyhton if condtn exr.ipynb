{
 "cells": [
  {
   "cell_type": "markdown",
   "id": "2f1d074a",
   "metadata": {},
   "source": [
    "## If condition"
   ]
  },
  {
   "cell_type": "markdown",
   "id": "af4d4226",
   "metadata": {},
   "source": [
    "### 1"
   ]
  },
  {
   "cell_type": "code",
   "execution_count": 17,
   "id": "98a30df2",
   "metadata": {},
   "outputs": [
    {
     "name": "stdout",
     "output_type": "stream",
     "text": [
      "Enter an integer: -3\n",
      "it is negative.\n"
     ]
    }
   ],
   "source": [
    "a=int(input(\"Enter an integer: \"))\n",
    "if a>=0:\n",
    "    if a==0:\n",
    "        print(\"it is zero.\")\n",
    "    else:\n",
    "        print(\"it is positive.\")\n",
    "else: \n",
    "    print(\"it is negative.\")"
   ]
  },
  {
   "cell_type": "markdown",
   "id": "10f976bd",
   "metadata": {},
   "source": [
    "### 2"
   ]
  },
  {
   "cell_type": "code",
   "execution_count": 5,
   "id": "e7badb6c",
   "metadata": {},
   "outputs": [
    {
     "name": "stdout",
     "output_type": "stream",
     "text": [
      "Enter the score: 85\n",
      "grade is B.\n"
     ]
    }
   ],
   "source": [
    "x=int(input(\"Enter the score: \"))\n",
    "if x>=90:\n",
    "    print(\"grade is A.\")\n",
    "elif x>=80 and x<=89:\n",
    "    print(\"grade is B.\")\n",
    "elif x>=70 and x<=79:\n",
    "    print(\"grade is C.\")\n",
    "elif x>=60 and x<=69:\n",
    "    print(\"grade is D.\")\n",
    "else:\n",
    "    print(\"grade is F.\") \n",
    "\n",
    "                \n",
    "                \n"
   ]
  },
  {
   "cell_type": "markdown",
   "id": "b60c7c0d",
   "metadata": {},
   "source": [
    "### 8"
   ]
  },
  {
   "cell_type": "code",
   "execution_count": 6,
   "id": "07064ded",
   "metadata": {},
   "outputs": [
    {
     "name": "stdout",
     "output_type": "stream",
     "text": [
      "Enter your age: 22\n",
      "your age group is adult.\n"
     ]
    }
   ],
   "source": [
    "a=int(input(\"Enter your age: \"))\n",
    "if a>=0 and a<=12:\n",
    "    print(\"Your age group is child.\")\n",
    "elif a>=13 and a<=19: \n",
    "    print(\"your age group is teenager.\")\n",
    "elif a>=20 and a<=59:\n",
    "    print(\"your age group is adult.\")\n",
    "else:\n",
    "    print(\"your agre group is senior.\")\n",
    "                \n",
    "                    "
   ]
  },
  {
   "cell_type": "markdown",
   "id": "fd7956b1",
   "metadata": {},
   "source": [
    "### 9"
   ]
  },
  {
   "cell_type": "code",
   "execution_count": 7,
   "id": "db4cb970",
   "metadata": {},
   "outputs": [
    {
     "name": "stdout",
     "output_type": "stream",
     "text": [
      "enter a number: 29\n",
      "enter a number: 22\n",
      "enter a number: 18\n",
      "the largest number is:  29\n"
     ]
    }
   ],
   "source": [
    "num1=int(input(\"enter a number: \"))\n",
    "num2=int(input(\"enter a number: \"))\n",
    "num3=int(input(\"enter a number: \"))\n",
    "if num1>=num2 and num1>=num3:\n",
    "    largest=num1\n",
    "elif num2>=num1 and num2>=num3:\n",
    "    largest=num2\n",
    "else:\n",
    "    largest=num3\n",
    "print(\"the largest number is: \",largest)"
   ]
  },
  {
   "cell_type": "markdown",
   "id": "0e77484b",
   "metadata": {},
   "source": [
    "### 10"
   ]
  },
  {
   "cell_type": "code",
   "execution_count": 2,
   "id": "f6130736",
   "metadata": {},
   "outputs": [
    {
     "name": "stdout",
     "output_type": "stream",
     "text": [
      "enter length of side a: 12\n",
      "enter length of side b: 5\n",
      "enter length of side c: 8\n",
      " The traingle is valid.\n"
     ]
    }
   ],
   "source": [
    "a=float(input(\"enter length of side a: \"))\n",
    "b=float(input(\"enter length of side b: \"))\n",
    "c=float(input(\"enter length of side c: \"))\n",
    "if a+b>c:\n",
    "     print(\" The traingle is valid.\")\n",
    "elif b+c>a:\n",
    "     print(\" The traingle is valid.\")\n",
    "elif c+a>b:\n",
    "     print(\" The traingle is valid.\")\n",
    "else:\n",
    "     print(\" the triangle is invalid.\") \n",
    "    "
   ]
  },
  {
   "cell_type": "markdown",
   "id": "3fdd78f0",
   "metadata": {},
   "source": [
    "### 11"
   ]
  },
  {
   "cell_type": "code",
   "execution_count": 11,
   "id": "28e39015",
   "metadata": {},
   "outputs": [
    {
     "name": "stdout",
     "output_type": "stream",
     "text": [
      "Enter the time(HH:MM): 14:30\n",
      "Time in 12 hour format is:  2 : 30 PM\n"
     ]
    }
   ],
   "source": [
    "time_24=input(\"Enter the time(HH:MM): \")\n",
    "hour,minute=map(int,time_24.split(\":\"))\n",
    "if (hour>=12):\n",
    "    period=\"PM\"\n",
    "    if (hour>12):\n",
    "        hour=hour-12\n",
    "    else:\n",
    "        period=\"AM\"\n",
    "        if(hour==0):\n",
    "            hour=12\n",
    "    print(\"Time in 12 hour format is: \",hour,':',minute  , period)\n",
    "        "
   ]
  },
  {
   "cell_type": "markdown",
   "id": "f721f6e7",
   "metadata": {},
   "source": [
    "### 12"
   ]
  },
  {
   "cell_type": "code",
   "execution_count": 7,
   "id": "e1c85452",
   "metadata": {},
   "outputs": [
    {
     "name": "stdout",
     "output_type": "stream",
     "text": [
      "Enter a character: E\n",
      "The character E is a vowel.\n"
     ]
    }
   ],
   "source": [
    "char=input(\"Enter a character: \")\n",
    "vowels=['A','E','I','O','U','a','e','i','o','u']\n",
    "if char in vowels:\n",
    "    print(\"The character\", char ,\"is a vowel.\")\n",
    "elif char.isalpha():\n",
    "    print(\"The character\" ,char, \"is a consonant.\")\n",
    "else:\n",
    "    print(\"The character\" ,char ,\"is neither a vowel nor a consonant.\")"
   ]
  },
  {
   "cell_type": "markdown",
   "id": "0ca1e82f",
   "metadata": {},
   "source": [
    "### 13"
   ]
  },
  {
   "cell_type": "code",
   "execution_count": 3,
   "id": "b1c02a18",
   "metadata": {},
   "outputs": [
    {
     "name": "stdout",
     "output_type": "stream",
     "text": [
      "pairs whose sum is:  10\n",
      "(1, 9)\n",
      "(2, 8)\n",
      "(4, 6)\n",
      "(3, 7)\n"
     ]
    }
   ],
   "source": [
    "arr=[1,2,4,3,7,5,8,6,9,10]\n",
    "n=len(arr)\n",
    "sum=10\n",
    "print(\"pairs whose sum is: \",sum)\n",
    "for i in range(0,n):\n",
    "    for j in range(i+1,n):\n",
    "        if((arr[i]+arr[j]==sum)):\n",
    "             print((arr[i],arr[j]))          \n",
    "        "
   ]
  },
  {
   "cell_type": "markdown",
   "id": "268176e4",
   "metadata": {},
   "source": [
    "### 14"
   ]
  },
  {
   "cell_type": "code",
   "execution_count": 9,
   "id": "1d3cd024",
   "metadata": {},
   "outputs": [
    {
     "name": "stdout",
     "output_type": "stream",
     "text": [
      "The array after sorting:  [-4, -3, 1, 2, 4, 6]\n",
      "Largest product of three elements is:  72\n"
     ]
    }
   ],
   "source": [
    "arr=[6,1,2,4,-3,-4]              \n",
    "arr.sort()\n",
    "print(\"The array after sorting: \",arr)\n",
    "n=len(arr)\n",
    "if (max_prod==max(arr[0]*arr[1]*arr[n-1],arr[n-3]*arr[n-2]*arr[n-1])):\n",
    "    print(\"Largest product of three elements is: \",max_prod)\n"
   ]
  },
  {
   "cell_type": "code",
   "execution_count": 11,
   "id": "e03839fb",
   "metadata": {},
   "outputs": [],
   "source": []
  },
  {
   "cell_type": "code",
   "execution_count": null,
   "id": "685b2693",
   "metadata": {},
   "outputs": [],
   "source": []
  }
 ],
 "metadata": {
  "kernelspec": {
   "display_name": "Python 3 (ipykernel)",
   "language": "python",
   "name": "python3"
  },
  "language_info": {
   "codemirror_mode": {
    "name": "ipython",
    "version": 3
   },
   "file_extension": ".py",
   "mimetype": "text/x-python",
   "name": "python",
   "nbconvert_exporter": "python",
   "pygments_lexer": "ipython3",
   "version": "3.11.4"
  }
 },
 "nbformat": 4,
 "nbformat_minor": 5
}
