{
 "cells": [
  {
   "cell_type": "markdown",
   "id": "703db783",
   "metadata": {},
   "source": [
    "## For loop"
   ]
  },
  {
   "cell_type": "markdown",
   "id": "0a94c88e",
   "metadata": {},
   "source": [
    "### 1"
   ]
  },
  {
   "cell_type": "code",
   "execution_count": 7,
   "id": "715a6274",
   "metadata": {},
   "outputs": [
    {
     "name": "stdout",
     "output_type": "stream",
     "text": [
      "(4, 6)\n",
      "(3, 7)\n",
      "(5, 5)\n",
      "(1, 9)\n"
     ]
    }
   ],
   "source": [
    "arr=[2,4,3,5,6,7,1,9,10,12,5]\n",
    "n=len(arr)\n",
    "sum1=10\n",
    "for i in range(0,n):\n",
    "    for j in range(i+1,n):\n",
    "        if arr[i]+arr[j]==sum1:\n",
    "            print((arr[i],arr[j]))"
   ]
  },
  {
   "cell_type": "markdown",
   "id": "2ee03f89",
   "metadata": {},
   "source": [
    "### 2"
   ]
  },
  {
   "cell_type": "code",
   "execution_count": 1,
   "id": "a8ef8827",
   "metadata": {},
   "outputs": [
    {
     "name": "stdout",
     "output_type": "stream",
     "text": [
      "median of the unsorted list is :  7.5\n"
     ]
    }
   ],
   "source": [
    "list1=[4,2,9,6,5,1]\n",
    "n=len(list1)\n",
    "for i in range(0,n):\n",
    "    if n%2==0:\n",
    "        mid=n//2\n",
    "        result=(list1[mid]+list1[mid-1])/2\n",
    "    else:\n",
    "        result=list1[mid]\n",
    "print(\"median of the unsorted list is : \",result)"
   ]
  },
  {
   "cell_type": "markdown",
   "id": "a9e446df",
   "metadata": {},
   "source": [
    "### 3"
   ]
  },
  {
   "cell_type": "code",
   "execution_count": 7,
   "id": "6f17d97e",
   "metadata": {},
   "outputs": [
    {
     "name": "stdout",
     "output_type": "stream",
     "text": [
      "The longest increasing subsequence is:  [1, 2, 7]\n"
     ]
    }
   ],
   "source": [
    "def longest_incresing_subsequence(arr):\n",
    "    if not arr:\n",
    "        return []\n",
    "    n=len(arr)\n",
    "    lis=[1]*n                                         #longest increasing subsequence\n",
    "    for i in range(1,n):\n",
    "        for j in range(0,i):\n",
    "            if arr[i]>arr[j] and lis[i]<lis[j]+1:\n",
    "                lis[i]=lis[j]+1\n",
    "    max_len=max(lis)\n",
    "    max_index=lis.index(max_len)\n",
    "    result=[]\n",
    "    for i in  range(max_index,-1,-1):\n",
    "                    if lis[i]==max_len:\n",
    "                        result.insert(0,arr[i])\n",
    "                        max_len-=1\n",
    "    return result\n",
    "        \n",
    "arr=[1,5,2,7,3]\n",
    "print( \"The longest increasing subsequence is: \",longest_incresing_subsequence(arr))\n"
   ]
  },
  {
   "cell_type": "markdown",
   "id": "64efa2bc",
   "metadata": {},
   "source": [
    "### 4"
   ]
  },
  {
   "cell_type": "code",
   "execution_count": 12,
   "id": "15a1ce35",
   "metadata": {},
   "outputs": [
    {
     "name": "stdout",
     "output_type": "stream",
     "text": [
      "The 2th smallest element is:  4\n"
     ]
    }
   ],
   "source": [
    "arr=[7,10,4,3,20,15]\n",
    "k=2\n",
    "for i in range(k):\n",
    "        for j in range(i+1, len(arr)):\n",
    "            if arr[i] > arr[j]:\n",
    "                arr[i], arr[j] = arr[j], arr[i]\n",
    "print(f\"The {k}th smallest element is:  {arr[k-1]}\")\n",
    "    "
   ]
  },
  {
   "cell_type": "markdown",
   "id": "000b0cb1",
   "metadata": {},
   "source": [
    "### 5"
   ]
  },
  {
   "cell_type": "code",
   "execution_count": 13,
   "id": "8eafeb3a",
   "metadata": {},
   "outputs": [
    {
     "name": "stdout",
     "output_type": "stream",
     "text": [
      "the list before sorting:  [3, 7, 2, 18, 8, 4, 5, 1, 9, 6]\n",
      "the list after bubble sorting is:  [1, 2, 3, 4, 5, 6, 7, 8, 9, 18]\n"
     ]
    }
   ],
   "source": [
    "def bubble_sort(list1):\n",
    "    n = len(list1)\n",
    "    for i in range(n):\n",
    "        for j in range(0, n-i-1):\n",
    "            if list1[j] > list1[j+1]:\n",
    "                list1[j], list1[j+1] = list1[j+1], list1[j]\n",
    "list1 = [3, 7, 2,18, 8, 4, 5,1,9,6]\n",
    "print(\"the list before sorting: \",list1)\n",
    "bubble_sort(list1)\n",
    "print(\"the list after bubble sorting is: \",list1)"
   ]
  },
  {
   "cell_type": "markdown",
   "id": "24bd50a8",
   "metadata": {},
   "source": [
    "### 6"
   ]
  },
  {
   "cell_type": "code",
   "execution_count": 16,
   "id": "e23dd9d8",
   "metadata": {},
   "outputs": [
    {
     "name": "stdout",
     "output_type": "stream",
     "text": [
      "7 found at index 4\n"
     ]
    }
   ],
   "source": [
    "def binary_search(arr,x):\n",
    "    left,right=0,len(arr)-1\n",
    "    for i in range(len(arr)):\n",
    "        mid = (left+right) // 2\n",
    "        if arr[mid]==x:\n",
    "            print(x,\"found at index\",mid)\n",
    "            break\n",
    "        elif arr[mid] < x:\n",
    "            left=mid+1\n",
    "        else:\n",
    "            right=mid-1\n",
    "    else:\n",
    "        print('not found')\n",
    "arr =[2,4,5,6,7,8,9,10,12]\n",
    "x =7\n",
    "binary_search(arr,x)\n"
   ]
  },
  {
   "cell_type": "markdown",
   "id": "e04e05a1",
   "metadata": {},
   "source": [
    "### 7"
   ]
  },
  {
   "cell_type": "code",
   "execution_count": 19,
   "id": "e8a90a47",
   "metadata": {},
   "outputs": [
    {
     "name": "stdout",
     "output_type": "stream",
     "text": [
      "The array is:  [-5, -4, -3, 1, 2, 4, 6]\n",
      "the largest product of any three elements in a given array is:  120\n"
     ]
    }
   ],
   "source": [
    "arr=[6,1,2,4,-3,-4,-5]\n",
    "arr.sort()\n",
    "print(\"The array is: \",arr)\n",
    "n=len(arr)\n",
    "if n<3:\n",
    "    print(\"invalid input\")\n",
    "max_product = arr[0] * arr[1] * arr[2]\n",
    "for i in range(n - 2):\n",
    "        for j in range(i + 1, n - 1):\n",
    "            for k in range(j + 1, n):\n",
    "                product = arr[i] * arr[j] * arr[k]\n",
    "                if product > max_product:\n",
    "                    max_product=product                  \n",
    "print( \"the largest product of any three elements in a given array is: \",max_product)"
   ]
  },
  {
   "cell_type": "markdown",
   "id": "0f4d665a",
   "metadata": {},
   "source": [
    "### 8"
   ]
  },
  {
   "cell_type": "code",
   "execution_count": 43,
   "id": "d777c31e",
   "metadata": {},
   "outputs": [
    {
     "name": "stdout",
     "output_type": "stream",
     "text": [
      "largest sum of contiguous subarray is:   7\n",
      "starting index is:  2\n",
      "ending index is:  6\n"
     ]
    }
   ],
   "source": [
    "arr=[-2,-3,4,-1,-2,1,5,-3]\n",
    "n=len(arr)\n",
    "max_sum=-1\n",
    "curr_sum=0\n",
    "start=0\n",
    "end=0\n",
    "s=0\n",
    "for i in range(0,n):\n",
    "    curr_sum=curr_sum+arr[i]\n",
    "    if max_sum<curr_sum:\n",
    "        max_sum=curr_sum\n",
    "        start=s\n",
    "        end=i\n",
    "    if curr_sum<0:\n",
    "            curr_sum=0\n",
    "            s=i+1\n",
    "print(\"largest sum of contiguous subarray is:  \",max_sum)\n",
    "print(\"starting index is: \",start)\n",
    "print(\"ending index is: \",end)"
   ]
  },
  {
   "cell_type": "markdown",
   "id": "b8250d6c",
   "metadata": {},
   "source": [
    "### 9"
   ]
  },
  {
   "cell_type": "code",
   "execution_count": 27,
   "id": "caa24e09",
   "metadata": {},
   "outputs": [
    {
     "name": "stdout",
     "output_type": "stream",
     "text": [
      "the common elements are:  [3, 4, 5, 7]\n"
     ]
    }
   ],
   "source": [
    "a=[1,2,3,4,5,6,7]\n",
    "b=[3,5,7,9,8,4]\n",
    "result=[x for x in a if x in b]\n",
    "print(\"the common elements are: \",result)"
   ]
  },
  {
   "cell_type": "markdown",
   "id": "febe56c4",
   "metadata": {},
   "source": [
    "### 10"
   ]
  },
  {
   "cell_type": "code",
   "execution_count": 22,
   "id": "c30bb43f",
   "metadata": {},
   "outputs": [
    {
     "name": "stdout",
     "output_type": "stream",
     "text": [
      "enter a string: abba baba malayalam shjjhsshjjhs\n",
      "The longest palindrome substring is:  shjjhsshjjhs\n"
     ]
    }
   ],
   "source": [
    "a=input(\"enter a string: \")\n",
    "longest=' '\n",
    "n=len(a)\n",
    "for i in range(n):\n",
    "    for j in range(i+1,n+1):\n",
    "        word=a[i:j]\n",
    "        if word==word[::-1]:\n",
    "            if len(word)>len(longest):\n",
    "                longest=word\n",
    "print(\"The longest palindrome substring is: \",longest)"
   ]
  },
  {
   "cell_type": "code",
   "execution_count": null,
   "id": "e0cdbf21",
   "metadata": {},
   "outputs": [],
   "source": []
  }
 ],
 "metadata": {
  "kernelspec": {
   "display_name": "Python 3 (ipykernel)",
   "language": "python",
   "name": "python3"
  },
  "language_info": {
   "codemirror_mode": {
    "name": "ipython",
    "version": 3
   },
   "file_extension": ".py",
   "mimetype": "text/x-python",
   "name": "python",
   "nbconvert_exporter": "python",
   "pygments_lexer": "ipython3",
   "version": "3.11.4"
  }
 },
 "nbformat": 4,
 "nbformat_minor": 5
}
