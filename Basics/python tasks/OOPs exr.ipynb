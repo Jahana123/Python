{
 "cells": [
  {
   "cell_type": "markdown",
   "id": "2730458f",
   "metadata": {},
   "source": [
    "### Python OOPS exercise 1"
   ]
  },
  {
   "cell_type": "markdown",
   "id": "9b574851",
   "metadata": {},
   "source": [
    "#### 1"
   ]
  },
  {
   "cell_type": "code",
   "execution_count": 2,
   "id": "9267cb68",
   "metadata": {},
   "outputs": [
    {
     "name": "stdout",
     "output_type": "stream",
     "text": [
      "Enter width: 5\n",
      "Enter height: 8\n",
      "Width: 5.0\n",
      "Height: 8.0\n",
      "Area: 40.0\n",
      "Perimeter: 26.0\n"
     ]
    }
   ],
   "source": [
    "\n",
    "class Rectangle:\n",
    "    def __init__(self, width=0, height=0):\n",
    "        self.set_width(width)\n",
    "        self.set_height(height)\n",
    "\n",
    "    def set_width(self, width):\n",
    "        if width < 0:\n",
    "            print(\"Width cannot be negative. Setting width to 0.\")\n",
    "            self._width = 0\n",
    "        else:\n",
    "            self._width = width\n",
    "\n",
    "    def set_height(self, height):\n",
    "        if height < 0:\n",
    "            print(\"Height cannot be negative. Setting height to 0.\")\n",
    "            self._height = 0\n",
    "        else:\n",
    "            self._height = height\n",
    "\n",
    "    def get_width(self):\n",
    "        return self._width\n",
    "\n",
    "    def get_height(self):\n",
    "        return self._height\n",
    "\n",
    "    def area(self):\n",
    "        return self._width * self._height\n",
    "\n",
    "    def perimeter(self):\n",
    "        return 2 * (self._width + self._height)\n",
    "\n",
    "    def input_sides(self):\n",
    "        width = float(input(\"Enter width: \"))\n",
    "        height = float(input(\"Enter height: \"))\n",
    "        self.set_width(width)\n",
    "        self.set_height(height)\n",
    "r = Rectangle()\n",
    "r.input_sides()\n",
    "print(\"Width:\", r.get_width())\n",
    "print(\"Height:\", r.get_height())\n",
    "print(\"Area:\", r.area())\n",
    "print(\"Perimeter:\", r.perimeter())\n"
   ]
  },
  {
   "cell_type": "markdown",
   "id": "2b304586",
   "metadata": {},
   "source": [
    "#### 2"
   ]
  },
  {
   "cell_type": "code",
   "execution_count": 5,
   "id": "23b3c4b3",
   "metadata": {},
   "outputs": [
    {
     "name": "stdout",
     "output_type": "stream",
     "text": [
      "Name: Jahana\n",
      "Age: 22\n",
      "Position: Software Engineer\n",
      "Salary: ₹60,000.00\n",
      "\n",
      "After giving a raise:\n",
      "Name: Jahana\n",
      "Age: 22\n",
      "Position: Software Engineer\n",
      "Salary: ₹65,000.00\n"
     ]
    }
   ],
   "source": [
    "class Employee:\n",
    "    def __init__(self, name, age, position, salary):\n",
    "        self.name = name\n",
    "        self.age = age\n",
    "        self.position = position\n",
    "        self.salary = salary\n",
    "\n",
    "    def give_raise(self, amount):\n",
    "        if amount < 0:\n",
    "            raise ValueError(\"Raise amount must be non-negative.\")\n",
    "        self.salary += amount\n",
    "\n",
    "    def print_info(self):\n",
    "        print(f\"Name: {self.name}\")\n",
    "        print(f\"Age: {self.age}\")\n",
    "        print(f\"Position: {self.position}\")\n",
    "        print(f\"Salary: ₹{self.salary:,.2f}\")\n",
    "\n",
    "employee = Employee(\"Jahana\", 22, \"Software Engineer\", 60000)\n",
    "employee.print_info()\n",
    "   \n",
    "employee.give_raise(5000)\n",
    "print(\"\\nAfter giving a raise:\")\n",
    "employee.print_info()\n",
    "    "
   ]
  },
  {
   "cell_type": "markdown",
   "id": "bd3f62fa",
   "metadata": {},
   "source": [
    "#### 3"
   ]
  },
  {
   "cell_type": "code",
   "execution_count": 5,
   "id": "9b381977",
   "metadata": {},
   "outputs": [
    {
     "name": "stdout",
     "output_type": "stream",
     "text": [
      "Addition: 1/2 + 3/4 = 5/4\n",
      "Subtraction: 1/2 - 3/4 = -1/4\n",
      "Multiplication: 1/2 * 3/4 = 3/8\n",
      "Division: 1/2 / 3/4 = 2/3\n"
     ]
    }
   ],
   "source": [
    "from math import gcd\n",
    "\n",
    "class Fraction:\n",
    "    def __init__(self, numerator, denominator):\n",
    "        if denominator == 0:\n",
    "            raise ValueError(\"Denominator cannot be zero.\")\n",
    "        self.numerator = numerator\n",
    "        self.denominator = denominator\n",
    "\n",
    "    def add(self, other):\n",
    "        result_numerator = self.numerator * other.denominator + other.numerator * self.denominator\n",
    "        result_denominator = self.denominator * other.denominator\n",
    "        return Fraction(result_numerator, result_denominator).simplify()\n",
    "\n",
    "    def subtract(self, other):\n",
    "        result_numerator = self.numerator * other.denominator - other.numerator * self.denominator\n",
    "        result_denominator = self.denominator * other.denominator\n",
    "        return Fraction(result_numerator, result_denominator).simplify()\n",
    "\n",
    "    def multiply(self, other):\n",
    "        result_numerator = self.numerator * other.numerator\n",
    "        result_denominator = self.denominator * other.denominator\n",
    "        return Fraction(result_numerator, result_denominator).simplify()\n",
    "\n",
    "    def divide(self, other):\n",
    "        if other.numerator == 0:\n",
    "            raise ValueError(\"Cannot divide by zero.\")\n",
    "        result_numerator = self.numerator * other.denominator\n",
    "        result_denominator = self.denominator * other.numerator\n",
    "        return Fraction(result_numerator, result_denominator).simplify()\n",
    "\n",
    "    def simplify(self):\n",
    "        common_factor = gcd(self.numerator, self.denominator)\n",
    "        return Fraction(self.numerator // common_factor, self.denominator // common_factor)\n",
    "\n",
    "    def __str__(self):\n",
    "        return f\"{self.numerator}/{self.denominator}\"\n",
    "\n",
    "\n",
    "fraction1 = Fraction(1, 2)\n",
    "fraction2 = Fraction(3, 4)\n",
    "\n",
    "addition_result = fraction1.add(fraction2)\n",
    "print(f\"Addition: {fraction1} + {fraction2} = {addition_result}\")\n",
    "\n",
    "subtraction_result = fraction1.subtract(fraction2)\n",
    "print(f\"Subtraction: {fraction1} - {fraction2} = {subtraction_result}\")\n",
    "\n",
    "multiplication_result = fraction1.multiply(fraction2)\n",
    "print(f\"Multiplication: {fraction1} * {fraction2} = {multiplication_result}\")\n",
    "\n",
    "division_result = fraction1.divide(fraction2)\n",
    "print(f\"Division: {fraction1} / {fraction2} = {division_result}\")\n"
   ]
  },
  {
   "cell_type": "markdown",
   "id": "21dcb99c",
   "metadata": {},
   "source": [
    "#### 4"
   ]
  },
  {
   "cell_type": "code",
   "execution_count": 6,
   "id": "0c52986c",
   "metadata": {},
   "outputs": [
    {
     "name": "stdout",
     "output_type": "stream",
     "text": [
      "The age difference between Jahana and Sandra is 2 years.\n"
     ]
    }
   ],
   "source": [
    "class Person:\n",
    "    def __init__(self, name, age):\n",
    "        self.name = name\n",
    "        self.age = age\n",
    "\n",
    "    def age_difference(self, other_person):\n",
    "        return abs(self.age - other_person.age)\n",
    "\n",
    "person1 = Person(\"Jahana\", 22)\n",
    "person2 = Person(\"Sandra\", 24)\n",
    "\n",
    "age_diff = person1.age_difference(person2)\n",
    "print(f\"The age difference between {person1.name} and {person2.name} is {age_diff} years.\")\n"
   ]
  },
  {
   "cell_type": "markdown",
   "id": "f89d6545",
   "metadata": {},
   "source": [
    "#### 5"
   ]
  },
  {
   "cell_type": "code",
   "execution_count": 15,
   "id": "ef9c96cb",
   "metadata": {},
   "outputs": [
    {
     "name": "stdout",
     "output_type": "stream",
     "text": [
      "Songs:  ['Song 1', 'Song 2', 'Song 3']\n",
      "Playlist after removing 'Song 2': ['Song 1', 'Song 3']\n",
      "Shuffled Playlist: ['Song 3', 'Song 1']\n"
     ]
    }
   ],
   "source": [
    "import random\n",
    "\n",
    "class Playlist:\n",
    "    def __init__(self):\n",
    "        self.songs = []\n",
    "\n",
    "    def add_song(self, song):\n",
    "        self.songs.append(song)\n",
    "\n",
    "    def remove_song(self, song):\n",
    "        if song in self.songs:\n",
    "            self.songs.remove(song)\n",
    "        else:\n",
    "            print(f\"{song} is not in the playlist.\")\n",
    "\n",
    "    def shuffle_playlist(self):\n",
    "        random.shuffle(self.songs)\n",
    "\n",
    "playlist = Playlist()\n",
    "\n",
    "playlist.add_song(\"Song 1\")\n",
    "playlist.add_song(\"Song 2\")\n",
    "playlist.add_song(\"Song 3\")\n",
    "\n",
    "print(\"Songs: \",playlist.songs)\n",
    "playlist.remove_song(\"Song 2\")\n",
    "print(\"Playlist after removing 'Song 2':\", playlist.songs)\n",
    "playlist.shuffle_playlist()\n",
    "print(\"Shuffled Playlist:\", playlist.songs)"
   ]
  },
  {
   "cell_type": "markdown",
   "id": "b006d599",
   "metadata": {},
   "source": [
    "#### 6"
   ]
  },
  {
   "cell_type": "code",
   "execution_count": 9,
   "id": "8c51e901",
   "metadata": {},
   "outputs": [
    {
     "name": "stdout",
     "output_type": "stream",
     "text": [
      "Account 1 Balance: ₹1000.00\n",
      "Account 2 Balance: ₹1700.00\n",
      "Transaction History:\n",
      "Deposit: +₹200.00\n",
      "Withdrawal: -₹1000.00\n",
      "Deposit: +₹500.00\n",
      "Transfer to 67890abc: -₹500.00\n",
      "Deposit: +₹300.00\n",
      "Transfer to 12345xyz: -₹300.00\n",
      "Transaction History:\n",
      "Deposit: +₹200.00\n",
      "Withdrawal: -₹1000.00\n",
      "Deposit: +₹500.00\n",
      "Transfer to 67890abc: -₹500.00\n",
      "Deposit: +₹300.00\n",
      "Transfer to 12345xyz: -₹300.00\n"
     ]
    }
   ],
   "source": [
    "class BankAccount:\n",
    "    transaction_history = []\n",
    "\n",
    "    def __init__(self, account_number, balance=0):\n",
    "        self.account_number = account_number\n",
    "        self.balance = balance\n",
    "\n",
    "    def deposit(self, amount):\n",
    "        if amount > 0:\n",
    "            self.balance += amount\n",
    "            self.transaction_history.append(f\"Deposit: +₹{amount:.2f}\")\n",
    "\n",
    "    def withdraw(self, amount):\n",
    "        if 0 < amount <= self.balance:\n",
    "            self.balance -= amount\n",
    "            self.transaction_history.append(f\"Withdrawal: -₹{amount:.2f}\")\n",
    "        else:\n",
    "            print(\"Insufficient funds for withdrawal.\")\n",
    "\n",
    "    def transfer(self, other_account, amount):\n",
    "        if 0 < amount <= self.balance:\n",
    "            self.balance -= amount\n",
    "            other_account.deposit(amount)\n",
    "            self.transaction_history.append(f\"Transfer to {other_account.account_number}: -₹{amount:.2f}\")\n",
    "        else:\n",
    "            print(\"Insufficient funds for transfer.\")\n",
    "\n",
    "    def print_transaction_history(self):\n",
    "        print(\"Transaction History:\")\n",
    "        for transaction in self.transaction_history:\n",
    "            print(transaction)\n",
    "\n",
    "\n",
    "account1 = BankAccount(\"12345xyz\", 2000)\n",
    "account2 = BankAccount(\"67890abc\", 1500)\n",
    "\n",
    "account1.deposit(200)\n",
    "account1.withdraw(1000)\n",
    "account1.transfer(account2, 500)\n",
    "account2.transfer(account1, 300)\n",
    "\n",
    "print(f\"Account 1 Balance: ₹{account1.balance:.2f}\")\n",
    "print(f\"Account 2 Balance: ₹{account2.balance:.2f}\")\n",
    "\n",
    "account1.print_transaction_history()\n",
    "account2.print_transaction_history()\n"
   ]
  },
  {
   "cell_type": "markdown",
   "id": "265ac1ba",
   "metadata": {},
   "source": [
    "#### 7"
   ]
  },
  {
   "cell_type": "code",
   "execution_count": 17,
   "id": "6c971c91",
   "metadata": {},
   "outputs": [
    {
     "name": "stdout",
     "output_type": "stream",
     "text": [
      "Deck: ['Ace of Spades', 'King of Hearts', 'Queen of Diamonds']\n",
      "Shuffled Deck: ['King of Hearts', 'Ace of Spades', 'Queen of Diamonds']\n",
      "Drawn Card: Queen of Diamonds\n"
     ]
    }
   ],
   "source": [
    "import random\n",
    "\n",
    "class Deck:\n",
    "    def __init__(self):\n",
    "        self.cards = []\n",
    "\n",
    "    def shuffle_deck(self):\n",
    "        random.shuffle(self.cards)\n",
    "\n",
    "    def draw_card(self):\n",
    "        if len(self.cards) > 0:\n",
    "            return self.cards.pop()\n",
    "        else:\n",
    "            print(\"Deck is empty. Cannot draw a card.\")\n",
    "\n",
    "    def add_card(self, card):\n",
    "        self.cards.append(card)\n",
    "\n",
    "class Card:\n",
    "    def __init__(self, suit, rank):\n",
    "        self.suit = suit\n",
    "        self.rank = rank\n",
    "\n",
    "deck = Deck()\n",
    "deck.add_card(\"Ace of Spades\")\n",
    "deck.add_card(\"King of Hearts\")\n",
    "deck.add_card(\"Queen of Diamonds\")\n",
    "print(\"Deck:\", deck.cards)\n",
    "deck.shuffle_deck()\n",
    "print(\"Shuffled Deck:\", deck.cards)\n",
    "drawn_card = deck.draw_card()\n",
    "print(\"Drawn Card:\", drawn_card)"
   ]
  },
  {
   "cell_type": "markdown",
   "id": "b7aac27d",
   "metadata": {},
   "source": [
    "### OOPs exercise 2"
   ]
  },
  {
   "cell_type": "markdown",
   "id": "74bfdf24",
   "metadata": {},
   "source": [
    "#### 1"
   ]
  },
  {
   "cell_type": "code",
   "execution_count": 20,
   "id": "423a32cb",
   "metadata": {},
   "outputs": [
    {
     "name": "stdout",
     "output_type": "stream",
     "text": [
      "Meow!\n"
     ]
    }
   ],
   "source": [
    "class Animal:\n",
    "    def __init__(self,name,species,sound):\n",
    "        self.name=name\n",
    "        self.species=species\n",
    "        self.sound=sound\n",
    "    def make_sound(self):\n",
    "        print(self.sound)\n",
    "animal=Animal(\"Whiskers\",\"Cat\",\"Meow!\")\n",
    "animal.make_sound()"
   ]
  },
  {
   "cell_type": "markdown",
   "id": "fc2ee17f",
   "metadata": {},
   "source": [
    "#### 2"
   ]
  },
  {
   "cell_type": "code",
   "execution_count": 21,
   "id": "5f5c3252",
   "metadata": {},
   "outputs": [
    {
     "name": "stdout",
     "output_type": "stream",
     "text": [
      "Woof!\n"
     ]
    }
   ],
   "source": [
    "class Dog(Animal):\n",
    "    def __init__(self,name,species,sound,breed):\n",
    "        super().__init__(name,species,sound)\n",
    "        self.breed=breed\n",
    "    def make_sound(self):\n",
    "        print(\"Woof!\")\n",
    "dog=Dog(\"Buddy\",\"Dog\",\"sound\",\"Labrador\")\n",
    "dog.make_sound()"
   ]
  },
  {
   "cell_type": "markdown",
   "id": "267bbd0b",
   "metadata": {},
   "source": [
    "#### 3"
   ]
  },
  {
   "cell_type": "code",
   "execution_count": 22,
   "id": "62a11549",
   "metadata": {},
   "outputs": [
    {
     "name": "stdout",
     "output_type": "stream",
     "text": [
      "Meow!\n"
     ]
    }
   ],
   "source": [
    "class Cat(Animal):\n",
    "    def __init__(self,name,species,sound,color):\n",
    "        super().__init__(name,species,sound)\n",
    "        self.color=color\n",
    "    def make_sound(self):\n",
    "        print(\"Meow!\")\n",
    "cat=Cat(\"Whiskers\",\"Cat\",\"sound\",\"White\")\n",
    "cat.make_sound()"
   ]
  },
  {
   "cell_type": "markdown",
   "id": "11b8fcd8",
   "metadata": {},
   "source": [
    "#### 4"
   ]
  },
  {
   "cell_type": "code",
   "execution_count": 23,
   "id": "24298ad1",
   "metadata": {},
   "outputs": [
    {
     "name": "stdout",
     "output_type": "stream",
     "text": [
      "Buddy the Dog says: Woof!\n",
      "Whiskers the Cat says: Meow!\n"
     ]
    }
   ],
   "source": [
    "class Animal:\n",
    "    def __init__(self, name, species, sound):\n",
    "        self.name = name\n",
    "        self.species = species\n",
    "        self.sound = sound\n",
    "\n",
    "    def make_sound(self):\n",
    "        print(self.sound)\n",
    "\n",
    "class Dog(Animal):\n",
    "    def __init__(self, name, species):\n",
    "        super().__init__(name, species, sound=\"Woof!\")\n",
    "\n",
    "class Cat(Animal):\n",
    "    def __init__(self, name, species):\n",
    "        super().__init__(name, species, sound=\"Meow!\")\n",
    "\n",
    "class Zoo:\n",
    "    def __init__(self):\n",
    "        self.animals = []\n",
    "\n",
    "    def add_animal(self, animal):\n",
    "        self.animals.append(animal)\n",
    "\n",
    "    def list_animals(self):\n",
    "        for animal in self.animals:\n",
    "            print(f\"{animal.name} the {animal.species} says:\",end=\" \")  \n",
    "            animal.make_sound()\n",
    "zoo= Zoo()\n",
    "dog = Dog(\"Buddy\", \"Dog\")\n",
    "cat = Cat(\"Whiskers\", \"Cat\")\n",
    "\n",
    "zoo.add_animal(dog)\n",
    "zoo.add_animal(cat)\n",
    "\n",
    "zoo.list_animals()\n"
   ]
  },
  {
   "cell_type": "markdown",
   "id": "cab15a20",
   "metadata": {},
   "source": [
    "#### 5"
   ]
  },
  {
   "cell_type": "code",
   "execution_count": 24,
   "id": "53896d86",
   "metadata": {},
   "outputs": [
    {
     "name": "stdout",
     "output_type": "stream",
     "text": [
      "Buddy the Dog says: Woof!\n",
      "Whiskers the Cat says: Meow!\n"
     ]
    }
   ],
   "source": [
    "\n",
    "zoo = Zoo()\n",
    "dog = Dog(\"Buddy\", \"Dog\")\n",
    "cat = Cat(\"Whiskers\", \"Cat\")\n",
    "\n",
    "zoo.add_animal(dog)\n",
    "zoo.add_animal(cat)\n",
    "\n",
    "zoo.list_animals()\n"
   ]
  },
  {
   "cell_type": "markdown",
   "id": "580be062",
   "metadata": {},
   "source": [
    "#### 6"
   ]
  },
  {
   "cell_type": "code",
   "execution_count": 29,
   "id": "31b4ac2d",
   "metadata": {},
   "outputs": [
    {
     "name": "stdout",
     "output_type": "stream",
     "text": [
      "Fido the Labrador trained for Guide says: Bark!\n"
     ]
    }
   ],
   "source": [
    "class GuideDog(Dog):\n",
    "    def __init__(self, name, breed, trained_for):\n",
    "        super().__init__(name, breed)\n",
    "        self.trained_for = trained_for\n",
    "        self.breed=breed\n",
    "        self.sound=\"Bark!\"\n",
    "guide_dog = GuideDog(\"Fido\", \"Labrador\", \"Guide\")\n",
    "print(f\"{guide_dog.name} the {guide_dog.breed} trained for {guide_dog.trained_for} says:\", end=\" \")\n",
    "guide_dog.make_sound()\n"
   ]
  },
  {
   "cell_type": "markdown",
   "id": "f1e1d452",
   "metadata": {},
   "source": [
    "#### 7"
   ]
  },
  {
   "cell_type": "code",
   "execution_count": 30,
   "id": "b1a0e359",
   "metadata": {},
   "outputs": [
    {
     "name": "stdout",
     "output_type": "stream",
     "text": [
      "Circle Area: 78.5\n",
      "Rectangle Area: 24\n"
     ]
    }
   ],
   "source": [
    "class Shape:\n",
    "    def __init__(self, color, filled):\n",
    "        self.color = color\n",
    "        self.filled = filled\n",
    "\n",
    "    def get_area(self):\n",
    "        pass\n",
    "\n",
    "class Circle(Shape):\n",
    "    def __init__(self, color, filled, radius):\n",
    "        super().__init__(color, filled)\n",
    "        self.radius = radius\n",
    "\n",
    "    def get_area(self):\n",
    "        return 3.14 * self.radius * self.radius\n",
    "\n",
    "class Rectangle(Shape):\n",
    "    def __init__(self, color, filled, width, height):\n",
    "        super().__init__(color, filled)\n",
    "        self.width = width\n",
    "        self.height = height\n",
    "\n",
    "    def get_area(self):\n",
    "        return self.width * self.height\n",
    "\n",
    "circle = Circle(color=\"Pink\", filled=True, radius=5)\n",
    "rectangle = Rectangle(color=\"Red\", filled=False, width=4, height=6)\n",
    "\n",
    "print(f\"Circle Area: {circle.get_area()}\")\n",
    "print(f\"Rectangle Area: {rectangle.get_area()}\")\n"
   ]
  },
  {
   "cell_type": "markdown",
   "id": "836d249a",
   "metadata": {},
   "source": [
    "#### 8"
   ]
  },
  {
   "cell_type": "code",
   "execution_count": 31,
   "id": "41033794",
   "metadata": {},
   "outputs": [
    {
     "name": "stdout",
     "output_type": "stream",
     "text": [
      "Total Area of all shapes: 102.5\n"
     ]
    }
   ],
   "source": [
    "class ShapeList:\n",
    "    def __init__(self):\n",
    "        self.shapes = []\n",
    "\n",
    "    def add_shape(self, shape):\n",
    "        self.shapes.append(shape)\n",
    "        \n",
    "    def total_area(self):\n",
    "        total_area = 0\n",
    "        for shape in self.shapes:\n",
    "            total_area += shape.get_area()\n",
    "        return total_area\n",
    "\n",
    "circle = Circle(color=\"Red\", filled=True, radius=5)\n",
    "rectangle = Rectangle(color=\"Blue\", filled=False, width=4, height=6)\n",
    "\n",
    "shape_list = ShapeList()\n",
    "\n",
    "shape_list.add_shape(circle)\n",
    "shape_list.add_shape(rectangle)\n",
    "\n",
    "total_area = shape_list.total_area()\n",
    "\n",
    "print(f\"Total Area of all shapes: {total_area}\")\n"
   ]
  },
  {
   "cell_type": "markdown",
   "id": "484eb413",
   "metadata": {},
   "source": [
    "#### 9"
   ]
  },
  {
   "cell_type": "code",
   "execution_count": 36,
   "id": "96548e17",
   "metadata": {},
   "outputs": [
    {
     "name": "stdout",
     "output_type": "stream",
     "text": [
      "Square Area: 16\n"
     ]
    }
   ],
   "source": [
    "class Shape:\n",
    "    def __init__(self, color, filled):\n",
    "        self.color = color\n",
    "        self.filled = filled\n",
    "\n",
    "    def get_area(self):\n",
    "        pass\n",
    "class Rectangle(Shape):\n",
    "    def __init__(self, color, filled, width, height):\n",
    "        super().__init__(color, filled)\n",
    "        self.width = width\n",
    "        self.height = height\n",
    "\n",
    "    def get_area(self):\n",
    "        return self.width * self.height\n",
    "    \n",
    "class Square(Rectangle):\n",
    "    def __init__(self, color, filled, side):\n",
    "        super().__init__(color, filled, width=side, height=side)\n",
    "        self.side = side\n",
    "\n",
    "    def get_area(self):\n",
    "        return self.side * self.side\n",
    "\n",
    "square = Square(color=\"Green\", filled=True, side=4)\n",
    "\n",
    "print(f\"Square Area: {square.get_area()}\")\n"
   ]
  },
  {
   "cell_type": "code",
   "execution_count": null,
   "id": "a05cf07b",
   "metadata": {},
   "outputs": [],
   "source": []
  },
  {
   "cell_type": "code",
   "execution_count": null,
   "id": "f44347c2",
   "metadata": {},
   "outputs": [],
   "source": []
  },
  {
   "cell_type": "code",
   "execution_count": null,
   "id": "ba8d9ed2",
   "metadata": {},
   "outputs": [],
   "source": []
  },
  {
   "cell_type": "code",
   "execution_count": null,
   "id": "2271a46e",
   "metadata": {},
   "outputs": [],
   "source": []
  },
  {
   "cell_type": "code",
   "execution_count": null,
   "id": "419bfcea",
   "metadata": {},
   "outputs": [],
   "source": []
  }
 ],
 "metadata": {
  "kernelspec": {
   "display_name": "Python 3 (ipykernel)",
   "language": "python",
   "name": "python3"
  },
  "language_info": {
   "codemirror_mode": {
    "name": "ipython",
    "version": 3
   },
   "file_extension": ".py",
   "mimetype": "text/x-python",
   "name": "python",
   "nbconvert_exporter": "python",
   "pygments_lexer": "ipython3",
   "version": "3.11.4"
  }
 },
 "nbformat": 4,
 "nbformat_minor": 5
}
