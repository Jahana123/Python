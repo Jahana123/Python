{
 "cells": [
  {
   "cell_type": "markdown",
   "id": "5706ab42",
   "metadata": {},
   "source": [
    "### Python file  exercises"
   ]
  },
  {
   "cell_type": "markdown",
   "id": "6add11b1",
   "metadata": {},
   "source": [
    "#### 1"
   ]
  },
  {
   "cell_type": "code",
   "execution_count": 11,
   "id": "79dd3f10",
   "metadata": {},
   "outputs": [
    {
     "name": "stdout",
     "output_type": "stream",
     "text": [
      "the number of lines is:  1\n"
     ]
    }
   ],
   "source": [
    "file_name=\"sample1.txt\"\n",
    "f=open(file_name,'r')\n",
    "line_count=0\n",
    "for line in f:\n",
    "    line_count+=1\n",
    "print(\"the number of lines is: \",line_count)\n",
    "f.close()"
   ]
  },
  {
   "cell_type": "markdown",
   "id": "034799ab",
   "metadata": {},
   "source": [
    "### 2"
   ]
  },
  {
   "cell_type": "code",
   "execution_count": 1,
   "id": "815ff051",
   "metadata": {},
   "outputs": [
    {
     "name": "stdout",
     "output_type": "stream",
     "text": [
      "3rd line is:  are you\n",
      "\n",
      "first 3 lines is:  ['Hello\\n', 'Jahana\\n', 'are you\\n']\n"
     ]
    }
   ],
   "source": [
    "f=open('output.txt','r')\n",
    "items=f.readlines()\n",
    "print('3rd line is: ',items[2])\n",
    "print(\"first 3 lines is: \",items[0:3])\n",
    "f.close()\n"
   ]
  },
  {
   "cell_type": "markdown",
   "id": "355269a7",
   "metadata": {},
   "source": [
    "### 3"
   ]
  },
  {
   "cell_type": "code",
   "execution_count": 6,
   "id": "b1557831",
   "metadata": {},
   "outputs": [
    {
     "name": "stdout",
     "output_type": "stream",
     "text": [
      "enter the file name: output.txt\n",
      "no.of last lines to read: 3\n",
      "last 3 lines is: \n",
      "to write\n",
      "a new\n",
      "message"
     ]
    }
   ],
   "source": [
    "def lastNlines(filename,n):\n",
    "    with open(filename,'r')as f:\n",
    "        print(\"last\", n, \"lines is: \")\n",
    "        for line in (f.readlines()[-n:]):\n",
    "            print(line,end='')\n",
    "filename=input(\"enter the file name: \")\n",
    "n=int(input(\"no.of last lines to read: \"))\n",
    "lastNlines(filename,n)\n",
    "            "
   ]
  },
  {
   "cell_type": "code",
   "execution_count": 7,
   "id": "11875b5d",
   "metadata": {},
   "outputs": [
    {
     "name": "stdout",
     "output_type": "stream",
     "text": [
      "no.of last lines to read: 4\n",
      "last 4 lines is: \n",
      "trying\n",
      "to write\n",
      "a new\n",
      "message"
     ]
    }
   ],
   "source": [
    "\n",
    "with open('output.txt','r')as f:\n",
    "    n=int(input(\"no.of last lines to read: \"))\n",
    "    print(\"last\", n, \"lines is: \")\n",
    "    for line in (f.readlines()[-n:]):\n",
    "        print(line,end='')\n"
   ]
  },
  {
   "cell_type": "markdown",
   "id": "b2d538fc",
   "metadata": {},
   "source": [
    "### 4"
   ]
  },
  {
   "cell_type": "code",
   "execution_count": 6,
   "id": "105dd24f",
   "metadata": {},
   "outputs": [],
   "source": [
    "msg='Hello\\n \\nJahana\\n\\n\\nare you\\n \\ntrying\\n\\n\\n\\nto write\\n\\na new\\n\\nmessage'\n",
    "with open('msg.txt','w')as f:\n",
    "    f.write(msg)\n"
   ]
  },
  {
   "cell_type": "code",
   "execution_count": 7,
   "id": "0d546d83",
   "metadata": {},
   "outputs": [
    {
     "name": "stdout",
     "output_type": "stream",
     "text": [
      "New text file is:\n",
      " Hello\n",
      "Jahana\n",
      "are you\n",
      "trying\n",
      "to write\n",
      "a new\n",
      "message\n"
     ]
    }
   ],
   "source": [
    "with open('msg.txt','r')as f,open('output.txt','w')as o:\n",
    "    for line in f:\n",
    "        if line.strip():\n",
    "            o.write(line)\n",
    "f=open('output.txt','r')\n",
    "items=f.read()\n",
    "print('New text file is:\\n',items)\n"
   ]
  },
  {
   "cell_type": "code",
   "execution_count": 5,
   "id": "cc27f6a6",
   "metadata": {},
   "outputs": [
    {
     "name": "stdout",
     "output_type": "stream",
     "text": [
      "['def add(a,b):\\n', '    result=a+b\\n', '    return result']\n"
     ]
    }
   ],
   "source": [
    "with open('example.py','r')as f:\n",
    "    lines=f.readlines()\n",
    "    no_blank_lines=[line for line in lines if line.strip()]\n",
    "print(no_blank_lines)"
   ]
  },
  {
   "cell_type": "markdown",
   "id": "12675b09",
   "metadata": {},
   "source": [
    "### 5"
   ]
  },
  {
   "cell_type": "code",
   "execution_count": 2,
   "id": "d7cdfb32",
   "metadata": {},
   "outputs": [
    {
     "name": "stdout",
     "output_type": "stream",
     "text": [
      "Enter the keyword to remove lines: def\n",
      "['    result=a+b\\n', '    return result']\n"
     ]
    }
   ],
   "source": [
    "specified_string=input(\"Enter the keyword to remove lines: \")\n",
    "with open('example.py','r')as f:\n",
    "    lines=f.readlines()\n",
    "    filtered_lines=[line for line in lines if specified_string not in line]\n",
    "print(filtered_lines)    \n"
   ]
  },
  {
   "cell_type": "markdown",
   "id": "9aee34fb",
   "metadata": {},
   "source": [
    "### 6"
   ]
  },
  {
   "cell_type": "code",
   "execution_count": 15,
   "id": "153ceccb",
   "metadata": {},
   "outputs": [],
   "source": [
    "with open('sample3.txt','w')as f:\n",
    "    f.write('Hello!, welcome back!!')"
   ]
  },
  {
   "cell_type": "code",
   "execution_count": 2,
   "id": "f8e7a56b",
   "metadata": {},
   "outputs": [
    {
     "name": "stdout",
     "output_type": "stream",
     "text": [
      "Hello welcome back\n"
     ]
    }
   ],
   "source": [
    "import string\n",
    "with open('sample3.txt','r')as f:\n",
    "    text=f.read()\n",
    "    no_punctn=text.translate(str.maketrans('','',string.punctuation))\n",
    "print(no_punctn)"
   ]
  },
  {
   "cell_type": "markdown",
   "id": "9530f460",
   "metadata": {},
   "source": [
    "### 7"
   ]
  },
  {
   "cell_type": "code",
   "execution_count": 1,
   "id": "72db08ff",
   "metadata": {},
   "outputs": [
    {
     "name": "stdout",
     "output_type": "stream",
     "text": [
      "This Is The First Line\n"
     ]
    }
   ],
   "source": [
    "with open('sample1.txt','r')as f:\n",
    "    text=f.read()\n",
    "    capitalized_text=text.title()\n",
    "print(capitalized_text)"
   ]
  },
  {
   "cell_type": "markdown",
   "id": "1fb6317b",
   "metadata": {},
   "source": [
    "### 8"
   ]
  },
  {
   "cell_type": "code",
   "execution_count": 2,
   "id": "8ec6b4f4",
   "metadata": {},
   "outputs": [
    {
     "name": "stdout",
     "output_type": "stream",
     "text": [
      "THIS IS THE FIRST LINE\n"
     ]
    }
   ],
   "source": [
    "with open('sample1.txt','r')as f:\n",
    "    text=f.read()\n",
    "    uppercase_text=text.upper()\n",
    "print(uppercase_text)"
   ]
  },
  {
   "cell_type": "markdown",
   "id": "458f9c5f",
   "metadata": {},
   "source": [
    "### 9"
   ]
  },
  {
   "cell_type": "code",
   "execution_count": 4,
   "id": "962a9aaa",
   "metadata": {},
   "outputs": [
    {
     "name": "stdout",
     "output_type": "stream",
     "text": [
      "hello\n",
      "jahana\n",
      "are you\n",
      "trying\n",
      "to write\n",
      "a new\n",
      "message\n"
     ]
    }
   ],
   "source": [
    "with open('output.txt','r')as f:\n",
    "    text=f.read()\n",
    "    lowercase_text=text.lower()\n",
    "print(lowercase_text)"
   ]
  },
  {
   "cell_type": "markdown",
   "id": "8894c9c4",
   "metadata": {},
   "source": [
    "### 10"
   ]
  },
  {
   "cell_type": "code",
   "execution_count": 4,
   "id": "8cba36ab",
   "metadata": {},
   "outputs": [
    {
     "name": "stdout",
     "output_type": "stream",
     "text": [
      "that is the first line\n"
     ]
    }
   ],
   "source": [
    "input_file_name='sample1.txt'\n",
    "word_to_replace='this'\n",
    "replacement_word='that'\n",
    "with open(input_file_name,'r')as input_file:\n",
    "    text=input_file.read()\n",
    "modified_text=text.replace(word_to_replace,replacement_word) \n",
    "print(modified_text)\n",
    "\n"
   ]
  },
  {
   "cell_type": "markdown",
   "id": "a8e860e7",
   "metadata": {},
   "source": [
    "### 11"
   ]
  },
  {
   "cell_type": "code",
   "execution_count": 2,
   "id": "738cf8a0",
   "metadata": {},
   "outputs": [
    {
     "name": "stdout",
     "output_type": "stream",
     "text": [
      "After removing vowels:  Hll!, wlcm bck!!\n"
     ]
    }
   ],
   "source": [
    "with open('sample3.txt','r')as f:\n",
    "    text=f.read()\n",
    "vowels='aeiouAEIOU'\n",
    "modified_text=''.join(char for char in text if char not in vowels)\n",
    "print(\"After removing vowels: \",modified_text)"
   ]
  },
  {
   "cell_type": "markdown",
   "id": "8db99919",
   "metadata": {},
   "source": [
    "### 12"
   ]
  },
  {
   "cell_type": "code",
   "execution_count": 3,
   "id": "15eeaafc",
   "metadata": {},
   "outputs": [],
   "source": [
    "with open(\"sample4.txt\",'w')as f:\n",
    "    f.write(\"the boy ran to the park\")"
   ]
  },
  {
   "cell_type": "code",
   "execution_count": 3,
   "id": "d63756df",
   "metadata": {},
   "outputs": [
    {
     "name": "stdout",
     "output_type": "stream",
     "text": [
      "the:2\n",
      "boy:1\n",
      "ran:1\n",
      "to:1\n",
      "park:1\n",
      "\n"
     ]
    }
   ],
   "source": [
    "output_file_name=\"output1.txt\"\n",
    "with open(\"sample4.txt\",'r')as f:\n",
    "    text=f.read()\n",
    "word_count={}\n",
    "words=text.split()\n",
    "for word in words:\n",
    "    word=word.strip('.,!?')\n",
    "    if word in word_count:\n",
    "        word_count[word]+=1\n",
    "    else:\n",
    "        word_count[word]=1\n",
    "sorted_word_count=dict(sorted(word_count.items(),key=lambda item:item[1],reverse=True))\n",
    "with open(\"output1.txt\",\"w\")as f1:\n",
    "    for word,count in sorted_word_count.items():\n",
    "        f1.write(f\"{word}:{count}\\n\")\n",
    "with open(\"output1.txt\",\"r\")as f1:\n",
    "    text=f1.read()\n",
    "print(text)"
   ]
  },
  {
   "cell_type": "markdown",
   "id": "10bd20b5",
   "metadata": {},
   "source": [
    "### 13"
   ]
  },
  {
   "cell_type": "code",
   "execution_count": 10,
   "id": "35b65a0b",
   "metadata": {},
   "outputs": [],
   "source": [
    "with open(\"binary_file.bin\",'wb')as f:\n",
    "    data=b'\\x48\\x65\\x6C\\x6C\\x6F'\n",
    "    f.write(data)"
   ]
  },
  {
   "cell_type": "code",
   "execution_count": 14,
   "id": "baae442d",
   "metadata": {},
   "outputs": [
    {
     "name": "stdout",
     "output_type": "stream",
     "text": [
      "hexadecimal representation is:  48 65 6c 6c 6f\n"
     ]
    }
   ],
   "source": [
    "with open(\"binary_file.bin\",'rb')as f:\n",
    "    text=f.read()\n",
    "hexadecimal=' '.join(format(byte,'02x')for byte in data)\n",
    "print(\"hexadecimal representation is: \",hexadecimal)"
   ]
  },
  {
   "cell_type": "code",
   "execution_count": 15,
   "id": "fab691bf",
   "metadata": {},
   "outputs": [],
   "source": [
    "with open(\"binary1_file.bin\",'wb')as f:\n",
    "    data=b'Hello welcome back'\n",
    "    f.write(data)"
   ]
  },
  {
   "cell_type": "code",
   "execution_count": 16,
   "id": "2865ebd7",
   "metadata": {},
   "outputs": [
    {
     "name": "stdout",
     "output_type": "stream",
     "text": [
      "hexadecimal representation is:  48 65 6c 6c 6f 20 77 65 6c 63 6f 6d 65 20 62 61 63 6b\n"
     ]
    }
   ],
   "source": [
    "with open(\"binary1_file.bin\",'rb')as f:\n",
    "    text=f.read()\n",
    "hexadecimal=' '.join(format(byte,'02x')for byte in data)\n",
    "print(\"hexadecimal representation is: \",hexadecimal)"
   ]
  },
  {
   "cell_type": "markdown",
   "id": "78a91397",
   "metadata": {},
   "source": [
    "### 14"
   ]
  },
  {
   "cell_type": "code",
   "execution_count": 1,
   "id": "937a8c82",
   "metadata": {},
   "outputs": [],
   "source": [
    "input_csv_file = \"input.csv\"\n",
    "output_html_file = \"table.html\"\n",
    "\n",
    "with open(input_csv_file, 'r') as csv_file:\n",
    "    lines = csv_file.readlines()\n",
    "\n",
    "html_table = \"<table>\\n\"\n",
    "for line in lines:\n",
    "    cells = line.strip().split(',')\n",
    "    row = \"  <tr>\\n\"\n",
    "    for cell in cells:\n",
    "        row += f\"    <td>{cell}</td>\\n\"\n",
    "    row += \"  </tr>\\n\"\n",
    "    html_table += row\n",
    "html_table += \"</table>\"\n",
    "\n",
    "with open(output_html_file, 'w') as html_file:\n",
    "    html_file.write(html_table)\n"
   ]
  },
  {
   "cell_type": "markdown",
   "id": "ee3b25b4",
   "metadata": {},
   "source": [
    "### 15"
   ]
  },
  {
   "cell_type": "code",
   "execution_count": 17,
   "id": "0906bf2f",
   "metadata": {},
   "outputs": [
    {
     "name": "stdout",
     "output_type": "stream",
     "text": [
      "{'name': 'Sachu', 'age': 13, 'city': 'Kochi'}\n",
      "{'name': 'Jahana', 'age': 22, 'city': 'Malappuram'}\n",
      "{'name': 'Shalu', 'age': 25, 'city': 'Palakkad'}\n"
     ]
    }
   ],
   "source": [
    "import json\n",
    "input_json_file = \"input.json\"\n",
    "sort_field = \"age\"\n",
    "with open(input_json_file, 'r') as f:\n",
    "    data = json.load(f)\n",
    "sorted_data = sorted(data, key=lambda item: item[sort_field])\n",
    "for item in sorted_data:\n",
    "    print(item)"
   ]
  },
  {
   "cell_type": "markdown",
   "id": "6523bf57",
   "metadata": {},
   "source": [
    "### 16"
   ]
  },
  {
   "cell_type": "code",
   "execution_count": 6,
   "id": "83763cad",
   "metadata": {},
   "outputs": [
    {
     "name": "stdout",
     "output_type": "stream",
     "text": [
      "Replacement completed.\n",
      "the girl ran to the park\n"
     ]
    }
   ],
   "source": [
    "def replace_word_in_file(input_file, output_file, old_word, new_word):\n",
    "    try:\n",
    "        with open(input_file, 'r') as file:\n",
    "            text = file.read()\n",
    "        modified_text = text.replace(old_word, new_word)\n",
    "        with open(output_file, 'w') as file:\n",
    "            file.write(modified_text)\n",
    "        print(f\"Replacement completed.\")\n",
    "    except FileNotFoundError:\n",
    "        print(\"Input file not found.\")\n",
    "input_file = \"sample4.txt\"  \n",
    "output_file = \"output4.txt\"  \n",
    "old_word=\"boy\"\n",
    "new_word = \"girl\"  \n",
    "replace_word_in_file(input_file, output_file, old_word, new_word)\n",
    "with open(output_file,\"r\")as f:\n",
    "    text=f.read()\n",
    "print(text)"
   ]
  },
  {
   "cell_type": "markdown",
   "id": "88ebc466",
   "metadata": {},
   "source": []
  }
 ],
 "metadata": {
  "kernelspec": {
   "display_name": "Python 3 (ipykernel)",
   "language": "python",
   "name": "python3"
  },
  "language_info": {
   "codemirror_mode": {
    "name": "ipython",
    "version": 3
   },
   "file_extension": ".py",
   "mimetype": "text/x-python",
   "name": "python",
   "nbconvert_exporter": "python",
   "pygments_lexer": "ipython3",
   "version": "3.11.4"
  }
 },
 "nbformat": 4,
 "nbformat_minor": 5
}
