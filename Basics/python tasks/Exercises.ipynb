{
 "cells": [
  {
   "cell_type": "markdown",
   "id": "2660b8d2",
   "metadata": {},
   "source": [
    "# Python strings"
   ]
  },
  {
   "cell_type": "markdown",
   "id": "1d930ebe",
   "metadata": {},
   "source": [
    "## 1"
   ]
  },
  {
   "cell_type": "code",
   "execution_count": 1,
   "id": "dfdc2320",
   "metadata": {},
   "outputs": [
    {
     "name": "stdout",
     "output_type": "stream",
     "text": [
      "Hello, How are You?\n"
     ]
    }
   ],
   "source": [
    "x=\"Hello,\"\n",
    "y=\"How are You?\"\n",
    "print(x,y)"
   ]
  },
  {
   "cell_type": "code",
   "execution_count": 2,
   "id": "8c7f04b8",
   "metadata": {},
   "outputs": [
    {
     "name": "stdout",
     "output_type": "stream",
     "text": [
      "Hello, How are You? \n"
     ]
    }
   ],
   "source": [
    "my_string=\"Hello, How are You? \"\n",
    "print(my_string)"
   ]
  },
  {
   "cell_type": "markdown",
   "id": "f85a8efb",
   "metadata": {},
   "source": [
    "## 2"
   ]
  },
  {
   "cell_type": "code",
   "execution_count": 11,
   "id": "ff98c309",
   "metadata": {},
   "outputs": [
    {
     "name": "stdout",
     "output_type": "stream",
     "text": [
      "Enter username: Jahana\n",
      "Welcome Jahana\n"
     ]
    }
   ],
   "source": [
    "username=input(\"Enter username: \")\n",
    "print(\"Welcome \"+username) "
   ]
  },
  {
   "cell_type": "markdown",
   "id": "64d6ddde",
   "metadata": {},
   "source": [
    "### 3"
   ]
  },
  {
   "cell_type": "code",
   "execution_count": 21,
   "id": "3c293c20",
   "metadata": {},
   "outputs": [
    {
     "name": "stdout",
     "output_type": "stream",
     "text": [
      "Enter the first number: 24\n",
      "Enter the second number: 55\n",
      "The addition result is:  79\n"
     ]
    }
   ],
   "source": [
    "a=int(input(\"Enter the first number: \"))\n",
    "b=int(input(\"Enter the second number: \"))\n",
    "print(\"The addition result is: \",a+b)"
   ]
  },
  {
   "cell_type": "markdown",
   "id": "4c4fab4a",
   "metadata": {},
   "source": [
    "### 4"
   ]
  },
  {
   "cell_type": "code",
   "execution_count": 12,
   "id": "ce0d9d66",
   "metadata": {},
   "outputs": [
    {
     "name": "stdout",
     "output_type": "stream",
     "text": [
      "Enter a string: My Name Is Jahana!\n",
      "18\n"
     ]
    }
   ],
   "source": [
    "my_string=input(\"Enter a string: \")\n",
    "length=len(my_string)\n",
    "print(length)"
   ]
  },
  {
   "cell_type": "markdown",
   "id": "6700a1b2",
   "metadata": {},
   "source": [
    "### 5"
   ]
  },
  {
   "cell_type": "code",
   "execution_count": 38,
   "id": "f5dd9264",
   "metadata": {},
   "outputs": [
    {
     "name": "stdout",
     "output_type": "stream",
     "text": [
      "Enter a sentence: Wish you all the best!\n",
      "5\n"
     ]
    }
   ],
   "source": [
    "x=input(\"Enter a sentence: \")\n",
    "print(len(x.split()))"
   ]
  },
  {
   "cell_type": "markdown",
   "id": "5a11d5e9",
   "metadata": {},
   "source": [
    "### 6"
   ]
  },
  {
   "cell_type": "code",
   "execution_count": 2,
   "id": "ea8eebca",
   "metadata": {},
   "outputs": [
    {
     "name": "stdout",
     "output_type": "stream",
     "text": [
      "Enter a string: HeLlO WoRlD,WeLcOmE\n",
      "count of uppercase characters is:  10\n"
     ]
    }
   ],
   "source": [
    "my_string=input(\"Enter a string: \")\n",
    "upper_count=sum(map(str.isupper,my_string))\n",
    "print(\"count of uppercase characters is: \",upper_count)"
   ]
  },
  {
   "cell_type": "markdown",
   "id": "b104fa51",
   "metadata": {},
   "source": [
    "### 7"
   ]
  },
  {
   "cell_type": "code",
   "execution_count": 15,
   "id": "ec04c433",
   "metadata": {},
   "outputs": [
    {
     "name": "stdout",
     "output_type": "stream",
     "text": [
      "THE MOON IS SHINING.\n"
     ]
    }
   ],
   "source": [
    "s1=\"the moon is shining.\"\n",
    "print(s1.upper())"
   ]
  },
  {
   "cell_type": "markdown",
   "id": "38ab0c82",
   "metadata": {},
   "source": [
    "### 8"
   ]
  },
  {
   "cell_type": "code",
   "execution_count": 14,
   "id": "b64b3a91",
   "metadata": {},
   "outputs": [
    {
     "name": "stdout",
     "output_type": "stream",
     "text": [
      "Enter a string: Banana\n",
      "Benene\n"
     ]
    }
   ],
   "source": [
    "my_string=input(\"Enter a string: \")\n",
    "new_string=my_string.replace(\"a\" ,\"e\")\n",
    "print(new_string)"
   ]
  },
  {
   "cell_type": "markdown",
   "id": "19360df8",
   "metadata": {},
   "source": [
    "### 9"
   ]
  },
  {
   "cell_type": "code",
   "execution_count": 5,
   "id": "9e310c41",
   "metadata": {},
   "outputs": [
    {
     "name": "stdout",
     "output_type": "stream",
     "text": [
      "Enter a string: malayalam\n",
      "It is a palindrome\n"
     ]
    }
   ],
   "source": [
    "my_string=input(\"Enter a string: \")\n",
    "reversed_string=my_string[::-1]\n",
    "if my_string==reversed_string:\n",
    "    print(\"It is a palindrome\")\n",
    "else:\n",
    "    print(\"It is not a palindrome\")"
   ]
  },
  {
   "cell_type": "markdown",
   "id": "efe67df9",
   "metadata": {},
   "source": [
    "### 10"
   ]
  },
  {
   "cell_type": "code",
   "execution_count": 12,
   "id": "44d4d93f",
   "metadata": {},
   "outputs": [
    {
     "name": "stdout",
     "output_type": "stream",
     "text": [
      "Enter a string: Hello\n",
      "Enter substring to check: el\n",
      "yes, substring is present.\n"
     ]
    }
   ],
   "source": [
    "string=input('Enter a string: ')\n",
    "substring=input(\"Enter substring to check: \")\n",
    "if substring in string:\n",
    "    print(\"yes, substring is present.\")\n",
    "else:\n",
    "    print(\"substring is absent.\")"
   ]
  },
  {
   "cell_type": "markdown",
   "id": "da1e22e0",
   "metadata": {},
   "source": [
    "### 11"
   ]
  },
  {
   "cell_type": "code",
   "execution_count": 20,
   "id": "6a15867c",
   "metadata": {},
   "outputs": [
    {
     "name": "stdout",
     "output_type": "stream",
     "text": [
      "['home', 'my', 'to', 'Welcome']\n"
     ]
    }
   ],
   "source": [
    "my_string=\"Welcome to my home\"\n",
    "words=my_string.split()\n",
    "reversed_string=words[::-1]\n",
    "print(reversed_string)"
   ]
  },
  {
   "cell_type": "markdown",
   "id": "8306d9c3",
   "metadata": {},
   "source": [
    "### 12"
   ]
  },
  {
   "cell_type": "code",
   "execution_count": 19,
   "id": "1f6a4e8a",
   "metadata": {},
   "outputs": [
    {
     "name": "stdout",
     "output_type": "stream",
     "text": [
      "Enter a sentence: She exercises every morning\n",
      "Longest word is:  exercises\n"
     ]
    }
   ],
   "source": [
    "x=input(\"Enter a sentence: \")\n",
    "longest=max(x.split(),key=len)\n",
    "print(\"Longest word is: \",longest)"
   ]
  },
  {
   "cell_type": "markdown",
   "id": "5b8abd61",
   "metadata": {},
   "source": [
    "### 13"
   ]
  },
  {
   "cell_type": "code",
   "execution_count": 19,
   "id": "81fa7d36",
   "metadata": {},
   "outputs": [
    {
     "name": "stdout",
     "output_type": "stream",
     "text": [
      "['Shirin', 'Jahana', 'Is', 'Name', 'My']\n"
     ]
    }
   ],
   "source": [
    "my_string=\"My Name Is Jahana Shirin\"\n",
    "words=my_string.split( )\n",
    "reversed_string=words[::-1]\n",
    "print(reversed_string)"
   ]
  },
  {
   "cell_type": "code",
   "execution_count": null,
   "id": "680c8698",
   "metadata": {},
   "outputs": [],
   "source": []
  },
  {
   "cell_type": "markdown",
   "id": "ad625ff3",
   "metadata": {},
   "source": [
    "# Python list"
   ]
  },
  {
   "cell_type": "markdown",
   "id": "ec9b6fc9",
   "metadata": {},
   "source": [
    "### 1"
   ]
  },
  {
   "cell_type": "code",
   "execution_count": 34,
   "id": "c02c5fa5",
   "metadata": {},
   "outputs": [
    {
     "name": "stdout",
     "output_type": "stream",
     "text": [
      "30\n"
     ]
    }
   ],
   "source": [
    "numbers=[2,4,6,8,10]\n",
    "print(sum(numbers))"
   ]
  },
  {
   "cell_type": "markdown",
   "id": "763575c4",
   "metadata": {},
   "source": [
    "### 2"
   ]
  },
  {
   "cell_type": "code",
   "execution_count": 6,
   "id": "f1e548f3",
   "metadata": {},
   "outputs": [
    {
     "name": "stdout",
     "output_type": "stream",
     "text": [
      "['papaya', 'banana', 'grape', 'orange', 'apple']\n"
     ]
    }
   ],
   "source": [
    "my_list=[\"apple\",\"orange\",\"grape\",\"banana\",\"papaya\"]\n",
    "my_list=my_list[::-1]\n",
    "print(my_list)"
   ]
  },
  {
   "cell_type": "markdown",
   "id": "7a0ee3a9",
   "metadata": {},
   "source": [
    "### 3"
   ]
  },
  {
   "cell_type": "code",
   "execution_count": 13,
   "id": "dca12d65",
   "metadata": {},
   "outputs": [
    {
     "name": "stdout",
     "output_type": "stream",
     "text": [
      "['Mike', 'Emma', 'Kelly', 'Brad']\n"
     ]
    }
   ],
   "source": [
    "list1=[\"Mike\",\"\",\"Emma\",\"Kelly\",\"\",\"Brad\"]\n",
    "list2=[x for x in list1 if x!=\"\"]\n",
    "print(list2)"
   ]
  },
  {
   "cell_type": "markdown",
   "id": "1e34e513",
   "metadata": {},
   "source": [
    "### 4"
   ]
  },
  {
   "cell_type": "code",
   "execution_count": 3,
   "id": "d53f0406",
   "metadata": {},
   "outputs": [
    {
     "name": "stdout",
     "output_type": "stream",
     "text": [
      "[10, 20, [300, 400, [5000, 6000, 7000], 500], 30, 40]\n"
     ]
    }
   ],
   "source": [
    "list1=[10,20,[300,400,[5000,6000],500],30,40]\n",
    "list1[2][2].append(7000)\n",
    "print(list1)"
   ]
  },
  {
   "cell_type": "markdown",
   "id": "09ad3ac3",
   "metadata": {},
   "source": [
    "### 5"
   ]
  },
  {
   "cell_type": "code",
   "execution_count": 9,
   "id": "1b1c5cf1",
   "metadata": {},
   "outputs": [
    {
     "name": "stdout",
     "output_type": "stream",
     "text": [
      "value 20 is present at 3\n",
      "[5, 10, 15, 200, 25, 50, 20]\n"
     ]
    }
   ],
   "source": [
    "list1=[5,10,15,20,25,50,20]\n",
    "index=list1.index(20)\n",
    "print(\"value 20 is present at\",index)\n",
    "list1[index]=200\n",
    "print(list1)"
   ]
  },
  {
   "cell_type": "markdown",
   "id": "372653ad",
   "metadata": {},
   "source": [
    "### 6"
   ]
  },
  {
   "cell_type": "code",
   "execution_count": 12,
   "id": "2fe9d461",
   "metadata": {},
   "outputs": [
    {
     "name": "stdout",
     "output_type": "stream",
     "text": [
      "10\n"
     ]
    }
   ],
   "source": [
    "x=range(10,20+1)\n",
    "sub=max(x)-min(x)\n",
    "print(sub)\n"
   ]
  },
  {
   "cell_type": "markdown",
   "id": "3d062bb6",
   "metadata": {},
   "source": [
    "###  7"
   ]
  },
  {
   "cell_type": "code",
   "execution_count": 5,
   "id": "b4696573",
   "metadata": {},
   "outputs": [
    {
     "name": "stdout",
     "output_type": "stream",
     "text": [
      "count of 3:  4\n",
      "count of 6:  2\n",
      "count of 9:  3\n",
      "count of 12: 3\n",
      "count of 1:  2\n"
     ]
    }
   ],
   "source": [
    "numbers=[3,6,9,12,1,2,3,6,12,9,3,12,1,9,3]\n",
    "count=numbers.count(3)\n",
    "print(\"count of 3: \",count)\n",
    "count=numbers.count(6)\n",
    "print(\"count of 6: \",count)\n",
    "count=numbers.count(9)\n",
    "print(\"count of 9: \",count)\n",
    "count=numbers.count(12)\n",
    "print(\"count of 12:\",count)\n",
    "count=numbers.count(1)\n",
    "print(\"count of 1: \",count)\n",
    "\n"
   ]
  },
  {
   "cell_type": "markdown",
   "id": "29fc0a2d",
   "metadata": {},
   "source": [
    "### 8"
   ]
  },
  {
   "cell_type": "code",
   "execution_count": 33,
   "id": "bdcbdc9c",
   "metadata": {},
   "outputs": [
    {
     "name": "stdout",
     "output_type": "stream",
     "text": [
      "[4, 8, 18, 12, 16]\n"
     ]
    }
   ],
   "source": [
    "numbers=[4,8,12,16]\n",
    "numbers.insert(2,18)\n",
    "print(numbers)"
   ]
  },
  {
   "cell_type": "code",
   "execution_count": null,
   "id": "db69c4ed",
   "metadata": {},
   "outputs": [],
   "source": []
  }
 ],
 "metadata": {
  "kernelspec": {
   "display_name": "Python 3 (ipykernel)",
   "language": "python",
   "name": "python3"
  },
  "language_info": {
   "codemirror_mode": {
    "name": "ipython",
    "version": 3
   },
   "file_extension": ".py",
   "mimetype": "text/x-python",
   "name": "python",
   "nbconvert_exporter": "python",
   "pygments_lexer": "ipython3",
   "version": "3.11.4"
  }
 },
 "nbformat": 4,
 "nbformat_minor": 5
}
