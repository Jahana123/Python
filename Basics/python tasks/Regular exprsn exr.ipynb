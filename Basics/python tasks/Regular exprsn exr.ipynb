{
 "cells": [
  {
   "cell_type": "markdown",
   "id": "aeb2d812",
   "metadata": {},
   "source": [
    "### Python regular expression"
   ]
  },
  {
   "cell_type": "markdown",
   "id": "516d0c90",
   "metadata": {},
   "source": [
    "#### Exercise 1"
   ]
  },
  {
   "cell_type": "markdown",
   "id": "21550ab9",
   "metadata": {},
   "source": [
    "### 1"
   ]
  },
  {
   "cell_type": "code",
   "execution_count": 10,
   "id": "5613f069",
   "metadata": {},
   "outputs": [
    {
     "name": "stdout",
     "output_type": "stream",
     "text": [
      "example@gmail.com\n"
     ]
    }
   ],
   "source": [
    "import re\n",
    "str1=\"contact me at example@gmail.com please send your message\"\n",
    "emails=re.findall(r'[\\w\\.-]+@[\\w\\.-]+',str1)\n",
    "for email in emails:\n",
    "    print(email)"
   ]
  },
  {
   "cell_type": "markdown",
   "id": "c3f56ffa",
   "metadata": {},
   "source": [
    "### 2"
   ]
  },
  {
   "cell_type": "code",
   "execution_count": 18,
   "id": "2477e32e",
   "metadata": {},
   "outputs": [
    {
     "name": "stdout",
     "output_type": "stream",
     "text": [
      "2023-04-13\n",
      "2022-05-19\n"
     ]
    }
   ],
   "source": [
    "import re\n",
    "text=\"here is some dates 2023-04-13, 2022-05-19 to choose.\"\n",
    "dates=re.findall(r'\\d{4}-\\d{2}-\\d{2}+',text)\n",
    "for date in dates:\n",
    "    print(date)"
   ]
  },
  {
   "cell_type": "markdown",
   "id": "f010195d",
   "metadata": {},
   "source": [
    "### 3"
   ]
  },
  {
   "cell_type": "code",
   "execution_count": 7,
   "id": "4a66bc3a",
   "metadata": {},
   "outputs": [
    {
     "name": "stdout",
     "output_type": "stream",
     "text": [
      "match found\n"
     ]
    }
   ],
   "source": [
    "import re\n",
    "text=\"12345\"\n",
    "pattern=r'.*[13579].*'\n",
    "if re.match(pattern,text):\n",
    "    print(\"match found\")\n",
    "else:\n",
    "    print(\"no match found\")"
   ]
  },
  {
   "cell_type": "markdown",
   "id": "922ecc9b",
   "metadata": {},
   "source": [
    "### 4"
   ]
  },
  {
   "cell_type": "code",
   "execution_count": 6,
   "id": "cbf61a5d",
   "metadata": {},
   "outputs": [
    {
     "name": "stdout",
     "output_type": "stream",
     "text": [
      "match found\n"
     ]
    }
   ],
   "source": [
    "import re\n",
    "text='Hello world'\n",
    "pattern=r'^[a-zA-Z\\s]*$'\n",
    "if re.match(pattern,text):\n",
    "    print(\"match found\")\n",
    "else:\n",
    "    print(\"no match found\")"
   ]
  },
  {
   "cell_type": "markdown",
   "id": "b5a7074c",
   "metadata": {},
   "source": [
    "### 5"
   ]
  },
  {
   "cell_type": "code",
   "execution_count": 3,
   "id": "9ed5735f",
   "metadata": {},
   "outputs": [
    {
     "name": "stdout",
     "output_type": "stream",
     "text": [
      "match found \n"
     ]
    }
   ],
   "source": [
    "import re\n",
    "text=\"apples\"\n",
    "pattern=r'^[aeiouAEIOU].*[b-df-hj-np-tv-zB-DF-HJ-NP-TV-Z]$'\n",
    "if re.match(pattern,text):\n",
    "    print(\"match found \")\n",
    "else:\n",
    "    print(\"no match found\")"
   ]
  },
  {
   "cell_type": "markdown",
   "id": "2835587a",
   "metadata": {},
   "source": [
    "### 6"
   ]
  },
  {
   "cell_type": "code",
   "execution_count": 1,
   "id": "d38f7b29",
   "metadata": {},
   "outputs": [
    {
     "name": "stdout",
     "output_type": "stream",
     "text": [
      "match found \n"
     ]
    }
   ],
   "source": [
    "import re\n",
    "text=\"This is a python string\"\n",
    "pattern=r'\\w{0,2}python\\w{0,2}'\n",
    "match=re.search(pattern,text,re.IGNORECASE)\n",
    "if match:\n",
    "    print(\"match found \")\n",
    "else:\n",
    "    print(\"no match found\")"
   ]
  },
  {
   "cell_type": "markdown",
   "id": "b300792a",
   "metadata": {},
   "source": [
    "### 7"
   ]
  },
  {
   "cell_type": "code",
   "execution_count": 2,
   "id": "e39553db",
   "metadata": {},
   "outputs": [
    {
     "name": "stdout",
     "output_type": "stream",
     "text": [
      "match found\n"
     ]
    }
   ],
   "source": [
    "import re\n",
    "text=\"hello\"\n",
    "pattern=r'[a-z]{3,}'\n",
    "if re.findall(pattern,text):\n",
    "    print(\"match found\")\n",
    "else:\n",
    "    print(\"no match found\")"
   ]
  },
  {
   "cell_type": "markdown",
   "id": "891f34bb",
   "metadata": {},
   "source": [
    "### 8"
   ]
  },
  {
   "cell_type": "code",
   "execution_count": 7,
   "id": "8e52f374",
   "metadata": {},
   "outputs": [
    {
     "name": "stdout",
     "output_type": "stream",
     "text": [
      "match found \n"
     ]
    }
   ],
   "source": [
    "import re\n",
    "text=\"192.168.0.1\"\n",
    "pattern=r'\\d{1,3}.\\d{1,3}.\\d{1,3}\\d{1,3}'\n",
    "match=re.search(pattern,text)\n",
    "if match:\n",
    "    print(\"match found \")\n",
    "else:\n",
    "    print(\"no match found\")\n",
    "    \n"
   ]
  },
  {
   "cell_type": "markdown",
   "id": "04796711",
   "metadata": {},
   "source": [
    "#### Exercise 2"
   ]
  },
  {
   "cell_type": "markdown",
   "id": "6a3c29f5",
   "metadata": {},
   "source": [
    "### 1"
   ]
  },
  {
   "cell_type": "code",
   "execution_count": 11,
   "id": "d4835b9e",
   "metadata": {},
   "outputs": [
    {
     "name": "stdout",
     "output_type": "stream",
     "text": [
      "match found\n",
      "starting position:  0\n"
     ]
    }
   ],
   "source": [
    "import re\n",
    "string=\"192.168.1.1\"\n",
    "pattern=r'\\d{1,3}.\\d{1,3}.\\d{1,3}.\\d{1,3}'\n",
    "match= re.match(pattern,string)\n",
    "if match:\n",
    "    print(\"match found\")\n",
    "    print(\"starting position: \",match.start())\n",
    "else:\n",
    "    print(\"no match found\")\n"
   ]
  },
  {
   "cell_type": "code",
   "execution_count": 14,
   "id": "d8ae9419",
   "metadata": {},
   "outputs": [
    {
     "name": "stdout",
     "output_type": "stream",
     "text": [
      "match found\n",
      "starting position:  0\n"
     ]
    }
   ],
   "source": [
    "import re\n",
    "string=\"192.168.1.1\"\n",
    "pattern=r'^(\\d{1,3}\\.){3}\\d{1,3}$'\n",
    "match= re.match(pattern,string)\n",
    "if match:\n",
    "    print(\"match found\")\n",
    "    print(\"starting position: \",match.start())\n",
    "else:\n",
    "    print(\"no match found\")\n"
   ]
  },
  {
   "cell_type": "markdown",
   "id": "92f0f8c8",
   "metadata": {},
   "source": [
    "### 2"
   ]
  },
  {
   "cell_type": "code",
   "execution_count": 41,
   "id": "f7a0c1f3",
   "metadata": {},
   "outputs": [
    {
     "name": "stdout",
     "output_type": "stream",
     "text": [
      "['2022-04-13']\n"
     ]
    }
   ],
   "source": [
    "import re\n",
    "text=\"Today's date is 2022-04-13\"\n",
    "pattern=r'\\d{4}-\\d{2}-\\d{2}'\n",
    "match=re.findall(pattern,text)\n",
    "print(match)"
   ]
  },
  {
   "cell_type": "markdown",
   "id": "094e6fe5",
   "metadata": {},
   "source": [
    "### 3"
   ]
  },
  {
   "cell_type": "code",
   "execution_count": 42,
   "id": "cf054a53",
   "metadata": {},
   "outputs": [
    {
     "name": "stdout",
     "output_type": "stream",
     "text": [
      "['john_doe@example.com']\n"
     ]
    }
   ],
   "source": [
    "import re\n",
    "text=\"My email address is john_doe@example.com, and i can be reached there anytime\"\n",
    "pattern=r'[\\w\\.-]+@[\\w\\.-]+'\n",
    "match=re.findall(pattern,text)\n",
    "print(match)"
   ]
  },
  {
   "cell_type": "markdown",
   "id": "ae1755ec",
   "metadata": {},
   "source": [
    "### 4"
   ]
  },
  {
   "cell_type": "code",
   "execution_count": 2,
   "id": "952a6725",
   "metadata": {},
   "outputs": [
    {
     "name": "stdout",
     "output_type": "stream",
     "text": [
      "Visit [URL REDACTED] for more information, or visit [URL REDACTED] for secure access\n"
     ]
    }
   ],
   "source": [
    "import re\n",
    "string=\"Visit http://www.example.com for more information, or visit https://www.example.com for secure access\"\n",
    "pattern=r'https?://www\\.[\\w\\.-]+'\n",
    "modified_text=re.sub(pattern,\"[URL REDACTED]\",string)\n",
    "print(modified_text)"
   ]
  },
  {
   "cell_type": "markdown",
   "id": "44248911",
   "metadata": {},
   "source": [
    "### 5"
   ]
  },
  {
   "cell_type": "code",
   "execution_count": 8,
   "id": "ada37caf",
   "metadata": {},
   "outputs": [
    {
     "name": "stdout",
     "output_type": "stream",
     "text": [
      "Matched: 3.14  ,  Start: 34 ,  End: 38\n",
      "Matched: 2.71828  ,  Start: 63 ,  End: 70\n"
     ]
    }
   ],
   "source": [
    "import re\n",
    "text=\"The value of pi is apporoximately 3.14, and e is approximately 2.71828.\"\n",
    "pattern=r'\\d+(\\.\\d+)?'\n",
    "matches=re.finditer(pattern,text)\n",
    "for match in matches:\n",
    "    matched=match.group()\n",
    "    start_postn=match.start()\n",
    "    end_postn=match.end()\n",
    "    print(f\"Matched: {matched}  ,  Start: {start_postn} ,  End: {end_postn}\")"
   ]
  },
  {
   "cell_type": "markdown",
   "id": "754897a8",
   "metadata": {},
   "source": [
    "### 6"
   ]
  },
  {
   "cell_type": "code",
   "execution_count": 10,
   "id": "a75d9883",
   "metadata": {},
   "outputs": [
    {
     "name": "stdout",
     "output_type": "stream",
     "text": [
      "['1234-5678-9012-3456']\n"
     ]
    }
   ],
   "source": [
    "import re\n",
    "text=\"My credit card number is 1234-5678-9012-3456.\"\n",
    "pattern=r'\\d{4}-\\d{4}-\\d{4}-\\d{4}'\n",
    "matches=re.findall(pattern,text)\n",
    "print(matches)"
   ]
  },
  {
   "cell_type": "markdown",
   "id": "58e0b8e3",
   "metadata": {},
   "source": [
    "### 7"
   ]
  },
  {
   "cell_type": "code",
   "execution_count": 12,
   "id": "8dc63bdb",
   "metadata": {},
   "outputs": [
    {
     "name": "stdout",
     "output_type": "stream",
     "text": [
      "Please call [PHONE REDACTED] for assistance.\n"
     ]
    }
   ],
   "source": [
    "import re\n",
    "text=\"Please call (555) 123-4567 for assistance.\"\n",
    "pattern=r'\\(\\d{3}\\) \\d{3}-\\d{4}'\n",
    "modified_string=re.sub(pattern,\"[PHONE REDACTED]\",text)\n",
    "print(modified_string)"
   ]
  },
  {
   "cell_type": "markdown",
   "id": "c6cd3bc5",
   "metadata": {},
   "source": [
    "### 8"
   ]
  },
  {
   "cell_type": "code",
   "execution_count": 2,
   "id": "6d602eb7",
   "metadata": {},
   "outputs": [
    {
     "name": "stdout",
     "output_type": "stream",
     "text": [
      "Matched string: 16:35:42\n",
      "Starting position: 20\n"
     ]
    }
   ],
   "source": [
    "import re\n",
    "text=\"The current time is 16:35:42.\"\n",
    "pattern=re.compile(r'(?:[01]\\d|2[0-3]):[0-5]\\d:[0-5]\\d')\n",
    "match=pattern.search(text)\n",
    "if match:\n",
    "    print(\"Matched string:\", match.group())\n",
    "    print(\"Starting position:\", match.start())\n",
    "else:\n",
    "    print(\"No match found.\")"
   ]
  },
  {
   "cell_type": "markdown",
   "id": "21ce17eb",
   "metadata": {},
   "source": [
    "### 9"
   ]
  },
  {
   "cell_type": "code",
   "execution_count": 1,
   "id": "2d8b772c",
   "metadata": {},
   "outputs": [
    {
     "name": "stdout",
     "output_type": "stream",
     "text": [
      "Matched strings: ['jane_smith@mycompany.com.']\n"
     ]
    }
   ],
   "source": [
    "import re\n",
    "pattern = re.compile(r'[\\w\\.-]+@(?!example\\.com)[\\w\\.-]+')\n",
    "text = \"My email is john_doe@example.com, but my colleague's email is jane_smith@mycompany.com.\"\n",
    "matches = pattern.findall(text)\n",
    "print(\"Matched strings:\", matches)\n"
   ]
  },
  {
   "cell_type": "markdown",
   "id": "d44e7208",
   "metadata": {},
   "source": [
    "### 10"
   ]
  },
  {
   "cell_type": "code",
   "execution_count": 1,
   "id": "b4f96d2d",
   "metadata": {},
   "outputs": [
    {
     "name": "stdout",
     "output_type": "stream",
     "text": [
      "Modified string: Visit [URL REDACTED] for more information, or visit [URL REDACTED] for secure access.\n"
     ]
    }
   ],
   "source": [
    "import re\n",
    "pattern =re.compile(r'https?://(?!example\\.com)\\w+\\.\\w+\\.\\w+')\n",
    "text = \"Visit http://www.example.com for more information, or visit http://www.mycompany.com for secure access.\"\n",
    "\n",
    "text = pattern.sub('[URL REDACTED]', text)\n",
    "\n",
    "print(\"Modified string:\", text)\n"
   ]
  },
  {
   "cell_type": "code",
   "execution_count": null,
   "id": "47025cf2",
   "metadata": {},
   "outputs": [],
   "source": []
  }
 ],
 "metadata": {
  "kernelspec": {
   "display_name": "Python 3 (ipykernel)",
   "language": "python",
   "name": "python3"
  },
  "language_info": {
   "codemirror_mode": {
    "name": "ipython",
    "version": 3
   },
   "file_extension": ".py",
   "mimetype": "text/x-python",
   "name": "python",
   "nbconvert_exporter": "python",
   "pygments_lexer": "ipython3",
   "version": "3.11.4"
  }
 },
 "nbformat": 4,
 "nbformat_minor": 5
}
