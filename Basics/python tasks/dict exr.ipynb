{
 "cells": [
  {
   "cell_type": "markdown",
   "id": "b780c228",
   "metadata": {},
   "source": [
    "## Dictionaries"
   ]
  },
  {
   "cell_type": "markdown",
   "id": "dbd3ee9a",
   "metadata": {},
   "source": [
    "### 1"
   ]
  },
  {
   "cell_type": "code",
   "execution_count": 9,
   "id": "65a58fa1",
   "metadata": {},
   "outputs": [
    {
     "name": "stdout",
     "output_type": "stream",
     "text": [
      "Ascending order is:  [('apple', 1), ('mango', 4), ('orange', 8), ('banana', 14)]\n",
      "Descending order is:  [('banana', 14), ('orange', 8), ('mango', 4), ('apple', 1)]\n"
     ]
    }
   ],
   "source": [
    "dict1={'apple':1,'orange':8,'mango':4,'banana':14}\n",
    "dict_ascending=sorted(dict1.items(),key=lambda item:item[1])\n",
    "dict_descending=sorted(dict1.items(),key=lambda item:item[1],reverse=True)\n",
    "print(\"Ascending order is: \",dict_ascending)\n",
    "print(\"Descending order is: \",dict_descending)"
   ]
  },
  {
   "cell_type": "markdown",
   "id": "cd52bda5",
   "metadata": {},
   "source": [
    "### 2"
   ]
  },
  {
   "cell_type": "code",
   "execution_count": 18,
   "id": "b3ef42ec",
   "metadata": {},
   "outputs": [
    {
     "name": "stdout",
     "output_type": "stream",
     "text": [
      "The key,  name exists in the dictionary dict1. \n"
     ]
    }
   ],
   "source": [
    "dict1={'name':'Jahana','age':22,'place':'perinthalmanna'}\n",
    "check='name'\n",
    "if check in dict1:\n",
    "    print(\"The key, \",check,\"exists in the dictionary dict1. \")\n",
    "else:\n",
    "    print(\"The key \",check,\"does not exist in the dictionary dict1. \")\n",
    "        "
   ]
  },
  {
   "cell_type": "markdown",
   "id": "c0907ef6",
   "metadata": {},
   "source": [
    "### 3"
   ]
  },
  {
   "cell_type": "code",
   "execution_count": 14,
   "id": "275a0fd2",
   "metadata": {},
   "outputs": [
    {
     "name": "stdout",
     "output_type": "stream",
     "text": [
      "dictionary is:  {1: 1, 2: 4, 3: 9, 4: 16, 5: 25}\n"
     ]
    }
   ],
   "source": [
    "n=5\n",
    "dict1={}\n",
    "for x in range(1,n+1):\n",
    "    dict1[x]=x*x\n",
    "print(\"dictionary is: \",dict1)"
   ]
  },
  {
   "cell_type": "markdown",
   "id": "1840811e",
   "metadata": {},
   "source": [
    "### 4"
   ]
  },
  {
   "cell_type": "code",
   "execution_count": 21,
   "id": "11a3d0df",
   "metadata": {},
   "outputs": [
    {
     "name": "stdout",
     "output_type": "stream",
     "text": [
      "Maximum value is:  345\n",
      "Minimum value is:  12\n"
     ]
    }
   ],
   "source": [
    "dict1={'a':200,'b':12,'c':345,'d':43}\n",
    "key_max=max(dict1,\n",
    "key=dict1.get)\n",
    "key_min=min(dict1,\n",
    "key=dict1.get)\n",
    "max_value=dict1[key_max]\n",
    "min_value=dict1[key_min]\n",
    "print(\"Maximum value is: \",max_value)\n",
    "print(\"Minimum value is: \",min_value)\n"
   ]
  },
  {
   "cell_type": "code",
   "execution_count": 22,
   "id": "497d1274",
   "metadata": {},
   "outputs": [
    {
     "name": "stdout",
     "output_type": "stream",
     "text": [
      "Maximum value is:  2000\n",
      "Minimum value is:  4\n"
     ]
    }
   ],
   "source": [
    "dict1={'a':2000,'b':12,'c':345,'d':4}\n",
    "x=dict1.values()\n",
    "print(\"Maximum value is: \",max(x))\n",
    "print(\"Minimum value is: \",min(x))\n"
   ]
  },
  {
   "cell_type": "markdown",
   "id": "b9d417ca",
   "metadata": {},
   "source": [
    "### 5"
   ]
  },
  {
   "cell_type": "code",
   "execution_count": 1,
   "id": "e0206fee",
   "metadata": {},
   "outputs": [
    {
     "name": "stdout",
     "output_type": "stream",
     "text": [
      "Enter name: Jahana\n",
      "Enter age: 22\n",
      "Enter name: Shalu\n",
      "Enter age: 26\n",
      "Enter name: Sachu\n",
      "Enter age: 14\n",
      "Dictionary is:  {'Jahana': 22, 'Shalu': 26, 'Sachu': 14}\n"
     ]
    }
   ],
   "source": [
    "dict1={}\n",
    "for i in range(3):\n",
    "    name = input(\"Enter name: \")\n",
    "    age = int(input(\"Enter age: \"))\n",
    "    dict1[name] = age\n",
    "print(\"Dictionary is: \",dict1)"
   ]
  },
  {
   "cell_type": "markdown",
   "id": "355975fb",
   "metadata": {},
   "source": [
    "### 6"
   ]
  },
  {
   "cell_type": "code",
   "execution_count": 2,
   "id": "a30b66b6",
   "metadata": {},
   "outputs": [
    {
     "name": "stdout",
     "output_type": "stream",
     "text": [
      "Enter a list of words separated by spaces: apple banana cherry date fig grape kiwi orange mango\n",
      "words with length:  {5: ['apple', 'grape', 'mango'], 6: ['banana', 'cherry', 'orange'], 4: ['date', 'kiwi'], 3: ['fig']}\n"
     ]
    }
   ],
   "source": [
    "words = input(\"Enter a list of words separated by spaces: \").split()\n",
    "dict1 = {}\n",
    "for word in words:\n",
    "    if len(word) not in dict1:\n",
    "        dict1[len(word)] = [word]\n",
    "    else:\n",
    "        dict1[len(word)].append(word)\n",
    "print(\"words with length: \",dict1)"
   ]
  },
  {
   "cell_type": "markdown",
   "id": "32f61d93",
   "metadata": {},
   "source": [
    "### 7"
   ]
  },
  {
   "cell_type": "code",
   "execution_count": 3,
   "id": "a0d74a81",
   "metadata": {},
   "outputs": [
    {
     "name": "stdout",
     "output_type": "stream",
     "text": [
      "the dictionary is:  {(2, 3): 5, (6, 4): 10, (1, 5): 6, (6, 1): 7}\n"
     ]
    }
   ],
   "source": [
    "dict1={}\n",
    "tuple1=[(2,3),(6,4),(1,5),(6,1)]\n",
    "for tup in tuple1:\n",
    "    key=tup\n",
    "    value=sum(tup)\n",
    "    dict1[key]=value\n",
    "print(\"the dictionary is: \",dict1)"
   ]
  },
  {
   "cell_type": "markdown",
   "id": "7ffca055",
   "metadata": {},
   "source": [
    "### 8"
   ]
  },
  {
   "cell_type": "code",
   "execution_count": 4,
   "id": "d08c35f6",
   "metadata": {},
   "outputs": [
    {
     "name": "stdout",
     "output_type": "stream",
     "text": [
      "intersection of dict1 and dict2 is:  {'a': 1, 'b': 2}\n"
     ]
    }
   ],
   "source": [
    "dict1={'a':1,'b':2,'c':3,'d':4}\n",
    "dict2={'c':4,'a':1,'b':2}\n",
    "intersection={key: dict1[key] for key in dict1 if key in dict2 and dict1[key]==dict2[key]}\n",
    "print(\"intersection of dict1 and dict2 is: \",intersection)"
   ]
  },
  {
   "cell_type": "code",
   "execution_count": null,
   "id": "b5f84df0",
   "metadata": {},
   "outputs": [],
   "source": [
    "\n"
   ]
  },
  {
   "cell_type": "code",
   "execution_count": null,
   "id": "47ad2175",
   "metadata": {},
   "outputs": [],
   "source": []
  }
 ],
 "metadata": {
  "kernelspec": {
   "display_name": "Python 3 (ipykernel)",
   "language": "python",
   "name": "python3"
  },
  "language_info": {
   "codemirror_mode": {
    "name": "ipython",
    "version": 3
   },
   "file_extension": ".py",
   "mimetype": "text/x-python",
   "name": "python",
   "nbconvert_exporter": "python",
   "pygments_lexer": "ipython3",
   "version": "3.11.4"
  }
 },
 "nbformat": 4,
 "nbformat_minor": 5
}
