{
 "cells": [
  {
   "cell_type": "markdown",
   "id": "1f792cf2",
   "metadata": {},
   "source": [
    "### Python functions"
   ]
  },
  {
   "cell_type": "markdown",
   "id": "b197a786",
   "metadata": {},
   "source": [
    "### 1"
   ]
  },
  {
   "cell_type": "code",
   "execution_count": 2,
   "id": "9f6b5b2e",
   "metadata": {},
   "outputs": [
    {
     "name": "stdout",
     "output_type": "stream",
     "text": [
      "Hip\n",
      "Hip\n",
      "Hooray!\n",
      "\n",
      "Hip\n",
      "Hip\n",
      "Hooray!\n",
      "\n",
      "Hip\n",
      "Hip\n",
      "Hooray!\n",
      "\n"
     ]
    }
   ],
   "source": [
    "def say_hip():\n",
    "        print('Hip')\n",
    "def say_horray():\n",
    "        print('Hooray!')\n",
    "for i in range(3):\n",
    "            say_hip()\n",
    "            say_hip()\n",
    "            say_horray()\n",
    "            print()                                           #empty line"
   ]
  },
  {
   "cell_type": "markdown",
   "id": "e0067c02",
   "metadata": {},
   "source": [
    "### 2"
   ]
  },
  {
   "cell_type": "code",
   "execution_count": 5,
   "id": "19a172f7",
   "metadata": {},
   "outputs": [
    {
     "name": "stdout",
     "output_type": "stream",
     "text": [
      "Enter project score: 30\n",
      "Enter exam score: 40\n",
      "Total:  70\n",
      "Project:  ======\n",
      "Exam:  ========\n",
      "Total:  ==============\n",
      "Grade:  A\n"
     ]
    }
   ],
   "source": [
    "project_score=int(input(\"Enter project score: \"))\n",
    "exam_score=int(input(\"Enter exam score: \"))\n",
    "total_score=project_score+exam_score\n",
    "grade='D'\n",
    "if total_score>=60 and project_score>=25 and exam_score>=25:\n",
    "    grade='A'\n",
    "elif total_score>=50 and(project_score>=25 or exam_score>=25):\n",
    "    grade='B'\n",
    "elif total_score>=40:\n",
    "    grade='C'\n",
    "print(\"Total: \",total_score)\n",
    "print(\"Project: \",'='*(project_score//5))\n",
    "print(\"Exam: \",'='*(exam_score//5))\n",
    "print('Total: ','='*(total_score//5))\n",
    "print(\"Grade: \",grade)"
   ]
  },
  {
   "cell_type": "markdown",
   "id": "3b1a9688",
   "metadata": {},
   "source": [
    "### 3"
   ]
  },
  {
   "cell_type": "code",
   "execution_count": 2,
   "id": "89d33c46",
   "metadata": {},
   "outputs": [
    {
     "name": "stdout",
     "output_type": "stream",
     "text": [
      "Enter project score: 30\n",
      "Enter exam score: 40\n",
      "Total:  70\n",
      "Project:  ======\n",
      "Exam:  ========\n",
      "Total:  ==============\n",
      "Grade:  A\n"
     ]
    }
   ],
   "source": [
    "def print_score(label,score):\n",
    "    print(label,'='*(score//5))\n",
    "project_score=int(input(\"Enter project score: \"))\n",
    "exam_score=int(input(\"Enter exam score: \"))\n",
    "total_score=project_score+exam_score\n",
    "grade='D'\n",
    "if total_score>=60 and project_score>=25 and exam_score>=25:\n",
    "    grade='A'\n",
    "elif total_score>=50 and(project_score>=25 or exam_score>=25):\n",
    "    grade='B'\n",
    "elif total_score>=40:\n",
    "    grade='C'\n",
    "print(\"Total: \",total_score)\n",
    "print_score(\"Project: \",project_score)\n",
    "print_score(\"Exam: \",exam_score)\n",
    "print_score('Total: ',total_score)\n",
    "print(\"Grade: \",grade)"
   ]
  },
  {
   "cell_type": "markdown",
   "id": "b0bffd1f",
   "metadata": {},
   "source": [
    "##### 4"
   ]
  },
  {
   "cell_type": "code",
   "execution_count": 13,
   "id": "84a68236",
   "metadata": {},
   "outputs": [
    {
     "name": "stdout",
     "output_type": "stream",
     "text": [
      "Enter project score: 21\n",
      "Enter exam score: 12\n",
      "Total:  33\n",
      "Project:  ====\n",
      "Exam:  ==\n",
      "Total:  ======\n",
      "Grade:  D\n"
     ]
    }
   ],
   "source": [
    "def calculate_grade(project_score,exam_score):\n",
    "    total_score=project_score+exam_score\n",
    "def print_score(label,score):\n",
    "    print(label,'='*(score//5))\n",
    "project_score=int(input(\"Enter project score: \"))\n",
    "exam_score=int(input(\"Enter exam score: \"))\n",
    "total_score=project_score+exam_score\n",
    "grade='D'\n",
    "if total_score>=60 and project_score>=25 and exam_score>=25:\n",
    "    grade='A'\n",
    "elif total_score>=50 and(project_score>=25 or exam_score>=25):\n",
    "    grade='B'\n",
    "elif total_score>=40:\n",
    "    grade='C'\n",
    "print(\"Total: \",total_score)\n",
    "print_score(\"Project: \",project_score)\n",
    "print_score(\"Exam: \",exam_score)\n",
    "print_score('Total: ',total_score)\n",
    "print(\"Grade: \",grade)"
   ]
  },
  {
   "cell_type": "markdown",
   "id": "beb4d8d3",
   "metadata": {},
   "source": [
    "### 5"
   ]
  },
  {
   "cell_type": "code",
   "execution_count": 5,
   "id": "e6c08635",
   "metadata": {},
   "outputs": [
    {
     "name": "stdout",
     "output_type": "stream",
     "text": [
      "Enter project score: 30\n",
      "Enter exam score: 40\n",
      "Total:  70\n",
      "Project: ======\n",
      "Exam: ========\n",
      "Total: ==============\n",
      "Grade:  A\n"
     ]
    }
   ],
   "source": [
    "def print_score(label, score):\n",
    "    print(f\"{label}: {'=' * (score // 5)}\")\n",
    "def calculate_grade(project_score, exam_score):\n",
    "    total_score = project_score + exam_score\n",
    "    if total_score >= 60 and project_score >= 25 and exam_score >= 25:\n",
    "        return 'A'\n",
    "    elif total_score >= 50 and (project_score >= 25 or exam_score >= 25):\n",
    "        return 'B'\n",
    "    elif total_score >= 40:\n",
    "        return 'C'\n",
    "    else:\n",
    "        return 'D'\n",
    "def main():\n",
    "    project_score = int(input(\"Enter project score: \"))\n",
    "    exam_score = int(input(\"Enter exam score: \"))\n",
    "    grade = calculate_grade(project_score, exam_score)\n",
    "    print(\"Total: \", project_score + exam_score)\n",
    "    print_score(\"Project\", project_score)\n",
    "    print_score(\"Exam\", exam_score)\n",
    "    print_score(\"Total\", project_score + exam_score)\n",
    "    print(\"Grade: \", grade)\n",
    "main()\n"
   ]
  },
  {
   "cell_type": "markdown",
   "id": "63897190",
   "metadata": {},
   "source": [
    "### 6"
   ]
  },
  {
   "cell_type": "code",
   "execution_count": 1,
   "id": "82311bb7",
   "metadata": {},
   "outputs": [
    {
     "name": "stdout",
     "output_type": "stream",
     "text": [
      "Enter project score: 23\n",
      "Enter exam score: 32\n",
      "Project: ====\n",
      "Exam: ======\n",
      "Total: ===========\n",
      "Grade: B\n"
     ]
    }
   ],
   "source": [
    "def print_score(name, value):\n",
    "    print(f\"{name}: {'=' * (int(value) // 5)}\")\n",
    "def calculate_grade(project_score, exam_score):\n",
    "    total_score = project_score + exam_score\n",
    "    if total_score >= 60 and project_score >= 25 and exam_score >= 25:\n",
    "        return 'A'\n",
    "    elif total_score >= 50 and (project_score >= 25 or exam_score >= 25):\n",
    "        return 'B'\n",
    "    elif total_score >= 40:\n",
    "        return 'C'\n",
    "    else:\n",
    "        return 'D'\n",
    "def print_report(project_score, exam_score, grade):\n",
    "    print_score(\"Project\", project_score)\n",
    "    print_score(\"Exam\", exam_score)\n",
    "    print_score(\"Total\", project_score + exam_score)\n",
    "    print(f\"Grade: {grade}\")\n",
    "def read_number(prompt):\n",
    "    while True:\n",
    "        try:\n",
    "            number = float(input(prompt))\n",
    "            return number\n",
    "        except ValueError:\n",
    "            print(\"Please enter a valid number.\")\n",
    "def main():\n",
    "    project_score = read_number('Enter project score: ')\n",
    "    exam_score = read_number('Enter exam score: ')\n",
    "    grade = calculate_grade(project_score, exam_score)\n",
    "    print_report(project_score, exam_score, grade)\n",
    "main()\n"
   ]
  },
  {
   "cell_type": "code",
   "execution_count": null,
   "id": "033aa5e4",
   "metadata": {},
   "outputs": [],
   "source": []
  },
  {
   "cell_type": "code",
   "execution_count": null,
   "id": "a5466d27",
   "metadata": {},
   "outputs": [],
   "source": []
  }
 ],
 "metadata": {
  "kernelspec": {
   "display_name": "Python 3 (ipykernel)",
   "language": "python",
   "name": "python3"
  },
  "language_info": {
   "codemirror_mode": {
    "name": "ipython",
    "version": 3
   },
   "file_extension": ".py",
   "mimetype": "text/x-python",
   "name": "python",
   "nbconvert_exporter": "python",
   "pygments_lexer": "ipython3",
   "version": "3.11.4"
  }
 },
 "nbformat": 4,
 "nbformat_minor": 5
}
