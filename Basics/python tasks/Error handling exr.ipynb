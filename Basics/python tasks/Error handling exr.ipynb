{
 "cells": [
  {
   "cell_type": "markdown",
   "id": "26642267",
   "metadata": {},
   "source": [
    "### Python error handling"
   ]
  },
  {
   "cell_type": "markdown",
   "id": "8c6d22cf",
   "metadata": {},
   "source": [
    "### 1"
   ]
  },
  {
   "cell_type": "code",
   "execution_count": 6,
   "id": "5df4451a",
   "metadata": {},
   "outputs": [
    {
     "name": "stdout",
     "output_type": "stream",
     "text": [
      "Enter a number: -9\n",
      "please enter a non negative number!\n",
      "Enter a number: !\n",
      "Please enter a valid number\n",
      "Enter a number: 9\n",
      "the square root of 9.0 is 3.00\n"
     ]
    }
   ],
   "source": [
    "import math as m\n",
    "while True:\n",
    "    try:\n",
    "        x=float(input(\"Enter a number: \"))\n",
    "        if x<0:\n",
    "            print(\"please enter a non negative number!\")\n",
    "        else:\n",
    "            square_root=m.sqrt(x)\n",
    "            print(f\"the square root of {x} is {square_root:0.2f}\")\n",
    "            break\n",
    "    except ValueError:\n",
    "            print(\"Please enter a valid number\")"
   ]
  },
  {
   "cell_type": "markdown",
   "id": "ae4538e9",
   "metadata": {},
   "source": [
    "\n",
    "### 2"
   ]
  },
  {
   "cell_type": "code",
   "execution_count": 1,
   "id": "5304f849",
   "metadata": {},
   "outputs": [
    {
     "name": "stdout",
     "output_type": "stream",
     "text": [
      "Please enter a list of numbers separated by commas: 1 2 3\n",
      "Error: Please enter a valid number seperated by commas.\n",
      "Please enter a list of numbers separated by commas: a 1 2\n",
      "Error: Please enter a valid number seperated by commas.\n",
      "Please enter a list of numbers separated by commas: a,1,2\n",
      "Error: Please enter a valid number seperated by commas.\n",
      "Please enter a list of numbers separated by commas: 1,2,3\n",
      "The sum of numbers is 6.0\n"
     ]
    }
   ],
   "source": [
    "def calculate_sum(): \n",
    "    while True:\n",
    "        try:\n",
    "            num = input(\"Please enter a list of numbers separated by commas: \")\n",
    "            num_list=[float(n)for n in num.split(',')]\n",
    "            total= sum(num_list)\n",
    "            print(f\"The sum of numbers is {total}\")\n",
    "            break\n",
    "        except ValueError:\n",
    "            print(f\"Error: Please enter a valid number seperated by commas.\")\n",
    "calculate_sum()\n"
   ]
  },
  {
   "cell_type": "markdown",
   "id": "f5727a8f",
   "metadata": {},
   "source": [
    "### 3"
   ]
  },
  {
   "cell_type": "code",
   "execution_count": 1,
   "id": "f399235e",
   "metadata": {},
   "outputs": [
    {
     "name": "stdout",
     "output_type": "stream",
     "text": [
      "Enter a file name: sample.txt\n",
      "sample.txt File does not exist. Please enter a valid file name.\n",
      "Enter a file name: sample1.txt\n",
      "The contents of this file is:  this is the first line\n"
     ]
    }
   ],
   "source": [
    "\n",
    "while True:\n",
    "    try:\n",
    "        file_name=input(\"Enter a file name: \")\n",
    "        with open(file_name,'r')as f:\n",
    "            contents=f.read()\n",
    "            print(\"The contents of this file is: \",contents)\n",
    "        break\n",
    "    except FileNotFoundError:\n",
    "        print(file_name,\"File does not exist. Please enter a valid file name.\")\n",
    "    except FileNotOpenError:\n",
    "        print(\"An error occured while opening the file. Please enter another file name.\")"
   ]
  },
  {
   "cell_type": "markdown",
   "id": "1e931a89",
   "metadata": {},
   "source": [
    "### 4"
   ]
  },
  {
   "cell_type": "code",
   "execution_count": 2,
   "id": "0ce8f625",
   "metadata": {},
   "outputs": [
    {
     "name": "stdout",
     "output_type": "stream",
     "text": [
      "enter a number: -4\n",
      "please enter a non negative integer\n",
      "enter a number: 4\n",
      "factorial of 4 is:  24\n"
     ]
    }
   ],
   "source": [
    "def factorial(x):\n",
    "    if x==0:\n",
    "        return 1\n",
    "    else:\n",
    "        return x*factorial(x-1)\n",
    "while True:\n",
    "    try:\n",
    "        x=int(input(\"enter a number: \"))\n",
    "        if x<0:\n",
    "            print(\"please enter a non negative integer\")\n",
    "        else:\n",
    "            rslt=factorial(x)\n",
    "            print(\"factorial of\",x,\"is: \",rslt)\n",
    "            break\n",
    "    except ValueError:\n",
    "        print(\"invalid value!.Please enter a valid value\")"
   ]
  },
  {
   "cell_type": "markdown",
   "id": "8542ba3f",
   "metadata": {},
   "source": [
    "### 5"
   ]
  },
  {
   "cell_type": "code",
   "execution_count": 3,
   "id": "b2bf9085",
   "metadata": {},
   "outputs": [
    {
     "name": "stdout",
     "output_type": "stream",
     "text": [
      "Enter a string: \n",
      "Error: Please enter a non-empty string.. Please enter a valid string.\n",
      "Enter a string: Jahana\n",
      "The length of the string is 6\n"
     ]
    }
   ],
   "source": [
    "while True:\n",
    "    try:\n",
    "        x = input(\"Enter a string: \")\n",
    "        if not x:\n",
    "            raise ValueError(\"Please enter a non-empty string.\")\n",
    "        result = len(x)\n",
    "        print(f\"The length of the string is {result}\")\n",
    "        break\n",
    "    except ValueError as e:\n",
    "        print(f\"Error: {e}. Please enter a valid string.\")"
   ]
  },
  {
   "cell_type": "markdown",
   "id": "5ac974c4",
   "metadata": {},
   "source": [
    "### 6"
   ]
  },
  {
   "cell_type": "code",
   "execution_count": 1,
   "id": "4d35b5f0",
   "metadata": {},
   "outputs": [
    {
     "name": "stdout",
     "output_type": "stream",
     "text": [
      "Welcome to the Word Guessing Game!\n",
      "Enter the word to be guessed: python\n",
      "\n",
      "Current Word: ______\n",
      "Attempts left: 9\n",
      "Guess a letter: w\n",
      "Incorrect guess. Try again.\n",
      "\n",
      "Current Word: ______\n",
      "Attempts left: 8\n",
      "Guess a letter: p\n",
      "\n",
      "Current Word: p_____\n",
      "Attempts left: 8\n",
      "Guess a letter: t\n",
      "\n",
      "Current Word: p_t___\n",
      "Attempts left: 8\n",
      "Guess a letter: y\n",
      "\n",
      "Current Word: pyt___\n",
      "Attempts left: 8\n",
      "Guess a letter: o\n",
      "\n",
      "Current Word: pyt_o_\n",
      "Attempts left: 8\n",
      "Guess a letter: n\n",
      "\n",
      "Current Word: pyt_on\n",
      "Attempts left: 8\n",
      "Guess a letter: h\n",
      "\n",
      "Current Word: python\n",
      "Congratulations! You guessed the word: python\n"
     ]
    }
   ],
   "source": [
    "import random\n",
    "def display_word(word, guessed_letters):\n",
    "    display = \"\"\n",
    "    for letter in word:\n",
    "        if letter in guessed_letters:\n",
    "            display += letter\n",
    "        else:\n",
    "            display += \"_\"\n",
    "    return display\n",
    "def get_user_input(prompt, valid_inputs):\n",
    "    while True:\n",
    "        user_input = input(prompt).lower()\n",
    "        if user_input in valid_inputs:\n",
    "            return user_input\n",
    "        else:\n",
    "            print(\"Invalid input. Please try again.\")\n",
    "def play_game():\n",
    "    print(\"Welcome to the Word Guessing Game!\")\n",
    "    word_to_guess =input(\"Enter the word to be guessed: \").lower()\n",
    "    guessed_letters = set()\n",
    "    attempts = len(set(word_to_guess)) + 3\n",
    "    while attempts > 0:\n",
    "        current_display = display_word(word_to_guess, guessed_letters)\n",
    "        print(\"\\nCurrent Word:\", current_display)\n",
    "        if \"_\" not in current_display:\n",
    "            print(\"Congratulations! You guessed the word:\", word_to_guess)\n",
    "            break\n",
    "        print(\"Attempts left:\", attempts)\n",
    "        guessed_letter = get_user_input(\"Guess a letter: \", valid_inputs=\"abcdefghijklmnopqrstuvwxyz\")\n",
    "        if guessed_letter in guessed_letters:\n",
    "            print(\"You've already guessed that letter. Try again.\")\n",
    "            continue\n",
    "        guessed_letters.add(guessed_letter)\n",
    "        if guessed_letter not in word_to_guess:\n",
    "            attempts -= 1\n",
    "            print(\"Incorrect guess. Try again.\")\n",
    "    else:\n",
    "        print(\"Sorry, you're out of attempts. The word was:\", word_to_guess)\n",
    "play_game()\n"
   ]
  },
  {
   "cell_type": "markdown",
   "id": "d23c62a7",
   "metadata": {},
   "source": [
    "### 8"
   ]
  },
  {
   "cell_type": "code",
   "execution_count": 3,
   "id": "e1f2b578",
   "metadata": {},
   "outputs": [
    {
     "name": "stdout",
     "output_type": "stream",
     "text": [
      "================================================================================\n",
      "Welcome to the FLEXIBLE WORD GAME\n",
      "================================================================================\n",
      "Enter the word size (4 to 8): xyz\n",
      "That is not a number. Try again.\n",
      "Enter the word size (4 to 8): 3\n",
      "Number not in the correct range. Try again.\n",
      "Enter the word size (4 to 8): 5\n",
      "Give all 5-letter words you know, one word at a time\n",
      "Enter the word 'end' to exit\n",
      "What's the next word? frame\n",
      "What's the next word? treat\n",
      "What's the next word? great\n",
      "What's the next word? fat\n",
      "Not a 5-letter word\n",
      "What's the next word? creamy\n",
      "Not a 5-letter word\n",
      "What's the next word? treat\n",
      "Repeated word! treat is number 2 in the accepted words list.\n",
      "treat is no longer an accepted word and is banned\n",
      "What's the next word? crime\n",
      "What's the next word? treat\n",
      "treat is banned!\n",
      "What's the next word? end\n",
      "Your score: 3\n",
      "Accepted words (in order of entry): frame great crime\n",
      "Accepted words (in sorted order): crime frame great\n",
      "Banned words (in sorted order): treat\n",
      "Thank you for playing the FLEXIBLE WORD GAME\n"
     ]
    }
   ],
   "source": [
    "\n",
    "def play_flexible_word_game():\n",
    "    print(\"=\"*80)\n",
    "    print(\"Welcome to the FLEXIBLE WORD GAME\")\n",
    "    print(\"=\"*80)\n",
    "    while True:\n",
    "        try:\n",
    "            word_size = int(input(\"Enter the word size (4 to 8): \"))\n",
    "            if 4 <= word_size <= 8:\n",
    "                break       \n",
    "            else:\n",
    "                print(\"Number not in the correct range. Try again.\")\n",
    "        except ValueError:\n",
    "                print(\"That is not a number. Try again.\")\n",
    "    print(f\"Give all {word_size}-letter words you know, one word at a time\")\n",
    "    print(\"Enter the word 'end' to exit\")\n",
    "    accepted_words = []\n",
    "    banned_words = set()\n",
    "    while True:\n",
    "        word = input(\"What's the next word? \").lower()\n",
    "\n",
    "        if word == 'end':\n",
    "            break\n",
    "\n",
    "        if len(word) == word_size:\n",
    "            if word in accepted_words:\n",
    "                print(f\"Repeated word! {word} is number {accepted_words.index(word) + 1} in the accepted words list.\")\n",
    "                print(f\"{word} is no longer an accepted word and is banned\")\n",
    "                banned_words.add(word)\n",
    "                accepted_words.remove(word)\n",
    "            elif word in banned_words:\n",
    "                print(f\"{word} is banned!\")\n",
    "            else:\n",
    "                accepted_words.append(word)\n",
    "        else:\n",
    "            print(f\"Not a {word_size}-letter word\")\n",
    "\n",
    "    print(\"Your score:\", len(accepted_words))\n",
    "    print(\"Accepted words (in order of entry):\", ' '.join(accepted_words))\n",
    "    print(\"Accepted words (in sorted order):\", ' '.join(sorted(accepted_words)))\n",
    "    print(\"Banned words (in sorted order):\", ' '.join(sorted(banned_words)))\n",
    "    print(\"Thank you for playing the FLEXIBLE WORD GAME\")\n",
    "play_flexible_word_game()\n"
   ]
  },
  {
   "cell_type": "code",
   "execution_count": null,
   "id": "58a44924",
   "metadata": {},
   "outputs": [],
   "source": []
  }
 ],
 "metadata": {
  "kernelspec": {
   "display_name": "Python 3 (ipykernel)",
   "language": "python",
   "name": "python3"
  },
  "language_info": {
   "codemirror_mode": {
    "name": "ipython",
    "version": 3
   },
   "file_extension": ".py",
   "mimetype": "text/x-python",
   "name": "python",
   "nbconvert_exporter": "python",
   "pygments_lexer": "ipython3",
   "version": "3.11.4"
  }
 },
 "nbformat": 4,
 "nbformat_minor": 5
}
