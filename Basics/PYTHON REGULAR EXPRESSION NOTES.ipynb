{
 "cells": [
  {
   "cell_type": "markdown",
   "id": "cad53cea",
   "metadata": {},
   "source": [
    "### Python regular expressions"
   ]
  },
  {
   "cell_type": "markdown",
   "id": "f4a5aed2",
   "metadata": {},
   "source": [
    "#### A regular expression is a special sequence of characters that helps you to match  or find other strings or sets of strings,using a specialized syntax held in a pattern."
   ]
  },
  {
   "cell_type": "code",
   "execution_count": 1,
   "id": "3b168999",
   "metadata": {},
   "outputs": [
    {
     "data": {
      "text/plain": [
       "True"
      ]
     },
     "execution_count": 1,
     "metadata": {},
     "output_type": "execute_result"
    }
   ],
   "source": [
    "s='foo123bar'\n",
    "'123' in s"
   ]
  },
  {
   "cell_type": "code",
   "execution_count": 2,
   "id": "d27e4847",
   "metadata": {},
   "outputs": [
    {
     "data": {
      "text/plain": [
       "False"
      ]
     },
     "execution_count": 2,
     "metadata": {},
     "output_type": "execute_result"
    }
   ],
   "source": [
    "'5' in s"
   ]
  },
  {
   "cell_type": "code",
   "execution_count": 3,
   "id": "a6e8224f",
   "metadata": {},
   "outputs": [
    {
     "data": {
      "text/plain": [
       "3"
      ]
     },
     "execution_count": 3,
     "metadata": {},
     "output_type": "execute_result"
    }
   ],
   "source": [
    "s.find('12')                #index"
   ]
  },
  {
   "cell_type": "code",
   "execution_count": 4,
   "id": "9d50cde5",
   "metadata": {},
   "outputs": [
    {
     "data": {
      "text/plain": [
       "-1"
      ]
     },
     "execution_count": 4,
     "metadata": {},
     "output_type": "execute_result"
    }
   ],
   "source": [
    "s.find('4')                 #if not prsnt the rslt should be -1 "
   ]
  },
  {
   "cell_type": "code",
   "execution_count": 5,
   "id": "f45e25fa",
   "metadata": {},
   "outputs": [
    {
     "data": {
      "text/plain": [
       "3"
      ]
     },
     "execution_count": 5,
     "metadata": {},
     "output_type": "execute_result"
    }
   ],
   "source": [
    "s.index(\"123\")"
   ]
  },
  {
   "cell_type": "code",
   "execution_count": 6,
   "id": "fb4fc9b7",
   "metadata": {},
   "outputs": [
    {
     "ename": "ValueError",
     "evalue": "substring not found",
     "output_type": "error",
     "traceback": [
      "\u001b[1;31m---------------------------------------------------------------------------\u001b[0m",
      "\u001b[1;31mValueError\u001b[0m                                Traceback (most recent call last)",
      "Cell \u001b[1;32mIn[6], line 1\u001b[0m\n\u001b[1;32m----> 1\u001b[0m s\u001b[38;5;241m.\u001b[39mindex(\u001b[38;5;124m'\u001b[39m\u001b[38;5;124m5\u001b[39m\u001b[38;5;124m'\u001b[39m)\n",
      "\u001b[1;31mValueError\u001b[0m: substring not found"
     ]
    }
   ],
   "source": [
    "s.index('5')"
   ]
  },
  {
   "cell_type": "markdown",
   "id": "e26cdc58",
   "metadata": {},
   "source": [
    "### RegEX functions\n",
    "\n",
    "#### re module offers a set of fns that allows us to search a string for a match "
   ]
  },
  {
   "cell_type": "code",
   "execution_count": 3,
   "id": "6f0f74c5",
   "metadata": {},
   "outputs": [],
   "source": [
    "import re"
   ]
  },
  {
   "cell_type": "code",
   "execution_count": 2,
   "id": "9a59aa35",
   "metadata": {},
   "outputs": [
    {
     "name": "stderr",
     "output_type": "stream",
     "text": [
      "WARNING: Retrying (Retry(total=4, connect=None, read=None, redirect=None, status=None)) after connection broken by 'NewConnectionError('<pip._vendor.urllib3.connection.HTTPSConnection object at 0x0000021A77451FD0>: Failed to establish a new connection: [Errno 11001] getaddrinfo failed')': /simple/re/\n",
      "WARNING: Retrying (Retry(total=3, connect=None, read=None, redirect=None, status=None)) after connection broken by 'NewConnectionError('<pip._vendor.urllib3.connection.HTTPSConnection object at 0x0000021A7740AE10>: Failed to establish a new connection: [Errno 11001] getaddrinfo failed')': /simple/re/\n",
      "WARNING: Retrying (Retry(total=2, connect=None, read=None, redirect=None, status=None)) after connection broken by 'NewConnectionError('<pip._vendor.urllib3.connection.HTTPSConnection object at 0x0000021A774217D0>: Failed to establish a new connection: [Errno 11001] getaddrinfo failed')': /simple/re/\n",
      "WARNING: Retrying (Retry(total=1, connect=None, read=None, redirect=None, status=None)) after connection broken by 'NewConnectionError('<pip._vendor.urllib3.connection.HTTPSConnection object at 0x0000021A77421810>: Failed to establish a new connection: [Errno 11001] getaddrinfo failed')': /simple/re/\n",
      "WARNING: Retrying (Retry(total=0, connect=None, read=None, redirect=None, status=None)) after connection broken by 'NewConnectionError('<pip._vendor.urllib3.connection.HTTPSConnection object at 0x0000021A77421A50>: Failed to establish a new connection: [Errno 11001] getaddrinfo failed')': /simple/re/\n",
      "ERROR: Could not find a version that satisfies the requirement re (from versions: none)\n",
      "ERROR: No matching distribution found for re\n"
     ]
    }
   ],
   "source": [
    "!pip install re"
   ]
  },
  {
   "cell_type": "markdown",
   "id": "05931a14",
   "metadata": {},
   "source": [
    "### functions and description\n",
    "\n",
    "### search() : retuns a match object if there is a match anywhere in the string\n",
    "\n",
    "### match()  : determine if RE matches at the beginning of the string\n",
    "\n",
    "### findall(): returns a list containing all matches\n",
    "\n",
    "### finditer(): Find all substrings where the RE matches, and returns them as an iterator\n",
    "\n",
    "### split()   : Returns a list where the string has been split at each match\n",
    "\n",
    "### sub()     : replaces one or many matches with a string "
   ]
  },
  {
   "cell_type": "markdown",
   "id": "99465da1",
   "metadata": {},
   "source": [
    "### The search function\n",
    "#### This function searches for first occurrence of RE pattern within string with optional flags.\n",
    "#### re.search(pattern,string,flags=0)\n"
   ]
  },
  {
   "cell_type": "code",
   "execution_count": 5,
   "id": "950cc56c",
   "metadata": {},
   "outputs": [
    {
     "data": {
      "text/plain": [
       "<re.Match object; span=(3, 6), match='123'>"
      ]
     },
     "execution_count": 5,
     "metadata": {},
     "output_type": "execute_result"
    }
   ],
   "source": [
    "import re\n",
    "s='foo123bar'\n",
    "re.search(\"123\",s)"
   ]
  },
  {
   "cell_type": "code",
   "execution_count": 6,
   "id": "a32f863f",
   "metadata": {},
   "outputs": [
    {
     "name": "stdout",
     "output_type": "stream",
     "text": [
      "match\n"
     ]
    }
   ],
   "source": [
    "if re.search(\"123\",s):\n",
    "    print(\"match\")\n",
    "else:\n",
    "    print(\"not a match\")"
   ]
  },
  {
   "cell_type": "markdown",
   "id": "b8ed410c",
   "metadata": {},
   "source": [
    "### Python Regex Metacharacters"
   ]
  },
  {
   "cell_type": "code",
   "execution_count": 7,
   "id": "5a1e595c",
   "metadata": {},
   "outputs": [
    {
     "name": "stdout",
     "output_type": "stream",
     "text": [
      "match\n"
     ]
    }
   ],
   "source": [
    "s='foo195bar'\n",
    "if re.search('[0-9][0-9][0-9]',s):\n",
    "    print(\"match\")\n",
    "else:\n",
    "    print(\"not a match\")"
   ]
  },
  {
   "cell_type": "code",
   "execution_count": 9,
   "id": "4acb7a7f",
   "metadata": {},
   "outputs": [
    {
     "name": "stdout",
     "output_type": "stream",
     "text": [
      "match\n"
     ]
    }
   ],
   "source": [
    "s='foo1002bar'\n",
    "if re.search('[0-9][0-9][0-9][0-9]',s):\n",
    "    print(\"match\")\n",
    "else:\n",
    "    print(\"not a match\")"
   ]
  },
  {
   "cell_type": "markdown",
   "id": "54faa2d4",
   "metadata": {},
   "source": [
    "### character ,description and example"
   ]
  },
  {
   "cell_type": "code",
   "execution_count": null,
   "id": "30c25a39",
   "metadata": {},
   "outputs": [],
   "source": [
    "### []      -  A set of characters         :                                                              \"[a-m]\""
   ]
  },
  {
   "cell_type": "markdown",
   "id": "7886494e",
   "metadata": {},
   "source": [
    "### special sequences\n",
    "####  A special sequence is a \\ followed by one of the characters in the list below and has a spcl mng"
   ]
  },
  {
   "cell_type": "code",
   "execution_count": null,
   "id": "b1f58565",
   "metadata": {},
   "outputs": [],
   "source": [
    "### \\A \n"
   ]
  },
  {
   "cell_type": "markdown",
   "id": "4d94d324",
   "metadata": {},
   "source": [
    "### Sets\n",
    "#### A set is a set of characters inside a pair of [  ] with a spcl meaning"
   ]
  },
  {
   "cell_type": "code",
   "execution_count": null,
   "id": "d84f6bc9",
   "metadata": {},
   "outputs": [],
   "source": [
    "### [a r n]"
   ]
  },
  {
   "cell_type": "code",
   "execution_count": 8,
   "id": "06b94a53",
   "metadata": {},
   "outputs": [
    {
     "name": "stdout",
     "output_type": "stream",
     "text": [
      "<re.Match object; span=(3, 4), match=' '>\n",
      "first whitespace character is located at position:  3\n"
     ]
    }
   ],
   "source": [
    "# search for the first whitespace character in the string\n",
    "txt=\"the rain in spain\"\n",
    "x=re.search(\"\\s\",txt)\n",
    "print(x)\n",
    "print(\"first whitespace character is located at position: \",x.start())           #x.end()"
   ]
  },
  {
   "cell_type": "code",
   "execution_count": 9,
   "id": "33fca20b",
   "metadata": {},
   "outputs": [
    {
     "name": "stdout",
     "output_type": "stream",
     "text": [
      "None\n"
     ]
    }
   ],
   "source": [
    "txt=\"the rain in spain\"\n",
    "x=re.search(\"portugal\",txt)\n",
    "print(x)"
   ]
  },
  {
   "cell_type": "code",
   "execution_count": 10,
   "id": "ed6b6c86",
   "metadata": {},
   "outputs": [
    {
     "name": "stdout",
     "output_type": "stream",
     "text": [
      "<re.Match object; span=(4, 8), match='rain'>\n"
     ]
    }
   ],
   "source": [
    "txt=\"the rain in spain\"\n",
    "x=re.search(\"..in\",txt)\n",
    "print(x)"
   ]
  },
  {
   "cell_type": "code",
   "execution_count": 14,
   "id": "c7a1b17b",
   "metadata": {},
   "outputs": [
    {
     "name": "stdout",
     "output_type": "stream",
     "text": [
      "searchObj.group(): cats are smarter than dogs\n",
      "searchObj.group(1): cats\n",
      "searchObj.group(2): smarter\n"
     ]
    }
   ],
   "source": [
    "line=\"cats are smarter than dogs\"\n",
    "searchObj=re.search(r'(.*) are (.*?) .*', line, re.M|re.I)\n",
    "if searchObj:\n",
    "    print(\"searchObj.group():\",searchObj.group())\n",
    "    print(\"searchObj.group(1):\",searchObj.group(1))\n",
    "    print(\"searchObj.group(2):\",searchObj.group(2))\n",
    "else:\n",
    "    print(\"nothing found\")"
   ]
  },
  {
   "cell_type": "markdown",
   "id": "363cf9dd",
   "metadata": {},
   "source": [
    "#### re.M (multiline) allows ( ^ and  dollar )to match at the beginning and end of each line, not just the beginning and end of the entire string. \n",
    "####  re.I (ignorecase) makes the regular expression case-insensitive."
   ]
  },
  {
   "cell_type": "markdown",
   "id": "e327f693",
   "metadata": {},
   "source": [
    "#### Problem 1\n",
    "#### Write a regular expression that matches any sequence of 3 letters, followed by a dash, followed by 4 numbers (e.g. \"ABC-1234\")."
   ]
  },
  {
   "cell_type": "code",
   "execution_count": 16,
   "id": "7087d1c7",
   "metadata": {},
   "outputs": [
    {
     "name": "stdout",
     "output_type": "stream",
     "text": [
      "match found\n"
     ]
    }
   ],
   "source": [
    "txt='ABC-1234'\n",
    "pattern='[a-zA-Z]{3}-[0-9]{4}'\n",
    "if re.search(pattern,txt):\n",
    "    print(\"match found\")\n",
    "else:\n",
    "    print(\"no match\")"
   ]
  },
  {
   "cell_type": "code",
   "execution_count": 17,
   "id": "8789b17b",
   "metadata": {},
   "outputs": [
    {
     "name": "stdout",
     "output_type": "stream",
     "text": [
      "match found\n"
     ]
    }
   ],
   "source": [
    "txt='ABC-1234'\n",
    "pattern='\\w{3}-\\d{4}'\n",
    "if re.search(pattern,txt):\n",
    "    print(\"match found\")\n",
    "else:\n",
    "    print(\"no match\")"
   ]
  },
  {
   "cell_type": "markdown",
   "id": "48c5ccd3",
   "metadata": {},
   "source": [
    "### The match() Function\n",
    "#### This function attempts to match RE pattern to string with optional flags.\n",
    "\n",
    "#### re.match(pattern, string, flags=0)"
   ]
  },
  {
   "cell_type": "code",
   "execution_count": 6,
   "id": "f93bd38a",
   "metadata": {},
   "outputs": [
    {
     "name": "stdout",
     "output_type": "stream",
     "text": [
      "Match!\n"
     ]
    }
   ],
   "source": [
    "pattern = r\"Cookie\"\n",
    "sequence = \"Cookie is tasty\"\n",
    "if re.match(pattern, sequence):\n",
    "    print(\"Match!\")\n",
    "else: \n",
    "    print(\"Not a match!\")"
   ]
  },
  {
   "cell_type": "code",
   "execution_count": 8,
   "id": "bbf031ac",
   "metadata": {},
   "outputs": [
    {
     "name": "stdout",
     "output_type": "stream",
     "text": [
      "Search successful.\n"
     ]
    }
   ],
   "source": [
    "import re\n",
    "pattern='^a...s$'\n",
    "test_string=\"abyss\"\n",
    "result=re.match(pattern,test_string)\n",
    "if result:\n",
    "    print(\"Search successful.\")\n",
    "else:\n",
    "    print(\"Search unsuccessful.\")"
   ]
  },
  {
   "cell_type": "code",
   "execution_count": 10,
   "id": "a890d191",
   "metadata": {},
   "outputs": [
    {
     "name": "stdout",
     "output_type": "stream",
     "text": [
      "matchObj.group(): cats are smarter than dogs\n",
      "matchObj.group(1): cats\n",
      "matchObj.group(2): smarter\n"
     ]
    }
   ],
   "source": [
    "line=\"cats are smarter than dogs\"\n",
    "matchObj=re.match(r'(.*) are (.*?) .*', line, re.M|re.I)\n",
    "if matchObj:\n",
    "    print(\"matchObj.group():\",matchObj.group())\n",
    "    print(\"matchObj.group(1):\",matchObj.group(1))\n",
    "    print(\"matchObj.group(2):\",matchObj.group(2))\n",
    "else:\n",
    "    print(\"nothing found\")"
   ]
  },
  {
   "cell_type": "markdown",
   "id": "cece7ed4",
   "metadata": {},
   "source": [
    "### Matching Versus Searching\n",
    "#### Python offers two different primitive operations based on regular expressions: match checks for a match only at the beginning of the string, while search checks for a match anywhere in the string (this is what Perl does by default)."
   ]
  },
  {
   "cell_type": "code",
   "execution_count": 12,
   "id": "061eeb3c",
   "metadata": {},
   "outputs": [
    {
     "name": "stdout",
     "output_type": "stream",
     "text": [
      "No match!!\n",
      "search --> searchObj.group() :  dogs\n"
     ]
    }
   ],
   "source": [
    "line=\"cats are smarter than dogs\"\n",
    "matchObj=re.match(r'dogs',line,re.M|re.I)\n",
    "if matchObj:\n",
    "    print(\"match --> matchObj.group() : \", matchObj.group())\n",
    "else:\n",
    "    print(\"No match!!\")\n",
    "\n",
    "searchObj = re.search( r'dogs', line, re.M|re.I)\n",
    "if searchObj:\n",
    "    print(\"search --> searchObj.group() : \", searchObj.group())\n",
    "else:\n",
    "    print(\"Nothing found!!\")"
   ]
  },
  {
   "cell_type": "markdown",
   "id": "0c9a318e",
   "metadata": {},
   "source": [
    "### The findall() Function\n",
    "#### The findall() function returns a list containing all matches."
   ]
  },
  {
   "cell_type": "code",
   "execution_count": 14,
   "id": "92ec4fa1",
   "metadata": {},
   "outputs": [
    {
     "name": "stdout",
     "output_type": "stream",
     "text": [
      "[' rai', 'spai']\n"
     ]
    }
   ],
   "source": [
    "#print a list of all matches\n",
    "text=\"the rain in spain\"\n",
    "x=re.findall(\"..ai\",text)\n",
    "print(x)\n",
    "\n"
   ]
  },
  {
   "cell_type": "code",
   "execution_count": 15,
   "id": "7a9bedda",
   "metadata": {},
   "outputs": [
    {
     "name": "stdout",
     "output_type": "stream",
     "text": [
      "[]\n"
     ]
    }
   ],
   "source": [
    "x=re.findall(\"portugal\",text)\n",
    "print(x)\n"
   ]
  },
  {
   "cell_type": "code",
   "execution_count": 17,
   "id": "4b38b767",
   "metadata": {},
   "outputs": [
    {
     "name": "stdout",
     "output_type": "stream",
     "text": [
      "['12', '19', '54']\n"
     ]
    }
   ],
   "source": [
    "string=\"hello 12 hi 19 how 54\"\n",
    "pattern=\"\\d+\"\n",
    "result=re.findall(pattern,string)\n",
    "print(result)"
   ]
  },
  {
   "cell_type": "code",
   "execution_count": 19,
   "id": "1a12fd74",
   "metadata": {},
   "outputs": [
    {
     "name": "stdout",
     "output_type": "stream",
     "text": [
      "alice@google.com\n",
      "bob@abc.com\n"
     ]
    }
   ],
   "source": [
    "string='purple alice@google.com, blah monkey bob@abc.com blah dishwasher'\n",
    "emails=re.findall(r'[\\w\\.-]+@[\\w\\.-]+',string)\n",
    "for email in emails:\n",
    "    print(email)\n",
    "    "
   ]
  },
  {
   "cell_type": "markdown",
   "id": "d24537e3",
   "metadata": {},
   "source": [
    "### finditer(string, [position, end_position])\n",
    "#### Similar to findall() - it finds all the possible matches in the entire sequence but returns regex match objects as an iterator."
   ]
  },
  {
   "cell_type": "code",
   "execution_count": 5,
   "id": "e3552e8e",
   "metadata": {},
   "outputs": [
    {
     "name": "stdout",
     "output_type": "stream",
     "text": [
      "<re.Match object; span=(22, 42), match='support@datacamp.com'>\n",
      "<re.Match object; span=(44, 60), match='xyz@datacamp.com'>\n"
     ]
    }
   ],
   "source": [
    "statement = \"Please contact us at: support@datacamp.com, xyz@datacamp.com\"\n",
    "addresses=re.finditer(r'[\\w\\.-]+@[\\w\\.-]+',statement)\n",
    "for address in addresses:\n",
    "    print(address)"
   ]
  },
  {
   "cell_type": "markdown",
   "id": "06df9a7f",
   "metadata": {},
   "source": [
    "### The split() Function\n",
    "#### The split() function returns a list where the string has been split at each match:"
   ]
  },
  {
   "cell_type": "code",
   "execution_count": 6,
   "id": "53b336ae",
   "metadata": {},
   "outputs": [
    {
     "name": "stdout",
     "output_type": "stream",
     "text": [
      "['the', 'rain', 'in', 'spain']\n"
     ]
    }
   ],
   "source": [
    "# Split at each white-space character:\n",
    "text=\"the rain in spain\"\n",
    "x=re.split(\"\\s\",text)\n",
    "print(x)"
   ]
  },
  {
   "cell_type": "code",
   "execution_count": 7,
   "id": "f3d7b5d2",
   "metadata": {},
   "outputs": [
    {
     "name": "stdout",
     "output_type": "stream",
     "text": [
      "['the', 'rain in spain']\n"
     ]
    }
   ],
   "source": [
    "#split only @ 1st occurrence\n",
    "x=re.split(\"\\s\",text,1)\n",
    "print(x)"
   ]
  },
  {
   "cell_type": "code",
   "execution_count": 8,
   "id": "25714652",
   "metadata": {},
   "outputs": [
    {
     "name": "stdout",
     "output_type": "stream",
     "text": [
      "['Twelve:', ' Eighty nine:', '.']\n"
     ]
    }
   ],
   "source": [
    "string = 'Twelve:12 Eighty nine:89.'\n",
    "pattern='\\d+'\n",
    "result=re.split(pattern,string)\n",
    "print(result)"
   ]
  },
  {
   "cell_type": "code",
   "execution_count": null,
   "id": "1163935a",
   "metadata": {},
   "outputs": [],
   "source": []
  }
 ],
 "metadata": {
  "kernelspec": {
   "display_name": "Python 3 (ipykernel)",
   "language": "python",
   "name": "python3"
  },
  "language_info": {
   "codemirror_mode": {
    "name": "ipython",
    "version": 3
   },
   "file_extension": ".py",
   "mimetype": "text/x-python",
   "name": "python",
   "nbconvert_exporter": "python",
   "pygments_lexer": "ipython3",
   "version": "3.11.4"
  }
 },
 "nbformat": 4,
 "nbformat_minor": 5
}
