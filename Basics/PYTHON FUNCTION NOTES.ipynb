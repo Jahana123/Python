{
 "cells": [
  {
   "cell_type": "markdown",
   "id": "1075b9a0",
   "metadata": {},
   "source": [
    "## Python functions"
   ]
  },
  {
   "cell_type": "markdown",
   "id": "c33b3c05",
   "metadata": {},
   "source": [
    "### Types of functions\n",
    "  ### standard library functions- built-in functions in python that are available to use\n",
    "  ### user-defined functions- create our own functions based on our requirements"
   ]
  },
  {
   "cell_type": "markdown",
   "id": "16083eae",
   "metadata": {},
   "source": [
    "### Python function declaration"
   ]
  },
  {
   "cell_type": "code",
   "execution_count": null,
   "id": "f009e8c7",
   "metadata": {},
   "outputs": [],
   "source": [
    "def function_name(arguments):\n",
    "    #function body\n",
    "    return output"
   ]
  },
  {
   "cell_type": "markdown",
   "id": "66cc79ac",
   "metadata": {},
   "source": [
    "### calling a function"
   ]
  },
  {
   "cell_type": "code",
   "execution_count": 4,
   "id": "246ee052",
   "metadata": {},
   "outputs": [],
   "source": [
    "def greet():\n",
    "    print(\"Hello world!\")"
   ]
  },
  {
   "cell_type": "code",
   "execution_count": 5,
   "id": "d1f80b02",
   "metadata": {},
   "outputs": [
    {
     "name": "stdout",
     "output_type": "stream",
     "text": [
      "Hello world!\n"
     ]
    }
   ],
   "source": [
    "greet()             #we can call it many times"
   ]
  },
  {
   "cell_type": "code",
   "execution_count": 1,
   "id": "17113257",
   "metadata": {},
   "outputs": [
    {
     "name": "stdout",
     "output_type": "stream",
     "text": [
      "hello Jahana\n",
      "hello 2\n"
     ]
    }
   ],
   "source": [
    "\n",
    "def name_fn(name):\n",
    "    print(\"hello\",name)\n",
    "name_fn('Jahana')\n",
    "name_fn(2)"
   ]
  },
  {
   "cell_type": "code",
   "execution_count": 7,
   "id": "eccea10f",
   "metadata": {},
   "outputs": [
    {
     "name": "stdout",
     "output_type": "stream",
     "text": [
      "enter a name: Jinu\n",
      "hello Jinu\n"
     ]
    }
   ],
   "source": [
    "def name_fn(name):\n",
    "    print(\"hello\",name)\n",
    "name_fn(input(\"enter a name: \"))"
   ]
  },
  {
   "cell_type": "markdown",
   "id": "0de7aebd",
   "metadata": {},
   "source": [
    "### Function arguments\n",
    " #### An argument is a value that is accepted by a function"
   ]
  },
  {
   "cell_type": "code",
   "execution_count": 13,
   "id": "825c205c",
   "metadata": {},
   "outputs": [
    {
     "name": "stdout",
     "output_type": "stream",
     "text": [
      "sum 8\n"
     ]
    }
   ],
   "source": [
    "\n",
    "#fn with no argmnt\n",
    "def add_numbers():\n",
    "    num1=3\n",
    "    num2=5\n",
    "    sum1=num1+num2\n",
    "    print(\"sum\",sum1)\n",
    "add_numbers()               #fn call with no value"
   ]
  },
  {
   "cell_type": "code",
   "execution_count": 14,
   "id": "314a1e53",
   "metadata": {},
   "outputs": [
    {
     "name": "stdout",
     "output_type": "stream",
     "text": [
      "sum 51\n"
     ]
    }
   ],
   "source": [
    "#fn with 2 argmnts\n",
    "def add_numbers(num1,num2):\n",
    "    sum1=num1+num2\n",
    "    print(\"sum\",sum1)\n",
    "add_numbers(22,29)\n",
    "    "
   ]
  },
  {
   "cell_type": "code",
   "execution_count": 16,
   "id": "75ac6c38",
   "metadata": {},
   "outputs": [
    {
     "name": "stdout",
     "output_type": "stream",
     "text": [
      "enter a number: 23\n",
      "enter a number: 12\n",
      "sum 35\n"
     ]
    }
   ],
   "source": [
    "#fn with 2 values\n",
    "x=int(input(\"enter a number: \"))\n",
    "y=int(input(\"enter a number: \"))\n",
    "add_numbers(x,y)"
   ]
  },
  {
   "cell_type": "code",
   "execution_count": 17,
   "id": "5e01a3fe",
   "metadata": {},
   "outputs": [
    {
     "name": "stdout",
     "output_type": "stream",
     "text": [
      "enter a number: 12\n",
      "enter a number: 18\n",
      "sum 30\n"
     ]
    }
   ],
   "source": [
    "add_numbers(int(input(\"enter a number: \")),int(input(\"enter a number: \")))"
   ]
  },
  {
   "cell_type": "code",
   "execution_count": 18,
   "id": "488d8908",
   "metadata": {},
   "outputs": [],
   "source": [
    "#add nmbrs() require 2 arg"
   ]
  },
  {
   "cell_type": "markdown",
   "id": "67922698",
   "metadata": {},
   "source": [
    "### function argument with default values"
   ]
  },
  {
   "cell_type": "code",
   "execution_count": 26,
   "id": "024ba203",
   "metadata": {},
   "outputs": [
    {
     "name": "stdout",
     "output_type": "stream",
     "text": [
      "sum 9\n"
     ]
    }
   ],
   "source": [
    "\n",
    "def add_numbers(a=3 , b=6):\n",
    "    sum1=a+b\n",
    "    print(\"sum\",sum1)\n",
    "add_numbers()        #fn call without arg"
   ]
  },
  {
   "cell_type": "code",
   "execution_count": 27,
   "id": "e62b9452",
   "metadata": {},
   "outputs": [
    {
     "name": "stdout",
     "output_type": "stream",
     "text": [
      "sum 5\n"
     ]
    }
   ],
   "source": [
    "#fn call with 2 arg\n",
    "add_numbers(2,3)"
   ]
  },
  {
   "cell_type": "code",
   "execution_count": 30,
   "id": "1c56ceab",
   "metadata": {},
   "outputs": [
    {
     "name": "stdout",
     "output_type": "stream",
     "text": [
      "sum 7\n"
     ]
    }
   ],
   "source": [
    "#fn call with one arg\n",
    "add_numbers(b=4)"
   ]
  },
  {
   "cell_type": "markdown",
   "id": "a498e56b",
   "metadata": {},
   "source": [
    "### Function with arbitrary arguments"
   ]
  },
  {
   "cell_type": "markdown",
   "id": "0ee1a022",
   "metadata": {},
   "source": [
    "   ###  Arbitrary arguments allow as to pass a varying number of values during a function call"
   ]
  },
  {
   "cell_type": "code",
   "execution_count": 29,
   "id": "7ab21bec",
   "metadata": {},
   "outputs": [
    {
     "name": "stdout",
     "output_type": "stream",
     "text": [
      "sum=  6\n",
      "sum=  35\n"
     ]
    }
   ],
   "source": [
    "\n",
    "#pgm to find sum of mltple nmbrs\n",
    "def find_sum(*numbers):\n",
    "    result=0\n",
    "    for num in numbers:\n",
    "        result=result+num \n",
    "    print(\"sum= \",result)\n",
    "#fn call with 3 arg\n",
    "find_sum(1,2,3)\n",
    "#fn call  with 7 arg\n",
    "find_sum(2,3,4,5,6,7,8)"
   ]
  },
  {
   "cell_type": "markdown",
   "id": "0c6daa24",
   "metadata": {},
   "source": [
    "### Return statement"
   ]
  },
  {
   "cell_type": "code",
   "execution_count": 33,
   "id": "47ae744d",
   "metadata": {},
   "outputs": [
    {
     "name": "stdout",
     "output_type": "stream",
     "text": [
      "square:  64\n"
     ]
    }
   ],
   "source": [
    "\n",
    "def find_square(num):\n",
    "    result=num*num\n",
    "    return result\n",
    "square=find_square(8)\n",
    "print(\"square: \",square)\n",
    "    "
   ]
  },
  {
   "cell_type": "code",
   "execution_count": 34,
   "id": "3e132f4e",
   "metadata": {},
   "outputs": [
    {
     "name": "stdout",
     "output_type": "stream",
     "text": [
      "result 12 7 1\n"
     ]
    }
   ],
   "source": [
    "def calculation(num1,num2):\n",
    "    square=num1*num2\n",
    "    add=num1+num2\n",
    "    sub=num1-num2\n",
    "    return square,add,sub\n",
    "x,y,z=calculation(4,3)\n",
    "print(\"result\",x,y,z)\n"
   ]
  },
  {
   "cell_type": "markdown",
   "id": "ac1af06b",
   "metadata": {},
   "source": [
    "### python recursive function"
   ]
  },
  {
   "cell_type": "code",
   "execution_count": 35,
   "id": "0b562a13",
   "metadata": {},
   "outputs": [
    {
     "name": "stdout",
     "output_type": "stream",
     "text": [
      "the factorial of 3 is 6\n"
     ]
    }
   ],
   "source": [
    "#python recursive fn\n",
    "def factorial(x):\n",
    "    if x==1:\n",
    "        return 1\n",
    "    else:\n",
    "        return(x*factorial(x-1))\n",
    "num=3\n",
    "print(\"the factorial of\",num,\"is\",factorial(num))"
   ]
  },
  {
   "cell_type": "code",
   "execution_count": null,
   "id": "0b36fcd4",
   "metadata": {},
   "outputs": [],
   "source": [
    "factorial(3)                  #1st call with 3\n",
    "3 * factorial(2)              # 2nd call with 2\n",
    "3 *  2 * factorial(1)         # 3rd call with 1\n",
    "3 * 2 * 1                     # return from 3rd call as number=1\n",
    "3 * 2                         # return from 2nd call\n",
    "6                             # return from 2nd call"
   ]
  },
  {
   "cell_type": "code",
   "execution_count": 66,
   "id": "af517f69",
   "metadata": {},
   "outputs": [
    {
     "name": "stdout",
     "output_type": "stream",
     "text": [
      "enter a number: 13\n",
      "x is odd\n"
     ]
    }
   ],
   "source": [
    "def check_even_or_odd(x):\n",
    "    if x%2==0:\n",
    "        return (\"x is even\")\n",
    "    else:\n",
    "        return ('x is odd')\n",
    "x=int(input(\"enter a number: \"))\n",
    "y=check_even_or_odd(x)   \n",
    "print(y)       "
   ]
  },
  {
   "cell_type": "markdown",
   "id": "c5587ab1",
   "metadata": {},
   "source": [
    "# Python lambda/ Anonymous function"
   ]
  },
  {
   "cell_type": "markdown",
   "id": "e998f8ae",
   "metadata": {},
   "source": [
    "### A lambda function is a special type of function without the function name"
   ]
  },
  {
   "cell_type": "code",
   "execution_count": 1,
   "id": "9f9ebb3f",
   "metadata": {},
   "outputs": [
    {
     "name": "stdout",
     "output_type": "stream",
     "text": [
      "Hello\n"
     ]
    }
   ],
   "source": [
    "greet=lambda :print(\"Hello\")\n",
    "greet()"
   ]
  },
  {
   "cell_type": "code",
   "execution_count": 4,
   "id": "7d6c8d5e",
   "metadata": {},
   "outputs": [
    {
     "name": "stdout",
     "output_type": "stream",
     "text": [
      "hey Jahana\n"
     ]
    }
   ],
   "source": [
    "#lambda accepts one arg\n",
    "greet_user=lambda name:print(\"hey\",name)\n",
    "greet_user('Jahana')                       #lambda call"
   ]
  },
  {
   "cell_type": "code",
   "execution_count": 5,
   "id": "c10bd490",
   "metadata": {},
   "outputs": [
    {
     "data": {
      "text/plain": [
       "14"
      ]
     },
     "execution_count": 5,
     "metadata": {},
     "output_type": "execute_result"
    }
   ],
   "source": [
    "x=lambda a:a+10\n",
    "x(4)"
   ]
  },
  {
   "cell_type": "code",
   "execution_count": 6,
   "id": "9934b390",
   "metadata": {},
   "outputs": [
    {
     "data": {
      "text/plain": [
       "12"
      ]
     },
     "execution_count": 6,
     "metadata": {},
     "output_type": "execute_result"
    }
   ],
   "source": [
    "x=lambda a,b:a*b\n",
    "x(3,4)"
   ]
  },
  {
   "cell_type": "markdown",
   "id": "6073f60f",
   "metadata": {},
   "source": [
    "### Python variable scope\n",
    "   #### There are 3 different scopes\n",
    "   ### local\n",
    "   ### global\n",
    "   ### nonlocal"
   ]
  },
  {
   "cell_type": "markdown",
   "id": "01de778b",
   "metadata": {},
   "source": [
    "#### A variable scope specifies the region where we can access a variable"
   ]
  },
  {
   "cell_type": "markdown",
   "id": "2d6f504b",
   "metadata": {},
   "source": [
    "### Pyhton local variables\n",
    "####  variables inside fn.have a local scope within the fn.cannot access them outside"
   ]
  },
  {
   "cell_type": "code",
   "execution_count": 2,
   "id": "6b47650e",
   "metadata": {},
   "outputs": [
    {
     "name": "stdout",
     "output_type": "stream",
     "text": [
      "local Hi\n"
     ]
    }
   ],
   "source": [
    "def greet():\n",
    "    #local variable\n",
    "    message='Hi'\n",
    "    print('local',message)\n",
    "greet()"
   ]
  },
  {
   "cell_type": "markdown",
   "id": "1adfddcd",
   "metadata": {},
   "source": [
    "### Python global variables\n",
    "#### variable declared outside the fn or in global scope.can be accessed inside or outside the fn."
   ]
  },
  {
   "cell_type": "code",
   "execution_count": 5,
   "id": "643bc781",
   "metadata": {},
   "outputs": [
    {
     "name": "stdout",
     "output_type": "stream",
     "text": [
      "local Hello\n",
      "global Hello\n"
     ]
    }
   ],
   "source": [
    "#declare global variable\n",
    "message='Hello'\n",
    "def greet():\n",
    "#declare local vrble\n",
    "    print('local',message)\n",
    "greet()\n",
    "print('global',message)"
   ]
  },
  {
   "cell_type": "markdown",
   "id": "6fdd77aa",
   "metadata": {},
   "source": [
    "### Python nonlocal variables\n",
    "####  used in nested fns whose local scope is not defined.vrble neither in local nor in  global scope"
   ]
  },
  {
   "cell_type": "code",
   "execution_count": 6,
   "id": "75f96442",
   "metadata": {},
   "outputs": [
    {
     "name": "stdout",
     "output_type": "stream",
     "text": [
      "inner nonlocal\n",
      "outer nonlocal\n"
     ]
    }
   ],
   "source": [
    "#outside fn\n",
    "def outer():\n",
    "    message='local'\n",
    "    #nested fn\n",
    "    def inner():\n",
    "        #declare nonlocal vrble\n",
    "        nonlocal message\n",
    "        message='nonlocal'\n",
    "        print(\"inner\",message)\n",
    "    inner()\n",
    "    print(\"outer\",message)\n",
    "outer()\n",
    "    \n",
    "    "
   ]
  },
  {
   "cell_type": "markdown",
   "id": "985fffd4",
   "metadata": {},
   "source": [
    "### Python modules\n",
    " #### As our prgm grows bigger,contains many line of codes.instead of putng everything in a single file,we can use\n",
    " #### modules to seperate codes in seperate files as per functionality.module contain vrbls,fns,classes etc\n",
    "     "
   ]
  },
  {
   "cell_type": "markdown",
   "id": "552d68fc",
   "metadata": {},
   "source": [
    "### Import modules in python"
   ]
  },
  {
   "cell_type": "code",
   "execution_count": 1,
   "id": "a43a0dbe",
   "metadata": {},
   "outputs": [
    {
     "name": "stdout",
     "output_type": "stream",
     "text": [
      "9\n"
     ]
    }
   ],
   "source": [
    "#module addition                                   #save file as exmple.py\n",
    "import example\n",
    "x=example.add(4,5)\n",
    "print(x)\n"
   ]
  },
  {
   "cell_type": "markdown",
   "id": "31b4224f",
   "metadata": {},
   "source": [
    "## Import python standard library modules"
   ]
  },
  {
   "cell_type": "markdown",
   "id": "c1803853",
   "metadata": {},
   "source": [
    "#### Importing standard math module"
   ]
  },
  {
   "cell_type": "code",
   "execution_count": 8,
   "id": "393a3dcd",
   "metadata": {},
   "outputs": [
    {
     "name": "stdout",
     "output_type": "stream",
     "text": [
      "the value of pi is: 3.141592653589793\n"
     ]
    }
   ],
   "source": [
    "#import\n",
    "import math              #stndrd math module\n",
    "print(\"the value of pi is:\",math.pi)"
   ]
  },
  {
   "cell_type": "markdown",
   "id": "eb273422",
   "metadata": {},
   "source": [
    "#### Import with renaming"
   ]
  },
  {
   "cell_type": "code",
   "execution_count": 9,
   "id": "d6099cfb",
   "metadata": {},
   "outputs": [
    {
     "name": "stdout",
     "output_type": "stream",
     "text": [
      "3.141592653589793\n"
     ]
    }
   ],
   "source": [
    "\n",
    "import math as m\n",
    "print(m.pi)"
   ]
  },
  {
   "cell_type": "markdown",
   "id": "3f3e9cda",
   "metadata": {},
   "source": [
    "### Python from....import statement"
   ]
  },
  {
   "cell_type": "code",
   "execution_count": 10,
   "id": "2631acb0",
   "metadata": {},
   "outputs": [
    {
     "name": "stdout",
     "output_type": "stream",
     "text": [
      "3.141592653589793\n",
      "2.9444389791664403\n"
     ]
    }
   ],
   "source": [
    "\n",
    "from math import pi,log\n",
    "print(pi)\n",
    "print(log(19))\n"
   ]
  },
  {
   "cell_type": "markdown",
   "id": "2b7e0287",
   "metadata": {},
   "source": [
    "### Import all names"
   ]
  },
  {
   "cell_type": "code",
   "execution_count": 2,
   "id": "b729aab3",
   "metadata": {},
   "outputs": [
    {
     "name": "stdout",
     "output_type": "stream",
     "text": [
      "the value of pi is:  3.141592653589793\n",
      "radius:  31.41592653589793\n",
      "1.6094379124341003\n"
     ]
    }
   ],
   "source": [
    "\n",
    "from math import *\n",
    "print(\"the value of pi is: \",pi)\n",
    "r=5\n",
    "print(\"radius: \",2*pi*r)\n",
    "print(log(r))\n"
   ]
  },
  {
   "cell_type": "markdown",
   "id": "fbd40e7b",
   "metadata": {},
   "source": [
    "###  python package"
   ]
  },
  {
   "cell_type": "code",
   "execution_count": null,
   "id": "9567da57",
   "metadata": {},
   "outputs": [],
   "source": [
    "#### contains various functions to perform specific tasks\n",
    "#### model structure\n",
    "#### package->game\n",
    "####    1) __init__.py   2) sound         3) image                4)level                         \n",
    "####                      __init__.py        __init__.py             __init__.py\n",
    "####                       load.py           open.py                 start.py\n",
    "####                       play.py           change.py               load.py\n",
    "####                       pause.py          close.py                over.py"
   ]
  },
  {
   "cell_type": "markdown",
   "id": "0d0ea4a1",
   "metadata": {},
   "source": [
    "#### importing module from a package\n"
   ]
  },
  {
   "cell_type": "code",
   "execution_count": null,
   "id": "c51cdb26",
   "metadata": {},
   "outputs": [],
   "source": [
    "#import start module\n",
    "import game.level.start\n",
    "#if it contain a function named select_difficulty(),must use the fullname\n",
    "game.level.start.select_difficulty(2)\n",
    "#it seems lengthy\n",
    "from game.level import start\n",
    "#now call th fn\n",
    "start.select_difficulty(2)\n",
    "#import required function only\n",
    "from game.level.start import select_difficulty\n",
    "select_difficulty(2)"
   ]
  },
  {
   "cell_type": "markdown",
   "id": "734c60cb",
   "metadata": {},
   "source": [
    "### Python error handling "
   ]
  },
  {
   "cell_type": "markdown",
   "id": "a923b261",
   "metadata": {},
   "source": [
    "### Handling exceptions\n",
    "####  Errors detected during execution are called exceptions.python throws/raises are types of exceptions"
   ]
  },
  {
   "cell_type": "code",
   "execution_count": 1,
   "id": "8deb2d0d",
   "metadata": {},
   "outputs": [
    {
     "name": "stdout",
     "output_type": "stream",
     "text": [
      "starting calculation\n",
      "50 / 5 = 10.0\n",
      "calculation over\n"
     ]
    }
   ],
   "source": [
    "def divide(number,divisor):\n",
    "    print(\"starting calculation\")\n",
    "    result=number/divisor\n",
    "    print(number,'/',divisor,'=',result)\n",
    "    print('calculation over')\n",
    "divide(50,5)"
   ]
  },
  {
   "cell_type": "code",
   "execution_count": 8,
   "id": "714ae872",
   "metadata": {},
   "outputs": [
    {
     "name": "stdout",
     "output_type": "stream",
     "text": [
      "starting calculation\n"
     ]
    },
    {
     "ename": "ZeroDivisionError",
     "evalue": "division by zero",
     "output_type": "error",
     "traceback": [
      "\u001b[1;31m---------------------------------------------------------------------------\u001b[0m",
      "\u001b[1;31mZeroDivisionError\u001b[0m                         Traceback (most recent call last)",
      "Cell \u001b[1;32mIn[8], line 6\u001b[0m\n\u001b[0;32m      4\u001b[0m     \u001b[38;5;28mprint\u001b[39m(number,\u001b[38;5;124m'\u001b[39m\u001b[38;5;124m/\u001b[39m\u001b[38;5;124m'\u001b[39m,divisor,\u001b[38;5;124m'\u001b[39m\u001b[38;5;124m=\u001b[39m\u001b[38;5;124m'\u001b[39m,result)\n\u001b[0;32m      5\u001b[0m     \u001b[38;5;28mprint\u001b[39m(\u001b[38;5;124m'\u001b[39m\u001b[38;5;124mcalculation over\u001b[39m\u001b[38;5;124m'\u001b[39m)\n\u001b[1;32m----> 6\u001b[0m divide(\u001b[38;5;241m3\u001b[39m,\u001b[38;5;241m0\u001b[39m)\n",
      "Cell \u001b[1;32mIn[8], line 3\u001b[0m, in \u001b[0;36mdivide\u001b[1;34m(number, divisor)\u001b[0m\n\u001b[0;32m      1\u001b[0m \u001b[38;5;28;01mdef\u001b[39;00m \u001b[38;5;21mdivide\u001b[39m(number,divisor):\n\u001b[0;32m      2\u001b[0m     \u001b[38;5;28mprint\u001b[39m(\u001b[38;5;124m\"\u001b[39m\u001b[38;5;124mstarting calculation\u001b[39m\u001b[38;5;124m\"\u001b[39m)\n\u001b[1;32m----> 3\u001b[0m     result\u001b[38;5;241m=\u001b[39mnumber\u001b[38;5;241m/\u001b[39mdivisor\n\u001b[0;32m      4\u001b[0m     \u001b[38;5;28mprint\u001b[39m(number,\u001b[38;5;124m'\u001b[39m\u001b[38;5;124m/\u001b[39m\u001b[38;5;124m'\u001b[39m,divisor,\u001b[38;5;124m'\u001b[39m\u001b[38;5;124m=\u001b[39m\u001b[38;5;124m'\u001b[39m,result)\n\u001b[0;32m      5\u001b[0m     \u001b[38;5;28mprint\u001b[39m(\u001b[38;5;124m'\u001b[39m\u001b[38;5;124mcalculation over\u001b[39m\u001b[38;5;124m'\u001b[39m)\n",
      "\u001b[1;31mZeroDivisionError\u001b[0m: division by zero"
     ]
    }
   ],
   "source": [
    "def divide(number,divisor):\n",
    "    print(\"starting calculation\")\n",
    "    result=number/divisor\n",
    "    print(number,'/',divisor,'=',result)\n",
    "    print('calculation over')\n",
    "divide(3,0)"
   ]
  },
  {
   "cell_type": "markdown",
   "id": "b69baa5b",
   "metadata": {},
   "source": [
    "### try-except\n",
    "#### The try clause contains the code that can possibly raise an exception clause that containsthe code that handles the exception "
   ]
  },
  {
   "cell_type": "code",
   "execution_count": 9,
   "id": "8bc9292c",
   "metadata": {},
   "outputs": [
    {
     "name": "stdout",
     "output_type": "stream",
     "text": [
      "starting calculation\n",
      "cannot divided by zero\n",
      "calculation over\n"
     ]
    }
   ],
   "source": [
    "def divide2(number,divisor):\n",
    "    print(\"starting calculation\")\n",
    "    try:\n",
    "        result=number/divisor\n",
    "        print(number,'/',divisor,'=',result)\n",
    "    except ZeroDivisionError:\n",
    "            print(\"cannot divided by zero\")\n",
    "    print('calculation over')\n",
    "        \n",
    "divide2(3,0)          "
   ]
  },
  {
   "cell_type": "code",
   "execution_count": 10,
   "id": "8109b79c",
   "metadata": {},
   "outputs": [
    {
     "name": "stdout",
     "output_type": "stream",
     "text": [
      "starting calculation\n",
      "3 / 1.5 = 2.0\n",
      "calculation over\n"
     ]
    }
   ],
   "source": [
    "def divide2(number,divisor):\n",
    "    print(\"starting calculation\")\n",
    "    try:\n",
    "        result=number/divisor\n",
    "        print(number,'/',divisor,'=',result)\n",
    "    except ZeroDivisionError:\n",
    "            print(\"cannot divided by zero\")\n",
    "    print('calculation over')       \n",
    "divide(3,1.5)    "
   ]
  },
  {
   "cell_type": "code",
   "execution_count": 47,
   "id": "a7e132ed",
   "metadata": {},
   "outputs": [
    {
     "ename": "NameError",
     "evalue": "name 'abc' is not defined",
     "output_type": "error",
     "traceback": [
      "\u001b[1;31m---------------------------------------------------------------------------\u001b[0m",
      "\u001b[1;31mNameError\u001b[0m                                 Traceback (most recent call last)",
      "Cell \u001b[1;32mIn[47], line 11\u001b[0m\n\u001b[0;32m      7\u001b[0m             \u001b[38;5;28mprint\u001b[39m(\u001b[38;5;124m\"\u001b[39m\u001b[38;5;124mcannot divided by zero\u001b[39m\u001b[38;5;124m\"\u001b[39m)\n\u001b[0;32m      9\u001b[0m     \u001b[38;5;28mprint\u001b[39m(\u001b[38;5;124m'\u001b[39m\u001b[38;5;124mcalculation over\u001b[39m\u001b[38;5;124m'\u001b[39m)\n\u001b[1;32m---> 11\u001b[0m divide2(\u001b[38;5;241m3\u001b[39m,abc)\n",
      "\u001b[1;31mNameError\u001b[0m: name 'abc' is not defined"
     ]
    }
   ],
   "source": [
    "def divide2(number,divisor):\n",
    "    print(\"starting calculation\")\n",
    "    try:\n",
    "        result=number/divisor\n",
    "        print(number,'/',divisor,'=',result)\n",
    "    except ZeroDivisionError:\n",
    "            print(\"cannot divided by zero\")\n",
    "    \n",
    "    print('calculation over')\n",
    "        \n",
    "divide2(3,abc)    "
   ]
  },
  {
   "cell_type": "code",
   "execution_count": 2,
   "id": "44d38c12",
   "metadata": {},
   "outputs": [
    {
     "name": "stdout",
     "output_type": "stream",
     "text": [
      "calculating 3 / abc\n",
      "cannot divide non_numbers\n",
      "calculation over\n"
     ]
    }
   ],
   "source": [
    "def divide2(number,divisor):\n",
    "    print(\"calculating\",number,'/',divisor)\n",
    "    try:\n",
    "        result=float(number)/float(divisor)\n",
    "        print(number,'/',divisor,'=',result)\n",
    "    except ZeroDivisionError:\n",
    "            print(\"cannot divided by zero\")\n",
    "    except ValueError:\n",
    "            print(\"cannot divide non_numbers\")\n",
    "    print('calculation over')\n",
    "        \n",
    "divide2(3,'abc')    "
   ]
  },
  {
   "cell_type": "code",
   "execution_count": 4,
   "id": "253877d9",
   "metadata": {},
   "outputs": [
    {
     "name": "stdout",
     "output_type": "stream",
     "text": [
      "calculating 3 / 0\n",
      "incorrect inputs\n",
      "calculation over...\n",
      "calculating 3 / abc\n",
      "incorrect inputs\n",
      "calculation over...\n"
     ]
    }
   ],
   "source": [
    "def divide2(number,divisor):\n",
    "    print(\"calculating\",number,'/',divisor)\n",
    "    try:\n",
    "        result=float(number)/float(divisor)\n",
    "        print(number,'/',divisor,'=',result)\n",
    "    except (ZeroDivisionError,ValueError):\n",
    "            print('incorrect inputs')\n",
    "    print('calculation over...')\n",
    "divide2(3,0)       \n",
    "divide2(3,'abc')    "
   ]
  },
  {
   "cell_type": "markdown",
   "id": "9f6d23d5",
   "metadata": {},
   "source": [
    "### Index error\n",
    "#### it is an exception thrown when you try to access an index that does not exist"
   ]
  },
  {
   "cell_type": "code",
   "execution_count": 32,
   "id": "8a739fba",
   "metadata": {},
   "outputs": [
    {
     "name": "stdout",
     "output_type": "stream",
     "text": [
      "6\n"
     ]
    }
   ],
   "source": [
    "def get_head(items):\n",
    "    return items[0]\n",
    "print(get_head([6,7,8]))"
   ]
  },
  {
   "cell_type": "code",
   "execution_count": 33,
   "id": "75049f71",
   "metadata": {},
   "outputs": [
    {
     "ename": "IndexError",
     "evalue": "list index out of range",
     "output_type": "error",
     "traceback": [
      "\u001b[1;31m---------------------------------------------------------------------------\u001b[0m",
      "\u001b[1;31mIndexError\u001b[0m                                Traceback (most recent call last)",
      "Cell \u001b[1;32mIn[33], line 3\u001b[0m\n\u001b[0;32m      1\u001b[0m \u001b[38;5;28;01mdef\u001b[39;00m \u001b[38;5;21mget_head\u001b[39m(items):\n\u001b[0;32m      2\u001b[0m     \u001b[38;5;28;01mreturn\u001b[39;00m items[\u001b[38;5;241m0\u001b[39m]\n\u001b[1;32m----> 3\u001b[0m \u001b[38;5;28mprint\u001b[39m(get_head([]))\n",
      "Cell \u001b[1;32mIn[33], line 2\u001b[0m, in \u001b[0;36mget_head\u001b[1;34m(items)\u001b[0m\n\u001b[0;32m      1\u001b[0m \u001b[38;5;28;01mdef\u001b[39;00m \u001b[38;5;21mget_head\u001b[39m(items):\n\u001b[1;32m----> 2\u001b[0m     \u001b[38;5;28;01mreturn\u001b[39;00m items[\u001b[38;5;241m0\u001b[39m]\n",
      "\u001b[1;31mIndexError\u001b[0m: list index out of range"
     ]
    }
   ],
   "source": [
    "def get_head(items):\n",
    "    return items[0]\n",
    "print(get_head([]))"
   ]
  },
  {
   "cell_type": "code",
   "execution_count": 35,
   "id": "30fdda05",
   "metadata": {},
   "outputs": [
    {
     "name": "stdout",
     "output_type": "stream",
     "text": [
      "list too short\n"
     ]
    }
   ],
   "source": [
    "def get_head(items):\n",
    "    try:\n",
    "        return items[0]\n",
    "    except IndexError:\n",
    "        return 'list too short'\n",
    "print(get_head([]))"
   ]
  },
  {
   "cell_type": "markdown",
   "id": "99691af5",
   "metadata": {},
   "source": [
    "### name error"
   ]
  },
  {
   "cell_type": "code",
   "execution_count": 37,
   "id": "3c85af15",
   "metadata": {},
   "outputs": [
    {
     "ename": "NameError",
     "evalue": "name 'y' is not defined",
     "output_type": "error",
     "traceback": [
      "\u001b[1;31m---------------------------------------------------------------------------\u001b[0m",
      "\u001b[1;31mNameError\u001b[0m                                 Traceback (most recent call last)",
      "Cell \u001b[1;32mIn[37], line 1\u001b[0m\n\u001b[1;32m----> 1\u001b[0m \u001b[38;5;28mprint\u001b[39m(y)\n",
      "\u001b[1;31mNameError\u001b[0m: name 'y' is not defined"
     ]
    }
   ],
   "source": [
    "print(y)"
   ]
  },
  {
   "cell_type": "code",
   "execution_count": 1,
   "id": "598ecf86",
   "metadata": {},
   "outputs": [
    {
     "name": "stdout",
     "output_type": "stream",
     "text": [
      "y is not defined\n"
     ]
    }
   ],
   "source": [
    "try:\n",
    "    print(y)\n",
    "except:\n",
    "    print('y is not defined')\n",
    "else:\n",
    "    print('nothing')"
   ]
  },
  {
   "cell_type": "markdown",
   "id": "154564e4",
   "metadata": {},
   "source": [
    "### finally\n",
    "#### executed regardless of the rslt try block raises an error or not"
   ]
  },
  {
   "cell_type": "code",
   "execution_count": 6,
   "id": "a5b70f0e",
   "metadata": {},
   "outputs": [
    {
     "name": "stdout",
     "output_type": "stream",
     "text": [
      "5\n",
      "the try except is finished\n"
     ]
    }
   ],
   "source": [
    "x=5\n",
    "try:\n",
    "    print(x)\n",
    "except:\n",
    "    print(\"something wrong\")\n",
    "finally:\n",
    "    print('the try except is finished')"
   ]
  },
  {
   "cell_type": "markdown",
   "id": "08c991dd",
   "metadata": {},
   "source": [
    "### Raise an exception\n",
    "#### to throw/raise an exception use the raise key word"
   ]
  },
  {
   "cell_type": "code",
   "execution_count": 43,
   "id": "7571219f",
   "metadata": {},
   "outputs": [
    {
     "ename": "Exception",
     "evalue": "sorry,no number below zero",
     "output_type": "error",
     "traceback": [
      "\u001b[1;31m---------------------------------------------------------------------------\u001b[0m",
      "\u001b[1;31mException\u001b[0m                                 Traceback (most recent call last)",
      "Cell \u001b[1;32mIn[43], line 3\u001b[0m\n\u001b[0;32m      1\u001b[0m x\u001b[38;5;241m=\u001b[39m\u001b[38;5;241m-\u001b[39m\u001b[38;5;241m4\u001b[39m\n\u001b[0;32m      2\u001b[0m \u001b[38;5;28;01mif\u001b[39;00m x\u001b[38;5;241m<\u001b[39m\u001b[38;5;241m0\u001b[39m:\n\u001b[1;32m----> 3\u001b[0m     \u001b[38;5;28;01mraise\u001b[39;00m \u001b[38;5;167;01mException\u001b[39;00m (\u001b[38;5;124m'\u001b[39m\u001b[38;5;124msorry,no number below zero\u001b[39m\u001b[38;5;124m'\u001b[39m)\n",
      "\u001b[1;31mException\u001b[0m: sorry,no number below zero"
     ]
    }
   ],
   "source": [
    "#raise an error if x<0:\n",
    "x=-4\n",
    "if x<0:\n",
    "    raise Exception ('sorry,no number below zero')"
   ]
  },
  {
   "cell_type": "markdown",
   "id": "b868bc38",
   "metadata": {},
   "source": [
    "#### you can define what error to raise"
   ]
  },
  {
   "cell_type": "code",
   "execution_count": 44,
   "id": "4c7090d1",
   "metadata": {},
   "outputs": [
    {
     "ename": "TypeError",
     "evalue": "only integers are allowed",
     "output_type": "error",
     "traceback": [
      "\u001b[1;31m---------------------------------------------------------------------------\u001b[0m",
      "\u001b[1;31mTypeError\u001b[0m                                 Traceback (most recent call last)",
      "Cell \u001b[1;32mIn[44], line 3\u001b[0m\n\u001b[0;32m      1\u001b[0m x\u001b[38;5;241m=\u001b[39m\u001b[38;5;124m'\u001b[39m\u001b[38;5;124mhello\u001b[39m\u001b[38;5;124m'\u001b[39m\n\u001b[0;32m      2\u001b[0m \u001b[38;5;28;01mif\u001b[39;00m \u001b[38;5;129;01mnot\u001b[39;00m \u001b[38;5;28mtype\u001b[39m(x) \u001b[38;5;129;01mis\u001b[39;00m \u001b[38;5;28mint\u001b[39m:\n\u001b[1;32m----> 3\u001b[0m     \u001b[38;5;28;01mraise\u001b[39;00m \u001b[38;5;167;01mTypeError\u001b[39;00m(\u001b[38;5;124m'\u001b[39m\u001b[38;5;124monly integers are allowed\u001b[39m\u001b[38;5;124m'\u001b[39m)\n",
      "\u001b[1;31mTypeError\u001b[0m: only integers are allowed"
     ]
    }
   ],
   "source": [
    "x='hello'\n",
    "if not type(x) is int:\n",
    "    raise TypeError('only integers are allowed')"
   ]
  },
  {
   "cell_type": "code",
   "execution_count": 21,
   "id": "e68d0171",
   "metadata": {},
   "outputs": [
    {
     "name": "stdout",
     "output_type": "stream",
     "text": [
      "enter an integer: 3.5\n",
      "That is not an integer,try again!\n"
     ]
    }
   ],
   "source": [
    "x=input('enter an integer: ')\n",
    "try:\n",
    "    value=int(x)\n",
    "    print('you entered',x)\n",
    "except ValueError:\n",
    "    print(\"That is not an integer,try again!\")"
   ]
  },
  {
   "cell_type": "code",
   "execution_count": null,
   "id": "954ca685",
   "metadata": {},
   "outputs": [],
   "source": []
  },
  {
   "cell_type": "code",
   "execution_count": null,
   "id": "521746e9",
   "metadata": {},
   "outputs": [],
   "source": []
  },
  {
   "cell_type": "code",
   "execution_count": null,
   "id": "3fc9ffa0",
   "metadata": {},
   "outputs": [],
   "source": []
  },
  {
   "cell_type": "code",
   "execution_count": null,
   "id": "88b3fe66",
   "metadata": {},
   "outputs": [],
   "source": []
  },
  {
   "cell_type": "code",
   "execution_count": null,
   "id": "c1ba7b5f",
   "metadata": {},
   "outputs": [],
   "source": []
  },
  {
   "cell_type": "code",
   "execution_count": null,
   "id": "5ffacc59",
   "metadata": {},
   "outputs": [],
   "source": []
  },
  {
   "cell_type": "code",
   "execution_count": null,
   "id": "86bdd359",
   "metadata": {},
   "outputs": [],
   "source": []
  },
  {
   "cell_type": "code",
   "execution_count": null,
   "id": "0841e3c1",
   "metadata": {},
   "outputs": [],
   "source": []
  }
 ],
 "metadata": {
  "kernelspec": {
   "display_name": "Python 3 (ipykernel)",
   "language": "python",
   "name": "python3"
  },
  "language_info": {
   "codemirror_mode": {
    "name": "ipython",
    "version": 3
   },
   "file_extension": ".py",
   "mimetype": "text/x-python",
   "name": "python",
   "nbconvert_exporter": "python",
   "pygments_lexer": "ipython3",
   "version": "3.11.4"
  }
 },
 "nbformat": 4,
 "nbformat_minor": 5
}
