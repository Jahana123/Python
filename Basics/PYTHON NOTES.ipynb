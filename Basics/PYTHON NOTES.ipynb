{
 "cells": [
  {
   "cell_type": "code",
   "execution_count": 4,
   "id": "424dbad2",
   "metadata": {},
   "outputs": [
    {
     "name": "stdout",
     "output_type": "stream",
     "text": [
      "HELLO\n",
      "WORLD\n"
     ]
    }
   ],
   "source": [
    "print(\"HELLO\")\n",
    "print(\"WORLD\")"
   ]
  },
  {
   "cell_type": "code",
   "execution_count": 25,
   "id": "d266eceb",
   "metadata": {},
   "outputs": [
    {
     "name": "stdout",
     "output_type": "stream",
     "text": [
      "4 Chocolate False\n"
     ]
    }
   ],
   "source": [
    "x=4\n",
    "y=\"Chocolate\"\n",
    "z=False\n",
    "var1=4.3\n",
    "_num2= 2+5j \n",
    "print(x,y,z)"
   ]
  },
  {
   "cell_type": "code",
   "execution_count": 22,
   "id": "bb976654",
   "metadata": {},
   "outputs": [
    {
     "name": "stdout",
     "output_type": "stream",
     "text": [
      "39\n"
     ]
    }
   ],
   "source": [
    "num1=34\n",
    "num2=5\n",
    "print(num1+num2)"
   ]
  },
  {
   "cell_type": "code",
   "execution_count": 17,
   "id": "47b6dc85",
   "metadata": {},
   "outputs": [
    {
     "name": "stdout",
     "output_type": "stream",
     "text": [
      "Hello World\n"
     ]
    }
   ],
   "source": [
    "x=\"Hello\"\n",
    "y=\"World\"\n",
    "print(x,y)"
   ]
  },
  {
   "cell_type": "code",
   "execution_count": 18,
   "id": "3d132001",
   "metadata": {},
   "outputs": [
    {
     "name": "stdout",
     "output_type": "stream",
     "text": [
      "Hello Hello Hello\n"
     ]
    }
   ],
   "source": [
    "x=y=z=\"Hello\"\n",
    "print(x,y,z)\n"
   ]
  },
  {
   "cell_type": "code",
   "execution_count": 3,
   "id": "8b757e77",
   "metadata": {},
   "outputs": [
    {
     "name": "stdout",
     "output_type": "stream",
     "text": [
      "3 2.2 Hi\n"
     ]
    }
   ],
   "source": [
    "x,y,z=3,2.2,\"Hi\"\n",
    "print(x,y,z)"
   ]
  },
  {
   "cell_type": "code",
   "execution_count": 9,
   "id": "5bb2af88",
   "metadata": {},
   "outputs": [
    {
     "name": "stdout",
     "output_type": "stream",
     "text": [
      "Hello,world\n"
     ]
    }
   ],
   "source": [
    "#This is a single line comment\n",
    "print(\"Hello,world\") #this also a comment\n"
   ]
  },
  {
   "cell_type": "code",
   "execution_count": 11,
   "id": "05cc2818",
   "metadata": {},
   "outputs": [
    {
     "name": "stdout",
     "output_type": "stream",
     "text": [
      "Hi\n"
     ]
    }
   ],
   "source": [
    "\"\"\"\n",
    "This  is a comment\n",
    "provides documentation\n",
    "class\n",
    "\"\"\"\n",
    "print(\"Hi\")\n"
   ]
  },
  {
   "cell_type": "code",
   "execution_count": 12,
   "id": "d2c372d1",
   "metadata": {},
   "outputs": [
    {
     "name": "stdout",
     "output_type": "stream",
     "text": [
      "<class 'int'>\n",
      "<class 'str'>\n",
      "<class 'list'>\n"
     ]
    }
   ],
   "source": [
    "x=4\n",
    "y=\"Hi\"\n",
    "z=[2,3,4]\n",
    "print(type(x))\n",
    "print(type(y))\n",
    "print(type(z))"
   ]
  },
  {
   "cell_type": "code",
   "execution_count": 18,
   "id": "c26b9c44",
   "metadata": {},
   "outputs": [
    {
     "name": "stdout",
     "output_type": "stream",
     "text": [
      "<class 'str'>\n",
      "<class 'int'>\n"
     ]
    }
   ],
   "source": [
    "num_str=\"42\"\n",
    "print(type(num_str))\n",
    "num_int=int(num_str) #num_int is an integer 42\n",
    "print(type(num_int))\n"
   ]
  },
  {
   "cell_type": "code",
   "execution_count": 4,
   "id": "afc61775",
   "metadata": {},
   "outputs": [
    {
     "name": "stdout",
     "output_type": "stream",
     "text": [
      "<class 'str'>\n",
      "<class 'float'>\n"
     ]
    }
   ],
   "source": [
    "num_str=\"34\"\n",
    "print(type(num_str))\n",
    "num_float=float(num_str)\n",
    "print(type(num_float))"
   ]
  },
  {
   "cell_type": "code",
   "execution_count": 15,
   "id": "9f8354eb",
   "metadata": {},
   "outputs": [
    {
     "name": "stdout",
     "output_type": "stream",
     "text": [
      "<class 'str'>\n",
      "<class 'float'>\n"
     ]
    }
   ],
   "source": [
    "num_str=\"3.14\"\n",
    "print(type(num_str))\n",
    "num_float=float(num_str)#num_float is a float 3.14\n",
    "print(type(num_float))\n"
   ]
  },
  {
   "cell_type": "markdown",
   "id": "21600650",
   "metadata": {},
   "source": [
    "# Python-user input\n"
   ]
  },
  {
   "cell_type": "code",
   "execution_count": 22,
   "id": "5082dc63",
   "metadata": {},
   "outputs": [
    {
     "name": "stdout",
     "output_type": "stream",
     "text": [
      "Enter username:Jahana\n",
      "Hello Jahana\n"
     ]
    }
   ],
   "source": [
    "username=input(\"Enter username:\")\n",
    "print(\"Hello \"+username)"
   ]
  },
  {
   "cell_type": "code",
   "execution_count": 17,
   "id": "3ac55f8f",
   "metadata": {},
   "outputs": [
    {
     "name": "stdout",
     "output_type": "stream",
     "text": [
      "<class 'list'>\n",
      "<class 'tuple'>\n"
     ]
    }
   ],
   "source": [
    "my_list=[1,2,3]\n",
    "print(type(my_list))\n",
    "my_tuple=tuple(my_list) #my_tuple will be(1,2,3)\n",
    "print(type(my_tuple))"
   ]
  },
  {
   "cell_type": "code",
   "execution_count": 23,
   "id": "0df565b5",
   "metadata": {},
   "outputs": [
    {
     "name": "stdout",
     "output_type": "stream",
     "text": [
      "Enter username:Jinu\n",
      "Hello  Jinu\n"
     ]
    }
   ],
   "source": [
    "username=input(\"Enter username:\")\n",
    "print(\"Hello \",username)"
   ]
  },
  {
   "cell_type": "code",
   "execution_count": 25,
   "id": "7c29da65",
   "metadata": {},
   "outputs": [
    {
     "name": "stdout",
     "output_type": "stream",
     "text": [
      "Enter the first number: 34\n",
      "Enter the second number: 23\n",
      "The addition result is:  3423\n"
     ]
    }
   ],
   "source": [
    "x=input(\"Enter the first number: \")\n",
    "y=input(\"Enter the second number: \")\n",
    "print( \"The addition result is: \" ,x+y )\n",
    "\n"
   ]
  },
  {
   "cell_type": "code",
   "execution_count": 26,
   "id": "dc8a29b3",
   "metadata": {},
   "outputs": [
    {
     "name": "stdout",
     "output_type": "stream",
     "text": [
      "Enter the first number: 34\n",
      "Enter the second number: 23\n",
      "The addition result is:  57\n"
     ]
    }
   ],
   "source": [
    "x=int(input(\"Enter the first number: \"))\n",
    "y=int(input(\"Enter the second number: \"))\n",
    "print(\"The addition result is: \",x+y)"
   ]
  },
  {
   "cell_type": "code",
   "execution_count": 10,
   "id": "b289c2b2",
   "metadata": {},
   "outputs": [
    {
     "name": "stdout",
     "output_type": "stream",
     "text": [
      " My name is Anu,\n",
      "      age is 34,\n",
      "      higowrgjwpifogkejorkgrrj,\n",
      "      jgiojrngioejfo2gngiqwo,\n",
      "      jviowfoewgkdhiwjfjdgjekjhgekf.\n",
      "    \n"
     ]
    }
   ],
   "source": [
    "a=\"\"\" My name is Anu,\n",
    "      age is 34,\n",
    "      higowrgjwpifogkejorkgrrj,\n",
    "      jgiojrngioejfo2gngiqwo,\n",
    "      jviowfoewgkdhiwjfjdgjekjhgekf.\n",
    "    \"\"\"\n",
    "print(a)"
   ]
  },
  {
   "cell_type": "markdown",
   "id": "f8a47710",
   "metadata": {},
   "source": [
    "# strings"
   ]
  },
  {
   "cell_type": "code",
   "execution_count": 30,
   "id": "ee91c026",
   "metadata": {},
   "outputs": [
    {
     "name": "stdout",
     "output_type": "stream",
     "text": [
      "13\n"
     ]
    }
   ],
   "source": [
    "my_string=\"Hello ,world \"\n",
    "length=len(my_string)\n",
    "print(length)"
   ]
  },
  {
   "cell_type": "markdown",
   "id": "68cc6f61",
   "metadata": {},
   "source": [
    "##  String indexing"
   ]
  },
  {
   "cell_type": "code",
   "execution_count": 32,
   "id": "08244e4e",
   "metadata": {},
   "outputs": [
    {
     "name": "stdout",
     "output_type": "stream",
     "text": [
      "e\n"
     ]
    }
   ],
   "source": [
    "my_string=\"Hello\"\n",
    "first_char=my_string[1]\n",
    "print(first_char)"
   ]
  },
  {
   "cell_type": "code",
   "execution_count": 34,
   "id": "8000b559",
   "metadata": {},
   "outputs": [
    {
     "name": "stdout",
     "output_type": "stream",
     "text": [
      "llo world \n"
     ]
    }
   ],
   "source": [
    "#inclusive start,exclusive end\n",
    "my_string='Hello world '\n",
    "sliced_string=my_string[2:12]\n",
    "print(sliced_string)"
   ]
  },
  {
   "cell_type": "code",
   "execution_count": 37,
   "id": "4735a61a",
   "metadata": {},
   "outputs": [
    {
     "name": "stdout",
     "output_type": "stream",
     "text": [
      "! l\n"
     ]
    }
   ],
   "source": [
    "#nagative indices\n",
    "my_string=\"Hello world!\"\n",
    "last_char=my_string[-1]\n",
    "second_last_char=my_string[-3]\n",
    "print(last_char, second_last_char)"
   ]
  },
  {
   "cell_type": "code",
   "execution_count": 39,
   "id": "90ec6672",
   "metadata": {},
   "outputs": [
    {
     "name": "stdout",
     "output_type": "stream",
     "text": [
      "He ld \n"
     ]
    }
   ],
   "source": [
    "#omitted indices\n",
    "my_string=\"Hello world \"\n",
    "start_omitted=my_string[:2]\n",
    "end_omitted=my_string[9:]\n",
    "print(start_omitted,end_omitted)\n",
    "                        "
   ]
  },
  {
   "cell_type": "code",
   "execution_count": 40,
   "id": "51b39093",
   "metadata": {},
   "outputs": [
    {
     "name": "stdout",
     "output_type": "stream",
     "text": [
      "Hlo\n"
     ]
    }
   ],
   "source": [
    "#stepsize\n",
    "my_string=\"Hello world! \"\n",
    "every_second_char=my_string[0:5:2]\n",
    "print(every_second_char)"
   ]
  },
  {
   "cell_type": "code",
   "execution_count": 42,
   "id": "593e6b04",
   "metadata": {},
   "outputs": [
    {
     "name": "stdout",
     "output_type": "stream",
     "text": [
      "! anahaJ\n"
     ]
    }
   ],
   "source": [
    "#reversing a string\n",
    "my_string=\"Jahana !\"\n",
    "reversed_string=my_string[::-1]\n",
    "print(reversed_string)"
   ]
  },
  {
   "cell_type": "markdown",
   "id": "f60d8bf4",
   "metadata": {},
   "source": [
    "## string concatenation"
   ]
  },
  {
   "cell_type": "code",
   "execution_count": 11,
   "id": "4529f1f0",
   "metadata": {},
   "outputs": [
    {
     "name": "stdout",
     "output_type": "stream",
     "text": [
      "Helloworld\n"
     ]
    }
   ],
   "source": [
    "#concatention\n",
    "a=\"Hello\"\n",
    "b=\"world\"\n",
    "c=a+b\n",
    "print(c)"
   ]
  },
  {
   "cell_type": "code",
   "execution_count": 44,
   "id": "ff5b1c3f",
   "metadata": {},
   "outputs": [
    {
     "name": "stdout",
     "output_type": "stream",
     "text": [
      "Hello world\n"
     ]
    }
   ],
   "source": [
    "c=a+\" \"+b\n",
    "print(c)"
   ]
  },
  {
   "cell_type": "code",
   "execution_count": 45,
   "id": "060ee927",
   "metadata": {},
   "outputs": [
    {
     "name": "stdout",
     "output_type": "stream",
     "text": [
      "Hello world!!!!!!!!!!\n"
     ]
    }
   ],
   "source": [
    "c=a+\" \"+b+(\"!\" * 10)\n",
    "print(c)"
   ]
  },
  {
   "cell_type": "code",
   "execution_count": 46,
   "id": "6c85afd9",
   "metadata": {},
   "outputs": [
    {
     "name": "stdout",
     "output_type": "stream",
     "text": [
      "HELLO\n"
     ]
    }
   ],
   "source": [
    "#lower to upper\n",
    "s1=\"hello\"\n",
    "print(s1.upper())"
   ]
  },
  {
   "cell_type": "code",
   "execution_count": 47,
   "id": "707eebd1",
   "metadata": {},
   "outputs": [
    {
     "name": "stdout",
     "output_type": "stream",
     "text": [
      "hello\n"
     ]
    }
   ],
   "source": [
    "#upper to lower\n",
    "s1=\"HELLO\"\n",
    "print(s1.lower())"
   ]
  },
  {
   "cell_type": "code",
   "execution_count": 49,
   "id": "560798f5",
   "metadata": {},
   "outputs": [
    {
     "name": "stdout",
     "output_type": "stream",
     "text": [
      "Hello ,world\n"
     ]
    }
   ],
   "source": [
    "#remove first and last whitespaces\n",
    "s2=\"  Hello ,world   \"\n",
    "print(s2.strip())"
   ]
  },
  {
   "cell_type": "code",
   "execution_count": 50,
   "id": "88ef0a4a",
   "metadata": {},
   "outputs": [
    {
     "name": "stdout",
     "output_type": "stream",
     "text": [
      "True\n",
      "True\n",
      "True\n"
     ]
    }
   ],
   "source": [
    "alpha_check=\"Hello\".isalpha()#return true if alphabets\n",
    "print(alpha_check)\n",
    "digit_check=\"123\".isdigit()#return true if numbers\n",
    "print(digit_check)\n",
    "alnum_check=\"Hello123\".isalnum()#return true if alph and numbers\n",
    "print(alnum_check)\n",
    "     "
   ]
  },
  {
   "cell_type": "code",
   "execution_count": 51,
   "id": "02979303",
   "metadata": {},
   "outputs": [
    {
     "name": "stdout",
     "output_type": "stream",
     "text": [
      "['Apple', 'Orange', 'Grape']\n",
      "Apple-Orange-Grape\n"
     ]
    }
   ],
   "source": [
    "my_string=\"Apple,Orange,Grape\"\n",
    "fruits=my_string.split(\",\")\n",
    "print(fruits)\n",
    "joined_string=\"-\".join(fruits)\n",
    "print(joined_string)"
   ]
  },
  {
   "cell_type": "code",
   "execution_count": 52,
   "id": "d91dcd81",
   "metadata": {},
   "outputs": [
    {
     "name": "stdout",
     "output_type": "stream",
     "text": [
      "Hi ,world\n"
     ]
    }
   ],
   "source": [
    "#replace\n",
    "my_string=\"Hello ,world\"\n",
    "new_string=my_string.replace(\"Hello\", \"Hi\")\n",
    "print(new_string)"
   ]
  },
  {
   "cell_type": "markdown",
   "id": "b9868ec2",
   "metadata": {},
   "source": [
    "## Formatting"
   ]
  },
  {
   "cell_type": "code",
   "execution_count": 54,
   "id": "302a84ba",
   "metadata": {},
   "outputs": [
    {
     "name": "stdout",
     "output_type": "stream",
     "text": [
      "My name is Jahana and I am 22 years old.\n"
     ]
    }
   ],
   "source": [
    "#string formating\n",
    "name=\"Jahana\"\n",
    "age=22\n",
    "formatted_string=\"My name is %s and I am %d years old.\" %(name,age)\n",
    "print(formatted_string)"
   ]
  },
  {
   "cell_type": "code",
   "execution_count": 60,
   "id": "2bc34cc1",
   "metadata": {},
   "outputs": [
    {
     "name": "stdout",
     "output_type": "stream",
     "text": [
      "My name is Jinu and I am 10 years old.\n"
     ]
    }
   ],
   "source": [
    "name=\"Jinu\"\n",
    "age=10\n",
    "formatted_string=f\"My name is {name} and I am {age} years old.\"\n",
    "print(formatted_string)"
   ]
  },
  {
   "cell_type": "code",
   "execution_count": 61,
   "id": "401baef3",
   "metadata": {},
   "outputs": [
    {
     "name": "stdout",
     "output_type": "stream",
     "text": [
      "My name is Jahana and Iam 22 years old.\n"
     ]
    }
   ],
   "source": [
    "name=\"Jahana\"\n",
    "age=\"22\"\n",
    "formatted_string=\"My name is {} and Iam {} years old.\".format(name,age)\n",
    "print(formatted_string)"
   ]
  },
  {
   "cell_type": "code",
   "execution_count": 62,
   "id": "8bd7a212",
   "metadata": {},
   "outputs": [
    {
     "name": "stdout",
     "output_type": "stream",
     "text": [
      "The value of pi is approximately:3.14\n"
     ]
    }
   ],
   "source": [
    "pi=3.141567\n",
    "formatted_pi=\"The value of pi is approximately:{:0.2f}\".format(pi)\n",
    "print(formatted_pi)"
   ]
  },
  {
   "cell_type": "code",
   "execution_count": 1,
   "id": "dc4bc957",
   "metadata": {},
   "outputs": [
    {
     "name": "stdout",
     "output_type": "stream",
     "text": [
      "addition:  15\n",
      "substraction:  5\n",
      "dvision:  2.0\n",
      "modulus:  0\n",
      "exponentiation:  100000\n",
      "floor_division:  2\n"
     ]
    }
   ],
   "source": [
    "#arithmetic operators\n",
    "x=10\n",
    "y=5\n",
    "addition=x+y\n",
    "substraction=x-y\n",
    "multipilication=x*y\n",
    "division=x/y #result is always a float\n",
    "modulus=x%y#returns the remainder\n",
    "exponentiation=x**y   #raisto\n",
    "floor_division=x//y   #alwys a whole no.\n",
    "print(\"addition: \",addition)\n",
    "print(\"substraction: \",substraction)\n",
    "print(\"dvision: \",division)\n",
    "print(\"modulus: \",modulus)\n",
    "print(\"exponentiation: \",exponentiation)\n",
    "print(\"floor_division: \",floor_division)"
   ]
  },
  {
   "cell_type": "code",
   "execution_count": 2,
   "id": "a4a5b3ab",
   "metadata": {},
   "outputs": [
    {
     "name": "stdout",
     "output_type": "stream",
     "text": [
      "True\n",
      "False\n",
      "True\n",
      "False\n",
      "True\n",
      "False\n"
     ]
    }
   ],
   "source": [
    "x=[\"apple\",\"banana\"]\n",
    "y=[\"apple\",\"banana\"]\n",
    "z=x\n",
    "print(x is z)    #z is same as x\n",
    "print(x is y)    #x is not the same object as y\n",
    "print(x==y)      #the values of x and y are equal\n",
    "print(x is not z)\n",
    "print(x is not y)\n",
    "print(x!=y)       #the values of x,y equal"
   ]
  },
  {
   "cell_type": "markdown",
   "id": "8c8ecfa8",
   "metadata": {},
   "source": [
    "## membership operators"
   ]
  },
  {
   "cell_type": "code",
   "execution_count": 3,
   "id": "d8a6fdb8",
   "metadata": {},
   "outputs": [
    {
     "name": "stdout",
     "output_type": "stream",
     "text": [
      "True\n"
     ]
    }
   ],
   "source": [
    "#memborship oprtrs\n",
    "x=[\"apple\",\"banana\"]\n",
    "print(\"banana\" in x)"
   ]
  },
  {
   "cell_type": "code",
   "execution_count": 4,
   "id": "92986a81",
   "metadata": {},
   "outputs": [
    {
     "name": "stdout",
     "output_type": "stream",
     "text": [
      "True\n"
     ]
    }
   ],
   "source": [
    "x=[\"apple\",\"banana\"]\n",
    "print(\"orange\" not in x)"
   ]
  },
  {
   "cell_type": "markdown",
   "id": "fd9904b2",
   "metadata": {},
   "source": [
    "# Python lists"
   ]
  },
  {
   "cell_type": "code",
   "execution_count": 7,
   "id": "0e4e2223",
   "metadata": {},
   "outputs": [
    {
     "name": "stdout",
     "output_type": "stream",
     "text": [
      "1\n",
      "2\n",
      "10\n"
     ]
    }
   ],
   "source": [
    "#python lists\n",
    "numbers=[1,2,3,4,5,6,7,8,9,10]\n",
    "first_element=numbers[0]\n",
    "second_element=numbers[1]\n",
    "last_element=numbers[-1]\n",
    "print(first_element)\n",
    "print(second_element)\n",
    "print(last_element)"
   ]
  },
  {
   "cell_type": "code",
   "execution_count": 37,
   "id": "28b8f0bb",
   "metadata": {},
   "outputs": [
    {
     "name": "stdout",
     "output_type": "stream",
     "text": [
      "[3, 4, 5]\n"
     ]
    }
   ],
   "source": [
    "print(numbers[2:5])"
   ]
  },
  {
   "cell_type": "code",
   "execution_count": 42,
   "id": "1cd9d346",
   "metadata": {},
   "outputs": [
    {
     "name": "stdout",
     "output_type": "stream",
     "text": [
      "10\n"
     ]
    }
   ],
   "source": [
    "numbers=[1,2,3,4,5,6,7,8,9,10]\n",
    "print(len(numbers))"
   ]
  },
  {
   "cell_type": "markdown",
   "id": "4015d3a2",
   "metadata": {},
   "source": [
    "### Appending"
   ]
  },
  {
   "cell_type": "code",
   "execution_count": 1,
   "id": "eb11062b",
   "metadata": {},
   "outputs": [
    {
     "name": "stdout",
     "output_type": "stream",
     "text": [
      "['apple', 'banana', 'cherry']\n"
     ]
    }
   ],
   "source": [
    "#append adds on last\n",
    "fruits=[\"apple\",\"banana\"]\n",
    "fruits.append(\"cherry\")\n",
    "print(fruits)"
   ]
  },
  {
   "cell_type": "markdown",
   "id": "84b168d2",
   "metadata": {},
   "source": [
    "### Insert"
   ]
  },
  {
   "cell_type": "code",
   "execution_count": 9,
   "id": "260ae76e",
   "metadata": {},
   "outputs": [
    {
     "name": "stdout",
     "output_type": "stream",
     "text": [
      "['apple', 'orange', 'banana', 'cherry']\n"
     ]
    }
   ],
   "source": [
    "#insert adds on a specific index\n",
    "fruits.insert(1,\"orange\")\n",
    "print(fruits)"
   ]
  },
  {
   "cell_type": "code",
   "execution_count": 10,
   "id": "a536074c",
   "metadata": {},
   "outputs": [
    {
     "name": "stdout",
     "output_type": "stream",
     "text": [
      "['apple', 'banana', 'orange', 'cherry']\n"
     ]
    }
   ],
   "source": [
    "#extending\n",
    "fruits=[\"apple\",\"banana\"]\n",
    "more_fruits=[\"orange\",\"cherry\"]\n",
    "fruits.extend(more_fruits)\n",
    "print(fruits)"
   ]
  },
  {
   "cell_type": "code",
   "execution_count": 11,
   "id": "8ea99fa4",
   "metadata": {},
   "outputs": [
    {
     "name": "stdout",
     "output_type": "stream",
     "text": [
      "['apple', 'melon', 'cherry', 'banana']\n"
     ]
    }
   ],
   "source": [
    "#chnage  item value\n",
    "fruits=[\"apple\",\"banana\",\"cherry\",\"banana\"]\n",
    "fruits[1]=\"melon\"\n",
    "print(fruits)"
   ]
  },
  {
   "cell_type": "code",
   "execution_count": 12,
   "id": "4f9517c4",
   "metadata": {},
   "outputs": [
    {
     "name": "stdout",
     "output_type": "stream",
     "text": [
      "['apple', 'papapya', 'kiwi', 'banana']\n"
     ]
    }
   ],
   "source": [
    "fruits[1:3]=[\"papapya\",\"kiwi\"]\n",
    "print(fruits)"
   ]
  },
  {
   "cell_type": "code",
   "execution_count": 14,
   "id": "f6eba097",
   "metadata": {},
   "outputs": [
    {
     "name": "stdout",
     "output_type": "stream",
     "text": [
      "['apple', 'cherry', 'banana']\n"
     ]
    }
   ],
   "source": [
    "#rmvng elmnts\n",
    "fruits=[\"apple\",\"banana\",\"cherry\",\"banana\"]\n",
    "fruits.remove(\"banana\")\n",
    "print(fruits)"
   ]
  },
  {
   "cell_type": "code",
   "execution_count": 15,
   "id": "80711f80",
   "metadata": {},
   "outputs": [
    {
     "name": "stdout",
     "output_type": "stream",
     "text": [
      "['apple', 'banana']\n"
     ]
    }
   ],
   "source": [
    "fruits=[\"apple\",\"banana\",\"cherry\"]\n",
    "removed_fruit=fruits.pop()         #can add index in pop()  #otherwise last rmvd\n",
    "print(fruits)"
   ]
  },
  {
   "cell_type": "code",
   "execution_count": 16,
   "id": "bf2bd92c",
   "metadata": {},
   "outputs": [
    {
     "name": "stdout",
     "output_type": "stream",
     "text": [
      "[]\n"
     ]
    }
   ],
   "source": [
    "fruits=[\"apple\",\"banana\"]\n",
    "fruits.clear()\n",
    "print(fruits)"
   ]
  },
  {
   "cell_type": "markdown",
   "id": "177fcaf5",
   "metadata": {},
   "source": [
    "### deleting"
   ]
  },
  {
   "cell_type": "code",
   "execution_count": 36,
   "id": "3f395603",
   "metadata": {},
   "outputs": [
    {
     "name": "stdout",
     "output_type": "stream",
     "text": [
      "['banana', 'mango']\n"
     ]
    }
   ],
   "source": [
    "my_list=[\"apple\",\"banana\",\"mango\"]\n",
    "del my_list[0]\n",
    "print(my_list)"
   ]
  },
  {
   "cell_type": "code",
   "execution_count": 17,
   "id": "412277ba",
   "metadata": {},
   "outputs": [
    {
     "name": "stdout",
     "output_type": "stream",
     "text": [
      "[4, 3, 2, 1]\n"
     ]
    }
   ],
   "source": [
    "#reversing\n",
    "numbers=[1,2,3,4]\n",
    "numbers.reverse()\n",
    "print(numbers)"
   ]
  },
  {
   "cell_type": "code",
   "execution_count": 18,
   "id": "8748bfeb",
   "metadata": {},
   "outputs": [
    {
     "name": "stdout",
     "output_type": "stream",
     "text": [
      "[2, 3, 5, 7]\n"
     ]
    }
   ],
   "source": [
    "numbers=[3,5,2,7]\n",
    "numbers.sort()\n",
    "print(numbers)     #ascndng"
   ]
  },
  {
   "cell_type": "code",
   "execution_count": 19,
   "id": "6328552d",
   "metadata": {},
   "outputs": [
    {
     "name": "stdout",
     "output_type": "stream",
     "text": [
      "[7, 5, 3, 2, 1]\n"
     ]
    }
   ],
   "source": [
    "numbers=[3,2,7,5,1]\n",
    "numbers.sort(reverse=True)    #descndng\n",
    "print(numbers)"
   ]
  },
  {
   "cell_type": "markdown",
   "id": "1f3da93f",
   "metadata": {},
   "source": [
    "### nested list"
   ]
  },
  {
   "cell_type": "code",
   "execution_count": 20,
   "id": "e2192cf7",
   "metadata": {},
   "outputs": [
    {
     "name": "stdout",
     "output_type": "stream",
     "text": [
      "[[1, 2, 3], [4, 5, 6]]\n"
     ]
    }
   ],
   "source": [
    "nested_list=[[1,2,3],[4,5,6]]\n",
    "print(nested_list)"
   ]
  },
  {
   "cell_type": "markdown",
   "id": "48d229b8",
   "metadata": {},
   "source": [
    "### counting"
   ]
  },
  {
   "cell_type": "code",
   "execution_count": 22,
   "id": "671530e5",
   "metadata": {},
   "outputs": [
    {
     "name": "stdout",
     "output_type": "stream",
     "text": [
      "3\n"
     ]
    }
   ],
   "source": [
    "numbers=[1,2,3,2,4,2,5]     #no.of times a specified value occurs\n",
    "count=numbers.count(2)\n",
    "print(count)"
   ]
  },
  {
   "cell_type": "markdown",
   "id": "1b6d547f",
   "metadata": {},
   "source": [
    "## Maximum minimum sum "
   ]
  },
  {
   "cell_type": "code",
   "execution_count": 23,
   "id": "35d48840",
   "metadata": {},
   "outputs": [
    {
     "name": "stdout",
     "output_type": "stream",
     "text": [
      "5\n",
      "1\n",
      "15\n"
     ]
    }
   ],
   "source": [
    "#max min sum\n",
    "numbers=[1,2,3,4,5]\n",
    "print(max(numbers))\n",
    "print(min(numbers))\n",
    "print(sum(numbers))"
   ]
  },
  {
   "cell_type": "code",
   "execution_count": 1,
   "id": "e52c8999",
   "metadata": {},
   "outputs": [
    {
     "name": "stdout",
     "output_type": "stream",
     "text": [
      "[5, 2, 3, 4, 1]\n"
     ]
    }
   ],
   "source": [
    "#replacing first last nmbrs\n",
    "numbers=[1,2,3,4,5]\n",
    "n=len(numbers)\n",
    "temp=numbers[0]\n",
    "numbers[0]=numbers[n-1]\n",
    "numbers[n-1]=temp\n",
    "print(numbers)"
   ]
  },
  {
   "cell_type": "markdown",
   "id": "c71fa6ea",
   "metadata": {},
   "source": [
    "# Tuples"
   ]
  },
  {
   "cell_type": "markdown",
   "id": "485b9532",
   "metadata": {},
   "source": [
    "## Update tuples"
   ]
  },
  {
   "cell_type": "code",
   "execution_count": 1,
   "id": "d98240f0",
   "metadata": {},
   "outputs": [
    {
     "name": "stdout",
     "output_type": "stream",
     "text": [
      "('apple', 'kiwi', 'cherry')\n"
     ]
    }
   ],
   "source": [
    "\n",
    "x=(\"apple\",\"banana\",\"cherry\")\n",
    "y=list(x)\n",
    "y[1]=\"kiwi\"\n",
    "x=tuple(y)\n",
    "print(x)"
   ]
  },
  {
   "cell_type": "code",
   "execution_count": 2,
   "id": "4735c2fe",
   "metadata": {},
   "outputs": [
    {
     "name": "stdout",
     "output_type": "stream",
     "text": [
      "('apple', 'banana', 'cherry', 'orange')\n"
     ]
    }
   ],
   "source": [
    "#add items\n",
    "mytuple=(\"apple\",\"banana\",\"cherry\")\n",
    "y=list(mytuple)\n",
    "y.append(\"orange\")\n",
    "mytuple=tuple(y)\n",
    "print(mytuple)"
   ]
  },
  {
   "cell_type": "code",
   "execution_count": 4,
   "id": "26a6ded8",
   "metadata": {},
   "outputs": [
    {
     "name": "stdout",
     "output_type": "stream",
     "text": [
      "('apple', 'banana', 'orange', 'cherry')\n"
     ]
    }
   ],
   "source": [
    "mytuple=(\"apple\",\"banana\",\"orange\")\n",
    "y=(\"cherry\",)\n",
    "mytuple +=y\n",
    "print(mytuple)"
   ]
  },
  {
   "cell_type": "markdown",
   "id": "7d6ef495",
   "metadata": {},
   "source": [
    "## Unpacking a tuple"
   ]
  },
  {
   "cell_type": "code",
   "execution_count": 5,
   "id": "a6da5613",
   "metadata": {},
   "outputs": [
    {
     "name": "stdout",
     "output_type": "stream",
     "text": [
      "apple\n",
      "cherry\n"
     ]
    }
   ],
   "source": [
    "#unpacking a tuple\n",
    "fruits=(\"apple\",\"cherry\")\n",
    "x,y=fruits\n",
    "print(x)\n",
    "print(y)"
   ]
  },
  {
   "cell_type": "code",
   "execution_count": 6,
   "id": "227f8970",
   "metadata": {},
   "outputs": [
    {
     "name": "stdout",
     "output_type": "stream",
     "text": [
      "apple\n",
      "['mango', 'cherry', 'banana', 'melon']\n",
      "kiwi\n"
     ]
    }
   ],
   "source": [
    "fruits=(\"apple\",\"mango\",\"cherry\",\"banana\",\"melon\",\"kiwi\")\n",
    "x,*y,z=fruits\n",
    "print(x)\n",
    "print(y)\n",
    "print(z)"
   ]
  },
  {
   "cell_type": "code",
   "execution_count": 7,
   "id": "19a26733",
   "metadata": {},
   "outputs": [
    {
     "name": "stdout",
     "output_type": "stream",
     "text": [
      "apple\n",
      "mango\n",
      "['cherry', 'banana', 'melon']\n",
      "kiwi\n"
     ]
    }
   ],
   "source": [
    "fruits=(\"apple\",\"mango\",\"cherry\",\"banana\",\"melon\",\"kiwi\")\n",
    "x,y,*z,p=fruits\n",
    "print(x)\n",
    "print(y)\n",
    "print(z)\n",
    "print(p)"
   ]
  },
  {
   "cell_type": "markdown",
   "id": "a3ae15f8",
   "metadata": {},
   "source": [
    "# Sets"
   ]
  },
  {
   "cell_type": "code",
   "execution_count": 14,
   "id": "87d31a32",
   "metadata": {},
   "outputs": [
    {
     "name": "stdout",
     "output_type": "stream",
     "text": [
      "{1, 2, 3}\n",
      "{'apple', 'banana'}\n",
      "{'apple', 1, 'True', 1.2}\n"
     ]
    }
   ],
   "source": [
    "numbers={1,2,3}\n",
    "fruits={\"apple\",\"banana\"}\n",
    "mixed={1,1.2,\"apple\",\"True\"}\n",
    "print(numbers)\n",
    "print(fruits)\n",
    "print(mixed)"
   ]
  },
  {
   "cell_type": "markdown",
   "id": "81fc1bfb",
   "metadata": {},
   "source": [
    "## Unique elements"
   ]
  },
  {
   "cell_type": "code",
   "execution_count": 8,
   "id": "1dbe146c",
   "metadata": {},
   "outputs": [
    {
     "name": "stdout",
     "output_type": "stream",
     "text": [
      "{1, 2, 3}\n"
     ]
    }
   ],
   "source": [
    "\n",
    "numbers={1,2,3,2,1}   #output{1,2,3}\n",
    "print(numbers)"
   ]
  },
  {
   "cell_type": "markdown",
   "id": "3dced3aa",
   "metadata": {},
   "source": [
    "### Adding"
   ]
  },
  {
   "cell_type": "code",
   "execution_count": 9,
   "id": "87b49374",
   "metadata": {},
   "outputs": [
    {
     "name": "stdout",
     "output_type": "stream",
     "text": [
      "{'apple', 'cherry', 'banana', 'orange'}\n"
     ]
    }
   ],
   "source": [
    "#add items\n",
    "set1={\"apple\",\"banana\",\"orange\"}\n",
    "set1.add(\"cherry\")\n",
    "print(set1)"
   ]
  },
  {
   "cell_type": "markdown",
   "id": "af10879c",
   "metadata": {},
   "source": [
    "### Update"
   ]
  },
  {
   "cell_type": "code",
   "execution_count": 10,
   "id": "3b36ca27",
   "metadata": {},
   "outputs": [
    {
     "name": "stdout",
     "output_type": "stream",
     "text": [
      "{'papaya', 'orange', 'mango', 'apple', 'banana', 'kiwi'}\n"
     ]
    }
   ],
   "source": [
    "set1={\"apple\",\"banana\",\"orange\"}\n",
    "set2={\"mango\",\"kiwi\",\"papaya\"}\n",
    "set1.update(set2)\n",
    "print(set1)"
   ]
  },
  {
   "cell_type": "markdown",
   "id": "bd4ff7d1",
   "metadata": {},
   "source": [
    "### Removing"
   ]
  },
  {
   "cell_type": "code",
   "execution_count": 15,
   "id": "57e6786b",
   "metadata": {},
   "outputs": [
    {
     "name": "stdout",
     "output_type": "stream",
     "text": [
      "{'apple', 'orange'}\n"
     ]
    }
   ],
   "source": [
    "myset={\"apple\",\"banana\",\"orange\"}\n",
    "myset.remove(\"banana\")\n",
    "print(myset)"
   ]
  },
  {
   "cell_type": "code",
   "execution_count": 16,
   "id": "f037ad75",
   "metadata": {},
   "outputs": [
    {
     "name": "stdout",
     "output_type": "stream",
     "text": [
      "{'banana', 'orange'}\n"
     ]
    }
   ],
   "source": [
    "myset={\"apple\",\"banana\",\"orange\"}\n",
    "myset.discard(\"apple\")\n",
    "print(myset)"
   ]
  },
  {
   "cell_type": "code",
   "execution_count": 17,
   "id": "cbebc7c2",
   "metadata": {},
   "outputs": [
    {
     "name": "stdout",
     "output_type": "stream",
     "text": [
      "apple\n",
      "{'banana', 'orange'}\n"
     ]
    }
   ],
   "source": [
    "myset={\"apple\",\"banana\",\"orange\"}\n",
    "x=myset.pop()\n",
    "print(x)\n",
    "print(myset)"
   ]
  },
  {
   "cell_type": "code",
   "execution_count": 18,
   "id": "23a9fb17",
   "metadata": {},
   "outputs": [
    {
     "name": "stdout",
     "output_type": "stream",
     "text": [
      "set()\n"
     ]
    }
   ],
   "source": [
    "myset={\"apple\",\"banana\",\"orange\"}\n",
    "myset.clear()\n",
    "print(myset)"
   ]
  },
  {
   "cell_type": "markdown",
   "id": "42ad0af8",
   "metadata": {},
   "source": [
    "## Set operations"
   ]
  },
  {
   "cell_type": "code",
   "execution_count": 19,
   "id": "cedf9818",
   "metadata": {},
   "outputs": [
    {
     "name": "stdout",
     "output_type": "stream",
     "text": [
      "{1, 2, 3, 4, 5}\n"
     ]
    }
   ],
   "source": [
    "#oprtns\n",
    "set1={1,2,3}\n",
    "set2={3,4,5}                  #unique in both\n",
    "union_set=set1.union(set2)\n",
    "print(union_set)"
   ]
  },
  {
   "cell_type": "code",
   "execution_count": 20,
   "id": "f8e78166",
   "metadata": {},
   "outputs": [
    {
     "name": "stdout",
     "output_type": "stream",
     "text": [
      "{3}\n"
     ]
    }
   ],
   "source": [
    "set1={1,2,3}\n",
    "set2={3,4,5}\n",
    "intersection_set=set1.intersection(set2)  #common element\n",
    "print(intersection_set)"
   ]
  },
  {
   "cell_type": "code",
   "execution_count": 21,
   "id": "2292d03b",
   "metadata": {},
   "outputs": [
    {
     "name": "stdout",
     "output_type": "stream",
     "text": [
      "{1, 2}\n"
     ]
    }
   ],
   "source": [
    "set1={1,2,3}\n",
    "set2={3,4,5}\n",
    "difference_set=set1.difference(set2)     prsnt in set1 not in 2\n",
    "print(difference_set)"
   ]
  },
  {
   "cell_type": "code",
   "execution_count": 23,
   "id": "7fb7f2d0",
   "metadata": {},
   "outputs": [
    {
     "name": "stdout",
     "output_type": "stream",
     "text": [
      "{1, 2, 4, 5}\n"
     ]
    }
   ],
   "source": [
    "set1={1,2,3}\n",
    "set2={3,4,5}\n",
    "symmetric_difference_set=set1.symmetric_difference(set2)\n",
    "print(symmetric_difference_set)          #not common"
   ]
  },
  {
   "cell_type": "code",
   "execution_count": null,
   "id": "446d3b16",
   "metadata": {},
   "outputs": [],
   "source": []
  }
 ],
 "metadata": {
  "kernelspec": {
   "display_name": "Python 3 (ipykernel)",
   "language": "python",
   "name": "python3"
  },
  "language_info": {
   "codemirror_mode": {
    "name": "ipython",
    "version": 3
   },
   "file_extension": ".py",
   "mimetype": "text/x-python",
   "name": "python",
   "nbconvert_exporter": "python",
   "pygments_lexer": "ipython3",
   "version": "3.11.4"
  }
 },
 "nbformat": 4,
 "nbformat_minor": 5
}
