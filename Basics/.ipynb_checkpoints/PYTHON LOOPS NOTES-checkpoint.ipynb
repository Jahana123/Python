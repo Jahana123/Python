{
 "cells": [
  {
   "cell_type": "markdown",
   "id": "38339a11",
   "metadata": {},
   "source": [
    "# Python loops"
   ]
  },
  {
   "cell_type": "markdown",
   "id": "1ab7bbf7",
   "metadata": {},
   "source": [
    "# If conditions"
   ]
  },
  {
   "cell_type": "code",
   "execution_count": 28,
   "id": "ed2c0734",
   "metadata": {},
   "outputs": [
    {
     "name": "stdout",
     "output_type": "stream",
     "text": [
      "condition checked\n"
     ]
    }
   ],
   "source": [
    "a=208\n",
    "b=202\n",
    "if (b>a):\n",
    "    \n",
    "    print(\"b is greater than a\")\n",
    "print(\"condition checked\")"
   ]
  },
  {
   "cell_type": "code",
   "execution_count": 4,
   "id": "b888e275",
   "metadata": {},
   "outputs": [
    {
     "name": "stdout",
     "output_type": "stream",
     "text": [
      "b is greater than a\n",
      "condition checked\n"
     ]
    }
   ],
   "source": [
    "a=208\n",
    "b=209\n",
    "\n",
    "if (b>a or b==a):\n",
    "    print(\"b is greater than a\")\n",
    "    print(\"condition checked\")"
   ]
  },
  {
   "cell_type": "code",
   "execution_count": 2,
   "id": "ee6fea24",
   "metadata": {},
   "outputs": [
    {
     "name": "stdout",
     "output_type": "stream",
     "text": [
      "b is greater than a\n"
     ]
    }
   ],
   "source": [
    "a=200\n",
    "b=300\n",
    "if (b>a):\n",
    "    print( \"b is greater than a\")\n",
    "else:\n",
    "        print(\"a is greater than b\")"
   ]
  },
  {
   "cell_type": "code",
   "execution_count": 2,
   "id": "5e786be6",
   "metadata": {},
   "outputs": [
    {
     "name": "stdout",
     "output_type": "stream",
     "text": [
      "string\n"
     ]
    }
   ],
   "source": [
    "x=4\n",
    "y=\"hello\"\n",
    "typ=type(x)\n",
    "if type==int:\n",
    "    print(\"number\")\n",
    "else:\n",
    "        print(\"string\")"
   ]
  },
  {
   "cell_type": "code",
   "execution_count": 4,
   "id": "f5540163",
   "metadata": {},
   "outputs": [
    {
     "name": "stdout",
     "output_type": "stream",
     "text": [
      "first number: 8\n",
      "second number: 2\n",
      "a is greater than b\n"
     ]
    }
   ],
   "source": [
    "a=int(input(\"first number: \"))\n",
    "b=int(input(\"second number: \"))\n",
    "if b>a:\n",
    "    print(\"b is greater than a\")\n",
    "elif a>b:\n",
    "    print(\"a is greater than b\")\n",
    "else:\n",
    "    print(\"a and  b are equal\")"
   ]
  },
  {
   "cell_type": "markdown",
   "id": "50d2d89b",
   "metadata": {},
   "source": [
    "### Shorthand"
   ]
  },
  {
   "cell_type": "code",
   "execution_count": 5,
   "id": "e8180292",
   "metadata": {},
   "outputs": [
    {
     "name": "stdout",
     "output_type": "stream",
     "text": [
      "a is greater than b\n"
     ]
    }
   ],
   "source": [
    "\n",
    "a=23\n",
    "b=13\n",
    "if a>b: print(\"a is greater than b\")"
   ]
  },
  {
   "cell_type": "code",
   "execution_count": 6,
   "id": "bb2f9f06",
   "metadata": {},
   "outputs": [
    {
     "name": "stdout",
     "output_type": "stream",
     "text": [
      "b\n"
     ]
    }
   ],
   "source": [
    "a=200\n",
    "b=300\n",
    "print(\"a\") if a>b else print(\"b\")"
   ]
  },
  {
   "cell_type": "markdown",
   "id": "52bffd49",
   "metadata": {},
   "source": [
    "### Nested if"
   ]
  },
  {
   "cell_type": "code",
   "execution_count": 13,
   "id": "f62da3a9",
   "metadata": {},
   "outputs": [
    {
     "name": "stdout",
     "output_type": "stream",
     "text": [
      "above 10, \n",
      " and also above 20\n"
     ]
    }
   ],
   "source": [
    "\n",
    "x=40\n",
    "if x>10:\n",
    "    print(\"above 10, \")\n",
    "    if  x>20:\n",
    "        print(\" and also above 20\")\n",
    "    else:\n",
    "        print(\"but not above 20\")\n",
    "else:\n",
    "    print(\"finished\")"
   ]
  },
  {
   "cell_type": "markdown",
   "id": "8d401b5e",
   "metadata": {},
   "source": [
    "### Pass statement"
   ]
  },
  {
   "cell_type": "code",
   "execution_count": 25,
   "id": "304ce952",
   "metadata": {},
   "outputs": [
    {
     "name": "stdout",
     "output_type": "stream",
     "text": [
      "stage1\n",
      "stage2\n",
      "202\n",
      "stage3\n"
     ]
    }
   ],
   "source": [
    "\n",
    "a=33\n",
    "b=200\n",
    "print(\"stage1\")\n",
    "if b>a:\n",
    "    pass\n",
    "print(\"stage2\")\n",
    "print(b+2)\n",
    "print(\"stage3\")"
   ]
  },
  {
   "cell_type": "code",
   "execution_count": 17,
   "id": "de148ad8",
   "metadata": {},
   "outputs": [
    {
     "name": "stdout",
     "output_type": "stream",
     "text": [
      "Enter a number:-3\n",
      "it is a negative number\n"
     ]
    }
   ],
   "source": [
    "a=int(input(\"Enter a number:\"))\n",
    "if a>=0:\n",
    "    print(\"it is a positive number\")\n",
    "else:\n",
    "        print(\"it is a negative number\")"
   ]
  },
  {
   "cell_type": "code",
   "execution_count": 2,
   "id": "85638176",
   "metadata": {},
   "outputs": [
    {
     "name": "stdout",
     "output_type": "stream",
     "text": [
      "enter age of 1st person: 29\n",
      "enter age of 2nd person:22\n",
      "enter age of 3rd person:2\n",
      "x is elder. \n",
      "y is younger. \n",
      "z is youngest. \n"
     ]
    }
   ],
   "source": [
    "x=input(\"enter age of 1st person: \")\n",
    "y=input(\"enter age of 2nd person:\")\n",
    "z=input(\"enter age of 3rd person:\")\n",
    "if (x>y and x>z):\n",
    "    print(\"x is elder. \")\n",
    "elif x<y and x<z:\n",
    "        print(\"x is youngest.\")\n",
    "else:\n",
    "            print(\"x is younger.\")\n",
    "if y>x and y>z:\n",
    "    print(\"y is elder. \")\n",
    "elif y<x and y<z:\n",
    "        print(\"y is youngest.\")\n",
    "else:\n",
    "    print(\"y is younger. \")\n",
    "if (z>x and z>y):\n",
    "     print(\"z is elder. \")\n",
    "elif z<x and z<y:\n",
    "    print(\"z is youngest. \")\n",
    "else:\n",
    "        print(\"z is younger. \")\n",
    "        \n",
    "\n",
    "                    "
   ]
  },
  {
   "cell_type": "code",
   "execution_count": 28,
   "id": "33c68785",
   "metadata": {},
   "outputs": [
    {
     "name": "stdout",
     "output_type": "stream",
     "text": [
      "enter an alaphabet: i\n",
      "it is a vowel\n"
     ]
    }
   ],
   "source": [
    "x=input(\"enter an alaphabet: \")\n",
    "if (x==\"a\" or x==\"e\" or x==\"i\" or x==\"o\" or x==\"u\" or x==\"A\" or x==\"E\" or x==\"I\" or x==\"O\" or x==\"U\"):\n",
    "    print(\"it is a vowel\")\n",
    "else:\n",
    "    print(\" It is a consonant\")"
   ]
  },
  {
   "cell_type": "markdown",
   "id": "da0cfc15",
   "metadata": {},
   "source": [
    "## While loop"
   ]
  },
  {
   "cell_type": "code",
   "execution_count": 5,
   "id": "e2f49479",
   "metadata": {},
   "outputs": [
    {
     "name": "stdout",
     "output_type": "stream",
     "text": [
      "1\n",
      "2\n",
      "3\n",
      "4\n",
      "5\n",
      "Finished\n"
     ]
    }
   ],
   "source": [
    "\n",
    "i=1       #initialize\n",
    "n=5           #while loop frm 1 to 5\n",
    "while i<=n:\n",
    "    print(i)                          #(while condtn:)\n",
    "    i=i+1\n",
    "    \n",
    "print(\"Finished\")"
   ]
  },
  {
   "cell_type": "code",
   "execution_count": 7,
   "id": "da5a9ee3",
   "metadata": {},
   "outputs": [
    {
     "name": "stdout",
     "output_type": "stream",
     "text": [
      "Total 5050\n"
     ]
    }
   ],
   "source": [
    "i=1\n",
    "n=100\n",
    "total=0\n",
    "while i<=n:\n",
    "    total=total+i\n",
    "    i=i+1                    #add all nmbrs up to 100\n",
    "print(\"Total\",total)"
   ]
  },
  {
   "cell_type": "code",
   "execution_count": 10,
   "id": "7b505fd5",
   "metadata": {},
   "outputs": [
    {
     "name": "stdout",
     "output_type": "stream",
     "text": [
      "Enter a number: 856\n",
      "The reversed number is:  658\n"
     ]
    }
   ],
   "source": [
    "#reverse\n",
    "num=int(input(\"Enter a number: \"))\n",
    "rev=0\n",
    "while (num!=0):\n",
    "    rem=num % 10\n",
    "    rev=rev*10  + rem\n",
    "    num=num // 10\n",
    "print(\"The reversed number is: \",rev)"
   ]
  },
  {
   "cell_type": "code",
   "execution_count": 1,
   "id": "6cee3852",
   "metadata": {},
   "outputs": [
    {
     "name": "stdout",
     "output_type": "stream",
     "text": [
      "10\n",
      "9\n",
      "8\n",
      "7\n",
      "6\n",
      "5\n",
      "4\n",
      "3\n",
      "2\n",
      "1\n",
      "Finished\n"
     ]
    }
   ],
   "source": [
    "i=10\n",
    "n=1\n",
    "while i>=n:\n",
    "    print(i)\n",
    "    i=i-1\n",
    "print(\"Finished\")    "
   ]
  },
  {
   "cell_type": "markdown",
   "id": "a115073a",
   "metadata": {},
   "source": [
    "### Looping through list"
   ]
  },
  {
   "cell_type": "code",
   "execution_count": 1,
   "id": "1c32ded3",
   "metadata": {},
   "outputs": [
    {
     "name": "stdout",
     "output_type": "stream",
     "text": [
      "1\n",
      "2\n",
      "3\n",
      "4\n",
      "5\n"
     ]
    }
   ],
   "source": [
    "#lpng through list\n",
    "my_list=[1,2,3,4,5]\n",
    "i=0\n",
    "while i<len(my_list):\n",
    "    print(my_list[i])\n",
    "    i=i+1\n"
   ]
  },
  {
   "cell_type": "code",
   "execution_count": 3,
   "id": "54b83fd1",
   "metadata": {},
   "outputs": [
    {
     "name": "stdout",
     "output_type": "stream",
     "text": [
      "[1, 4, 9, 16, 25]\n"
     ]
    }
   ],
   "source": [
    "mylist=[1,2,3,4,5]\n",
    "i=0\n",
    "list2=[]\n",
    "while i<len(mylist):\n",
    "    x=mylist[i]*mylist[i]\n",
    "    list2.append(x)\n",
    "    i=i+1\n",
    "print(list2)"
   ]
  },
  {
   "cell_type": "code",
   "execution_count": 4,
   "id": "42b1136e",
   "metadata": {},
   "outputs": [
    {
     "name": "stdout",
     "output_type": "stream",
     "text": [
      "Enter a number: 23\n",
      "Enter a number: 22\n",
      "Enter a number: 29\n",
      "Enter a number: 18\n",
      "Enter a number: 0\n",
      "Total =  92\n"
     ]
    }
   ],
   "source": [
    "#pgm to calculate sum of nmbrs until user enters zero\n",
    "total=0\n",
    "number=int(input(\"Enter a number: \"))    #add nmbrs until zero\n",
    "while number!=0:\n",
    "    total+=number\n",
    "    number=int(input(\"Enter a number: \"))   #take intger input again\n",
    "print(\"Total = \",total)"
   ]
  },
  {
   "cell_type": "markdown",
   "id": "45c7b3a3",
   "metadata": {},
   "source": [
    "### Factorial program"
   ]
  },
  {
   "cell_type": "code",
   "execution_count": 7,
   "id": "ede88013",
   "metadata": {},
   "outputs": [
    {
     "name": "stdout",
     "output_type": "stream",
     "text": [
      "Enter a number: 5\n",
      "Factorial of 5 is 120\n"
     ]
    }
   ],
   "source": [
    "#factrl pgm\n",
    "number=int(input(\"Enter a number: \"))\n",
    "fac=1\n",
    "i=1\n",
    "while i<=number:\n",
    "    fac=fac * i\n",
    "    i=i+1\n",
    "print(\"Factorial of\", number, \"is\", fac)"
   ]
  },
  {
   "cell_type": "markdown",
   "id": "9c1a9fb1",
   "metadata": {},
   "source": [
    "### Break"
   ]
  },
  {
   "cell_type": "code",
   "execution_count": 1,
   "id": "54b3254a",
   "metadata": {},
   "outputs": [
    {
     "name": "stdout",
     "output_type": "stream",
     "text": [
      "1\n",
      "2\n",
      "3\n",
      "4\n",
      "16\n"
     ]
    }
   ],
   "source": [
    "#break\n",
    "i=1                   #we can stop the loop even if the while condition is true\n",
    "while i<6:\n",
    "    print(i)\n",
    "    if i==4:\n",
    "        print(i*i)\n",
    "        break\n",
    "    i+=1\n"
   ]
  },
  {
   "cell_type": "markdown",
   "id": "0da92fe4",
   "metadata": {},
   "source": [
    "### Continue"
   ]
  },
  {
   "cell_type": "code",
   "execution_count": 6,
   "id": "38daa363",
   "metadata": {},
   "outputs": [
    {
     "name": "stdout",
     "output_type": "stream",
     "text": [
      "1\n",
      "2\n",
      "4\n",
      "5\n",
      "6\n"
     ]
    }
   ],
   "source": [
    "i=0\n",
    "while i<6:\n",
    "    i+=1                     #we can stop the current iteration and continue with the next\n",
    "    if i==3:\n",
    "        continue\n",
    "    print(i)\n"
   ]
  },
  {
   "cell_type": "markdown",
   "id": "522ce9ab",
   "metadata": {},
   "source": [
    "## for loops"
   ]
  },
  {
   "cell_type": "code",
   "execution_count": 1,
   "id": "cf6722d4",
   "metadata": {},
   "outputs": [
    {
     "name": "stdout",
     "output_type": "stream",
     "text": [
      "b\n",
      "a\n",
      "n\n",
      "a\n",
      "n\n",
      "a\n"
     ]
    }
   ],
   "source": [
    "#for loops\n",
    "for x in \"banana\":\n",
    "    print(x)"
   ]
  },
  {
   "cell_type": "code",
   "execution_count": 5,
   "id": "68352e1c",
   "metadata": {},
   "outputs": [
    {
     "name": "stdout",
     "output_type": "stream",
     "text": [
      "apple\n"
     ]
    }
   ],
   "source": [
    "fruits=[\"apple\",\"banana\",\"cherry\"]\n",
    "for x in fruits:\n",
    "    if x==\"banana\":\n",
    "        break\n",
    "    print(x)"
   ]
  },
  {
   "cell_type": "code",
   "execution_count": 6,
   "id": "809ba204",
   "metadata": {},
   "outputs": [
    {
     "name": "stdout",
     "output_type": "stream",
     "text": [
      "apple\n",
      "cherry\n"
     ]
    }
   ],
   "source": [
    "fruits=[\"apple\",\"banana\",\"cherry\"]\n",
    "for x in fruits:\n",
    "    if x==\"banana\":\n",
    "        continue\n",
    "    print(x)"
   ]
  },
  {
   "cell_type": "markdown",
   "id": "fab60f88",
   "metadata": {},
   "source": [
    "### Range"
   ]
  },
  {
   "cell_type": "code",
   "execution_count": 7,
   "id": "c793ddaa",
   "metadata": {},
   "outputs": [
    {
     "name": "stdout",
     "output_type": "stream",
     "text": [
      "0\n",
      "1\n",
      "2\n",
      "3\n",
      "4\n",
      "5\n",
      "6\n",
      "7\n",
      "8\n",
      "9\n"
     ]
    }
   ],
   "source": [
    "#range\n",
    "for x in range(10):              #strt from 0 and incrmnt by 1 by dflt\n",
    "    print(x)\n"
   ]
  },
  {
   "cell_type": "code",
   "execution_count": 8,
   "id": "00957917",
   "metadata": {},
   "outputs": [
    {
     "name": "stdout",
     "output_type": "stream",
     "text": [
      "2\n",
      "3\n",
      "4\n",
      "5\n",
      "6\n",
      "7\n",
      "8\n",
      "9\n"
     ]
    }
   ],
   "source": [
    "for x in range(2,10):\n",
    "    print(x)"
   ]
  },
  {
   "cell_type": "code",
   "execution_count": 9,
   "id": "3403dc4f",
   "metadata": {},
   "outputs": [
    {
     "name": "stdout",
     "output_type": "stream",
     "text": [
      "2\n",
      "4\n",
      "6\n",
      "8\n",
      "10\n",
      "12\n",
      "14\n",
      "16\n",
      "18\n"
     ]
    }
   ],
   "source": [
    "for x in range(2,20,2):\n",
    "    print(x)                         #the last 2 is step size"
   ]
  },
  {
   "cell_type": "markdown",
   "id": "b6dd480e",
   "metadata": {},
   "source": [
    "### Nested loops"
   ]
  },
  {
   "cell_type": "code",
   "execution_count": 11,
   "id": "05b61848",
   "metadata": {},
   "outputs": [
    {
     "name": "stdout",
     "output_type": "stream",
     "text": [
      "red apple\n",
      "red banana\n",
      "red cherry\n",
      "------------------\n",
      "big apple\n",
      "big banana\n",
      "big cherry\n",
      "------------------\n",
      "tasty apple\n",
      "tasty banana\n",
      "tasty cherry\n",
      "------------------\n"
     ]
    }
   ],
   "source": [
    "#nested loop\n",
    "colors=[\"red\",\"big\",\"tasty\"]\n",
    "fruits=[\"apple\",\"banana\",\"cherry\"]\n",
    "for x in colors:\n",
    "    for y in fruits:\n",
    "        print(x,y)\n",
    "    print('------------------')"
   ]
  },
  {
   "cell_type": "code",
   "execution_count": 13,
   "id": "f54bb7a7",
   "metadata": {},
   "outputs": [
    {
     "name": "stdout",
     "output_type": "stream",
     "text": [
      "The sum of squares is :  220\n"
     ]
    }
   ],
   "source": [
    "#find sum of sqrs in a list                     \n",
    "numbers=[2,4,6,8,10]\n",
    "sum_=0                                              \n",
    "for num in numbers:\n",
    "    sqr=num**2\n",
    "    sum_=sum_+sqr\n",
    "print(\"The sum of squares is : \",sum_)"
   ]
  },
  {
   "cell_type": "code",
   "execution_count": 17,
   "id": "a26d9c4f",
   "metadata": {},
   "outputs": [
    {
     "name": "stdout",
     "output_type": "stream",
     "text": [
      "11 Is a prime number\n",
      "13 Is a prime number\n",
      "17 Is a prime number\n",
      "19 Is a prime number\n"
     ]
    }
   ],
   "source": [
    "#prime                                                  \n",
    "for num in range(10,20):                       #itrte b/w 10 &20\n",
    "    for i in range(2,num):                     #itrte fctrs of the number\n",
    "        if num%i==0:                           #dtrmine frst factor\n",
    "            j=num/i                            #clclte 2nd fctr\n",
    "            break                              \n",
    "    else:\n",
    "            print(num,\"Is a prime number\")"
   ]
  },
  {
   "cell_type": "code",
   "execution_count": 18,
   "id": "8677e6ea",
   "metadata": {},
   "outputs": [
    {
     "name": "stdout",
     "output_type": "stream",
     "text": [
      "5 x 1=5\n",
      "5 x 2=10\n",
      "5 x 3=15\n",
      "5 x 4=20\n",
      "5 x 5=25\n",
      "5 x 6=30\n",
      "5 x 7=35\n",
      "5 x 8=40\n",
      "5 x 9=45\n",
      "5 x 10=50\n"
     ]
    }
   ],
   "source": [
    "n=5\n",
    "for i in range(1,11):           #mltplctn tbl\n",
    "    product=n*i\n",
    "    print(\"%d x %d=%d\"%(n,i,product))"
   ]
  },
  {
   "cell_type": "code",
   "execution_count": 22,
   "id": "392696e9",
   "metadata": {},
   "outputs": [
    {
     "name": "stdout",
     "output_type": "stream",
     "text": [
      "1  \n",
      "1 2  \n",
      "1 2 3  \n",
      "1 2 3 4  \n",
      "1 2 3 4 5  \n"
     ]
    }
   ],
   "source": [
    "#pattern decide row count                           #star:1\n",
    "row=5                                               #stop:row+1\n",
    "for i in range(1,row+1):                            #run loop 5 times\n",
    "    for j in range(1,i+1):                          #run inner loop i+1 times\n",
    "        print(j,end=' ')                            #empty line after each row\n",
    "    print(\" \")\n",
    "        "
   ]
  },
  {
   "cell_type": "code",
   "execution_count": 24,
   "id": "496099d7",
   "metadata": {},
   "outputs": [
    {
     "name": "stdout",
     "output_type": "stream",
     "text": [
      "5 4 3 2 1 \n",
      "4 3 2 1 \n",
      "3 2 1 \n",
      "2 1 \n",
      "1 \n",
      "\n"
     ]
    }
   ],
   "source": [
    "n=5\n",
    "k=5\n",
    "for i in range(0,n+1):\n",
    "    for j in range(k-i,0,-1):\n",
    "        print(j,end=' ')\n",
    "    print( )\n",
    "        "
   ]
  },
  {
   "cell_type": "code",
   "execution_count": 25,
   "id": "81bb2fcf",
   "metadata": {},
   "outputs": [
    {
     "name": "stdout",
     "output_type": "stream",
     "text": [
      "0 0 0 0 0 \n",
      "1 1 1 1 \n",
      "2 2 2 \n",
      "3 3 \n",
      "4 \n",
      "\n"
     ]
    }
   ],
   "source": [
    "n=5\n",
    "k=5\n",
    "for i in range(0,n+1):\n",
    "    for j in range(k-i,0,-1):\n",
    "        print(i,end=' ')\n",
    "    print()\n"
   ]
  },
  {
   "cell_type": "code",
   "execution_count": 33,
   "id": "217c7e06",
   "metadata": {},
   "outputs": [
    {
     "name": "stdout",
     "output_type": "stream",
     "text": [
      "*  \n",
      "* *  \n",
      "* * *  \n",
      "* * * *  \n",
      "* * * * *  \n",
      "* * * *  \n",
      "* * *  \n",
      "* *  \n",
      "*  \n",
      " \n"
     ]
    }
   ],
   "source": [
    "rows=5                                      #single carriage return character,\n",
    "for i in range(0,rows):                     #will move to the cursor back to the beginning of the current line without advancing \n",
    "    for j in range(0,i+1):                   #to the nxt line\n",
    "        print('*',end=' ')\n",
    "    print(\" \")\n",
    "for i in range(rows,0,-1):\n",
    "            for j in range(0,i-1):\n",
    "                print('*',end=' ')\n",
    "            print(\" \")\n",
    "                \n",
    "            "
   ]
  },
  {
   "cell_type": "markdown",
   "id": "c1090fc8",
   "metadata": {},
   "source": [
    "### List comprehension"
   ]
  },
  {
   "cell_type": "code",
   "execution_count": 54,
   "id": "c2adaa81",
   "metadata": {},
   "outputs": [
    {
     "name": "stdout",
     "output_type": "stream",
     "text": [
      "['apple', 'banana', 'mango']\n"
     ]
    }
   ],
   "source": [
    "#list comprehension\n",
    "fruits=[\"apple\",\"banana\",\"cherry\",\"kiwi\",\"mango\"]\n",
    "newlist=[]\n",
    "for x in fruits:\n",
    "    if \"a\" in x:\n",
    "        newlist.append(x)\n",
    "print(newlist)\n",
    "    "
   ]
  },
  {
   "cell_type": "code",
   "execution_count": 53,
   "id": "78048a5c",
   "metadata": {},
   "outputs": [
    {
     "name": "stdout",
     "output_type": "stream",
     "text": [
      "['apple', 'banana', 'mango']\n"
     ]
    }
   ],
   "source": [
    "fruits=[\"apple\",\"banana\",\"cherry\",\"kiwi\",\"mango\"]\n",
    "newlist1=[x for x in fruits if \"a\" in x]\n",
    "print(newlist1)"
   ]
  },
  {
   "cell_type": "markdown",
   "id": "03de6757",
   "metadata": {},
   "source": [
    "#### syntax=[expression for item in iterable condition==True]"
   ]
  },
  {
   "cell_type": "code",
   "execution_count": 52,
   "id": "d5ebb086",
   "metadata": {},
   "outputs": [
    {
     "name": "stdout",
     "output_type": "stream",
     "text": [
      "['banana', 'cherry', 'kiwi', 'mango']\n"
     ]
    }
   ],
   "source": [
    "fruits=[\"apple\",\"banana\",\"cherry\",\"kiwi\",\"mango\"]\n",
    "newlist2=[x for x in fruits if x!=\"apple\"]\n",
    "print(newlist2)"
   ]
  },
  {
   "cell_type": "code",
   "execution_count": 50,
   "id": "b17615bc",
   "metadata": {},
   "outputs": [
    {
     "name": "stdout",
     "output_type": "stream",
     "text": [
      "['apple', 'banana', 'cherry', 'kiwi', 'mango']\n"
     ]
    }
   ],
   "source": [
    "fruits=[\"apple\",\"banana\",\"cherry\",\"kiwi\",\"mango\"]\n",
    "newlist3=[x for x in fruits]\n",
    "print(newlist3)\n",
    "    "
   ]
  },
  {
   "cell_type": "code",
   "execution_count": 42,
   "id": "b23c7c6e",
   "metadata": {},
   "outputs": [
    {
     "name": "stdout",
     "output_type": "stream",
     "text": [
      "[0, 1, 4, 9, 16, 25, 36, 49, 64, 81]\n"
     ]
    }
   ],
   "source": [
    "newlist4=[x*x for x in range(10)]\n",
    "print(newlist4)"
   ]
  },
  {
   "cell_type": "code",
   "execution_count": 51,
   "id": "ca5dc0ac",
   "metadata": {},
   "outputs": [
    {
     "name": "stdout",
     "output_type": "stream",
     "text": [
      "['APPLE', 'BANANA', 'CHERRY', 'KIWI', 'MANGO']\n"
     ]
    }
   ],
   "source": [
    "fruits=[\"apple\",\"banana\",\"cherry\",\"kiwi\",\"mango\"]\n",
    "newlist5=[x.upper() for x in fruits]\n",
    "print(newlist5)"
   ]
  },
  {
   "cell_type": "markdown",
   "id": "f2ef681e",
   "metadata": {},
   "source": [
    "### Using enumerate"
   ]
  },
  {
   "cell_type": "markdown",
   "id": "f4f1892c",
   "metadata": {},
   "source": [
    "#### printing the index nmbr along with the value present in that index "
   ]
  },
  {
   "cell_type": "code",
   "execution_count": 56,
   "id": "b718477c",
   "metadata": {},
   "outputs": [
    {
     "name": "stdout",
     "output_type": "stream",
     "text": [
      "0 The\n",
      "1 big\n",
      "2 bang\n",
      "3 theory\n"
     ]
    }
   ],
   "source": [
    "#enumerate\n",
    "for key,value in enumerate(['The','big','bang','theory']):\n",
    "    print(key,value)"
   ]
  },
  {
   "cell_type": "code",
   "execution_count": 57,
   "id": "5a05edc1",
   "metadata": {},
   "outputs": [
    {
     "name": "stdout",
     "output_type": "stream",
     "text": [
      "<class 'enumerate'>\n",
      "[(0, 'bread'), (1, 'milk'), (2, 'butter')]\n",
      "[(10, 'bread'), (11, 'milk'), (12, 'butter')]\n"
     ]
    }
   ],
   "source": [
    "grocery=['bread','milk','butter']\n",
    "enumerategrocery=enumerate(grocery)\n",
    "print(type(enumerategrocery))\n",
    "print(list(enumerategrocery))                     #cnvrt to list\n",
    "enumerategrocery=enumerate(grocery,10)          #change dflt counter\n",
    "print(list(enumerategrocery))"
   ]
  },
  {
   "cell_type": "markdown",
   "id": "c22e2ab9",
   "metadata": {},
   "source": [
    "### zip():"
   ]
  },
  {
   "cell_type": "markdown",
   "id": "8b72fe63",
   "metadata": {},
   "source": [
    "#### combine two similar containers"
   ]
  },
  {
   "cell_type": "code",
   "execution_count": 58,
   "id": "4e9bff6b",
   "metadata": {},
   "outputs": [
    {
     "name": "stdout",
     "output_type": "stream",
     "text": [
      "what is your name? i am apple.\n",
      "what is your colour? i am red.\n",
      "what is your shape? i am a circle.\n"
     ]
    }
   ],
   "source": [
    "#zip\n",
    "questions=['name','colour','shape']\n",
    "answers=['apple','red','a circle']\n",
    "for questions,answers in zip(questions,answers):\n",
    "    print('what is your {0}? i am {1}.'.format(questions,answers))"
   ]
  },
  {
   "cell_type": "markdown",
   "id": "7d5159b6",
   "metadata": {},
   "source": [
    "### Sorted"
   ]
  },
  {
   "cell_type": "code",
   "execution_count": 60,
   "id": "5c9f3f48",
   "metadata": {},
   "outputs": [
    {
     "name": "stdout",
     "output_type": "stream",
     "text": [
      "The list in sorted order is: \n",
      "1 1 2 3 3 5 6 \r\n",
      "The list in sorted order (without duplicates) is: \n",
      "1 2 3 5 6 "
     ]
    }
   ],
   "source": [
    "\n",
    "list1=[1,3,5,6,2,1,3]\n",
    "print(\"The list in sorted order is: \")\n",
    "for i in sorted(list1):\n",
    "    print(i,end=\" \")\n",
    "print(\"\\r\")\n",
    "print(\"The list in sorted order (without duplicates) is: \")\n",
    "for i in sorted(set(list1)):\n",
    "    print(i,end=' ')"
   ]
  },
  {
   "cell_type": "markdown",
   "id": "870a5b91",
   "metadata": {},
   "source": [
    "### Reversed"
   ]
  },
  {
   "cell_type": "code",
   "execution_count": 61,
   "id": "feb14900",
   "metadata": {},
   "outputs": [
    {
     "name": "stdout",
     "output_type": "stream",
     "text": [
      "the list in reversed order is: \n",
      "3 1 2 6 5 3 1 "
     ]
    }
   ],
   "source": [
    "#reverse\n",
    "list1=[1,3,5,6,2,1,3]\n",
    "print(\"the list in reversed order is: \")\n",
    "for i in reversed(list1):\n",
    "    print(i,end=' ')"
   ]
  },
  {
   "cell_type": "markdown",
   "id": "71c11ae2",
   "metadata": {},
   "source": [
    "## Dictionaries"
   ]
  },
  {
   "cell_type": "code",
   "execution_count": 1,
   "id": "b1c91da1",
   "metadata": {},
   "outputs": [
    {
     "name": "stdout",
     "output_type": "stream",
     "text": [
      "{'name': 'john', 'age': '38', 'city': 'new york'}\n"
     ]
    }
   ],
   "source": [
    "#dictionaries                            #key:value\n",
    "person={\n",
    "    \"name\":\"john\",\n",
    "    \"age\":  \"38\",\n",
    "    \"city\":\"new york\"    \n",
    "}\n",
    "print(person)"
   ]
  },
  {
   "cell_type": "code",
   "execution_count": 3,
   "id": "e94d2299",
   "metadata": {},
   "outputs": [
    {
     "name": "stdout",
     "output_type": "stream",
     "text": [
      "{'brand': 'ford', 'model': 'mustang', 'year': [1964, 2034]}\n"
     ]
    }
   ],
   "source": [
    "d={\n",
    "    \"brand\":\"ford\",\n",
    "    \"model\":\"mustang\",\n",
    "    \"year\":[1964,2034]\n",
    "}\n",
    "print(d)"
   ]
  },
  {
   "cell_type": "code",
   "execution_count": 1,
   "id": "bdb94d73",
   "metadata": {},
   "outputs": [
    {
     "name": "stdout",
     "output_type": "stream",
     "text": [
      "{'brand': 'ford', 'model': 'mustang', 'year': 2020}\n"
     ]
    }
   ],
   "source": [
    "#duplicates not allowed\n",
    "d={\n",
    "    \"brand\":\"ford\",\n",
    "    \"model\":\"mustang\",\n",
    "    \"year\":1964,\n",
    "    \"year\":2020\n",
    "}\n",
    "print(d)"
   ]
  },
  {
   "cell_type": "code",
   "execution_count": 4,
   "id": "6332b5ae",
   "metadata": {},
   "outputs": [
    {
     "name": "stdout",
     "output_type": "stream",
     "text": [
      "new york\n"
     ]
    }
   ],
   "source": [
    "person={\n",
    "    \"name\":\"john\",\n",
    "    \"age\":  \"38\",\n",
    "    \"city\":\"new york\"    \n",
    "}\n",
    "x=person[\"city\"]\n",
    "print(x)"
   ]
  },
  {
   "cell_type": "code",
   "execution_count": 5,
   "id": "a66aa94d",
   "metadata": {},
   "outputs": [
    {
     "name": "stdout",
     "output_type": "stream",
     "text": [
      "john\n"
     ]
    }
   ],
   "source": [
    "person={\n",
    "    \"name\":\"john\",\n",
    "    \"age\":  \"38\",\n",
    "    \"city\":\"new york\"    \n",
    "}\n",
    "y=person.get(\"name\")\n",
    "print(y)"
   ]
  },
  {
   "cell_type": "code",
   "execution_count": 7,
   "id": "2b4a050e",
   "metadata": {},
   "outputs": [
    {
     "name": "stdout",
     "output_type": "stream",
     "text": [
      "dict_keys(['name', 'age', 'city'])\n",
      "dict_values(['john', '38', 'new york'])\n",
      "dict_items([('name', 'john'), ('age', '38'), ('city', 'new york')])\n"
     ]
    }
   ],
   "source": [
    "#keys,values,items\n",
    "person={\n",
    "    \"name\":\"john\",\n",
    "    \"age\":  \"38\",\n",
    "    \"city\":\"new york\"    \n",
    "}\n",
    "x=person.keys()\n",
    "print(x)\n",
    "y=person.values()\n",
    "print(y)\n",
    "z=person.items()\n",
    "print(z)"
   ]
  },
  {
   "cell_type": "code",
   "execution_count": 8,
   "id": "781781ab",
   "metadata": {},
   "outputs": [
    {
     "name": "stdout",
     "output_type": "stream",
     "text": [
      "{'brand': 'ford', 'model': 'mustang', 'year': 2020}\n"
     ]
    }
   ],
   "source": [
    "#update\n",
    "d={\n",
    "    \"brand\":\"ford\",\n",
    "    \"model\":\"mustang\",\n",
    "    \"year\":[1964,2034]\n",
    "}\n",
    "d.update({\"year\":2020})\n",
    "print(d)"
   ]
  },
  {
   "cell_type": "code",
   "execution_count": 11,
   "id": "5b0519ae",
   "metadata": {},
   "outputs": [
    {
     "name": "stdout",
     "output_type": "stream",
     "text": [
      "{'brand': 'ford', 'model': 'mustang', 'year': 1964, 'color': 'red'}\n"
     ]
    }
   ],
   "source": [
    "#adding\n",
    "d={\n",
    "    \"brand\":\"ford\",\n",
    "    \"model\":\"mustang\",\n",
    "    \"year\":1964\n",
    "}\n",
    "d[\"color\"]=\"red\"\n",
    "print(d)"
   ]
  },
  {
   "cell_type": "code",
   "execution_count": 12,
   "id": "f42eea6e",
   "metadata": {},
   "outputs": [
    {
     "name": "stdout",
     "output_type": "stream",
     "text": [
      "{'brand': 'ford', 'year': 1964}\n"
     ]
    }
   ],
   "source": [
    "#removing\n",
    "\n",
    "d={\n",
    "    \"brand\":\"ford\",\n",
    "    \"model\":\"mustang\",\n",
    "    \"year\":1964\n",
    "}\n",
    "d.pop(\"model\")\n",
    "print(d)"
   ]
  },
  {
   "cell_type": "code",
   "execution_count": 13,
   "id": "90a32917",
   "metadata": {},
   "outputs": [
    {
     "name": "stdout",
     "output_type": "stream",
     "text": [
      "{'brand': 'ford', 'model': 'mustang'}\n"
     ]
    }
   ],
   "source": [
    "d={\n",
    "    \"brand\":\"ford\",\n",
    "    \"model\":\"mustang\",\n",
    "    \"year\":1964                  #last  rmvl\n",
    "}\n",
    "d.popitem()\n",
    "print(d)"
   ]
  },
  {
   "cell_type": "code",
   "execution_count": 14,
   "id": "a5e8d80d",
   "metadata": {},
   "outputs": [
    {
     "name": "stdout",
     "output_type": "stream",
     "text": [
      "{}\n"
     ]
    }
   ],
   "source": [
    "#clear\n",
    "d={\n",
    "    \"brand\":\"ford\",\n",
    "    \"model\":\"mustang\",\n",
    "    \"year\":1964\n",
    "}\n",
    "d.clear()\n",
    "print(d)"
   ]
  },
  {
   "cell_type": "code",
   "execution_count": 3,
   "id": "475b4f85",
   "metadata": {},
   "outputs": [
    {
     "name": "stdout",
     "output_type": "stream",
     "text": [
      "{'model': 'mustang', 'year': 1964}\n"
     ]
    }
   ],
   "source": [
    "#delete\n",
    "d={\n",
    "    \"brand\":\"ford\",\n",
    "    \"model\":\"mustang\",\n",
    "    \"year\":1964\n",
    "}\n",
    "del d[\"brand\"]\n",
    "print(d)"
   ]
  },
  {
   "cell_type": "code",
   "execution_count": 4,
   "id": "ea76bd44",
   "metadata": {},
   "outputs": [
    {
     "ename": "NameError",
     "evalue": "name 'd' is not defined",
     "output_type": "error",
     "traceback": [
      "\u001b[1;31m---------------------------------------------------------------------------\u001b[0m",
      "\u001b[1;31mNameError\u001b[0m                                 Traceback (most recent call last)",
      "Cell \u001b[1;32mIn[4], line 8\u001b[0m\n\u001b[0;32m      2\u001b[0m d\u001b[38;5;241m=\u001b[39m{\n\u001b[0;32m      3\u001b[0m     \u001b[38;5;124m\"\u001b[39m\u001b[38;5;124mbrand\u001b[39m\u001b[38;5;124m\"\u001b[39m:\u001b[38;5;124m\"\u001b[39m\u001b[38;5;124mford\u001b[39m\u001b[38;5;124m\"\u001b[39m,\n\u001b[0;32m      4\u001b[0m     \u001b[38;5;124m\"\u001b[39m\u001b[38;5;124mmodel\u001b[39m\u001b[38;5;124m\"\u001b[39m:\u001b[38;5;124m\"\u001b[39m\u001b[38;5;124mmustang\u001b[39m\u001b[38;5;124m\"\u001b[39m,\n\u001b[0;32m      5\u001b[0m     \u001b[38;5;124m\"\u001b[39m\u001b[38;5;124myear\u001b[39m\u001b[38;5;124m\"\u001b[39m:\u001b[38;5;241m1964\u001b[39m\n\u001b[0;32m      6\u001b[0m }\n\u001b[0;32m      7\u001b[0m \u001b[38;5;28;01mdel\u001b[39;00m d\n\u001b[1;32m----> 8\u001b[0m \u001b[38;5;28mprint\u001b[39m(d)\n",
      "\u001b[1;31mNameError\u001b[0m: name 'd' is not defined"
     ]
    }
   ],
   "source": [
    "#delete completely this will cause an error but the dct no longer exists\n",
    "d={\n",
    "    \"brand\":\"ford\",\n",
    "    \"model\":\"mustang\",\n",
    "    \"year\":1964\n",
    "}\n",
    "del d\n",
    "print(d)"
   ]
  },
  {
   "cell_type": "markdown",
   "id": "f71f1c47",
   "metadata": {},
   "source": [
    "### loop dictionaries"
   ]
  },
  {
   "cell_type": "code",
   "execution_count": 17,
   "id": "dcbbd529",
   "metadata": {},
   "outputs": [
    {
     "name": "stdout",
     "output_type": "stream",
     "text": [
      "brand\n",
      "model\n",
      "year\n"
     ]
    }
   ],
   "source": [
    "xdict={\n",
    "    \"brand\":\"ford\",\n",
    "    \"model\":\"mustang\",                 #prnt keys\n",
    "    \"year\":1964\n",
    "}\n",
    "for i in xdict:\n",
    "    print(i)"
   ]
  },
  {
   "cell_type": "code",
   "execution_count": 18,
   "id": "2c378aad",
   "metadata": {},
   "outputs": [
    {
     "name": "stdout",
     "output_type": "stream",
     "text": [
      "ford\n",
      "mustang\n",
      "1964\n"
     ]
    }
   ],
   "source": [
    "xdict={\n",
    "    \"brand\":\"ford\",                        #values\n",
    "    \"model\":\"mustang\",\n",
    "    \"year\":1964\n",
    "}\n",
    "for i in xdict:\n",
    "    print(xdict[i])"
   ]
  },
  {
   "cell_type": "code",
   "execution_count": 22,
   "id": "7dcb7c50",
   "metadata": {},
   "outputs": [
    {
     "name": "stdout",
     "output_type": "stream",
     "text": [
      "banana -> 1.5\n",
      "bread -> 3.2\n",
      "butter -> 2.4\n"
     ]
    }
   ],
   "source": [
    "#sorted\n",
    "prices={'bread':'3.2','butter':'2.4','banana':'1.5'}\n",
    "for k in sorted(prices.keys()):\n",
    "    print(k ,'->',prices[k])"
   ]
  },
  {
   "cell_type": "code",
   "execution_count": 5,
   "id": "50cc06d0",
   "metadata": {},
   "outputs": [
    {
     "name": "stdout",
     "output_type": "stream",
     "text": [
      "{'brand': 'ford', 'model': 'mustang', 'year': 1964}\n"
     ]
    }
   ],
   "source": [
    "#copy\n",
    "mydict={\n",
    "    \"brand\":\"ford\",\n",
    "    \"model\":\"mustang\",\n",
    "    \"year\":1964\n",
    "}\n",
    "dct=mydict.copy()\n",
    "print(dct)"
   ]
  },
  {
   "cell_type": "code",
   "execution_count": 6,
   "id": "894f1927",
   "metadata": {},
   "outputs": [
    {
     "name": "stdout",
     "output_type": "stream",
     "text": [
      "{'brand': 'ford', 'model': 'mustang', 'year': 1964}\n"
     ]
    }
   ],
   "source": [
    "#copy\n",
    "mydict={\n",
    "    \"brand\":\"ford\",\n",
    "    \"model\":\"mustang\",\n",
    "    \"year\":1964\n",
    "}\n",
    "dict1=dict(mydict)\n",
    "print(dict1)"
   ]
  },
  {
   "cell_type": "code",
   "execution_count": 7,
   "id": "952adfdf",
   "metadata": {},
   "outputs": [
    {
     "name": "stdout",
     "output_type": "stream",
     "text": [
      "{'child1': {'name': 'Emil', 'age': '18'}, 'child2': {'name': 'shalu', 'age': '12'}}\n"
     ]
    }
   ],
   "source": [
    "#nested\n",
    "myfamily={\n",
    "    \"child1\":{\n",
    "        \"name\":\"Emil\",\n",
    "        \"age\":\"18\"\n",
    "    },\n",
    "    \"child2\":{\n",
    "        \"name\":\"shalu\",\n",
    "        \"age\":\"12\"\n",
    "   }\n",
    "}\n",
    "print(myfamily)"
   ]
  },
  {
   "cell_type": "code",
   "execution_count": 2,
   "id": "b8cdcf90",
   "metadata": {},
   "outputs": [
    {
     "name": "stdout",
     "output_type": "stream",
     "text": [
      "{'chocolate': '7', 'ice cream': '14', 'apple': '21'}\n"
     ]
    }
   ],
   "source": [
    "dict1={'chocolate':'10','ice cream':'8','apple':'12'}\n",
    "dict2={'pen':'7','pencil':'14','ball':'21'}\n",
    "newdict=dict(zip(dict1,dict2.values()))\n",
    "print(newdict)"
   ]
  },
  {
   "cell_type": "markdown",
   "id": "58c89dfa",
   "metadata": {},
   "source": [
    "## files"
   ]
  },
  {
   "cell_type": "code",
   "execution_count": 1,
   "id": "f96e3ee5",
   "metadata": {},
   "outputs": [
    {
     "name": "stdout",
     "output_type": "stream",
     "text": [
      "C:\\Users\\DELL\\Python\\Basics\n"
     ]
    }
   ],
   "source": [
    "\n",
    "import os\n",
    "cwd=os.getcwd()      #current working directory\n",
    "print(cwd)"
   ]
  },
  {
   "cell_type": "code",
   "execution_count": 2,
   "id": "1cd6b9a1",
   "metadata": {
    "scrolled": true
   },
   "outputs": [
    {
     "name": "stdout",
     "output_type": "stream",
     "text": [
      "c:\\users\n"
     ]
    }
   ],
   "source": [
    "os.chdir('c:\\\\users')     #change dir\n",
    "print(os.getcwd())         "
   ]
  },
  {
   "cell_type": "code",
   "execution_count": 4,
   "id": "deff3394",
   "metadata": {},
   "outputs": [
    {
     "name": "stdout",
     "output_type": "stream",
     "text": [
      "C:\\Users\\DELL\n"
     ]
    }
   ],
   "source": [
    "os.chdir(cwd)       #change wrkng dir back to orgnl\n",
    "print(os.getcwd())"
   ]
  },
  {
   "cell_type": "code",
   "execution_count": 5,
   "id": "b8eb972d",
   "metadata": {},
   "outputs": [
    {
     "name": "stdout",
     "output_type": "stream",
     "text": [
      "C:\\Users\\DELL\n"
     ]
    }
   ],
   "source": [
    "print(os.getcwd()) #prnt current wrknng dir"
   ]
  },
  {
   "cell_type": "markdown",
   "id": "3f1aa469",
   "metadata": {},
   "source": [
    "### file paths\n",
    " #### a path that specifies all folders starting from the root is an absolute path\n",
    " #### a path that is specified relative to the current working directory is a relative path "
   ]
  },
  {
   "cell_type": "markdown",
   "id": "52cbfc88",
   "metadata": {},
   "source": [
    "### absolute path of the file: for example,c:\\modules\\tee3201\\exercises\\ex1.txt\n",
    "### relative path of the file: for example,exercises\\ex1.txt\n",
    "####  to go to previous directory,\n",
    "####  exercises\\ex1.txt\n",
    "####  .\\exercises\\ex1.txt\n",
    "####  ..\\tee3201\\exercises\\ex1.txt\n",
    "####  ..\\ ..\\modules\\tee3201\\exercises\\ex1.txt"
   ]
  },
  {
   "cell_type": "markdown",
   "id": "8df715f7",
   "metadata": {},
   "source": [
    "### os.makedirs(): function to create folders\n",
    "### os.removedirs(): function to delete folders"
   ]
  },
  {
   "cell_type": "code",
   "execution_count": 13,
   "id": "a6a7f490",
   "metadata": {},
   "outputs": [],
   "source": [
    "os.makedirs('ex\\\\j1')     #create dirctry"
   ]
  },
  {
   "cell_type": "code",
   "execution_count": 7,
   "id": "d7bacd36",
   "metadata": {},
   "outputs": [],
   "source": [
    "os.chdir('ex\\\\j1')    #change current wrkng dir"
   ]
  },
  {
   "cell_type": "code",
   "execution_count": 8,
   "id": "aed56dc3",
   "metadata": {},
   "outputs": [
    {
     "name": "stdout",
     "output_type": "stream",
     "text": [
      "C:\\Users\\DELL\\ex\\j1\n"
     ]
    }
   ],
   "source": [
    "print(os.getcwd())     #print new wrkng dir"
   ]
  },
  {
   "cell_type": "code",
   "execution_count": 9,
   "id": "e608631b",
   "metadata": {},
   "outputs": [
    {
     "name": "stdout",
     "output_type": "stream",
     "text": [
      "C:\\Users\\DELL\\ex\n"
     ]
    }
   ],
   "source": [
    "os.chdir('..')           #go to parrent dir\n",
    "print(os.getcwd())"
   ]
  },
  {
   "cell_type": "code",
   "execution_count": 10,
   "id": "2da15354",
   "metadata": {},
   "outputs": [
    {
     "name": "stdout",
     "output_type": "stream",
     "text": [
      "C:\\Users\\DELL\n"
     ]
    }
   ],
   "source": [
    "os.chdir('..')\n",
    "print(os.getcwd())"
   ]
  },
  {
   "cell_type": "code",
   "execution_count": 14,
   "id": "2b08a6fc",
   "metadata": {},
   "outputs": [],
   "source": [
    "os.removedirs('ex\\\\j1')           #rmv dir"
   ]
  },
  {
   "cell_type": "code",
   "execution_count": 16,
   "id": "6c9c6f68",
   "metadata": {},
   "outputs": [
    {
     "ename": "FileNotFoundError",
     "evalue": "[WinError 3] The system cannot find the path specified: 'ex\\\\j1'",
     "output_type": "error",
     "traceback": [
      "\u001b[1;31m---------------------------------------------------------------------------\u001b[0m",
      "\u001b[1;31mFileNotFoundError\u001b[0m                         Traceback (most recent call last)",
      "Cell \u001b[1;32mIn[16], line 1\u001b[0m\n\u001b[1;32m----> 1\u001b[0m os\u001b[38;5;241m.\u001b[39mchdir(\u001b[38;5;124m'\u001b[39m\u001b[38;5;124mex\u001b[39m\u001b[38;5;130;01m\\\\\u001b[39;00m\u001b[38;5;124mj1\u001b[39m\u001b[38;5;124m'\u001b[39m)\n",
      "\u001b[1;31mFileNotFoundError\u001b[0m: [WinError 3] The system cannot find the path specified: 'ex\\\\j1'"
     ]
    }
   ],
   "source": [
    "os.chdir('ex\\\\j1')"
   ]
  },
  {
   "cell_type": "markdown",
   "id": "774c9dcc",
   "metadata": {},
   "source": [
    "### os.path\n",
    "#### os.path.join() function can used to generate file path that matches the curent operating system"
   ]
  },
  {
   "cell_type": "code",
   "execution_count": 1,
   "id": "ebe607d3",
   "metadata": {},
   "outputs": [
    {
     "name": "stdout",
     "output_type": "stream",
     "text": [
      "C:\\Users\\DELL\n"
     ]
    }
   ],
   "source": [
    "#os.path\n",
    "import os\n",
    "cwd=os.getcwd()\n",
    "print(cwd)"
   ]
  },
  {
   "cell_type": "code",
   "execution_count": 2,
   "id": "2c7cdb8c",
   "metadata": {},
   "outputs": [
    {
     "name": "stdout",
     "output_type": "stream",
     "text": [
      "C:\\Users\\DELL\\ex\\j1\n"
     ]
    }
   ],
   "source": [
    "path=os.path.join(cwd,'ex','j1')\n",
    "print(path)\n"
   ]
  },
  {
   "cell_type": "markdown",
   "id": "3f6da43c",
   "metadata": {},
   "source": [
    "#### listing directories"
   ]
  },
  {
   "cell_type": "code",
   "execution_count": 32,
   "id": "f6a17e7b",
   "metadata": {},
   "outputs": [
    {
     "name": "stdout",
     "output_type": "stream",
     "text": [
      "All Users\n",
      "Default\n",
      "Default User\n",
      "DELL\n",
      "desktop.ini\n",
      "Public\n"
     ]
    }
   ],
   "source": [
    "#listing directiries\n",
    "files=os.listdir(cwd)\n",
    "for x in files:\n",
    "    print(x)"
   ]
  },
  {
   "cell_type": "markdown",
   "id": "a1731202",
   "metadata": {},
   "source": [
    "#### check for a specific file"
   ]
  },
  {
   "cell_type": "code",
   "execution_count": 33,
   "id": "f65f12f7",
   "metadata": {},
   "outputs": [
    {
     "name": "stdout",
     "output_type": "stream",
     "text": [
      "file exists\n"
     ]
    }
   ],
   "source": [
    "#check for a specific file\n",
    "file='desktop.ini'\n",
    "if os.path.exists(file):\n",
    "    print(\"file exists\")\n",
    "else:\n",
    "    print(\"file does not exists\")"
   ]
  },
  {
   "cell_type": "markdown",
   "id": "08ee8f2c",
   "metadata": {},
   "source": [
    "#### checking file or directory"
   ]
  },
  {
   "cell_type": "code",
   "execution_count": 34,
   "id": "94b7fb7f",
   "metadata": {},
   "outputs": [
    {
     "name": "stdout",
     "output_type": "stream",
     "text": [
      "it is a file\n"
     ]
    }
   ],
   "source": [
    "#chckng file or dir\n",
    "path='desktop.ini'\n",
    "if os.path.isfile(path):\n",
    "    print(\"it is a file\")\n",
    "elif os.path.isdir(path):\n",
    "        print(\"it is a directory\")\n",
    "else:\n",
    "        print(\"neither file nor directory \")"
   ]
  },
  {
   "cell_type": "code",
   "execution_count": null,
   "id": "ed4f3ad0",
   "metadata": {},
   "outputs": [],
   "source": [
    "os.chdir('DELL')"
   ]
  },
  {
   "cell_type": "markdown",
   "id": "0d0046ea",
   "metadata": {},
   "source": [
    "### creating files"
   ]
  },
  {
   "cell_type": "code",
   "execution_count": 1,
   "id": "550735ac",
   "metadata": {},
   "outputs": [],
   "source": [
    "#creating files\n",
    "file_name=\"sample1.txt\"                #w write                #read  r\n",
    "f=open(file_name,'w')\n",
    "f.write(\"this is the first line\")\n",
    "f.close()"
   ]
  },
  {
   "cell_type": "code",
   "execution_count": 60,
   "id": "bce7c473",
   "metadata": {},
   "outputs": [],
   "source": [
    "with open(\"sample2.txt\",'a') as fh:\n",
    "    fh.write(\"hello\")                       #a append"
   ]
  },
  {
   "cell_type": "code",
   "execution_count": null,
   "id": "7baf15e0",
   "metadata": {},
   "outputs": [],
   "source": [
    "os.chdir('DELL')"
   ]
  },
  {
   "cell_type": "markdown",
   "id": "fc64a7c3",
   "metadata": {},
   "source": [
    "### reading files\n",
    "#### there are 3 steps to reading file in python\n",
    "####     call the open() function to receive a file object\n",
    "####     call the read() method on the file objectb to receive file content\n",
    "####     close the file by calling the close() method on the file object"
   ]
  },
  {
   "cell_type": "code",
   "execution_count": 53,
   "id": "2d4a2b90",
   "metadata": {},
   "outputs": [
    {
     "name": "stdout",
     "output_type": "stream",
     "text": [
      "hello\n"
     ]
    }
   ],
   "source": [
    "file_path=os.path.join(\"sample2.txt\")\n",
    "f=open(file_path,'r')       #open in read mode\n",
    "items=f.read()\n",
    "print(items)\n",
    "f.close()"
   ]
  },
  {
   "cell_type": "code",
   "execution_count": 54,
   "id": "a3f1a416",
   "metadata": {},
   "outputs": [
    {
     "name": "stdout",
     "output_type": "stream",
     "text": [
      "['hello']\n"
     ]
    }
   ],
   "source": [
    "file_path=os.path.join(\"sample2.txt\")\n",
    "f=open(file_path,\"r\")\n",
    "items=f.readlines()\n",
    "print(items)\n",
    "f.close()"
   ]
  },
  {
   "cell_type": "code",
   "execution_count": 55,
   "id": "083832b9",
   "metadata": {},
   "outputs": [
    {
     "name": "stdout",
     "output_type": "stream",
     "text": [
      "hello\n"
     ]
    }
   ],
   "source": [
    "file_path=os.path.join(\"sample2.txt\")\n",
    "f=open(file_path,'r')\n",
    "items=f.readlines()\n",
    "for i in items:\n",
    "    print(i.strip())\n",
    "f.close()"
   ]
  },
  {
   "cell_type": "code",
   "execution_count": null,
   "id": "bc09fbd9",
   "metadata": {},
   "outputs": [],
   "source": []
  }
 ],
 "metadata": {
  "kernelspec": {
   "display_name": "Python 3 (ipykernel)",
   "language": "python",
   "name": "python3"
  },
  "language_info": {
   "codemirror_mode": {
    "name": "ipython",
    "version": 3
   },
   "file_extension": ".py",
   "mimetype": "text/x-python",
   "name": "python",
   "nbconvert_exporter": "python",
   "pygments_lexer": "ipython3",
   "version": "3.11.4"
  }
 },
 "nbformat": 4,
 "nbformat_minor": 5
}
