{
 "cells": [
  {
   "cell_type": "code",
   "execution_count": 1,
   "id": "54041a7a",
   "metadata": {},
   "outputs": [
    {
     "name": "stdout",
     "output_type": "stream",
     "text": [
      "Requirement already satisfied: pandas in c:\\users\\dell\\anaconda3\\lib\\site-packages (1.5.3)\n",
      "Requirement already satisfied: python-dateutil>=2.8.1 in c:\\users\\dell\\anaconda3\\lib\\site-packages (from pandas) (2.8.2)\n",
      "Requirement already satisfied: pytz>=2020.1 in c:\\users\\dell\\anaconda3\\lib\\site-packages (from pandas) (2022.7)\n",
      "Requirement already satisfied: numpy>=1.21.0 in c:\\users\\dell\\anaconda3\\lib\\site-packages (from pandas) (1.24.3)\n",
      "Requirement already satisfied: six>=1.5 in c:\\users\\dell\\anaconda3\\lib\\site-packages (from python-dateutil>=2.8.1->pandas) (1.16.0)\n"
     ]
    }
   ],
   "source": [
    "!pip3 install pandas"
   ]
  },
  {
   "cell_type": "code",
   "execution_count": 1,
   "id": "2111021e",
   "metadata": {},
   "outputs": [],
   "source": [
    "import pandas as pd"
   ]
  },
  {
   "cell_type": "code",
   "execution_count": 3,
   "id": "76677dde",
   "metadata": {},
   "outputs": [
    {
     "name": "stdout",
     "output_type": "stream",
     "text": [
      "1.5.3\n"
     ]
    }
   ],
   "source": [
    "print(pd.__version__)"
   ]
  },
  {
   "cell_type": "markdown",
   "id": "06bb81f3",
   "metadata": {},
   "source": [
    "### Pandas is used to analyze data"
   ]
  },
  {
   "cell_type": "markdown",
   "id": "a6bce795",
   "metadata": {},
   "source": [
    "### Series"
   ]
  },
  {
   "cell_type": "markdown",
   "id": "1acc67d7",
   "metadata": {},
   "source": [
    "#### A pandas series is like a column in a table.\n",
    "#### It is a one dimensional array holding data of any type (int,str,float,python obj etc) axis labels are collectively called index."
   ]
  },
  {
   "cell_type": "markdown",
   "id": "532cc7e5",
   "metadata": {},
   "source": [
    "### pandas.Series(data,index,dtype,copy)\n",
    "\n",
    "#### data  - Data takes various forms like ndarray,list,constants\n",
    "\n",
    "#### index  - Index values must be unique and hashable,same length as data\n",
    "\n",
    "#### dtype   - data type.\n"
   ]
  },
  {
   "cell_type": "markdown",
   "id": "feaa1487",
   "metadata": {},
   "source": [
    "### create an empty series"
   ]
  },
  {
   "cell_type": "code",
   "execution_count": 5,
   "id": "3983dedb",
   "metadata": {},
   "outputs": [
    {
     "name": "stdout",
     "output_type": "stream",
     "text": [
      "Series([], dtype: float64)\n"
     ]
    }
   ],
   "source": [
    "import pandas as pd\n",
    "s=pd.Series(dtype=\"float64\")\n",
    "print(s)"
   ]
  },
  {
   "cell_type": "code",
   "execution_count": null,
   "id": "037ee4c2",
   "metadata": {},
   "outputs": [],
   "source": []
  },
  {
   "cell_type": "code",
   "execution_count": 6,
   "id": "c137d3f5",
   "metadata": {},
   "outputs": [
    {
     "name": "stdout",
     "output_type": "stream",
     "text": [
      "0    a\n",
      "1    b\n",
      "2    c\n",
      "3    d\n",
      "dtype: object\n",
      "100    a\n",
      "101    b\n",
      "102    c\n",
      "103    d\n",
      "dtype: object\n"
     ]
    }
   ],
   "source": [
    "import pandas as pd\n",
    "import numpy as np\n",
    "data=np.array(['a','b','c','d'])\n",
    "s=pd.Series(data)\n",
    "print(s)\n",
    "s=pd.Series(data,index=[100,101,102,103])\n",
    "print(s)"
   ]
  },
  {
   "cell_type": "markdown",
   "id": "f4e6dd34",
   "metadata": {},
   "source": [
    "### create a series from dict"
   ]
  },
  {
   "cell_type": "code",
   "execution_count": 8,
   "id": "7aa10047",
   "metadata": {},
   "outputs": [
    {
     "name": "stdout",
     "output_type": "stream",
     "text": [
      "a    0.0\n",
      "b    1.0\n",
      "c    2.0\n",
      "dtype: float64\n",
      "=========================\n",
      "b    1.0\n",
      "c    2.0\n",
      "d    NaN\n",
      "a    0.0\n",
      "dtype: float64\n"
     ]
    }
   ],
   "source": [
    "data={'a' :0.,'b' :1.,'c': 2.}\n",
    "s=pd.Series(data)\n",
    "print(s)\n",
    "print('=========================')\n",
    "s=pd.Series(data,index=['b','c','d','a'])\n",
    "print(s)"
   ]
  },
  {
   "cell_type": "markdown",
   "id": "181c3759",
   "metadata": {},
   "source": [
    "### create a series from scalar"
   ]
  },
  {
   "cell_type": "code",
   "execution_count": 10,
   "id": "eba08e05",
   "metadata": {},
   "outputs": [
    {
     "name": "stdout",
     "output_type": "stream",
     "text": [
      "0    6\n",
      "1    6\n",
      "2    6\n",
      "3    6\n",
      "dtype: int64\n"
     ]
    }
   ],
   "source": [
    "s=pd.Series(data=6,index=[0,1,2,3])\n",
    "print(s)"
   ]
  },
  {
   "cell_type": "markdown",
   "id": "9e8e50be",
   "metadata": {},
   "source": [
    "### Accessing data from series with position,label(index)"
   ]
  },
  {
   "cell_type": "code",
   "execution_count": 11,
   "id": "9ca37eb2",
   "metadata": {},
   "outputs": [
    {
     "name": "stdout",
     "output_type": "stream",
     "text": [
      "1\n",
      "a    1\n",
      "b    2\n",
      "c    3\n",
      "dtype: int64\n",
      "2\n",
      "a    1\n",
      "c    3\n",
      "d    4\n",
      "dtype: int64\n",
      "a    1\n",
      "b    2\n",
      "dtype: int64\n"
     ]
    }
   ],
   "source": [
    "s=pd.Series([1,2,3,4,5],index=['a','b','c','d','e'])\n",
    "\n",
    "print(s[0])     #retrieve first elemnt\n",
    "\n",
    "print(s[:3])     #retrieve first 3 elemnt\n",
    "\n",
    "print(s['b'])        #retrieve single elemnt with label\n",
    "\n",
    "print(s[['a','c','d']])     #retrieve mltple elemnts\n",
    "\n",
    "print(s[[0,1]])"
   ]
  },
  {
   "cell_type": "markdown",
   "id": "cd115352",
   "metadata": {},
   "source": [
    "### pandas - DataFrame"
   ]
  },
  {
   "cell_type": "markdown",
   "id": "43c6bd90",
   "metadata": {},
   "source": [
    "### A DataFrame is 2 dimensional data structure. data is aligned in a tabular fashion in rows and columns.\n",
    "\n",
    "### pandas.DataFrame(data,index,columns,dtype,copy)"
   ]
  },
  {
   "cell_type": "markdown",
   "id": "dcdeca81",
   "metadata": {},
   "source": [
    "### create an empty dataframe"
   ]
  },
  {
   "cell_type": "code",
   "execution_count": 12,
   "id": "2721c544",
   "metadata": {},
   "outputs": [
    {
     "name": "stdout",
     "output_type": "stream",
     "text": [
      "Empty DataFrame\n",
      "Columns: []\n",
      "Index: []\n"
     ]
    }
   ],
   "source": [
    "df=pd.DataFrame()\n",
    "print(df)"
   ]
  },
  {
   "cell_type": "code",
   "execution_count": null,
   "id": "b89657c4",
   "metadata": {},
   "outputs": [],
   "source": []
  },
  {
   "cell_type": "code",
   "execution_count": 16,
   "id": "bd466871",
   "metadata": {},
   "outputs": [
    {
     "name": "stdout",
     "output_type": "stream",
     "text": [
      "   0\n",
      "0  1\n",
      "1  2\n",
      "2  3\n",
      "3  4\n",
      "4  5\n",
      "     Name  Age\n",
      "0  Jahana   22\n",
      "1     Bob   16\n",
      "2    Alex   18\n"
     ]
    }
   ],
   "source": [
    "data=[1,2,3,4,5]\n",
    "df=pd.DataFrame(data)\n",
    "print(df)\n",
    "data=[['Jahana',22],['Bob',16],['Alex',18]]\n",
    "df=pd.DataFrame(data,columns=['Name','Age'])\n",
    "print(df)"
   ]
  },
  {
   "cell_type": "markdown",
   "id": "35b41971",
   "metadata": {},
   "source": [
    "### create a dataframe from dict of ndarrays /lists"
   ]
  },
  {
   "cell_type": "code",
   "execution_count": 18,
   "id": "e54e5985",
   "metadata": {},
   "outputs": [
    {
     "name": "stdout",
     "output_type": "stream",
     "text": [
      "    Name  Age\n",
      "0    Tom   28\n",
      "1   Jack   34\n",
      "2  Steve   12\n",
      "3  Ricky   32\n",
      "        Name  Age\n",
      "rank1    Tom   28\n",
      "rank2   Jack   34\n",
      "rank3  Steve   12\n",
      "rank4  Ricky   32\n"
     ]
    }
   ],
   "source": [
    "data={'Name':['Tom','Jack','Steve','Ricky'],'Age':[28,34,12,32]}\n",
    "df=pd.DataFrame(data)\n",
    "print(df)\n",
    "\n",
    "df=pd.DataFrame(data,index=['rank1','rank2','rank3','rank4'])\n",
    "print(df)"
   ]
  },
  {
   "cell_type": "markdown",
   "id": "4d90cc3d",
   "metadata": {},
   "source": [
    "### create a dataframe from list of dicts"
   ]
  },
  {
   "cell_type": "code",
   "execution_count": 19,
   "id": "1eb1e294",
   "metadata": {},
   "outputs": [
    {
     "name": "stdout",
     "output_type": "stream",
     "text": [
      "   a   b     c\n",
      "0  1   2   NaN\n",
      "1  5  10  20.0\n"
     ]
    }
   ],
   "source": [
    "data=[{'a':1,'b':2},{'a':5,'b':10,'c':20}]\n",
    "df=pd.DataFrame(data)\n",
    "print(df)"
   ]
  },
  {
   "cell_type": "markdown",
   "id": "55eadeb7",
   "metadata": {},
   "source": [
    "### create a dataframe from dict of series"
   ]
  },
  {
   "cell_type": "code",
   "execution_count": 22,
   "id": "64d02ccd",
   "metadata": {},
   "outputs": [
    {
     "name": "stdout",
     "output_type": "stream",
     "text": [
      "   one  two\n",
      "a  1.0    1\n",
      "b  2.0    2\n",
      "c  3.0    3\n",
      "d  NaN    4\n"
     ]
    }
   ],
   "source": [
    "d={'one':pd.Series([1,2,3],index=['a','b','c']),\n",
    "  'two':pd.Series([1,2,3,4],index=['a','b','c','d'])}\n",
    "df=pd.DataFrame(d)\n",
    "print(df)"
   ]
  },
  {
   "cell_type": "markdown",
   "id": "178bb0dd",
   "metadata": {},
   "source": [
    "### Column selection"
   ]
  },
  {
   "cell_type": "code",
   "execution_count": 2,
   "id": "151465ec",
   "metadata": {},
   "outputs": [
    {
     "name": "stdout",
     "output_type": "stream",
     "text": [
      "   one  two\n",
      "a  1.0    1\n",
      "b  2.0    2\n",
      "c  3.0    3\n",
      "d  NaN    4\n"
     ]
    }
   ],
   "source": [
    "d={'one':pd.Series([1,2,3],index=['a','b','c']),\n",
    "  'two':pd.Series([1,2,3,4],index=['a','b','c','d'])}\n",
    "df=pd.DataFrame(d)\n",
    "print(df)"
   ]
  },
  {
   "cell_type": "code",
   "execution_count": 3,
   "id": "77a5ba79",
   "metadata": {},
   "outputs": [
    {
     "name": "stdout",
     "output_type": "stream",
     "text": [
      "a    1\n",
      "b    2\n",
      "c    3\n",
      "d    4\n",
      "Name: two, dtype: int64\n"
     ]
    }
   ],
   "source": [
    "print(df['two'])"
   ]
  },
  {
   "cell_type": "code",
   "execution_count": 4,
   "id": "049fd1cf",
   "metadata": {},
   "outputs": [
    {
     "name": "stdout",
     "output_type": "stream",
     "text": [
      "a    1\n",
      "b    2\n",
      "c    3\n",
      "d    4\n",
      "Name: two, dtype: int64\n"
     ]
    }
   ],
   "source": [
    "print(df.get('two'))"
   ]
  },
  {
   "cell_type": "markdown",
   "id": "a0e03e7a",
   "metadata": {},
   "source": [
    "### column addition"
   ]
  },
  {
   "cell_type": "code",
   "execution_count": 5,
   "id": "d5ea3e94",
   "metadata": {},
   "outputs": [
    {
     "name": "stdout",
     "output_type": "stream",
     "text": [
      "Adding a new column by passing as series: \n",
      "   one  two  three\n",
      "a  1.0    1   10.0\n",
      "b  2.0    2   20.0\n",
      "c  3.0    3   30.0\n",
      "d  NaN    4    NaN\n"
     ]
    }
   ],
   "source": [
    "print(\"Adding a new column by passing as series: \")\n",
    "df['three']=pd.Series([10,20,30],index=['a','b','c'])\n",
    "print(df)"
   ]
  },
  {
   "cell_type": "code",
   "execution_count": 6,
   "id": "e6695ce2",
   "metadata": {},
   "outputs": [
    {
     "name": "stdout",
     "output_type": "stream",
     "text": [
      "Adding a new column using the existing columns in DataFrame: \n",
      "   one  two  three  four\n",
      "a  1.0    1   10.0  11.0\n",
      "b  2.0    2   20.0  22.0\n",
      "c  3.0    3   30.0  33.0\n",
      "d  NaN    4    NaN   NaN\n"
     ]
    }
   ],
   "source": [
    "print(\"Adding a new column using the existing columns in DataFrame: \")\n",
    "df['four']=df['one']+df['three']\n",
    "print(df)"
   ]
  },
  {
   "cell_type": "code",
   "execution_count": 7,
   "id": "b5020216",
   "metadata": {},
   "outputs": [
    {
     "name": "stdout",
     "output_type": "stream",
     "text": [
      "   one  two  three  four  five\n",
      "a  1.0    1   10.0  11.0    21\n",
      "b  2.0    2   20.0  22.0    23\n",
      "c  3.0    3   30.0  33.0    24\n",
      "d  NaN    4    NaN   NaN    21\n"
     ]
    }
   ],
   "source": [
    "# Using DataFrame.insert() to add a column\n",
    "\n",
    "df.insert(4,'five',[21,23,24,21],True)\n",
    "print(df)"
   ]
  },
  {
   "cell_type": "code",
   "execution_count": 9,
   "id": "ba0dbc48",
   "metadata": {},
   "outputs": [
    {
     "name": "stdout",
     "output_type": "stream",
     "text": [
      "   one  two  three  four  five        six\n",
      "a  1.0    1   10.0  11.0    21      Delhi\n",
      "b  2.0    2   20.0  22.0    23  Bangalore\n",
      "c  3.0    3   30.0  33.0    24    Chennai\n",
      "d  NaN    4    NaN   NaN    21      Patna\n"
     ]
    }
   ],
   "source": [
    "# Using 'Address' as the column name and equating it to the list\n",
    "\n",
    "df=df.assign(six=['Delhi','Bangalore','Chennai','Patna'])\n",
    "print(df)"
   ]
  },
  {
   "cell_type": "markdown",
   "id": "fe6c5f49",
   "metadata": {},
   "source": [
    "### column deletion"
   ]
  },
  {
   "cell_type": "code",
   "execution_count": 10,
   "id": "16b9cb72",
   "metadata": {},
   "outputs": [
    {
     "name": "stdout",
     "output_type": "stream",
     "text": [
      "Deleting the first column using del function: \n",
      "   one  three  four  five        six\n",
      "a  1.0   10.0  11.0    21      Delhi\n",
      "b  2.0   20.0  22.0    23  Bangalore\n",
      "c  3.0   30.0  33.0    24    Chennai\n",
      "d  NaN    NaN   NaN    21      Patna\n"
     ]
    }
   ],
   "source": [
    "print(\"Deleting the first column using del function: \")\n",
    "del df['two']\n",
    "print(df)"
   ]
  },
  {
   "cell_type": "code",
   "execution_count": 11,
   "id": "6b696dae",
   "metadata": {},
   "outputs": [
    {
     "name": "stdout",
     "output_type": "stream",
     "text": [
      "Deleting another column using pop function: \n",
      "   one  three  five        six\n",
      "a  1.0   10.0    21      Delhi\n",
      "b  2.0   20.0    23  Bangalore\n",
      "c  3.0   30.0    24    Chennai\n",
      "d  NaN    NaN    21      Patna\n"
     ]
    }
   ],
   "source": [
    "print(\"Deleting another column using pop function: \")\n",
    "df.pop('four')\n",
    "print(df)"
   ]
  },
  {
   "cell_type": "markdown",
   "id": "91702d9f",
   "metadata": {},
   "source": [
    "### Row selection, addition, deletion syntax"
   ]
  },
  {
   "cell_type": "code",
   "execution_count": 12,
   "id": "805aeada",
   "metadata": {},
   "outputs": [
    {
     "name": "stdout",
     "output_type": "stream",
     "text": [
      "   one  two\n",
      "a  1.0    1\n",
      "b  2.0    2\n",
      "c  3.0    3\n",
      "d  NaN    4\n"
     ]
    }
   ],
   "source": [
    "d={'one':pd.Series([1,2,3],index=['a','b','c']),\n",
    "  'two':pd.Series([1,2,3,4],index=['a','b','c','d'])}\n",
    "df=pd.DataFrame(d)\n",
    "print(df)"
   ]
  },
  {
   "cell_type": "code",
   "execution_count": 13,
   "id": "026d9d3b",
   "metadata": {},
   "outputs": [
    {
     "data": {
      "text/plain": [
       "3"
      ]
     },
     "execution_count": 13,
     "metadata": {},
     "output_type": "execute_result"
    }
   ],
   "source": [
    "df.at['c','two']                # at[row index,column]"
   ]
  },
  {
   "cell_type": "markdown",
   "id": "029c066d",
   "metadata": {},
   "source": [
    "#### loc fn used to select rows based on their label / index"
   ]
  },
  {
   "cell_type": "code",
   "execution_count": 14,
   "id": "8af8f2b7",
   "metadata": {},
   "outputs": [
    {
     "name": "stdout",
     "output_type": "stream",
     "text": [
      "one    2.0\n",
      "two    2.0\n",
      "Name: b, dtype: float64\n"
     ]
    }
   ],
   "source": [
    "print(df.loc['b'])           "
   ]
  },
  {
   "cell_type": "code",
   "execution_count": 15,
   "id": "9954cc07",
   "metadata": {},
   "outputs": [
    {
     "name": "stdout",
     "output_type": "stream",
     "text": [
      "   one  two\n",
      "b  2.0    2\n",
      "c  3.0    3\n",
      "d  NaN    4\n"
     ]
    }
   ],
   "source": [
    "print(df.loc['b':'d'])     "
   ]
  },
  {
   "cell_type": "markdown",
   "id": "11293b78",
   "metadata": {},
   "source": [
    "### index location  iloc"
   ]
  },
  {
   "cell_type": "code",
   "execution_count": 16,
   "id": "6c4700b4",
   "metadata": {},
   "outputs": [
    {
     "name": "stdout",
     "output_type": "stream",
     "text": [
      "   one  two\n",
      "a  1.0    1\n",
      "b  2.0    2\n",
      "c  3.0    3\n",
      "d  NaN    4\n",
      "====================\n",
      "one    NaN\n",
      "two    4.0\n",
      "Name: d, dtype: float64\n"
     ]
    }
   ],
   "source": [
    "df=pd.DataFrame(d)\n",
    "print(df)\n",
    "print(\"====================\")\n",
    "print(df.iloc[3])"
   ]
  },
  {
   "cell_type": "code",
   "execution_count": 17,
   "id": "76a44d90",
   "metadata": {},
   "outputs": [
    {
     "name": "stdout",
     "output_type": "stream",
     "text": [
      "   one  two\n",
      "b  2.0    2\n",
      "c  3.0    3\n"
     ]
    }
   ],
   "source": [
    "print(df.iloc[1:3])"
   ]
  },
  {
   "cell_type": "markdown",
   "id": "63a30d09",
   "metadata": {},
   "source": [
    "#### query fn is used to select rows based on a condition"
   ]
  },
  {
   "cell_type": "code",
   "execution_count": 18,
   "id": "ab7df1d4",
   "metadata": {},
   "outputs": [
    {
     "name": "stdout",
     "output_type": "stream",
     "text": [
      "   one  two\n",
      "c  3.0    3\n",
      "d  NaN    4\n"
     ]
    }
   ],
   "source": [
    "print(df.query('two > 2'))"
   ]
  },
  {
   "cell_type": "markdown",
   "id": "6515c93c",
   "metadata": {},
   "source": [
    "#### iat fn used to select single scalar value from  a dataframe based on its integer index and column name"
   ]
  },
  {
   "cell_type": "code",
   "execution_count": 19,
   "id": "70ab5264",
   "metadata": {},
   "outputs": [
    {
     "name": "stdout",
     "output_type": "stream",
     "text": [
      "1.0\n"
     ]
    }
   ],
   "source": [
    "print(df.iat[0,0])"
   ]
  },
  {
   "cell_type": "markdown",
   "id": "7288f238",
   "metadata": {},
   "source": [
    "#### isin fn used to select rows based on whether a value is in a list or array "
   ]
  },
  {
   "cell_type": "code",
   "execution_count": 20,
   "id": "b36bdce7",
   "metadata": {},
   "outputs": [
    {
     "name": "stdout",
     "output_type": "stream",
     "text": [
      "   one  two\n",
      "a  1.0    1\n",
      "c  3.0    3\n"
     ]
    }
   ],
   "source": [
    "# select rows where column 'one' contains either 1 or 3\n",
    "print(df[df['one'].isin([1,3])])"
   ]
  },
  {
   "cell_type": "markdown",
   "id": "cc061bb6",
   "metadata": {},
   "source": [
    "### Addition"
   ]
  },
  {
   "cell_type": "code",
   "execution_count": 30,
   "id": "29ad4b50",
   "metadata": {},
   "outputs": [
    {
     "name": "stdout",
     "output_type": "stream",
     "text": [
      "   a  b\n",
      "0  1  2\n",
      "1  3  4\n",
      "0  5  6\n",
      "1  7  8\n"
     ]
    }
   ],
   "source": [
    "df=pd.DataFrame([[1,2],[3,4]],columns=['a','b'])\n",
    "df2=pd.DataFrame([[5,6],[7,8]],columns=['a','b'])\n",
    "df=pd.concat([df,df2])\n",
    "print(df)"
   ]
  },
  {
   "cell_type": "code",
   "execution_count": 31,
   "id": "48dee79f",
   "metadata": {},
   "outputs": [
    {
     "data": {
      "text/html": [
       "<div>\n",
       "<style scoped>\n",
       "    .dataframe tbody tr th:only-of-type {\n",
       "        vertical-align: middle;\n",
       "    }\n",
       "\n",
       "    .dataframe tbody tr th {\n",
       "        vertical-align: top;\n",
       "    }\n",
       "\n",
       "    .dataframe thead th {\n",
       "        text-align: right;\n",
       "    }\n",
       "</style>\n",
       "<table border=\"1\" class=\"dataframe\">\n",
       "  <thead>\n",
       "    <tr style=\"text-align: right;\">\n",
       "      <th></th>\n",
       "      <th>a</th>\n",
       "      <th>b</th>\n",
       "    </tr>\n",
       "  </thead>\n",
       "  <tbody>\n",
       "    <tr>\n",
       "      <th>0</th>\n",
       "      <td>1</td>\n",
       "      <td>2</td>\n",
       "    </tr>\n",
       "    <tr>\n",
       "      <th>1</th>\n",
       "      <td>3</td>\n",
       "      <td>4</td>\n",
       "    </tr>\n",
       "    <tr>\n",
       "      <th>2</th>\n",
       "      <td>5</td>\n",
       "      <td>6</td>\n",
       "    </tr>\n",
       "    <tr>\n",
       "      <th>3</th>\n",
       "      <td>7</td>\n",
       "      <td>8</td>\n",
       "    </tr>\n",
       "  </tbody>\n",
       "</table>\n",
       "</div>"
      ],
      "text/plain": [
       "   a  b\n",
       "0  1  2\n",
       "1  3  4\n",
       "2  5  6\n",
       "3  7  8"
      ]
     },
     "execution_count": 31,
     "metadata": {},
     "output_type": "execute_result"
    }
   ],
   "source": [
    "df=df.reset_index(drop=True)\n",
    "df"
   ]
  },
  {
   "cell_type": "markdown",
   "id": "643e1f8e",
   "metadata": {},
   "source": [
    "### deletion of rows"
   ]
  },
  {
   "cell_type": "code",
   "execution_count": 32,
   "id": "725e5e88",
   "metadata": {},
   "outputs": [
    {
     "name": "stdout",
     "output_type": "stream",
     "text": [
      "   a  b\n",
      "0  1  2\n",
      "2  5  6\n",
      "3  7  8\n"
     ]
    }
   ],
   "source": [
    "df= df.drop(1)\n",
    "print (df)"
   ]
  },
  {
   "cell_type": "markdown",
   "id": "6cbf91f4",
   "metadata": {},
   "source": [
    "### value counts"
   ]
  },
  {
   "cell_type": "code",
   "execution_count": 33,
   "id": "134a962e",
   "metadata": {},
   "outputs": [
    {
     "data": {
      "text/html": [
       "<div>\n",
       "<style scoped>\n",
       "    .dataframe tbody tr th:only-of-type {\n",
       "        vertical-align: middle;\n",
       "    }\n",
       "\n",
       "    .dataframe tbody tr th {\n",
       "        vertical-align: top;\n",
       "    }\n",
       "\n",
       "    .dataframe thead th {\n",
       "        text-align: right;\n",
       "    }\n",
       "</style>\n",
       "<table border=\"1\" class=\"dataframe\">\n",
       "  <thead>\n",
       "    <tr style=\"text-align: right;\">\n",
       "      <th></th>\n",
       "      <th>legs</th>\n",
       "      <th>wings</th>\n",
       "    </tr>\n",
       "  </thead>\n",
       "  <tbody>\n",
       "    <tr>\n",
       "      <th>falcon</th>\n",
       "      <td>2</td>\n",
       "      <td>2</td>\n",
       "    </tr>\n",
       "    <tr>\n",
       "      <th>dog</th>\n",
       "      <td>4</td>\n",
       "      <td>0</td>\n",
       "    </tr>\n",
       "    <tr>\n",
       "      <th>cat</th>\n",
       "      <td>4</td>\n",
       "      <td>0</td>\n",
       "    </tr>\n",
       "    <tr>\n",
       "      <th>ant</th>\n",
       "      <td>6</td>\n",
       "      <td>0</td>\n",
       "    </tr>\n",
       "  </tbody>\n",
       "</table>\n",
       "</div>"
      ],
      "text/plain": [
       "        legs  wings\n",
       "falcon     2      2\n",
       "dog        4      0\n",
       "cat        4      0\n",
       "ant        6      0"
      ]
     },
     "execution_count": 33,
     "metadata": {},
     "output_type": "execute_result"
    }
   ],
   "source": [
    "df=pd.DataFrame({'legs':[2,4,4,6],'wings':[2,0,0,0]},index=['falcon','dog','cat','ant'])\n",
    "df"
   ]
  },
  {
   "cell_type": "code",
   "execution_count": 34,
   "id": "8af1f967",
   "metadata": {},
   "outputs": [
    {
     "data": {
      "text/plain": [
       "legs  wings\n",
       "4     0        2\n",
       "2     2        1\n",
       "6     0        1\n",
       "dtype: int64"
      ]
     },
     "execution_count": 34,
     "metadata": {},
     "output_type": "execute_result"
    }
   ],
   "source": [
    "\n",
    "df.value_counts()"
   ]
  },
  {
   "cell_type": "code",
   "execution_count": 35,
   "id": "fa2c0b48",
   "metadata": {},
   "outputs": [
    {
     "data": {
      "text/plain": [
       "legs  wings\n",
       "4     0        2\n",
       "2     2        1\n",
       "6     0        1\n",
       "dtype: int64"
      ]
     },
     "execution_count": 35,
     "metadata": {},
     "output_type": "execute_result"
    }
   ],
   "source": [
    "df.value_counts(sort=True)"
   ]
  },
  {
   "cell_type": "code",
   "execution_count": 36,
   "id": "527fc9c9",
   "metadata": {},
   "outputs": [
    {
     "data": {
      "text/plain": [
       "legs  wings\n",
       "2     2        1\n",
       "6     0        1\n",
       "4     0        2\n",
       "dtype: int64"
      ]
     },
     "execution_count": 36,
     "metadata": {},
     "output_type": "execute_result"
    }
   ],
   "source": [
    "df.value_counts(ascending=True)"
   ]
  },
  {
   "cell_type": "markdown",
   "id": "21535901",
   "metadata": {},
   "source": [
    "### Reshaping dataframe"
   ]
  },
  {
   "cell_type": "code",
   "execution_count": 37,
   "id": "a817c820",
   "metadata": {},
   "outputs": [],
   "source": [
    "import numpy as np"
   ]
  },
  {
   "cell_type": "code",
   "execution_count": 38,
   "id": "76072b94",
   "metadata": {},
   "outputs": [],
   "source": [
    "tuples=list(\n",
    "    zip(['bar','bar','baz','baz','foo','foo','qux','qux'],\n",
    "       ['one','two','one','two','one','two','one','two'],\n",
    "       ))"
   ]
  },
  {
   "cell_type": "code",
   "execution_count": 39,
   "id": "962c3a01",
   "metadata": {},
   "outputs": [],
   "source": [
    "index=pd.MultiIndex.from_tuples(tuples,names=['first','second'])"
   ]
  },
  {
   "cell_type": "code",
   "execution_count": 40,
   "id": "fcfe7f21",
   "metadata": {},
   "outputs": [
    {
     "data": {
      "text/html": [
       "<div>\n",
       "<style scoped>\n",
       "    .dataframe tbody tr th:only-of-type {\n",
       "        vertical-align: middle;\n",
       "    }\n",
       "\n",
       "    .dataframe tbody tr th {\n",
       "        vertical-align: top;\n",
       "    }\n",
       "\n",
       "    .dataframe thead th {\n",
       "        text-align: right;\n",
       "    }\n",
       "</style>\n",
       "<table border=\"1\" class=\"dataframe\">\n",
       "  <thead>\n",
       "    <tr style=\"text-align: right;\">\n",
       "      <th></th>\n",
       "      <th></th>\n",
       "      <th>A</th>\n",
       "      <th>B</th>\n",
       "    </tr>\n",
       "    <tr>\n",
       "      <th>first</th>\n",
       "      <th>second</th>\n",
       "      <th></th>\n",
       "      <th></th>\n",
       "    </tr>\n",
       "  </thead>\n",
       "  <tbody>\n",
       "    <tr>\n",
       "      <th rowspan=\"2\" valign=\"top\">bar</th>\n",
       "      <th>one</th>\n",
       "      <td>-0.166097</td>\n",
       "      <td>0.800363</td>\n",
       "    </tr>\n",
       "    <tr>\n",
       "      <th>two</th>\n",
       "      <td>-0.041897</td>\n",
       "      <td>-0.063571</td>\n",
       "    </tr>\n",
       "    <tr>\n",
       "      <th rowspan=\"2\" valign=\"top\">baz</th>\n",
       "      <th>one</th>\n",
       "      <td>0.489602</td>\n",
       "      <td>0.854709</td>\n",
       "    </tr>\n",
       "    <tr>\n",
       "      <th>two</th>\n",
       "      <td>-1.060787</td>\n",
       "      <td>-0.143975</td>\n",
       "    </tr>\n",
       "    <tr>\n",
       "      <th rowspan=\"2\" valign=\"top\">foo</th>\n",
       "      <th>one</th>\n",
       "      <td>0.264731</td>\n",
       "      <td>-0.601012</td>\n",
       "    </tr>\n",
       "    <tr>\n",
       "      <th>two</th>\n",
       "      <td>0.601403</td>\n",
       "      <td>0.655466</td>\n",
       "    </tr>\n",
       "    <tr>\n",
       "      <th rowspan=\"2\" valign=\"top\">qux</th>\n",
       "      <th>one</th>\n",
       "      <td>0.488487</td>\n",
       "      <td>-1.449658</td>\n",
       "    </tr>\n",
       "    <tr>\n",
       "      <th>two</th>\n",
       "      <td>-0.649168</td>\n",
       "      <td>-1.131952</td>\n",
       "    </tr>\n",
       "  </tbody>\n",
       "</table>\n",
       "</div>"
      ],
      "text/plain": [
       "                     A         B\n",
       "first second                    \n",
       "bar   one    -0.166097  0.800363\n",
       "      two    -0.041897 -0.063571\n",
       "baz   one     0.489602  0.854709\n",
       "      two    -1.060787 -0.143975\n",
       "foo   one     0.264731 -0.601012\n",
       "      two     0.601403  0.655466\n",
       "qux   one     0.488487 -1.449658\n",
       "      two    -0.649168 -1.131952"
      ]
     },
     "execution_count": 40,
     "metadata": {},
     "output_type": "execute_result"
    }
   ],
   "source": [
    "df=pd.DataFrame(np.random.randn(8,2),index=index,columns=['A','B'])\n",
    "df"
   ]
  },
  {
   "cell_type": "code",
   "execution_count": 41,
   "id": "1b290966",
   "metadata": {},
   "outputs": [
    {
     "data": {
      "text/html": [
       "<div>\n",
       "<style scoped>\n",
       "    .dataframe tbody tr th:only-of-type {\n",
       "        vertical-align: middle;\n",
       "    }\n",
       "\n",
       "    .dataframe tbody tr th {\n",
       "        vertical-align: top;\n",
       "    }\n",
       "\n",
       "    .dataframe thead th {\n",
       "        text-align: right;\n",
       "    }\n",
       "</style>\n",
       "<table border=\"1\" class=\"dataframe\">\n",
       "  <thead>\n",
       "    <tr style=\"text-align: right;\">\n",
       "      <th></th>\n",
       "      <th></th>\n",
       "      <th>A</th>\n",
       "      <th>B</th>\n",
       "    </tr>\n",
       "    <tr>\n",
       "      <th>first</th>\n",
       "      <th>second</th>\n",
       "      <th></th>\n",
       "      <th></th>\n",
       "    </tr>\n",
       "  </thead>\n",
       "  <tbody>\n",
       "    <tr>\n",
       "      <th rowspan=\"2\" valign=\"top\">bar</th>\n",
       "      <th>one</th>\n",
       "      <td>-0.166097</td>\n",
       "      <td>0.800363</td>\n",
       "    </tr>\n",
       "    <tr>\n",
       "      <th>two</th>\n",
       "      <td>-0.041897</td>\n",
       "      <td>-0.063571</td>\n",
       "    </tr>\n",
       "    <tr>\n",
       "      <th rowspan=\"2\" valign=\"top\">baz</th>\n",
       "      <th>one</th>\n",
       "      <td>0.489602</td>\n",
       "      <td>0.854709</td>\n",
       "    </tr>\n",
       "    <tr>\n",
       "      <th>two</th>\n",
       "      <td>-1.060787</td>\n",
       "      <td>-0.143975</td>\n",
       "    </tr>\n",
       "  </tbody>\n",
       "</table>\n",
       "</div>"
      ],
      "text/plain": [
       "                     A         B\n",
       "first second                    \n",
       "bar   one    -0.166097  0.800363\n",
       "      two    -0.041897 -0.063571\n",
       "baz   one     0.489602  0.854709\n",
       "      two    -1.060787 -0.143975"
      ]
     },
     "execution_count": 41,
     "metadata": {},
     "output_type": "execute_result"
    }
   ],
   "source": [
    "df2=df[:4]\n",
    "df2"
   ]
  },
  {
   "cell_type": "code",
   "execution_count": 42,
   "id": "1f6d8a0e",
   "metadata": {},
   "outputs": [
    {
     "data": {
      "text/plain": [
       "first  second   \n",
       "bar    one     A   -0.166097\n",
       "               B    0.800363\n",
       "       two     A   -0.041897\n",
       "               B   -0.063571\n",
       "baz    one     A    0.489602\n",
       "               B    0.854709\n",
       "       two     A   -1.060787\n",
       "               B   -0.143975\n",
       "dtype: float64"
      ]
     },
     "execution_count": 42,
     "metadata": {},
     "output_type": "execute_result"
    }
   ],
   "source": [
    "stacked=df2.stack()\n",
    "stacked"
   ]
  },
  {
   "cell_type": "code",
   "execution_count": 43,
   "id": "ff230708",
   "metadata": {},
   "outputs": [
    {
     "data": {
      "text/html": [
       "<div>\n",
       "<style scoped>\n",
       "    .dataframe tbody tr th:only-of-type {\n",
       "        vertical-align: middle;\n",
       "    }\n",
       "\n",
       "    .dataframe tbody tr th {\n",
       "        vertical-align: top;\n",
       "    }\n",
       "\n",
       "    .dataframe thead th {\n",
       "        text-align: right;\n",
       "    }\n",
       "</style>\n",
       "<table border=\"1\" class=\"dataframe\">\n",
       "  <thead>\n",
       "    <tr style=\"text-align: right;\">\n",
       "      <th></th>\n",
       "      <th></th>\n",
       "      <th>A</th>\n",
       "      <th>B</th>\n",
       "    </tr>\n",
       "    <tr>\n",
       "      <th>first</th>\n",
       "      <th>second</th>\n",
       "      <th></th>\n",
       "      <th></th>\n",
       "    </tr>\n",
       "  </thead>\n",
       "  <tbody>\n",
       "    <tr>\n",
       "      <th rowspan=\"2\" valign=\"top\">bar</th>\n",
       "      <th>one</th>\n",
       "      <td>-0.166097</td>\n",
       "      <td>0.800363</td>\n",
       "    </tr>\n",
       "    <tr>\n",
       "      <th>two</th>\n",
       "      <td>-0.041897</td>\n",
       "      <td>-0.063571</td>\n",
       "    </tr>\n",
       "    <tr>\n",
       "      <th rowspan=\"2\" valign=\"top\">baz</th>\n",
       "      <th>one</th>\n",
       "      <td>0.489602</td>\n",
       "      <td>0.854709</td>\n",
       "    </tr>\n",
       "    <tr>\n",
       "      <th>two</th>\n",
       "      <td>-1.060787</td>\n",
       "      <td>-0.143975</td>\n",
       "    </tr>\n",
       "  </tbody>\n",
       "</table>\n",
       "</div>"
      ],
      "text/plain": [
       "                     A         B\n",
       "first second                    \n",
       "bar   one    -0.166097  0.800363\n",
       "      two    -0.041897 -0.063571\n",
       "baz   one     0.489602  0.854709\n",
       "      two    -1.060787 -0.143975"
      ]
     },
     "execution_count": 43,
     "metadata": {},
     "output_type": "execute_result"
    }
   ],
   "source": [
    "stacked.unstack()stacked.unstack()"
   ]
  },
  {
   "cell_type": "code",
   "execution_count": 44,
   "id": "a3ae8eac",
   "metadata": {},
   "outputs": [
    {
     "data": {
      "text/html": [
       "<div>\n",
       "<style scoped>\n",
       "    .dataframe tbody tr th:only-of-type {\n",
       "        vertical-align: middle;\n",
       "    }\n",
       "\n",
       "    .dataframe tbody tr th {\n",
       "        vertical-align: top;\n",
       "    }\n",
       "\n",
       "    .dataframe thead th {\n",
       "        text-align: right;\n",
       "    }\n",
       "</style>\n",
       "<table border=\"1\" class=\"dataframe\">\n",
       "  <thead>\n",
       "    <tr style=\"text-align: right;\">\n",
       "      <th></th>\n",
       "      <th>second</th>\n",
       "      <th>one</th>\n",
       "      <th>two</th>\n",
       "    </tr>\n",
       "    <tr>\n",
       "      <th>first</th>\n",
       "      <th></th>\n",
       "      <th></th>\n",
       "      <th></th>\n",
       "    </tr>\n",
       "  </thead>\n",
       "  <tbody>\n",
       "    <tr>\n",
       "      <th rowspan=\"2\" valign=\"top\">bar</th>\n",
       "      <th>A</th>\n",
       "      <td>-0.166097</td>\n",
       "      <td>-0.041897</td>\n",
       "    </tr>\n",
       "    <tr>\n",
       "      <th>B</th>\n",
       "      <td>0.800363</td>\n",
       "      <td>-0.063571</td>\n",
       "    </tr>\n",
       "    <tr>\n",
       "      <th rowspan=\"2\" valign=\"top\">baz</th>\n",
       "      <th>A</th>\n",
       "      <td>0.489602</td>\n",
       "      <td>-1.060787</td>\n",
       "    </tr>\n",
       "    <tr>\n",
       "      <th>B</th>\n",
       "      <td>0.854709</td>\n",
       "      <td>-0.143975</td>\n",
       "    </tr>\n",
       "  </tbody>\n",
       "</table>\n",
       "</div>"
      ],
      "text/plain": [
       "second        one       two\n",
       "first                      \n",
       "bar   A -0.166097 -0.041897\n",
       "      B  0.800363 -0.063571\n",
       "baz   A  0.489602 -1.060787\n",
       "      B  0.854709 -0.143975"
      ]
     },
     "execution_count": 44,
     "metadata": {},
     "output_type": "execute_result"
    }
   ],
   "source": [
    "stacked.unstack(1)"
   ]
  },
  {
   "cell_type": "code",
   "execution_count": 45,
   "id": "ec59047b",
   "metadata": {},
   "outputs": [
    {
     "data": {
      "text/html": [
       "<div>\n",
       "<style scoped>\n",
       "    .dataframe tbody tr th:only-of-type {\n",
       "        vertical-align: middle;\n",
       "    }\n",
       "\n",
       "    .dataframe tbody tr th {\n",
       "        vertical-align: top;\n",
       "    }\n",
       "\n",
       "    .dataframe thead th {\n",
       "        text-align: right;\n",
       "    }\n",
       "</style>\n",
       "<table border=\"1\" class=\"dataframe\">\n",
       "  <thead>\n",
       "    <tr style=\"text-align: right;\">\n",
       "      <th></th>\n",
       "      <th>first</th>\n",
       "      <th>bar</th>\n",
       "      <th>baz</th>\n",
       "    </tr>\n",
       "    <tr>\n",
       "      <th>second</th>\n",
       "      <th></th>\n",
       "      <th></th>\n",
       "      <th></th>\n",
       "    </tr>\n",
       "  </thead>\n",
       "  <tbody>\n",
       "    <tr>\n",
       "      <th rowspan=\"2\" valign=\"top\">one</th>\n",
       "      <th>A</th>\n",
       "      <td>-0.166097</td>\n",
       "      <td>0.489602</td>\n",
       "    </tr>\n",
       "    <tr>\n",
       "      <th>B</th>\n",
       "      <td>0.800363</td>\n",
       "      <td>0.854709</td>\n",
       "    </tr>\n",
       "    <tr>\n",
       "      <th rowspan=\"2\" valign=\"top\">two</th>\n",
       "      <th>A</th>\n",
       "      <td>-0.041897</td>\n",
       "      <td>-1.060787</td>\n",
       "    </tr>\n",
       "    <tr>\n",
       "      <th>B</th>\n",
       "      <td>-0.063571</td>\n",
       "      <td>-0.143975</td>\n",
       "    </tr>\n",
       "  </tbody>\n",
       "</table>\n",
       "</div>"
      ],
      "text/plain": [
       "first          bar       baz\n",
       "second                      \n",
       "one    A -0.166097  0.489602\n",
       "       B  0.800363  0.854709\n",
       "two    A -0.041897 -1.060787\n",
       "       B -0.063571 -0.143975"
      ]
     },
     "execution_count": 45,
     "metadata": {},
     "output_type": "execute_result"
    }
   ],
   "source": [
    "stacked.unstack(0)"
   ]
  },
  {
   "cell_type": "markdown",
   "id": "6f4a8d14",
   "metadata": {},
   "source": [
    "### Pivot tables"
   ]
  },
  {
   "cell_type": "code",
   "execution_count": 46,
   "id": "e294e422",
   "metadata": {},
   "outputs": [
    {
     "data": {
      "text/html": [
       "<div>\n",
       "<style scoped>\n",
       "    .dataframe tbody tr th:only-of-type {\n",
       "        vertical-align: middle;\n",
       "    }\n",
       "\n",
       "    .dataframe tbody tr th {\n",
       "        vertical-align: top;\n",
       "    }\n",
       "\n",
       "    .dataframe thead th {\n",
       "        text-align: right;\n",
       "    }\n",
       "</style>\n",
       "<table border=\"1\" class=\"dataframe\">\n",
       "  <thead>\n",
       "    <tr style=\"text-align: right;\">\n",
       "      <th></th>\n",
       "      <th>foo</th>\n",
       "      <th>bar</th>\n",
       "      <th>baz</th>\n",
       "      <th>zoo</th>\n",
       "    </tr>\n",
       "  </thead>\n",
       "  <tbody>\n",
       "    <tr>\n",
       "      <th>0</th>\n",
       "      <td>one</td>\n",
       "      <td>A</td>\n",
       "      <td>1</td>\n",
       "      <td>x</td>\n",
       "    </tr>\n",
       "    <tr>\n",
       "      <th>1</th>\n",
       "      <td>one</td>\n",
       "      <td>B</td>\n",
       "      <td>2</td>\n",
       "      <td>y</td>\n",
       "    </tr>\n",
       "    <tr>\n",
       "      <th>2</th>\n",
       "      <td>one</td>\n",
       "      <td>C</td>\n",
       "      <td>3</td>\n",
       "      <td>z</td>\n",
       "    </tr>\n",
       "    <tr>\n",
       "      <th>3</th>\n",
       "      <td>two</td>\n",
       "      <td>A</td>\n",
       "      <td>4</td>\n",
       "      <td>q</td>\n",
       "    </tr>\n",
       "    <tr>\n",
       "      <th>4</th>\n",
       "      <td>two</td>\n",
       "      <td>B</td>\n",
       "      <td>5</td>\n",
       "      <td>w</td>\n",
       "    </tr>\n",
       "    <tr>\n",
       "      <th>5</th>\n",
       "      <td>two</td>\n",
       "      <td>C</td>\n",
       "      <td>6</td>\n",
       "      <td>t</td>\n",
       "    </tr>\n",
       "  </tbody>\n",
       "</table>\n",
       "</div>"
      ],
      "text/plain": [
       "   foo bar  baz zoo\n",
       "0  one   A    1   x\n",
       "1  one   B    2   y\n",
       "2  one   C    3   z\n",
       "3  two   A    4   q\n",
       "4  two   B    5   w\n",
       "5  two   C    6   t"
      ]
     },
     "execution_count": 46,
     "metadata": {},
     "output_type": "execute_result"
    }
   ],
   "source": [
    "df=pd.DataFrame({'foo':['one','one','one','two','two','two'],\n",
    "                'bar':['A','B','C','A','B','C'],\n",
    "                 'baz':[1,2,3,4,5,6],\n",
    "                 'zoo':['x','y','z','q','w','t']})\n",
    "df"
   ]
  },
  {
   "cell_type": "code",
   "execution_count": 47,
   "id": "4c511547",
   "metadata": {},
   "outputs": [
    {
     "data": {
      "text/html": [
       "<div>\n",
       "<style scoped>\n",
       "    .dataframe tbody tr th:only-of-type {\n",
       "        vertical-align: middle;\n",
       "    }\n",
       "\n",
       "    .dataframe tbody tr th {\n",
       "        vertical-align: top;\n",
       "    }\n",
       "\n",
       "    .dataframe thead th {\n",
       "        text-align: right;\n",
       "    }\n",
       "</style>\n",
       "<table border=\"1\" class=\"dataframe\">\n",
       "  <thead>\n",
       "    <tr style=\"text-align: right;\">\n",
       "      <th>bar</th>\n",
       "      <th>A</th>\n",
       "      <th>B</th>\n",
       "      <th>C</th>\n",
       "    </tr>\n",
       "    <tr>\n",
       "      <th>foo</th>\n",
       "      <th></th>\n",
       "      <th></th>\n",
       "      <th></th>\n",
       "    </tr>\n",
       "  </thead>\n",
       "  <tbody>\n",
       "    <tr>\n",
       "      <th>one</th>\n",
       "      <td>1</td>\n",
       "      <td>2</td>\n",
       "      <td>3</td>\n",
       "    </tr>\n",
       "    <tr>\n",
       "      <th>two</th>\n",
       "      <td>4</td>\n",
       "      <td>5</td>\n",
       "      <td>6</td>\n",
       "    </tr>\n",
       "  </tbody>\n",
       "</table>\n",
       "</div>"
      ],
      "text/plain": [
       "bar  A  B  C\n",
       "foo         \n",
       "one  1  2  3\n",
       "two  4  5  6"
      ]
     },
     "execution_count": 47,
     "metadata": {},
     "output_type": "execute_result"
    }
   ],
   "source": [
    "df.pivot(index='foo',columns='bar',values='baz')"
   ]
  },
  {
   "cell_type": "markdown",
   "id": "f14e42aa",
   "metadata": {},
   "source": [
    "### Merging"
   ]
  },
  {
   "cell_type": "code",
   "execution_count": 48,
   "id": "c0102fd1",
   "metadata": {},
   "outputs": [],
   "source": [
    "left=pd.DataFrame({'key':['foo','foo'],'Ival':[1,2]})\n",
    "right=pd.DataFrame({'key':['foo','foo'],'rval':[4,5]})"
   ]
  },
  {
   "cell_type": "code",
   "execution_count": 49,
   "id": "6bce504f",
   "metadata": {},
   "outputs": [
    {
     "data": {
      "text/html": [
       "<div>\n",
       "<style scoped>\n",
       "    .dataframe tbody tr th:only-of-type {\n",
       "        vertical-align: middle;\n",
       "    }\n",
       "\n",
       "    .dataframe tbody tr th {\n",
       "        vertical-align: top;\n",
       "    }\n",
       "\n",
       "    .dataframe thead th {\n",
       "        text-align: right;\n",
       "    }\n",
       "</style>\n",
       "<table border=\"1\" class=\"dataframe\">\n",
       "  <thead>\n",
       "    <tr style=\"text-align: right;\">\n",
       "      <th></th>\n",
       "      <th>key</th>\n",
       "      <th>Ival</th>\n",
       "      <th>rval</th>\n",
       "    </tr>\n",
       "  </thead>\n",
       "  <tbody>\n",
       "    <tr>\n",
       "      <th>0</th>\n",
       "      <td>foo</td>\n",
       "      <td>1</td>\n",
       "      <td>4</td>\n",
       "    </tr>\n",
       "    <tr>\n",
       "      <th>1</th>\n",
       "      <td>foo</td>\n",
       "      <td>1</td>\n",
       "      <td>5</td>\n",
       "    </tr>\n",
       "    <tr>\n",
       "      <th>2</th>\n",
       "      <td>foo</td>\n",
       "      <td>2</td>\n",
       "      <td>4</td>\n",
       "    </tr>\n",
       "    <tr>\n",
       "      <th>3</th>\n",
       "      <td>foo</td>\n",
       "      <td>2</td>\n",
       "      <td>5</td>\n",
       "    </tr>\n",
       "  </tbody>\n",
       "</table>\n",
       "</div>"
      ],
      "text/plain": [
       "   key  Ival  rval\n",
       "0  foo     1     4\n",
       "1  foo     1     5\n",
       "2  foo     2     4\n",
       "3  foo     2     5"
      ]
     },
     "execution_count": 49,
     "metadata": {},
     "output_type": "execute_result"
    }
   ],
   "source": [
    "pd.merge(left,right,on='key')"
   ]
  },
  {
   "cell_type": "code",
   "execution_count": 50,
   "id": "2cbb347b",
   "metadata": {},
   "outputs": [],
   "source": [
    "left=pd.DataFrame({'key':['foo','bar'],'Ival':[1,2]})\n",
    "right=pd.DataFrame({'key':['foo','bar'],'rval':[4,5]})"
   ]
  },
  {
   "cell_type": "code",
   "execution_count": 51,
   "id": "72cdb6cc",
   "metadata": {},
   "outputs": [
    {
     "data": {
      "text/html": [
       "<div>\n",
       "<style scoped>\n",
       "    .dataframe tbody tr th:only-of-type {\n",
       "        vertical-align: middle;\n",
       "    }\n",
       "\n",
       "    .dataframe tbody tr th {\n",
       "        vertical-align: top;\n",
       "    }\n",
       "\n",
       "    .dataframe thead th {\n",
       "        text-align: right;\n",
       "    }\n",
       "</style>\n",
       "<table border=\"1\" class=\"dataframe\">\n",
       "  <thead>\n",
       "    <tr style=\"text-align: right;\">\n",
       "      <th></th>\n",
       "      <th>key</th>\n",
       "      <th>Ival</th>\n",
       "      <th>rval</th>\n",
       "    </tr>\n",
       "  </thead>\n",
       "  <tbody>\n",
       "    <tr>\n",
       "      <th>0</th>\n",
       "      <td>foo</td>\n",
       "      <td>1</td>\n",
       "      <td>4</td>\n",
       "    </tr>\n",
       "    <tr>\n",
       "      <th>1</th>\n",
       "      <td>bar</td>\n",
       "      <td>2</td>\n",
       "      <td>5</td>\n",
       "    </tr>\n",
       "  </tbody>\n",
       "</table>\n",
       "</div>"
      ],
      "text/plain": [
       "   key  Ival  rval\n",
       "0  foo     1     4\n",
       "1  bar     2     5"
      ]
     },
     "execution_count": 51,
     "metadata": {},
     "output_type": "execute_result"
    }
   ],
   "source": [
    "pd.merge(left,right,on='key')"
   ]
  },
  {
   "cell_type": "markdown",
   "id": "8813c1e8",
   "metadata": {},
   "source": [
    "### grouping"
   ]
  },
  {
   "cell_type": "code",
   "execution_count": 52,
   "id": "64e2fde7",
   "metadata": {},
   "outputs": [
    {
     "data": {
      "text/html": [
       "<div>\n",
       "<style scoped>\n",
       "    .dataframe tbody tr th:only-of-type {\n",
       "        vertical-align: middle;\n",
       "    }\n",
       "\n",
       "    .dataframe tbody tr th {\n",
       "        vertical-align: top;\n",
       "    }\n",
       "\n",
       "    .dataframe thead th {\n",
       "        text-align: right;\n",
       "    }\n",
       "</style>\n",
       "<table border=\"1\" class=\"dataframe\">\n",
       "  <thead>\n",
       "    <tr style=\"text-align: right;\">\n",
       "      <th></th>\n",
       "      <th>A</th>\n",
       "      <th>B</th>\n",
       "      <th>C</th>\n",
       "      <th>D</th>\n",
       "    </tr>\n",
       "  </thead>\n",
       "  <tbody>\n",
       "    <tr>\n",
       "      <th>0</th>\n",
       "      <td>foo</td>\n",
       "      <td>one</td>\n",
       "      <td>0.483905</td>\n",
       "      <td>0.339518</td>\n",
       "    </tr>\n",
       "    <tr>\n",
       "      <th>1</th>\n",
       "      <td>bar</td>\n",
       "      <td>one</td>\n",
       "      <td>0.493899</td>\n",
       "      <td>0.150517</td>\n",
       "    </tr>\n",
       "    <tr>\n",
       "      <th>2</th>\n",
       "      <td>foo</td>\n",
       "      <td>two</td>\n",
       "      <td>-2.180536</td>\n",
       "      <td>0.471770</td>\n",
       "    </tr>\n",
       "    <tr>\n",
       "      <th>3</th>\n",
       "      <td>bar</td>\n",
       "      <td>three</td>\n",
       "      <td>1.098439</td>\n",
       "      <td>-1.481290</td>\n",
       "    </tr>\n",
       "    <tr>\n",
       "      <th>4</th>\n",
       "      <td>foo</td>\n",
       "      <td>two</td>\n",
       "      <td>1.584809</td>\n",
       "      <td>0.772364</td>\n",
       "    </tr>\n",
       "    <tr>\n",
       "      <th>5</th>\n",
       "      <td>bar</td>\n",
       "      <td>two</td>\n",
       "      <td>0.632832</td>\n",
       "      <td>-0.053437</td>\n",
       "    </tr>\n",
       "    <tr>\n",
       "      <th>6</th>\n",
       "      <td>foo</td>\n",
       "      <td>one</td>\n",
       "      <td>0.181147</td>\n",
       "      <td>-1.264821</td>\n",
       "    </tr>\n",
       "    <tr>\n",
       "      <th>7</th>\n",
       "      <td>foo</td>\n",
       "      <td>three</td>\n",
       "      <td>-0.979297</td>\n",
       "      <td>-0.402593</td>\n",
       "    </tr>\n",
       "  </tbody>\n",
       "</table>\n",
       "</div>"
      ],
      "text/plain": [
       "     A      B         C         D\n",
       "0  foo    one  0.483905  0.339518\n",
       "1  bar    one  0.493899  0.150517\n",
       "2  foo    two -2.180536  0.471770\n",
       "3  bar  three  1.098439 -1.481290\n",
       "4  foo    two  1.584809  0.772364\n",
       "5  bar    two  0.632832 -0.053437\n",
       "6  foo    one  0.181147 -1.264821\n",
       "7  foo  three -0.979297 -0.402593"
      ]
     },
     "execution_count": 52,
     "metadata": {},
     "output_type": "execute_result"
    }
   ],
   "source": [
    "df=pd.DataFrame(\n",
    "{\n",
    "    'A':['foo','bar','foo','bar','foo','bar','foo','foo'],\n",
    "    'B':['one','one','two','three','two','two','one','three'],\n",
    "    'C':np.random.randn(8),\n",
    "    'D':np.random.randn(8),\n",
    "})\n",
    "df"
   ]
  },
  {
   "cell_type": "code",
   "execution_count": 53,
   "id": "c420d46c",
   "metadata": {},
   "outputs": [
    {
     "data": {
      "text/html": [
       "<div>\n",
       "<style scoped>\n",
       "    .dataframe tbody tr th:only-of-type {\n",
       "        vertical-align: middle;\n",
       "    }\n",
       "\n",
       "    .dataframe tbody tr th {\n",
       "        vertical-align: top;\n",
       "    }\n",
       "\n",
       "    .dataframe thead th {\n",
       "        text-align: right;\n",
       "    }\n",
       "</style>\n",
       "<table border=\"1\" class=\"dataframe\">\n",
       "  <thead>\n",
       "    <tr style=\"text-align: right;\">\n",
       "      <th></th>\n",
       "      <th>C</th>\n",
       "      <th>D</th>\n",
       "    </tr>\n",
       "    <tr>\n",
       "      <th>A</th>\n",
       "      <th></th>\n",
       "      <th></th>\n",
       "    </tr>\n",
       "  </thead>\n",
       "  <tbody>\n",
       "    <tr>\n",
       "      <th>bar</th>\n",
       "      <td>2.225171</td>\n",
       "      <td>-1.384210</td>\n",
       "    </tr>\n",
       "    <tr>\n",
       "      <th>foo</th>\n",
       "      <td>-0.909972</td>\n",
       "      <td>-0.083762</td>\n",
       "    </tr>\n",
       "  </tbody>\n",
       "</table>\n",
       "</div>"
      ],
      "text/plain": [
       "            C         D\n",
       "A                      \n",
       "bar  2.225171 -1.384210\n",
       "foo -0.909972 -0.083762"
      ]
     },
     "execution_count": 53,
     "metadata": {},
     "output_type": "execute_result"
    }
   ],
   "source": [
    "df.groupby('A')[['C','D']].sum()"
   ]
  },
  {
   "cell_type": "code",
   "execution_count": 54,
   "id": "1b79b35f",
   "metadata": {},
   "outputs": [
    {
     "data": {
      "text/html": [
       "<div>\n",
       "<style scoped>\n",
       "    .dataframe tbody tr th:only-of-type {\n",
       "        vertical-align: middle;\n",
       "    }\n",
       "\n",
       "    .dataframe tbody tr th {\n",
       "        vertical-align: top;\n",
       "    }\n",
       "\n",
       "    .dataframe thead th {\n",
       "        text-align: right;\n",
       "    }\n",
       "</style>\n",
       "<table border=\"1\" class=\"dataframe\">\n",
       "  <thead>\n",
       "    <tr style=\"text-align: right;\">\n",
       "      <th></th>\n",
       "      <th></th>\n",
       "      <th>C</th>\n",
       "      <th>D</th>\n",
       "    </tr>\n",
       "    <tr>\n",
       "      <th>A</th>\n",
       "      <th>B</th>\n",
       "      <th></th>\n",
       "      <th></th>\n",
       "    </tr>\n",
       "  </thead>\n",
       "  <tbody>\n",
       "    <tr>\n",
       "      <th rowspan=\"3\" valign=\"top\">bar</th>\n",
       "      <th>one</th>\n",
       "      <td>0.493899</td>\n",
       "      <td>0.150517</td>\n",
       "    </tr>\n",
       "    <tr>\n",
       "      <th>three</th>\n",
       "      <td>1.098439</td>\n",
       "      <td>-1.481290</td>\n",
       "    </tr>\n",
       "    <tr>\n",
       "      <th>two</th>\n",
       "      <td>0.632832</td>\n",
       "      <td>-0.053437</td>\n",
       "    </tr>\n",
       "    <tr>\n",
       "      <th rowspan=\"3\" valign=\"top\">foo</th>\n",
       "      <th>one</th>\n",
       "      <td>0.665052</td>\n",
       "      <td>-0.925303</td>\n",
       "    </tr>\n",
       "    <tr>\n",
       "      <th>three</th>\n",
       "      <td>-0.979297</td>\n",
       "      <td>-0.402593</td>\n",
       "    </tr>\n",
       "    <tr>\n",
       "      <th>two</th>\n",
       "      <td>-0.595727</td>\n",
       "      <td>1.244134</td>\n",
       "    </tr>\n",
       "  </tbody>\n",
       "</table>\n",
       "</div>"
      ],
      "text/plain": [
       "                  C         D\n",
       "A   B                        \n",
       "bar one    0.493899  0.150517\n",
       "    three  1.098439 -1.481290\n",
       "    two    0.632832 -0.053437\n",
       "foo one    0.665052 -0.925303\n",
       "    three -0.979297 -0.402593\n",
       "    two   -0.595727  1.244134"
      ]
     },
     "execution_count": 54,
     "metadata": {},
     "output_type": "execute_result"
    }
   ],
   "source": [
    "df.groupby(['A','B']).sum()"
   ]
  },
  {
   "cell_type": "markdown",
   "id": "35d74b27",
   "metadata": {},
   "source": [
    "### Missing data"
   ]
  },
  {
   "cell_type": "markdown",
   "id": "8937b57a",
   "metadata": {},
   "source": [
    "#### We can handle missing values (NA or NAN) using pandas"
   ]
  },
  {
   "cell_type": "code",
   "execution_count": 2,
   "id": "3e5425ca",
   "metadata": {},
   "outputs": [
    {
     "name": "stdout",
     "output_type": "stream",
     "text": [
      "        one       two     three\n",
      "a -1.342357  0.667218 -0.725459\n",
      "b       NaN       NaN       NaN\n",
      "c  0.839339  1.252470  0.047979\n",
      "d       NaN       NaN       NaN\n",
      "e  0.710372 -1.073313 -0.079209\n",
      "f -2.483515 -1.042977 -1.403539\n",
      "g       NaN       NaN       NaN\n",
      "h  0.581031 -1.200651  0.832618\n"
     ]
    }
   ],
   "source": [
    "import pandas as pd\n",
    "import numpy as np\n",
    "df=pd.DataFrame(np.random.randn(5,3),index=['a','c','e','f','h'],columns=['one','two','three'])\n",
    "df=df.reindex(['a','b','c','d','e','f','g','h'])\n",
    "print(df)"
   ]
  },
  {
   "cell_type": "code",
   "execution_count": 3,
   "id": "9737f498",
   "metadata": {},
   "outputs": [
    {
     "name": "stdout",
     "output_type": "stream",
     "text": [
      "     one    two  three\n",
      "a  False  False  False\n",
      "b   True   True   True\n",
      "c  False  False  False\n",
      "d   True   True   True\n",
      "e  False  False  False\n",
      "f  False  False  False\n",
      "g   True   True   True\n",
      "h  False  False  False\n"
     ]
    }
   ],
   "source": [
    "print(df.isnull())"
   ]
  },
  {
   "cell_type": "code",
   "execution_count": 4,
   "id": "8b59c94a",
   "metadata": {},
   "outputs": [
    {
     "name": "stdout",
     "output_type": "stream",
     "text": [
      "one      3\n",
      "two      3\n",
      "three    3\n",
      "dtype: int64\n"
     ]
    }
   ],
   "source": [
    "print(df.isnull().sum())"
   ]
  },
  {
   "cell_type": "code",
   "execution_count": 5,
   "id": "c4231a64",
   "metadata": {},
   "outputs": [
    {
     "name": "stdout",
     "output_type": "stream",
     "text": [
      "3\n"
     ]
    }
   ],
   "source": [
    "print(df['one'].isnull().sum())"
   ]
  },
  {
   "cell_type": "code",
   "execution_count": 6,
   "id": "4ab4e0f0",
   "metadata": {},
   "outputs": [
    {
     "name": "stdout",
     "output_type": "stream",
     "text": [
      "a     True\n",
      "b    False\n",
      "c     True\n",
      "d    False\n",
      "e     True\n",
      "f     True\n",
      "g    False\n",
      "h     True\n",
      "Name: one, dtype: bool\n"
     ]
    }
   ],
   "source": [
    "print(df['one'].notnull())"
   ]
  },
  {
   "cell_type": "code",
   "execution_count": 8,
   "id": "905bcb2b",
   "metadata": {},
   "outputs": [
    {
     "name": "stdout",
     "output_type": "stream",
     "text": [
      "Nan replaced with '0': \n",
      "        one       two     three\n",
      "a -1.342357  0.667218 -0.725459\n",
      "b  0.000000  0.000000  0.000000\n",
      "c  0.839339  1.252470  0.047979\n",
      "d  0.000000  0.000000  0.000000\n",
      "e  0.710372 -1.073313 -0.079209\n",
      "f -2.483515 -1.042977 -1.403539\n",
      "g  0.000000  0.000000  0.000000\n",
      "h  0.581031 -1.200651  0.832618\n",
      "a   -1.342357\n",
      "b   -0.339026\n",
      "c    0.839339\n",
      "d   -0.339026\n",
      "e    0.710372\n",
      "f   -2.483515\n",
      "g   -0.339026\n",
      "h    0.581031\n",
      "Name: one, dtype: float64\n"
     ]
    }
   ],
   "source": [
    "\n",
    "print(\"Nan replaced with '0': \")\n",
    "print(df.fillna(0))\n",
    "print(df['one'].fillna(df['one'].mean()))"
   ]
  },
  {
   "cell_type": "markdown",
   "id": "f9f4c768",
   "metadata": {},
   "source": [
    "### Drop missing values"
   ]
  },
  {
   "cell_type": "code",
   "execution_count": 9,
   "id": "71db3813",
   "metadata": {},
   "outputs": [
    {
     "name": "stdout",
     "output_type": "stream",
     "text": [
      "        one       two     three\n",
      "a -1.342357  0.667218 -0.725459\n",
      "c  0.839339  1.252470  0.047979\n",
      "e  0.710372 -1.073313 -0.079209\n",
      "f -2.483515 -1.042977 -1.403539\n",
      "h  0.581031 -1.200651  0.832618\n"
     ]
    }
   ],
   "source": [
    "print(df.dropna())"
   ]
  },
  {
   "cell_type": "code",
   "execution_count": 10,
   "id": "0b5799e8",
   "metadata": {},
   "outputs": [
    {
     "name": "stdout",
     "output_type": "stream",
     "text": [
      "Empty DataFrame\n",
      "Columns: []\n",
      "Index: [a, b, c, d, e, f, g, h]\n"
     ]
    }
   ],
   "source": [
    "print(df.dropna(axis=1))"
   ]
  },
  {
   "cell_type": "code",
   "execution_count": 11,
   "id": "ce3978bc",
   "metadata": {},
   "outputs": [
    {
     "data": {
      "text/html": [
       "<div>\n",
       "<style scoped>\n",
       "    .dataframe tbody tr th:only-of-type {\n",
       "        vertical-align: middle;\n",
       "    }\n",
       "\n",
       "    .dataframe tbody tr th {\n",
       "        vertical-align: top;\n",
       "    }\n",
       "\n",
       "    .dataframe thead th {\n",
       "        text-align: right;\n",
       "    }\n",
       "</style>\n",
       "<table border=\"1\" class=\"dataframe\">\n",
       "  <thead>\n",
       "    <tr style=\"text-align: right;\">\n",
       "      <th></th>\n",
       "      <th>one</th>\n",
       "      <th>two</th>\n",
       "      <th>three</th>\n",
       "    </tr>\n",
       "  </thead>\n",
       "  <tbody>\n",
       "    <tr>\n",
       "      <th>a</th>\n",
       "      <td>-1.342357</td>\n",
       "      <td>0.667218</td>\n",
       "      <td>-0.725459</td>\n",
       "    </tr>\n",
       "    <tr>\n",
       "      <th>b</th>\n",
       "      <td>NaN</td>\n",
       "      <td>NaN</td>\n",
       "      <td>NaN</td>\n",
       "    </tr>\n",
       "    <tr>\n",
       "      <th>c</th>\n",
       "      <td>0.839339</td>\n",
       "      <td>1.252470</td>\n",
       "      <td>0.047979</td>\n",
       "    </tr>\n",
       "    <tr>\n",
       "      <th>d</th>\n",
       "      <td>NaN</td>\n",
       "      <td>NaN</td>\n",
       "      <td>NaN</td>\n",
       "    </tr>\n",
       "    <tr>\n",
       "      <th>e</th>\n",
       "      <td>0.710372</td>\n",
       "      <td>-1.073313</td>\n",
       "      <td>-0.079209</td>\n",
       "    </tr>\n",
       "    <tr>\n",
       "      <th>f</th>\n",
       "      <td>-2.483515</td>\n",
       "      <td>-1.042977</td>\n",
       "      <td>-1.403539</td>\n",
       "    </tr>\n",
       "    <tr>\n",
       "      <th>g</th>\n",
       "      <td>NaN</td>\n",
       "      <td>NaN</td>\n",
       "      <td>NaN</td>\n",
       "    </tr>\n",
       "    <tr>\n",
       "      <th>h</th>\n",
       "      <td>0.581031</td>\n",
       "      <td>-1.200651</td>\n",
       "      <td>0.832618</td>\n",
       "    </tr>\n",
       "  </tbody>\n",
       "</table>\n",
       "</div>"
      ],
      "text/plain": [
       "        one       two     three\n",
       "a -1.342357  0.667218 -0.725459\n",
       "b       NaN       NaN       NaN\n",
       "c  0.839339  1.252470  0.047979\n",
       "d       NaN       NaN       NaN\n",
       "e  0.710372 -1.073313 -0.079209\n",
       "f -2.483515 -1.042977 -1.403539\n",
       "g       NaN       NaN       NaN\n",
       "h  0.581031 -1.200651  0.832618"
      ]
     },
     "execution_count": 11,
     "metadata": {},
     "output_type": "execute_result"
    }
   ],
   "source": [
    "df"
   ]
  },
  {
   "cell_type": "code",
   "execution_count": 12,
   "id": "a4e487f3",
   "metadata": {},
   "outputs": [
    {
     "name": "stdout",
     "output_type": "stream",
     "text": [
      "None\n"
     ]
    },
    {
     "data": {
      "text/html": [
       "<div>\n",
       "<style scoped>\n",
       "    .dataframe tbody tr th:only-of-type {\n",
       "        vertical-align: middle;\n",
       "    }\n",
       "\n",
       "    .dataframe tbody tr th {\n",
       "        vertical-align: top;\n",
       "    }\n",
       "\n",
       "    .dataframe thead th {\n",
       "        text-align: right;\n",
       "    }\n",
       "</style>\n",
       "<table border=\"1\" class=\"dataframe\">\n",
       "  <thead>\n",
       "    <tr style=\"text-align: right;\">\n",
       "      <th></th>\n",
       "      <th>one</th>\n",
       "      <th>two</th>\n",
       "      <th>three</th>\n",
       "    </tr>\n",
       "  </thead>\n",
       "  <tbody>\n",
       "    <tr>\n",
       "      <th>a</th>\n",
       "      <td>-1.342357</td>\n",
       "      <td>0.667218</td>\n",
       "      <td>-0.725459</td>\n",
       "    </tr>\n",
       "    <tr>\n",
       "      <th>c</th>\n",
       "      <td>0.839339</td>\n",
       "      <td>1.252470</td>\n",
       "      <td>0.047979</td>\n",
       "    </tr>\n",
       "    <tr>\n",
       "      <th>e</th>\n",
       "      <td>0.710372</td>\n",
       "      <td>-1.073313</td>\n",
       "      <td>-0.079209</td>\n",
       "    </tr>\n",
       "    <tr>\n",
       "      <th>f</th>\n",
       "      <td>-2.483515</td>\n",
       "      <td>-1.042977</td>\n",
       "      <td>-1.403539</td>\n",
       "    </tr>\n",
       "    <tr>\n",
       "      <th>h</th>\n",
       "      <td>0.581031</td>\n",
       "      <td>-1.200651</td>\n",
       "      <td>0.832618</td>\n",
       "    </tr>\n",
       "  </tbody>\n",
       "</table>\n",
       "</div>"
      ],
      "text/plain": [
       "        one       two     three\n",
       "a -1.342357  0.667218 -0.725459\n",
       "c  0.839339  1.252470  0.047979\n",
       "e  0.710372 -1.073313 -0.079209\n",
       "f -2.483515 -1.042977 -1.403539\n",
       "h  0.581031 -1.200651  0.832618"
      ]
     },
     "execution_count": 12,
     "metadata": {},
     "output_type": "execute_result"
    }
   ],
   "source": [
    "print(df.dropna(inplace=True))\n",
    "df"
   ]
  },
  {
   "cell_type": "markdown",
   "id": "31b8f394",
   "metadata": {},
   "source": [
    "### checking duplicates"
   ]
  },
  {
   "cell_type": "code",
   "execution_count": 2,
   "id": "353b4e24",
   "metadata": {},
   "outputs": [
    {
     "data": {
      "text/html": [
       "<div>\n",
       "<style scoped>\n",
       "    .dataframe tbody tr th:only-of-type {\n",
       "        vertical-align: middle;\n",
       "    }\n",
       "\n",
       "    .dataframe tbody tr th {\n",
       "        vertical-align: top;\n",
       "    }\n",
       "\n",
       "    .dataframe thead th {\n",
       "        text-align: right;\n",
       "    }\n",
       "</style>\n",
       "<table border=\"1\" class=\"dataframe\">\n",
       "  <thead>\n",
       "    <tr style=\"text-align: right;\">\n",
       "      <th></th>\n",
       "      <th>brand</th>\n",
       "      <th>style</th>\n",
       "      <th>rating</th>\n",
       "    </tr>\n",
       "  </thead>\n",
       "  <tbody>\n",
       "    <tr>\n",
       "      <th>0</th>\n",
       "      <td>yum yum</td>\n",
       "      <td>cup</td>\n",
       "      <td>4.0</td>\n",
       "    </tr>\n",
       "    <tr>\n",
       "      <th>1</th>\n",
       "      <td>yum yum</td>\n",
       "      <td>cup</td>\n",
       "      <td>4.0</td>\n",
       "    </tr>\n",
       "    <tr>\n",
       "      <th>2</th>\n",
       "      <td>yum yum</td>\n",
       "      <td>cup</td>\n",
       "      <td>4.0</td>\n",
       "    </tr>\n",
       "    <tr>\n",
       "      <th>3</th>\n",
       "      <td>indomie</td>\n",
       "      <td>cup</td>\n",
       "      <td>3.5</td>\n",
       "    </tr>\n",
       "    <tr>\n",
       "      <th>4</th>\n",
       "      <td>indomie</td>\n",
       "      <td>pack</td>\n",
       "      <td>15.0</td>\n",
       "    </tr>\n",
       "    <tr>\n",
       "      <th>5</th>\n",
       "      <td>indomie</td>\n",
       "      <td>pack</td>\n",
       "      <td>5.0</td>\n",
       "    </tr>\n",
       "  </tbody>\n",
       "</table>\n",
       "</div>"
      ],
      "text/plain": [
       "     brand style  rating\n",
       "0  yum yum   cup     4.0\n",
       "1  yum yum   cup     4.0\n",
       "2  yum yum   cup     4.0\n",
       "3  indomie   cup     3.5\n",
       "4  indomie  pack    15.0\n",
       "5  indomie  pack     5.0"
      ]
     },
     "execution_count": 2,
     "metadata": {},
     "output_type": "execute_result"
    }
   ],
   "source": [
    "df=pd.DataFrame({\n",
    "    'brand': ['yum yum','yum yum','yum yum','indomie','indomie','indomie'],\n",
    "    'style': ['cup','cup','cup','cup','pack','pack'],\n",
    "    'rating': [4,4,4,3.5,15,5]\n",
    "})\n",
    "df\n"
   ]
  },
  {
   "cell_type": "code",
   "execution_count": 3,
   "id": "a842a448",
   "metadata": {},
   "outputs": [
    {
     "name": "stdout",
     "output_type": "stream",
     "text": [
      "0     True\n",
      "1     True\n",
      "2     True\n",
      "3    False\n",
      "4    False\n",
      "5    False\n",
      "dtype: bool\n"
     ]
    }
   ],
   "source": [
    "print(df.duplicated(keep=False))"
   ]
  },
  {
   "cell_type": "code",
   "execution_count": 4,
   "id": "b565bb7f",
   "metadata": {},
   "outputs": [
    {
     "name": "stdout",
     "output_type": "stream",
     "text": [
      "     brand style  rating\n",
      "1  yum yum   cup     4.0\n",
      "2  yum yum   cup     4.0\n"
     ]
    }
   ],
   "source": []
  },
  {
   "cell_type": "code",
   "execution_count": 8,
   "id": "af24028e",
   "metadata": {},
   "outputs": [
    {
     "data": {
      "text/plain": [
       "2"
      ]
     },
     "execution_count": 8,
     "metadata": {},
     "output_type": "execute_result"
    }
   ],
   "source": [
    "df.duplicated().sum()"
   ]
  },
  {
   "cell_type": "code",
   "execution_count": 9,
   "id": "dc82a95f",
   "metadata": {},
   "outputs": [
    {
     "data": {
      "text/html": [
       "<div>\n",
       "<style scoped>\n",
       "    .dataframe tbody tr th:only-of-type {\n",
       "        vertical-align: middle;\n",
       "    }\n",
       "\n",
       "    .dataframe tbody tr th {\n",
       "        vertical-align: top;\n",
       "    }\n",
       "\n",
       "    .dataframe thead th {\n",
       "        text-align: right;\n",
       "    }\n",
       "</style>\n",
       "<table border=\"1\" class=\"dataframe\">\n",
       "  <thead>\n",
       "    <tr style=\"text-align: right;\">\n",
       "      <th></th>\n",
       "      <th>brand</th>\n",
       "      <th>style</th>\n",
       "      <th>rating</th>\n",
       "    </tr>\n",
       "  </thead>\n",
       "  <tbody>\n",
       "    <tr>\n",
       "      <th>0</th>\n",
       "      <td>yum yum</td>\n",
       "      <td>cup</td>\n",
       "      <td>4.0</td>\n",
       "    </tr>\n",
       "    <tr>\n",
       "      <th>3</th>\n",
       "      <td>indomie</td>\n",
       "      <td>cup</td>\n",
       "      <td>3.5</td>\n",
       "    </tr>\n",
       "    <tr>\n",
       "      <th>4</th>\n",
       "      <td>indomie</td>\n",
       "      <td>pack</td>\n",
       "      <td>15.0</td>\n",
       "    </tr>\n",
       "    <tr>\n",
       "      <th>5</th>\n",
       "      <td>indomie</td>\n",
       "      <td>pack</td>\n",
       "      <td>5.0</td>\n",
       "    </tr>\n",
       "  </tbody>\n",
       "</table>\n",
       "</div>"
      ],
      "text/plain": [
       "     brand style  rating\n",
       "0  yum yum   cup     4.0\n",
       "3  indomie   cup     3.5\n",
       "4  indomie  pack    15.0\n",
       "5  indomie  pack     5.0"
      ]
     },
     "execution_count": 9,
     "metadata": {},
     "output_type": "execute_result"
    }
   ],
   "source": [
    "df.drop_duplicates()"
   ]
  },
  {
   "cell_type": "markdown",
   "id": "a609187e",
   "metadata": {},
   "source": [
    "### Time series / date functionality"
   ]
  },
  {
   "cell_type": "code",
   "execution_count": 18,
   "id": "9c3f61ce",
   "metadata": {},
   "outputs": [],
   "source": [
    "import pandas as pd\n",
    "import numpy as np\n",
    "import datetime"
   ]
  },
  {
   "cell_type": "code",
   "execution_count": 19,
   "id": "c3e7cfb4",
   "metadata": {},
   "outputs": [
    {
     "name": "stdout",
     "output_type": "stream",
     "text": [
      "          date  value\n",
      "0   2021-01-01     61\n",
      "1   2021-01-02     46\n",
      "2   2021-01-03     99\n",
      "3   2021-01-04     22\n",
      "4   2021-01-05     50\n",
      "..         ...    ...\n",
      "360 2021-12-27     39\n",
      "361 2021-12-28     12\n",
      "362 2021-12-29     33\n",
      "363 2021-12-30     16\n",
      "364 2021-12-31      1\n",
      "\n",
      "[365 rows x 2 columns]\n"
     ]
    }
   ],
   "source": [
    "# create sample time series data\n",
    "date_rng=pd.date_range(start='1/1/2021',end='12/31/2021',freq='D')\n",
    "data=np.random.randint(low=0,high=100,size=(len(date_rng)))\n",
    "df=pd.DataFrame({'date':date_rng,'value':data})\n",
    "print(df)"
   ]
  },
  {
   "cell_type": "code",
   "execution_count": 20,
   "id": "098ad91f",
   "metadata": {},
   "outputs": [
    {
     "name": "stdout",
     "output_type": "stream",
     "text": [
      "            value\n",
      "date             \n",
      "2021-01-01     61\n",
      "2021-01-02     46\n",
      "2021-01-03     99\n",
      "2021-01-04     22\n",
      "2021-01-05     50\n",
      "...           ...\n",
      "2021-12-27     39\n",
      "2021-12-28     12\n",
      "2021-12-29     33\n",
      "2021-12-30     16\n",
      "2021-12-31      1\n",
      "\n",
      "[365 rows x 1 columns]\n"
     ]
    }
   ],
   "source": [
    "df.set_index('date',inplace=True)\n",
    "print(df)"
   ]
  },
  {
   "cell_type": "code",
   "execution_count": 21,
   "id": "74e062c6",
   "metadata": {},
   "outputs": [
    {
     "data": {
      "text/html": [
       "<div>\n",
       "<style scoped>\n",
       "    .dataframe tbody tr th:only-of-type {\n",
       "        vertical-align: middle;\n",
       "    }\n",
       "\n",
       "    .dataframe tbody tr th {\n",
       "        vertical-align: top;\n",
       "    }\n",
       "\n",
       "    .dataframe thead th {\n",
       "        text-align: right;\n",
       "    }\n",
       "</style>\n",
       "<table border=\"1\" class=\"dataframe\">\n",
       "  <thead>\n",
       "    <tr style=\"text-align: right;\">\n",
       "      <th></th>\n",
       "      <th>value</th>\n",
       "    </tr>\n",
       "    <tr>\n",
       "      <th>date</th>\n",
       "      <th></th>\n",
       "    </tr>\n",
       "  </thead>\n",
       "  <tbody>\n",
       "    <tr>\n",
       "      <th>2021-01-31</th>\n",
       "      <td>50.806452</td>\n",
       "    </tr>\n",
       "    <tr>\n",
       "      <th>2021-02-28</th>\n",
       "      <td>49.178571</td>\n",
       "    </tr>\n",
       "    <tr>\n",
       "      <th>2021-03-31</th>\n",
       "      <td>58.258065</td>\n",
       "    </tr>\n",
       "    <tr>\n",
       "      <th>2021-04-30</th>\n",
       "      <td>52.433333</td>\n",
       "    </tr>\n",
       "    <tr>\n",
       "      <th>2021-05-31</th>\n",
       "      <td>45.483871</td>\n",
       "    </tr>\n",
       "    <tr>\n",
       "      <th>2021-06-30</th>\n",
       "      <td>45.866667</td>\n",
       "    </tr>\n",
       "    <tr>\n",
       "      <th>2021-07-31</th>\n",
       "      <td>46.225806</td>\n",
       "    </tr>\n",
       "    <tr>\n",
       "      <th>2021-08-31</th>\n",
       "      <td>57.516129</td>\n",
       "    </tr>\n",
       "    <tr>\n",
       "      <th>2021-09-30</th>\n",
       "      <td>56.700000</td>\n",
       "    </tr>\n",
       "    <tr>\n",
       "      <th>2021-10-31</th>\n",
       "      <td>51.129032</td>\n",
       "    </tr>\n",
       "    <tr>\n",
       "      <th>2021-11-30</th>\n",
       "      <td>54.800000</td>\n",
       "    </tr>\n",
       "    <tr>\n",
       "      <th>2021-12-31</th>\n",
       "      <td>47.290323</td>\n",
       "    </tr>\n",
       "  </tbody>\n",
       "</table>\n",
       "</div>"
      ],
      "text/plain": [
       "                value\n",
       "date                 \n",
       "2021-01-31  50.806452\n",
       "2021-02-28  49.178571\n",
       "2021-03-31  58.258065\n",
       "2021-04-30  52.433333\n",
       "2021-05-31  45.483871\n",
       "2021-06-30  45.866667\n",
       "2021-07-31  46.225806\n",
       "2021-08-31  57.516129\n",
       "2021-09-30  56.700000\n",
       "2021-10-31  51.129032\n",
       "2021-11-30  54.800000\n",
       "2021-12-31  47.290323"
      ]
     },
     "execution_count": 21,
     "metadata": {},
     "output_type": "execute_result"
    }
   ],
   "source": [
    "# resample data to monthly frequency\n",
    "monthly_data=df.resample('M').mean()\n",
    "monthly_data"
   ]
  },
  {
   "cell_type": "code",
   "execution_count": 22,
   "id": "dfd40087",
   "metadata": {},
   "outputs": [
    {
     "data": {
      "text/plain": [
       "<Axes: title={'center': 'Original data'}, xlabel='date'>"
      ]
     },
     "execution_count": 22,
     "metadata": {},
     "output_type": "execute_result"
    },
    {
     "data": {
      "image/png": "[encoded data removed]",
      "text/plain": [
       "<Figure size 800x500 with 1 Axes>"
      ]
     },
     "metadata": {},
     "output_type": "display_data"
    }
   ],
   "source": [
    "# plot the original data and monthly data\n",
    "df.plot(figsize=(8,5),title=\"Original data\")"
   ]
  },
  {
   "cell_type": "code",
   "execution_count": 23,
   "id": "fb797a1c",
   "metadata": {},
   "outputs": [
    {
     "data": {
      "text/plain": [
       "<Axes: title={'center': 'Monthly data'}, xlabel='date'>"
      ]
     },
     "execution_count": 23,
     "metadata": {},
     "output_type": "execute_result"
    },
    {
     "data": {
      "image/png": "[encoded data removed]",
      "text/plain": [
       "<Figure size 600x200 with 1 Axes>"
      ]
     },
     "metadata": {},
     "output_type": "display_data"
    }
   ],
   "source": [
    "monthly_data.plot(figsize=(6,2),title=\"Monthly data\")"
   ]
  },
  {
   "cell_type": "code",
   "execution_count": 24,
   "id": "dc99706b",
   "metadata": {},
   "outputs": [
    {
     "data": {
      "text/html": [
       "<div>\n",
       "<style scoped>\n",
       "    .dataframe tbody tr th:only-of-type {\n",
       "        vertical-align: middle;\n",
       "    }\n",
       "\n",
       "    .dataframe tbody tr th {\n",
       "        vertical-align: top;\n",
       "    }\n",
       "\n",
       "    .dataframe thead th {\n",
       "        text-align: right;\n",
       "    }\n",
       "</style>\n",
       "<table border=\"1\" class=\"dataframe\">\n",
       "  <thead>\n",
       "    <tr style=\"text-align: right;\">\n",
       "      <th></th>\n",
       "      <th>value</th>\n",
       "    </tr>\n",
       "    <tr>\n",
       "      <th>date</th>\n",
       "      <th></th>\n",
       "    </tr>\n",
       "  </thead>\n",
       "  <tbody>\n",
       "    <tr>\n",
       "      <th>2021-01-01</th>\n",
       "      <td>NaN</td>\n",
       "    </tr>\n",
       "    <tr>\n",
       "      <th>2021-01-02</th>\n",
       "      <td>NaN</td>\n",
       "    </tr>\n",
       "    <tr>\n",
       "      <th>2021-01-03</th>\n",
       "      <td>61.0</td>\n",
       "    </tr>\n",
       "    <tr>\n",
       "      <th>2021-01-04</th>\n",
       "      <td>46.0</td>\n",
       "    </tr>\n",
       "    <tr>\n",
       "      <th>2021-01-05</th>\n",
       "      <td>99.0</td>\n",
       "    </tr>\n",
       "    <tr>\n",
       "      <th>...</th>\n",
       "      <td>...</td>\n",
       "    </tr>\n",
       "    <tr>\n",
       "      <th>2021-12-27</th>\n",
       "      <td>47.0</td>\n",
       "    </tr>\n",
       "    <tr>\n",
       "      <th>2021-12-28</th>\n",
       "      <td>35.0</td>\n",
       "    </tr>\n",
       "    <tr>\n",
       "      <th>2021-12-29</th>\n",
       "      <td>39.0</td>\n",
       "    </tr>\n",
       "    <tr>\n",
       "      <th>2021-12-30</th>\n",
       "      <td>12.0</td>\n",
       "    </tr>\n",
       "    <tr>\n",
       "      <th>2021-12-31</th>\n",
       "      <td>33.0</td>\n",
       "    </tr>\n",
       "  </tbody>\n",
       "</table>\n",
       "<p>365 rows × 1 columns</p>\n",
       "</div>"
      ],
      "text/plain": [
       "            value\n",
       "date             \n",
       "2021-01-01    NaN\n",
       "2021-01-02    NaN\n",
       "2021-01-03   61.0\n",
       "2021-01-04   46.0\n",
       "2021-01-05   99.0\n",
       "...           ...\n",
       "2021-12-27   47.0\n",
       "2021-12-28   35.0\n",
       "2021-12-29   39.0\n",
       "2021-12-30   12.0\n",
       "2021-12-31   33.0\n",
       "\n",
       "[365 rows x 1 columns]"
      ]
     },
     "execution_count": 24,
     "metadata": {},
     "output_type": "execute_result"
    }
   ],
   "source": [
    "# shift data forward by two periods\n",
    "shifted_data=df.shift(2)\n",
    "shifted_data"
   ]
  },
  {
   "cell_type": "markdown",
   "id": "0cc17487",
   "metadata": {},
   "source": [
    "### CSV - Comma Separated Values"
   ]
  },
  {
   "cell_type": "code",
   "execution_count": 28,
   "id": "1a697176",
   "metadata": {},
   "outputs": [
    {
     "data": {
      "text/html": [
       "<div>\n",
       "<style scoped>\n",
       "    .dataframe tbody tr th:only-of-type {\n",
       "        vertical-align: middle;\n",
       "    }\n",
       "\n",
       "    .dataframe tbody tr th {\n",
       "        vertical-align: top;\n",
       "    }\n",
       "\n",
       "    .dataframe thead th {\n",
       "        text-align: right;\n",
       "    }\n",
       "</style>\n",
       "<table border=\"1\" class=\"dataframe\">\n",
       "  <thead>\n",
       "    <tr style=\"text-align: right;\">\n",
       "      <th></th>\n",
       "      <th>Game Number</th>\n",
       "      <th>\"Game Length\"</th>\n",
       "    </tr>\n",
       "  </thead>\n",
       "  <tbody>\n",
       "    <tr>\n",
       "      <th>0</th>\n",
       "      <td>1</td>\n",
       "      <td>30</td>\n",
       "    </tr>\n",
       "    <tr>\n",
       "      <th>1</th>\n",
       "      <td>2</td>\n",
       "      <td>29</td>\n",
       "    </tr>\n",
       "    <tr>\n",
       "      <th>2</th>\n",
       "      <td>3</td>\n",
       "      <td>31</td>\n",
       "    </tr>\n",
       "    <tr>\n",
       "      <th>3</th>\n",
       "      <td>4</td>\n",
       "      <td>16</td>\n",
       "    </tr>\n",
       "    <tr>\n",
       "      <th>4</th>\n",
       "      <td>5</td>\n",
       "      <td>24</td>\n",
       "    </tr>\n",
       "  </tbody>\n",
       "</table>\n",
       "</div>"
      ],
      "text/plain": [
       "   Game Number   \"Game Length\"\n",
       "0            1              30\n",
       "1            2              29\n",
       "2            3              31\n",
       "3            4              16\n",
       "4            5              24"
      ]
     },
     "execution_count": 28,
     "metadata": {},
     "output_type": "execute_result"
    }
   ],
   "source": [
    "import pandas as pd\n",
    "df=pd.read_csv('sample4.csv')\n",
    "df.head()"
   ]
  },
  {
   "cell_type": "code",
   "execution_count": 29,
   "id": "a07efbf4",
   "metadata": {},
   "outputs": [
    {
     "data": {
      "text/html": [
       "<div>\n",
       "<style scoped>\n",
       "    .dataframe tbody tr th:only-of-type {\n",
       "        vertical-align: middle;\n",
       "    }\n",
       "\n",
       "    .dataframe tbody tr th {\n",
       "        vertical-align: top;\n",
       "    }\n",
       "\n",
       "    .dataframe thead th {\n",
       "        text-align: right;\n",
       "    }\n",
       "</style>\n",
       "<table border=\"1\" class=\"dataframe\">\n",
       "  <thead>\n",
       "    <tr style=\"text-align: right;\">\n",
       "      <th></th>\n",
       "      <th>Game Number</th>\n",
       "      <th>\"Game Length\"</th>\n",
       "    </tr>\n",
       "  </thead>\n",
       "  <tbody>\n",
       "    <tr>\n",
       "      <th>995</th>\n",
       "      <td>996</td>\n",
       "      <td>24</td>\n",
       "    </tr>\n",
       "    <tr>\n",
       "      <th>996</th>\n",
       "      <td>997</td>\n",
       "      <td>21</td>\n",
       "    </tr>\n",
       "    <tr>\n",
       "      <th>997</th>\n",
       "      <td>998</td>\n",
       "      <td>47</td>\n",
       "    </tr>\n",
       "    <tr>\n",
       "      <th>998</th>\n",
       "      <td>999</td>\n",
       "      <td>30</td>\n",
       "    </tr>\n",
       "    <tr>\n",
       "      <th>999</th>\n",
       "      <td>1000</td>\n",
       "      <td>12</td>\n",
       "    </tr>\n",
       "  </tbody>\n",
       "</table>\n",
       "</div>"
      ],
      "text/plain": [
       "     Game Number   \"Game Length\"\n",
       "995          996              24\n",
       "996          997              21\n",
       "997          998              47\n",
       "998          999              30\n",
       "999         1000              12"
      ]
     },
     "execution_count": 29,
     "metadata": {},
     "output_type": "execute_result"
    }
   ],
   "source": [
    "df.tail()"
   ]
  },
  {
   "cell_type": "code",
   "execution_count": 31,
   "id": "2dfd3518",
   "metadata": {},
   "outputs": [
    {
     "data": {
      "text/html": [
       "<div>\n",
       "<style scoped>\n",
       "    .dataframe tbody tr th:only-of-type {\n",
       "        vertical-align: middle;\n",
       "    }\n",
       "\n",
       "    .dataframe tbody tr th {\n",
       "        vertical-align: top;\n",
       "    }\n",
       "\n",
       "    .dataframe thead th {\n",
       "        text-align: right;\n",
       "    }\n",
       "</style>\n",
       "<table border=\"1\" class=\"dataframe\">\n",
       "  <thead>\n",
       "    <tr style=\"text-align: right;\">\n",
       "      <th></th>\n",
       "      <th>Game Number</th>\n",
       "      <th>\"Game Length\"</th>\n",
       "    </tr>\n",
       "  </thead>\n",
       "  <tbody>\n",
       "    <tr>\n",
       "      <th>992</th>\n",
       "      <td>993</td>\n",
       "      <td>28</td>\n",
       "    </tr>\n",
       "    <tr>\n",
       "      <th>993</th>\n",
       "      <td>994</td>\n",
       "      <td>32</td>\n",
       "    </tr>\n",
       "    <tr>\n",
       "      <th>994</th>\n",
       "      <td>995</td>\n",
       "      <td>93</td>\n",
       "    </tr>\n",
       "    <tr>\n",
       "      <th>995</th>\n",
       "      <td>996</td>\n",
       "      <td>24</td>\n",
       "    </tr>\n",
       "    <tr>\n",
       "      <th>996</th>\n",
       "      <td>997</td>\n",
       "      <td>21</td>\n",
       "    </tr>\n",
       "    <tr>\n",
       "      <th>997</th>\n",
       "      <td>998</td>\n",
       "      <td>47</td>\n",
       "    </tr>\n",
       "    <tr>\n",
       "      <th>998</th>\n",
       "      <td>999</td>\n",
       "      <td>30</td>\n",
       "    </tr>\n",
       "    <tr>\n",
       "      <th>999</th>\n",
       "      <td>1000</td>\n",
       "      <td>12</td>\n",
       "    </tr>\n",
       "  </tbody>\n",
       "</table>\n",
       "</div>"
      ],
      "text/plain": [
       "     Game Number   \"Game Length\"\n",
       "992          993              28\n",
       "993          994              32\n",
       "994          995              93\n",
       "995          996              24\n",
       "996          997              21\n",
       "997          998              47\n",
       "998          999              30\n",
       "999         1000              12"
      ]
     },
     "execution_count": 31,
     "metadata": {},
     "output_type": "execute_result"
    }
   ],
   "source": [
    "df.tail(8)"
   ]
  },
  {
   "cell_type": "code",
   "execution_count": 32,
   "id": "9cb3aac4",
   "metadata": {},
   "outputs": [
    {
     "name": "stdout",
     "output_type": "stream",
     "text": [
      "<class 'pandas.core.frame.DataFrame'>\n",
      "RangeIndex: 1000 entries, 0 to 999\n",
      "Data columns (total 2 columns):\n",
      " #   Column          Non-Null Count  Dtype\n",
      "---  ------          --------------  -----\n",
      " 0   Game Number     1000 non-null   int64\n",
      " 1    \"Game Length\"  1000 non-null   int64\n",
      "dtypes: int64(2)\n",
      "memory usage: 15.8 KB\n"
     ]
    }
   ],
   "source": [
    "df.info()"
   ]
  },
  {
   "cell_type": "markdown",
   "id": "d2e45529",
   "metadata": {},
   "source": [
    "####  text data or string data in pandas it is object"
   ]
  },
  {
   "cell_type": "code",
   "execution_count": 34,
   "id": "6123e461",
   "metadata": {},
   "outputs": [
    {
     "data": {
      "text/html": [
       "<div>\n",
       "<style scoped>\n",
       "    .dataframe tbody tr th:only-of-type {\n",
       "        vertical-align: middle;\n",
       "    }\n",
       "\n",
       "    .dataframe tbody tr th {\n",
       "        vertical-align: top;\n",
       "    }\n",
       "\n",
       "    .dataframe thead th {\n",
       "        text-align: right;\n",
       "    }\n",
       "</style>\n",
       "<table border=\"1\" class=\"dataframe\">\n",
       "  <thead>\n",
       "    <tr style=\"text-align: right;\">\n",
       "      <th></th>\n",
       "      <th>Game Number</th>\n",
       "      <th>\"Game Length\"</th>\n",
       "    </tr>\n",
       "  </thead>\n",
       "  <tbody>\n",
       "    <tr>\n",
       "      <th>count</th>\n",
       "      <td>1000.000000</td>\n",
       "      <td>1000.000000</td>\n",
       "    </tr>\n",
       "    <tr>\n",
       "      <th>mean</th>\n",
       "      <td>500.500000</td>\n",
       "      <td>35.411000</td>\n",
       "    </tr>\n",
       "    <tr>\n",
       "      <th>std</th>\n",
       "      <td>288.819436</td>\n",
       "      <td>23.412608</td>\n",
       "    </tr>\n",
       "    <tr>\n",
       "      <th>min</th>\n",
       "      <td>1.000000</td>\n",
       "      <td>7.000000</td>\n",
       "    </tr>\n",
       "    <tr>\n",
       "      <th>25%</th>\n",
       "      <td>250.750000</td>\n",
       "      <td>19.000000</td>\n",
       "    </tr>\n",
       "    <tr>\n",
       "      <th>50%</th>\n",
       "      <td>500.500000</td>\n",
       "      <td>30.000000</td>\n",
       "    </tr>\n",
       "    <tr>\n",
       "      <th>75%</th>\n",
       "      <td>750.250000</td>\n",
       "      <td>45.000000</td>\n",
       "    </tr>\n",
       "    <tr>\n",
       "      <th>max</th>\n",
       "      <td>1000.000000</td>\n",
       "      <td>197.000000</td>\n",
       "    </tr>\n",
       "  </tbody>\n",
       "</table>\n",
       "</div>"
      ],
      "text/plain": [
       "       Game Number   \"Game Length\"\n",
       "count  1000.000000     1000.000000\n",
       "mean    500.500000       35.411000\n",
       "std     288.819436       23.412608\n",
       "min       1.000000        7.000000\n",
       "25%     250.750000       19.000000\n",
       "50%     500.500000       30.000000\n",
       "75%     750.250000       45.000000\n",
       "max    1000.000000      197.000000"
      ]
     },
     "execution_count": 34,
     "metadata": {},
     "output_type": "execute_result"
    }
   ],
   "source": [
    "df.describe()        #statistical infrmtns"
   ]
  },
  {
   "cell_type": "code",
   "execution_count": 35,
   "id": "1a427a22",
   "metadata": {},
   "outputs": [
    {
     "data": {
      "text/plain": [
       "(1000, 2)"
      ]
     },
     "execution_count": 35,
     "metadata": {},
     "output_type": "execute_result"
    }
   ],
   "source": [
    "df.shape"
   ]
  },
  {
   "cell_type": "code",
   "execution_count": 36,
   "id": "4648c3ab",
   "metadata": {},
   "outputs": [
    {
     "data": {
      "text/plain": [
       "2000"
      ]
     },
     "execution_count": 36,
     "metadata": {},
     "output_type": "execute_result"
    }
   ],
   "source": [
    "df.size"
   ]
  },
  {
   "cell_type": "markdown",
   "id": "50f86ba6",
   "metadata": {},
   "source": [
    "### Excel"
   ]
  },
  {
   "cell_type": "code",
   "execution_count": 13,
   "id": "0361134e",
   "metadata": {},
   "outputs": [
    {
     "name": "stdout",
     "output_type": "stream",
     "text": [
      "   0 First Name  Last Name  Gender        Country  Age        Date    Id\n",
      "0  1      Dulce      Abril  Female  United States   32  15/10/2017  1562\n",
      "1  2       Mara  Hashimoto  Female  Great Britain   25  16/08/2016  1582\n",
      "2  3     Philip       Gent    Male         France   36  21/05/2015  2587\n",
      "3  4   Kathleen     Hanner  Female  United States   25  15/10/2017  3549\n",
      "4  5    Nereida    Magwood  Female  United States   58  16/08/2016  2468\n",
      "5  6     Gaston      Brumm    Male  United States   24  21/05/2015  2554\n",
      "6  7       Etta       Hurn  Female  Great Britain   56  15/10/2017  3598\n",
      "7  8    Earlean     Melgar  Female  United States   27  16/08/2016  2456\n",
      "8  9   Vincenza    Weiland  Female  United States   40  21/05/2015  6548\n"
     ]
    }
   ],
   "source": [
    "xx=pd.read_excel('file_example_XLSX_10.xlsx',sheet_name='Sheet1')\n",
    "print(xx)"
   ]
  },
  {
   "cell_type": "code",
   "execution_count": 14,
   "id": "5530826d",
   "metadata": {},
   "outputs": [
    {
     "name": "stdout",
     "output_type": "stream",
     "text": [
      "   Age        Date\n",
      "1   25  16/08/2016\n",
      "3   25  15/10/2017\n",
      "5   24  21/05/2015\n"
     ]
    }
   ],
   "source": [
    "# use the multi_axes indexing function\n",
    "print(xx.loc[[1,3,5],['Age','Date']])"
   ]
  },
  {
   "cell_type": "code",
   "execution_count": 15,
   "id": "a73f36ea",
   "metadata": {},
   "outputs": [
    {
     "name": "stdout",
     "output_type": "stream",
     "text": [
      "0    15/10/2017\n",
      "1    16/08/2016\n",
      "2    21/05/2015\n",
      "3    15/10/2017\n",
      "4    16/08/2016\n",
      "Name: Date, dtype: object\n"
     ]
    }
   ],
   "source": [
    "print(xx[0:5]['Date'])"
   ]
  },
  {
   "cell_type": "markdown",
   "id": "a975fc8b",
   "metadata": {},
   "source": [
    "### Json data"
   ]
  },
  {
   "cell_type": "code",
   "execution_count": 17,
   "id": "c0844ea0",
   "metadata": {},
   "outputs": [
    {
     "name": "stdout",
     "output_type": "stream",
     "text": [
      "           0\n",
      "fruit  Apple\n",
      "size   Large\n",
      "color    Red\n"
     ]
    }
   ],
   "source": [
    "data=pd.read_json('sample1.json',orient='index')\n",
    "print(data)"
   ]
  },
  {
   "cell_type": "code",
   "execution_count": 34,
   "id": "cd593e00",
   "metadata": {},
   "outputs": [
    {
     "name": "stdout",
     "output_type": "stream",
     "text": [
      "                                                         0\n",
      "Name                                                  Test\n",
      "Mobile                                            12345678\n",
      "Boolean                                               True\n",
      "Pets                                            [Dog, cat]\n",
      "Address  {'Permanent address': 'USA', 'current Address'...\n"
     ]
    }
   ],
   "source": [
    "data=pd.read_json('sample-json-file.json',orient='index')\n",
    "print(data)"
   ]
  },
  {
   "cell_type": "code",
   "execution_count": null,
   "id": "e62e0217",
   "metadata": {},
   "outputs": [],
   "source": []
  },
  {
   "cell_type": "code",
   "execution_count": null,
   "id": "251f371d",
   "metadata": {},
   "outputs": [],
   "source": []
  }
 ],
 "metadata": {
  "kernelspec": {
   "display_name": "Python 3 (ipykernel)",
   "language": "python",
   "name": "python3"
  },
  "language_info": {
   "codemirror_mode": {
    "name": "ipython",
    "version": 3
   },
   "file_extension": ".py",
   "mimetype": "text/x-python",
   "name": "python",
   "nbconvert_exporter": "python",
   "pygments_lexer": "ipython3",
   "version": "3.11.4"
  }
 },
 "nbformat": 4,
 "nbformat_minor": 5
}
