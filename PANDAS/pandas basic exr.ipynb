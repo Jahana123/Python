{
 "cells": [
  {
   "cell_type": "markdown",
   "id": "84146b13",
   "metadata": {},
   "source": [
    "### Pandas basic tasks"
   ]
  },
  {
   "cell_type": "code",
   "execution_count": 1,
   "id": "d1f79d70",
   "metadata": {},
   "outputs": [],
   "source": [
    "import pandas as pd"
   ]
  },
  {
   "cell_type": "markdown",
   "id": "6417c7c5",
   "metadata": {},
   "source": [
    "### 1"
   ]
  },
  {
   "cell_type": "code",
   "execution_count": 4,
   "id": "cac83436",
   "metadata": {},
   "outputs": [
    {
     "data": {
      "text/html": [
       "<div>\n",
       "<style scoped>\n",
       "    .dataframe tbody tr th:only-of-type {\n",
       "        vertical-align: middle;\n",
       "    }\n",
       "\n",
       "    .dataframe tbody tr th {\n",
       "        vertical-align: top;\n",
       "    }\n",
       "\n",
       "    .dataframe thead th {\n",
       "        text-align: right;\n",
       "    }\n",
       "</style>\n",
       "<table border=\"1\" class=\"dataframe\">\n",
       "  <thead>\n",
       "    <tr style=\"text-align: right;\">\n",
       "      <th></th>\n",
       "      <th>Name</th>\n",
       "      <th>Age</th>\n",
       "      <th>Voting eligibility</th>\n",
       "    </tr>\n",
       "  </thead>\n",
       "  <tbody>\n",
       "    <tr>\n",
       "      <th>0</th>\n",
       "      <td>Jahana</td>\n",
       "      <td>22</td>\n",
       "      <td>Eligible</td>\n",
       "    </tr>\n",
       "    <tr>\n",
       "      <th>1</th>\n",
       "      <td>Jinu</td>\n",
       "      <td>15</td>\n",
       "      <td>Not Eligible</td>\n",
       "    </tr>\n",
       "    <tr>\n",
       "      <th>2</th>\n",
       "      <td>Shalu</td>\n",
       "      <td>25</td>\n",
       "      <td>Eligible</td>\n",
       "    </tr>\n",
       "  </tbody>\n",
       "</table>\n",
       "</div>"
      ],
      "text/plain": [
       "     Name  Age Voting eligibility\n",
       "0  Jahana   22           Eligible\n",
       "1    Jinu   15       Not Eligible\n",
       "2   Shalu   25           Eligible"
      ]
     },
     "execution_count": 4,
     "metadata": {},
     "output_type": "execute_result"
    }
   ],
   "source": [
    "data={'Name':['Jahana','Jinu','Shalu'],\n",
    "     'Age':[22,15,25]}\n",
    "df=pd.DataFrame(data)\n",
    "df['Voting eligibility']=['Eligible' if age>=18 else 'Not Eligible' for age in df['Age']]\n",
    "df"
   ]
  },
  {
   "cell_type": "markdown",
   "id": "b6d05f6a",
   "metadata": {},
   "source": [
    "### 3"
   ]
  },
  {
   "cell_type": "code",
   "execution_count": 3,
   "id": "3b6fd5b8",
   "metadata": {},
   "outputs": [
    {
     "name": "stdout",
     "output_type": "stream",
     "text": [
      "0       100\n",
      "1       200\n",
      "2    python\n",
      "3    300.12\n",
      "4       400\n",
      "dtype: object\n",
      "0         100\n",
      "1         200\n",
      "2      python\n",
      "3      300.12\n",
      "4         400\n",
      "5    new data\n",
      "dtype: object\n"
     ]
    },
    {
     "name": "stderr",
     "output_type": "stream",
     "text": [
      "C:\\Users\\DELL\\AppData\\Local\\Temp\\ipykernel_33280\\430807782.py:4: FutureWarning: The series.append method is deprecated and will be removed from pandas in a future version. Use pandas.concat instead.\n",
      "  new_series=org_series.append(data,ignore_index=True)\n"
     ]
    }
   ],
   "source": [
    "org_series=pd.Series([100,200,'python',300.12,400])\n",
    "print(org_series)\n",
    "data=pd.Series(['new data'])\n",
    "new_series=org_series.append(data,ignore_index=True)\n",
    "print(new_series)"
   ]
  },
  {
   "cell_type": "code",
   "execution_count": 5,
   "id": "524ffaae",
   "metadata": {},
   "outputs": [
    {
     "name": "stdout",
     "output_type": "stream",
     "text": [
      "0       100\n",
      "1       200\n",
      "2    python\n",
      "3    300.12\n",
      "4       400\n",
      "dtype: object\n",
      "0         100\n",
      "1         200\n",
      "2      python\n",
      "3      300.12\n",
      "4         400\n",
      "5    new data\n",
      "dtype: object\n"
     ]
    }
   ],
   "source": [
    "\n",
    "org_series = pd.Series([100, 200, 'python', 300.12, 400])\n",
    "print(org_series)\n",
    "data = pd.Series(['new data'])\n",
    "new_series = pd.concat([org_series, data], ignore_index=True)\n",
    "print(new_series)\n"
   ]
  },
  {
   "cell_type": "markdown",
   "id": "283b3bf2",
   "metadata": {},
   "source": [
    "### 4"
   ]
  },
  {
   "cell_type": "code",
   "execution_count": 7,
   "id": "16e852b4",
   "metadata": {},
   "outputs": [
    {
     "data": {
      "text/html": [
       "<div>\n",
       "<style scoped>\n",
       "    .dataframe tbody tr th:only-of-type {\n",
       "        vertical-align: middle;\n",
       "    }\n",
       "\n",
       "    .dataframe tbody tr th {\n",
       "        vertical-align: top;\n",
       "    }\n",
       "\n",
       "    .dataframe thead th {\n",
       "        text-align: right;\n",
       "    }\n",
       "</style>\n",
       "<table border=\"1\" class=\"dataframe\">\n",
       "  <thead>\n",
       "    <tr style=\"text-align: right;\">\n",
       "      <th></th>\n",
       "      <th>Place</th>\n",
       "      <th>Name</th>\n",
       "      <th>Age</th>\n",
       "    </tr>\n",
       "  </thead>\n",
       "  <tbody>\n",
       "    <tr>\n",
       "      <th>0</th>\n",
       "      <td>Mlprm</td>\n",
       "      <td>Jahana</td>\n",
       "      <td>22</td>\n",
       "    </tr>\n",
       "    <tr>\n",
       "      <th>1</th>\n",
       "      <td>Plkd</td>\n",
       "      <td>Jinu</td>\n",
       "      <td>15</td>\n",
       "    </tr>\n",
       "    <tr>\n",
       "      <th>2</th>\n",
       "      <td>Kochi</td>\n",
       "      <td>Shalu</td>\n",
       "      <td>25</td>\n",
       "    </tr>\n",
       "  </tbody>\n",
       "</table>\n",
       "</div>"
      ],
      "text/plain": [
       "   Place    Name  Age\n",
       "0  Mlprm  Jahana   22\n",
       "1   Plkd    Jinu   15\n",
       "2  Kochi   Shalu   25"
      ]
     },
     "execution_count": 7,
     "metadata": {},
     "output_type": "execute_result"
    }
   ],
   "source": [
    "data={'Name':['Jahana','Jinu','Shalu'],\n",
    "     'Age':[22,15,25],\n",
    "     'Place':['Mlprm','Plkd','Kochi']}\n",
    "df=pd.DataFrame(data)\n",
    "order=['Place','Name','Age']\n",
    "df=df[order]\n",
    "df"
   ]
  },
  {
   "cell_type": "markdown",
   "id": "4dfa9c3b",
   "metadata": {},
   "source": [
    "### 5"
   ]
  },
  {
   "cell_type": "code",
   "execution_count": 4,
   "id": "c7e25cce",
   "metadata": {},
   "outputs": [
    {
     "name": "stdout",
     "output_type": "stream",
     "text": [
      "city\n",
      "California     8\n",
      "Georgia        4\n",
      "Los Angeles    8\n",
      "Name: people, dtype: int64\n"
     ]
    }
   ],
   "source": [
    "d={'city':['California','Georgia','Los Angeles','California','Georgia','Los Angeles'],\n",
    "  'people':[4,2,4,4,2,4]}\n",
    "df=pd.DataFrame(d)\n",
    "city_people=df.groupby('city')['people'].sum()\n",
    "print(city_people)"
   ]
  },
  {
   "cell_type": "markdown",
   "id": "6a02e365",
   "metadata": {},
   "source": [
    "### 6"
   ]
  },
  {
   "cell_type": "code",
   "execution_count": 15,
   "id": "cc842886",
   "metadata": {},
   "outputs": [
    {
     "data": {
      "text/html": [
       "<div>\n",
       "<style scoped>\n",
       "    .dataframe tbody tr th:only-of-type {\n",
       "        vertical-align: middle;\n",
       "    }\n",
       "\n",
       "    .dataframe tbody tr th {\n",
       "        vertical-align: top;\n",
       "    }\n",
       "\n",
       "    .dataframe thead th {\n",
       "        text-align: right;\n",
       "    }\n",
       "</style>\n",
       "<table border=\"1\" class=\"dataframe\">\n",
       "  <thead>\n",
       "    <tr style=\"text-align: right;\">\n",
       "      <th></th>\n",
       "      <th>series1</th>\n",
       "      <th>series2</th>\n",
       "      <th>add</th>\n",
       "      <th>sub</th>\n",
       "      <th>mul</th>\n",
       "      <th>div</th>\n",
       "    </tr>\n",
       "  </thead>\n",
       "  <tbody>\n",
       "    <tr>\n",
       "      <th>0</th>\n",
       "      <td>2</td>\n",
       "      <td>1</td>\n",
       "      <td>3</td>\n",
       "      <td>1</td>\n",
       "      <td>2</td>\n",
       "      <td>2.000000</td>\n",
       "    </tr>\n",
       "    <tr>\n",
       "      <th>1</th>\n",
       "      <td>4</td>\n",
       "      <td>3</td>\n",
       "      <td>7</td>\n",
       "      <td>1</td>\n",
       "      <td>12</td>\n",
       "      <td>1.333333</td>\n",
       "    </tr>\n",
       "    <tr>\n",
       "      <th>2</th>\n",
       "      <td>6</td>\n",
       "      <td>5</td>\n",
       "      <td>11</td>\n",
       "      <td>1</td>\n",
       "      <td>30</td>\n",
       "      <td>1.200000</td>\n",
       "    </tr>\n",
       "    <tr>\n",
       "      <th>3</th>\n",
       "      <td>8</td>\n",
       "      <td>7</td>\n",
       "      <td>15</td>\n",
       "      <td>1</td>\n",
       "      <td>56</td>\n",
       "      <td>1.142857</td>\n",
       "    </tr>\n",
       "  </tbody>\n",
       "</table>\n",
       "</div>"
      ],
      "text/plain": [
       "   series1  series2  add  sub  mul       div\n",
       "0        2        1    3    1    2  2.000000\n",
       "1        4        3    7    1   12  1.333333\n",
       "2        6        5   11    1   30  1.200000\n",
       "3        8        7   15    1   56  1.142857"
      ]
     },
     "execution_count": 15,
     "metadata": {},
     "output_type": "execute_result"
    }
   ],
   "source": [
    "series1=pd.Series([2,4,6,8])\n",
    "series2=pd.Series([1,3,5,7])\n",
    "add=series1+series2\n",
    "sub=series1-series2\n",
    "mul=series1*series2\n",
    "div=series1/series2\n",
    "df = pd.DataFrame({\n",
    "    'series1': series1,\n",
    "    'series2': series2,\n",
    "    'add': add,\n",
    "    'sub': sub,\n",
    "    'mul': mul,\n",
    "    'div': div\n",
    "})\n",
    "\n",
    "df"
   ]
  },
  {
   "cell_type": "markdown",
   "id": "29750735",
   "metadata": {},
   "source": [
    "### 7\n"
   ]
  },
  {
   "cell_type": "code",
   "execution_count": 19,
   "id": "5e6a2671",
   "metadata": {},
   "outputs": [
    {
     "name": "stdout",
     "output_type": "stream",
     "text": [
      "0    4\n",
      "1    3\n",
      "2    2\n",
      "3    7\n",
      "4    1\n",
      "dtype: int64\n",
      "After sorting: \n",
      "0    1\n",
      "1    2\n",
      "2    3\n",
      "3    4\n",
      "4    7\n",
      "dtype: int64\n"
     ]
    }
   ],
   "source": [
    "s1=pd.Series([4,3,2,7,1])\n",
    "s2=pd.Series(sorted(s1.values))\n",
    "print(s1)\n",
    "print(\"After sorting: \")\n",
    "print(s2)"
   ]
  },
  {
   "cell_type": "markdown",
   "id": "fbcf3afc",
   "metadata": {},
   "source": [
    "### 8"
   ]
  },
  {
   "cell_type": "code",
   "execution_count": 2,
   "id": "83f85e69",
   "metadata": {},
   "outputs": [
    {
     "data": {
      "text/html": [
       "<div>\n",
       "<style scoped>\n",
       "    .dataframe tbody tr th:only-of-type {\n",
       "        vertical-align: middle;\n",
       "    }\n",
       "\n",
       "    .dataframe tbody tr th {\n",
       "        vertical-align: top;\n",
       "    }\n",
       "\n",
       "    .dataframe thead th {\n",
       "        text-align: right;\n",
       "    }\n",
       "</style>\n",
       "<table border=\"1\" class=\"dataframe\">\n",
       "  <thead>\n",
       "    <tr style=\"text-align: right;\">\n",
       "      <th></th>\n",
       "      <th>name</th>\n",
       "      <th>height</th>\n",
       "      <th>age</th>\n",
       "    </tr>\n",
       "  </thead>\n",
       "  <tbody>\n",
       "    <tr>\n",
       "      <th>2</th>\n",
       "      <td>Kamal</td>\n",
       "      <td>NaN</td>\n",
       "      <td>22</td>\n",
       "    </tr>\n",
       "    <tr>\n",
       "      <th>4</th>\n",
       "      <td>Anjali</td>\n",
       "      <td>NaN</td>\n",
       "      <td>22</td>\n",
       "    </tr>\n",
       "  </tbody>\n",
       "</table>\n",
       "</div>"
      ],
      "text/plain": [
       "     name  height  age\n",
       "2   Kamal     NaN   22\n",
       "4  Anjali     NaN   22"
      ]
     },
     "execution_count": 2,
     "metadata": {},
     "output_type": "execute_result"
    }
   ],
   "source": [
    "import pandas as pd\n",
    "import numpy as np\n",
    "data={'name':['Asha','Radha','Kamal','Divy','Anjali'],\n",
    "     'height':[5.5,5,np.nan,5.9,np.nan],\n",
    "     'age':[11,23,22,32,22]}\n",
    "df=pd.DataFrame(data)\n",
    "row_nan=df[df['height'].isna()]\n",
    "row_nan"
   ]
  },
  {
   "cell_type": "markdown",
   "id": "2c0e5d10",
   "metadata": {},
   "source": [
    "### 9"
   ]
  },
  {
   "cell_type": "code",
   "execution_count": 4,
   "id": "f00533ec",
   "metadata": {},
   "outputs": [
    {
     "name": "stdout",
     "output_type": "stream",
     "text": [
      "482\n"
     ]
    }
   ],
   "source": [
    "data={'Manasvi':['Physics','Chemistry','English','Maths','Computer sc'],\\\n",
    "     'marks':[89,99,97,99,98]}\n",
    "df=pd.DataFrame(data)\n",
    "sum_=df['marks'].sum()\n",
    "print(sum_)"
   ]
  },
  {
   "cell_type": "markdown",
   "id": "04a5fc66",
   "metadata": {},
   "source": [
    "### 10"
   ]
  },
  {
   "cell_type": "code",
   "execution_count": 7,
   "id": "29cfa0da",
   "metadata": {},
   "outputs": [
    {
     "data": {
      "text/html": [
       "<div>\n",
       "<style scoped>\n",
       "    .dataframe tbody tr th:only-of-type {\n",
       "        vertical-align: middle;\n",
       "    }\n",
       "\n",
       "    .dataframe tbody tr th {\n",
       "        vertical-align: top;\n",
       "    }\n",
       "\n",
       "    .dataframe thead th {\n",
       "        text-align: right;\n",
       "    }\n",
       "</style>\n",
       "<table border=\"1\" class=\"dataframe\">\n",
       "  <thead>\n",
       "    <tr style=\"text-align: right;\">\n",
       "      <th></th>\n",
       "      <th>Name</th>\n",
       "      <th>Roll number</th>\n",
       "      <th>subject1</th>\n",
       "      <th>subject2</th>\n",
       "      <th>subject3</th>\n",
       "      <th>subject4</th>\n",
       "      <th>subject5</th>\n",
       "      <th>percentage</th>\n",
       "    </tr>\n",
       "  </thead>\n",
       "  <tbody>\n",
       "    <tr>\n",
       "      <th>0</th>\n",
       "      <td>student1</td>\n",
       "      <td>50</td>\n",
       "      <td>89</td>\n",
       "      <td>93</td>\n",
       "      <td>58</td>\n",
       "      <td>52</td>\n",
       "      <td>82</td>\n",
       "      <td>74.8</td>\n",
       "    </tr>\n",
       "    <tr>\n",
       "      <th>1</th>\n",
       "      <td>student2</td>\n",
       "      <td>51</td>\n",
       "      <td>80</td>\n",
       "      <td>52</td>\n",
       "      <td>68</td>\n",
       "      <td>84</td>\n",
       "      <td>75</td>\n",
       "      <td>71.8</td>\n",
       "    </tr>\n",
       "    <tr>\n",
       "      <th>2</th>\n",
       "      <td>student3</td>\n",
       "      <td>52</td>\n",
       "      <td>87</td>\n",
       "      <td>84</td>\n",
       "      <td>78</td>\n",
       "      <td>97</td>\n",
       "      <td>67</td>\n",
       "      <td>82.6</td>\n",
       "    </tr>\n",
       "  </tbody>\n",
       "</table>\n",
       "</div>"
      ],
      "text/plain": [
       "       Name  Roll number  subject1  subject2  subject3  subject4  subject5  \\\n",
       "0  student1           50        89        93        58        52        82   \n",
       "1  student2           51        80        52        68        84        75   \n",
       "2  student3           52        87        84        78        97        67   \n",
       "\n",
       "   percentage  \n",
       "0        74.8  \n",
       "1        71.8  \n",
       "2        82.6  "
      ]
     },
     "execution_count": 7,
     "metadata": {},
     "output_type": "execute_result"
    }
   ],
   "source": [
    "data={'Name':['student1','student2','student3'],\n",
    "     'Roll number':[50,51,52],\n",
    "     'subject1':np.random.randint(50,100,size=3),\n",
    "     'subject2':np.random.randint(50,100,size=3),\n",
    "     'subject3':np.random.randint(50,100,size=3),\n",
    "     'subject4':np.random.randint(50,100,size=3),\n",
    "     'subject5':np.random.randint(50,100,size=3),}\n",
    "df=pd.DataFrame(data)\n",
    "df['percentage']=df[['subject1','subject2','subject3','subject4','subject5']].mean(axis=1)\n",
    "df"
   ]
  }
 ],
 "metadata": {
  "kernelspec": {
   "display_name": "Python 3 (ipykernel)",
   "language": "python",
   "name": "python3"
  },
  "language_info": {
   "codemirror_mode": {
    "name": "ipython",
    "version": 3
   },
   "file_extension": ".py",
   "mimetype": "text/x-python",
   "name": "python",
   "nbconvert_exporter": "python",
   "pygments_lexer": "ipython3",
   "version": "3.11.4"
  }
 },
 "nbformat": 4,
 "nbformat_minor": 5
}
